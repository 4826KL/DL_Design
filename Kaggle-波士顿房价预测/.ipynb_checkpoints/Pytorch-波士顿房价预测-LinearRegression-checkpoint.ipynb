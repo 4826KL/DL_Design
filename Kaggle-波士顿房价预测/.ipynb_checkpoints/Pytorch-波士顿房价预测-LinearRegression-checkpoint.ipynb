{
 "cells": [
  {
   "cell_type": "code",
   "execution_count": 1,
   "id": "39a37739",
   "metadata": {},
   "outputs": [],
   "source": [
    "import numpy as np # linear algebra\n",
    "import pandas as pd # data processing, CSV file I/O (e.g. pd.read_csv)\n",
    "import os"
   ]
  },
  {
   "cell_type": "code",
   "execution_count": 2,
   "id": "1fbbbc14",
   "metadata": {},
   "outputs": [],
   "source": [
    "import torch\n",
    "import torch.nn as nn\n",
    "import torch.optim as optim\n",
    "import matplotlib.pyplot as plt\n",
    "from sklearn.preprocessing import PowerTransformer\n",
    "from sklearn.preprocessing import StandardScaler\n",
    "from torch.utils.data import DataLoader\n",
    "from torch.utils import data\n",
    "from tqdm.notebook import tqdm"
   ]
  },
  {
   "cell_type": "markdown",
   "id": "1042db29",
   "metadata": {},
   "source": [
    "## Data Import"
   ]
  },
  {
   "cell_type": "code",
   "execution_count": 3,
   "id": "19c0fa8c",
   "metadata": {},
   "outputs": [],
   "source": [
    "df_train = pd.read_csv('./data/train.csv')\n",
    "df_test = pd.read_csv('./data/test.csv')"
   ]
  },
  {
   "cell_type": "code",
   "execution_count": 4,
   "id": "49bd538c",
   "metadata": {},
   "outputs": [
    {
     "data": {
      "text/html": [
       "<div>\n",
       "<style scoped>\n",
       "    .dataframe tbody tr th:only-of-type {\n",
       "        vertical-align: middle;\n",
       "    }\n",
       "\n",
       "    .dataframe tbody tr th {\n",
       "        vertical-align: top;\n",
       "    }\n",
       "\n",
       "    .dataframe thead th {\n",
       "        text-align: right;\n",
       "    }\n",
       "</style>\n",
       "<table border=\"1\" class=\"dataframe\">\n",
       "  <thead>\n",
       "    <tr style=\"text-align: right;\">\n",
       "      <th></th>\n",
       "      <th>dtype</th>\n",
       "    </tr>\n",
       "  </thead>\n",
       "  <tbody>\n",
       "    <tr>\n",
       "      <th>Id</th>\n",
       "      <td>int64</td>\n",
       "    </tr>\n",
       "    <tr>\n",
       "      <th>MSSubClass</th>\n",
       "      <td>int64</td>\n",
       "    </tr>\n",
       "    <tr>\n",
       "      <th>MSZoning</th>\n",
       "      <td>object</td>\n",
       "    </tr>\n",
       "    <tr>\n",
       "      <th>LotFrontage</th>\n",
       "      <td>float64</td>\n",
       "    </tr>\n",
       "    <tr>\n",
       "      <th>LotArea</th>\n",
       "      <td>int64</td>\n",
       "    </tr>\n",
       "    <tr>\n",
       "      <th>Street</th>\n",
       "      <td>object</td>\n",
       "    </tr>\n",
       "    <tr>\n",
       "      <th>Alley</th>\n",
       "      <td>object</td>\n",
       "    </tr>\n",
       "    <tr>\n",
       "      <th>LotShape</th>\n",
       "      <td>object</td>\n",
       "    </tr>\n",
       "    <tr>\n",
       "      <th>LandContour</th>\n",
       "      <td>object</td>\n",
       "    </tr>\n",
       "    <tr>\n",
       "      <th>Utilities</th>\n",
       "      <td>object</td>\n",
       "    </tr>\n",
       "    <tr>\n",
       "      <th>LotConfig</th>\n",
       "      <td>object</td>\n",
       "    </tr>\n",
       "    <tr>\n",
       "      <th>LandSlope</th>\n",
       "      <td>object</td>\n",
       "    </tr>\n",
       "    <tr>\n",
       "      <th>Neighborhood</th>\n",
       "      <td>object</td>\n",
       "    </tr>\n",
       "    <tr>\n",
       "      <th>Condition1</th>\n",
       "      <td>object</td>\n",
       "    </tr>\n",
       "    <tr>\n",
       "      <th>Condition2</th>\n",
       "      <td>object</td>\n",
       "    </tr>\n",
       "    <tr>\n",
       "      <th>BldgType</th>\n",
       "      <td>object</td>\n",
       "    </tr>\n",
       "    <tr>\n",
       "      <th>HouseStyle</th>\n",
       "      <td>object</td>\n",
       "    </tr>\n",
       "    <tr>\n",
       "      <th>OverallQual</th>\n",
       "      <td>int64</td>\n",
       "    </tr>\n",
       "    <tr>\n",
       "      <th>OverallCond</th>\n",
       "      <td>int64</td>\n",
       "    </tr>\n",
       "    <tr>\n",
       "      <th>YearBuilt</th>\n",
       "      <td>int64</td>\n",
       "    </tr>\n",
       "    <tr>\n",
       "      <th>YearRemodAdd</th>\n",
       "      <td>int64</td>\n",
       "    </tr>\n",
       "    <tr>\n",
       "      <th>RoofStyle</th>\n",
       "      <td>object</td>\n",
       "    </tr>\n",
       "    <tr>\n",
       "      <th>RoofMatl</th>\n",
       "      <td>object</td>\n",
       "    </tr>\n",
       "    <tr>\n",
       "      <th>Exterior1st</th>\n",
       "      <td>object</td>\n",
       "    </tr>\n",
       "    <tr>\n",
       "      <th>Exterior2nd</th>\n",
       "      <td>object</td>\n",
       "    </tr>\n",
       "    <tr>\n",
       "      <th>MasVnrType</th>\n",
       "      <td>object</td>\n",
       "    </tr>\n",
       "    <tr>\n",
       "      <th>MasVnrArea</th>\n",
       "      <td>float64</td>\n",
       "    </tr>\n",
       "    <tr>\n",
       "      <th>ExterQual</th>\n",
       "      <td>object</td>\n",
       "    </tr>\n",
       "    <tr>\n",
       "      <th>ExterCond</th>\n",
       "      <td>object</td>\n",
       "    </tr>\n",
       "    <tr>\n",
       "      <th>Foundation</th>\n",
       "      <td>object</td>\n",
       "    </tr>\n",
       "    <tr>\n",
       "      <th>BsmtQual</th>\n",
       "      <td>object</td>\n",
       "    </tr>\n",
       "    <tr>\n",
       "      <th>BsmtCond</th>\n",
       "      <td>object</td>\n",
       "    </tr>\n",
       "    <tr>\n",
       "      <th>BsmtExposure</th>\n",
       "      <td>object</td>\n",
       "    </tr>\n",
       "    <tr>\n",
       "      <th>BsmtFinType1</th>\n",
       "      <td>object</td>\n",
       "    </tr>\n",
       "    <tr>\n",
       "      <th>BsmtFinSF1</th>\n",
       "      <td>int64</td>\n",
       "    </tr>\n",
       "    <tr>\n",
       "      <th>BsmtFinType2</th>\n",
       "      <td>object</td>\n",
       "    </tr>\n",
       "    <tr>\n",
       "      <th>BsmtFinSF2</th>\n",
       "      <td>int64</td>\n",
       "    </tr>\n",
       "    <tr>\n",
       "      <th>BsmtUnfSF</th>\n",
       "      <td>int64</td>\n",
       "    </tr>\n",
       "    <tr>\n",
       "      <th>TotalBsmtSF</th>\n",
       "      <td>int64</td>\n",
       "    </tr>\n",
       "    <tr>\n",
       "      <th>Heating</th>\n",
       "      <td>object</td>\n",
       "    </tr>\n",
       "    <tr>\n",
       "      <th>HeatingQC</th>\n",
       "      <td>object</td>\n",
       "    </tr>\n",
       "    <tr>\n",
       "      <th>CentralAir</th>\n",
       "      <td>object</td>\n",
       "    </tr>\n",
       "    <tr>\n",
       "      <th>Electrical</th>\n",
       "      <td>object</td>\n",
       "    </tr>\n",
       "    <tr>\n",
       "      <th>1stFlrSF</th>\n",
       "      <td>int64</td>\n",
       "    </tr>\n",
       "    <tr>\n",
       "      <th>2ndFlrSF</th>\n",
       "      <td>int64</td>\n",
       "    </tr>\n",
       "    <tr>\n",
       "      <th>LowQualFinSF</th>\n",
       "      <td>int64</td>\n",
       "    </tr>\n",
       "    <tr>\n",
       "      <th>GrLivArea</th>\n",
       "      <td>int64</td>\n",
       "    </tr>\n",
       "    <tr>\n",
       "      <th>BsmtFullBath</th>\n",
       "      <td>int64</td>\n",
       "    </tr>\n",
       "    <tr>\n",
       "      <th>BsmtHalfBath</th>\n",
       "      <td>int64</td>\n",
       "    </tr>\n",
       "    <tr>\n",
       "      <th>FullBath</th>\n",
       "      <td>int64</td>\n",
       "    </tr>\n",
       "    <tr>\n",
       "      <th>HalfBath</th>\n",
       "      <td>int64</td>\n",
       "    </tr>\n",
       "    <tr>\n",
       "      <th>BedroomAbvGr</th>\n",
       "      <td>int64</td>\n",
       "    </tr>\n",
       "    <tr>\n",
       "      <th>KitchenAbvGr</th>\n",
       "      <td>int64</td>\n",
       "    </tr>\n",
       "    <tr>\n",
       "      <th>KitchenQual</th>\n",
       "      <td>object</td>\n",
       "    </tr>\n",
       "    <tr>\n",
       "      <th>TotRmsAbvGrd</th>\n",
       "      <td>int64</td>\n",
       "    </tr>\n",
       "    <tr>\n",
       "      <th>Functional</th>\n",
       "      <td>object</td>\n",
       "    </tr>\n",
       "    <tr>\n",
       "      <th>Fireplaces</th>\n",
       "      <td>int64</td>\n",
       "    </tr>\n",
       "    <tr>\n",
       "      <th>FireplaceQu</th>\n",
       "      <td>object</td>\n",
       "    </tr>\n",
       "    <tr>\n",
       "      <th>GarageType</th>\n",
       "      <td>object</td>\n",
       "    </tr>\n",
       "    <tr>\n",
       "      <th>GarageYrBlt</th>\n",
       "      <td>float64</td>\n",
       "    </tr>\n",
       "    <tr>\n",
       "      <th>GarageFinish</th>\n",
       "      <td>object</td>\n",
       "    </tr>\n",
       "    <tr>\n",
       "      <th>GarageCars</th>\n",
       "      <td>int64</td>\n",
       "    </tr>\n",
       "    <tr>\n",
       "      <th>GarageArea</th>\n",
       "      <td>int64</td>\n",
       "    </tr>\n",
       "    <tr>\n",
       "      <th>GarageQual</th>\n",
       "      <td>object</td>\n",
       "    </tr>\n",
       "    <tr>\n",
       "      <th>GarageCond</th>\n",
       "      <td>object</td>\n",
       "    </tr>\n",
       "    <tr>\n",
       "      <th>PavedDrive</th>\n",
       "      <td>object</td>\n",
       "    </tr>\n",
       "    <tr>\n",
       "      <th>WoodDeckSF</th>\n",
       "      <td>int64</td>\n",
       "    </tr>\n",
       "    <tr>\n",
       "      <th>OpenPorchSF</th>\n",
       "      <td>int64</td>\n",
       "    </tr>\n",
       "    <tr>\n",
       "      <th>EnclosedPorch</th>\n",
       "      <td>int64</td>\n",
       "    </tr>\n",
       "    <tr>\n",
       "      <th>3SsnPorch</th>\n",
       "      <td>int64</td>\n",
       "    </tr>\n",
       "    <tr>\n",
       "      <th>ScreenPorch</th>\n",
       "      <td>int64</td>\n",
       "    </tr>\n",
       "    <tr>\n",
       "      <th>PoolArea</th>\n",
       "      <td>int64</td>\n",
       "    </tr>\n",
       "    <tr>\n",
       "      <th>PoolQC</th>\n",
       "      <td>object</td>\n",
       "    </tr>\n",
       "    <tr>\n",
       "      <th>Fence</th>\n",
       "      <td>object</td>\n",
       "    </tr>\n",
       "    <tr>\n",
       "      <th>MiscFeature</th>\n",
       "      <td>object</td>\n",
       "    </tr>\n",
       "    <tr>\n",
       "      <th>MiscVal</th>\n",
       "      <td>int64</td>\n",
       "    </tr>\n",
       "    <tr>\n",
       "      <th>MoSold</th>\n",
       "      <td>int64</td>\n",
       "    </tr>\n",
       "    <tr>\n",
       "      <th>YrSold</th>\n",
       "      <td>int64</td>\n",
       "    </tr>\n",
       "    <tr>\n",
       "      <th>SaleType</th>\n",
       "      <td>object</td>\n",
       "    </tr>\n",
       "    <tr>\n",
       "      <th>SaleCondition</th>\n",
       "      <td>object</td>\n",
       "    </tr>\n",
       "    <tr>\n",
       "      <th>SalePrice</th>\n",
       "      <td>int64</td>\n",
       "    </tr>\n",
       "  </tbody>\n",
       "</table>\n",
       "</div>"
      ],
      "text/plain": [
       "                 dtype\n",
       "Id               int64\n",
       "MSSubClass       int64\n",
       "MSZoning        object\n",
       "LotFrontage    float64\n",
       "LotArea          int64\n",
       "Street          object\n",
       "Alley           object\n",
       "LotShape        object\n",
       "LandContour     object\n",
       "Utilities       object\n",
       "LotConfig       object\n",
       "LandSlope       object\n",
       "Neighborhood    object\n",
       "Condition1      object\n",
       "Condition2      object\n",
       "BldgType        object\n",
       "HouseStyle      object\n",
       "OverallQual      int64\n",
       "OverallCond      int64\n",
       "YearBuilt        int64\n",
       "YearRemodAdd     int64\n",
       "RoofStyle       object\n",
       "RoofMatl        object\n",
       "Exterior1st     object\n",
       "Exterior2nd     object\n",
       "MasVnrType      object\n",
       "MasVnrArea     float64\n",
       "ExterQual       object\n",
       "ExterCond       object\n",
       "Foundation      object\n",
       "BsmtQual        object\n",
       "BsmtCond        object\n",
       "BsmtExposure    object\n",
       "BsmtFinType1    object\n",
       "BsmtFinSF1       int64\n",
       "BsmtFinType2    object\n",
       "BsmtFinSF2       int64\n",
       "BsmtUnfSF        int64\n",
       "TotalBsmtSF      int64\n",
       "Heating         object\n",
       "HeatingQC       object\n",
       "CentralAir      object\n",
       "Electrical      object\n",
       "1stFlrSF         int64\n",
       "2ndFlrSF         int64\n",
       "LowQualFinSF     int64\n",
       "GrLivArea        int64\n",
       "BsmtFullBath     int64\n",
       "BsmtHalfBath     int64\n",
       "FullBath         int64\n",
       "HalfBath         int64\n",
       "BedroomAbvGr     int64\n",
       "KitchenAbvGr     int64\n",
       "KitchenQual     object\n",
       "TotRmsAbvGrd     int64\n",
       "Functional      object\n",
       "Fireplaces       int64\n",
       "FireplaceQu     object\n",
       "GarageType      object\n",
       "GarageYrBlt    float64\n",
       "GarageFinish    object\n",
       "GarageCars       int64\n",
       "GarageArea       int64\n",
       "GarageQual      object\n",
       "GarageCond      object\n",
       "PavedDrive      object\n",
       "WoodDeckSF       int64\n",
       "OpenPorchSF      int64\n",
       "EnclosedPorch    int64\n",
       "3SsnPorch        int64\n",
       "ScreenPorch      int64\n",
       "PoolArea         int64\n",
       "PoolQC          object\n",
       "Fence           object\n",
       "MiscFeature     object\n",
       "MiscVal          int64\n",
       "MoSold           int64\n",
       "YrSold           int64\n",
       "SaleType        object\n",
       "SaleCondition   object\n",
       "SalePrice        int64"
      ]
     },
     "execution_count": 4,
     "metadata": {},
     "output_type": "execute_result"
    }
   ],
   "source": [
    "#Simple EDA\n",
    "pd.options.display.max_rows=90\n",
    "df_dtype = pd.DataFrame(df_train.dtypes,columns=['dtype'])\n",
    "df_dtype"
   ]
  },
  {
   "cell_type": "code",
   "execution_count": 5,
   "id": "031e08cd",
   "metadata": {},
   "outputs": [
    {
     "name": "stdout",
     "output_type": "stream",
     "text": [
      "==Columns including Null==\n",
      "Train data\n"
     ]
    },
    {
     "data": {
      "text/html": [
       "<div>\n",
       "<style scoped>\n",
       "    .dataframe tbody tr th:only-of-type {\n",
       "        vertical-align: middle;\n",
       "    }\n",
       "\n",
       "    .dataframe tbody tr th {\n",
       "        vertical-align: top;\n",
       "    }\n",
       "\n",
       "    .dataframe thead th {\n",
       "        text-align: right;\n",
       "    }\n",
       "</style>\n",
       "<table border=\"1\" class=\"dataframe\">\n",
       "  <thead>\n",
       "    <tr style=\"text-align: right;\">\n",
       "      <th></th>\n",
       "      <th>Null Count</th>\n",
       "    </tr>\n",
       "  </thead>\n",
       "  <tbody>\n",
       "    <tr>\n",
       "      <th>LotFrontage</th>\n",
       "      <td>259</td>\n",
       "    </tr>\n",
       "    <tr>\n",
       "      <th>Alley</th>\n",
       "      <td>1369</td>\n",
       "    </tr>\n",
       "    <tr>\n",
       "      <th>MasVnrType</th>\n",
       "      <td>8</td>\n",
       "    </tr>\n",
       "    <tr>\n",
       "      <th>MasVnrArea</th>\n",
       "      <td>8</td>\n",
       "    </tr>\n",
       "    <tr>\n",
       "      <th>BsmtQual</th>\n",
       "      <td>37</td>\n",
       "    </tr>\n",
       "    <tr>\n",
       "      <th>BsmtCond</th>\n",
       "      <td>37</td>\n",
       "    </tr>\n",
       "    <tr>\n",
       "      <th>BsmtExposure</th>\n",
       "      <td>38</td>\n",
       "    </tr>\n",
       "    <tr>\n",
       "      <th>BsmtFinType1</th>\n",
       "      <td>37</td>\n",
       "    </tr>\n",
       "    <tr>\n",
       "      <th>BsmtFinType2</th>\n",
       "      <td>38</td>\n",
       "    </tr>\n",
       "    <tr>\n",
       "      <th>Electrical</th>\n",
       "      <td>1</td>\n",
       "    </tr>\n",
       "    <tr>\n",
       "      <th>FireplaceQu</th>\n",
       "      <td>690</td>\n",
       "    </tr>\n",
       "    <tr>\n",
       "      <th>GarageType</th>\n",
       "      <td>81</td>\n",
       "    </tr>\n",
       "    <tr>\n",
       "      <th>GarageYrBlt</th>\n",
       "      <td>81</td>\n",
       "    </tr>\n",
       "    <tr>\n",
       "      <th>GarageFinish</th>\n",
       "      <td>81</td>\n",
       "    </tr>\n",
       "    <tr>\n",
       "      <th>GarageQual</th>\n",
       "      <td>81</td>\n",
       "    </tr>\n",
       "    <tr>\n",
       "      <th>GarageCond</th>\n",
       "      <td>81</td>\n",
       "    </tr>\n",
       "    <tr>\n",
       "      <th>PoolQC</th>\n",
       "      <td>1453</td>\n",
       "    </tr>\n",
       "    <tr>\n",
       "      <th>Fence</th>\n",
       "      <td>1179</td>\n",
       "    </tr>\n",
       "    <tr>\n",
       "      <th>MiscFeature</th>\n",
       "      <td>1406</td>\n",
       "    </tr>\n",
       "  </tbody>\n",
       "</table>\n",
       "</div>"
      ],
      "text/plain": [
       "              Null Count\n",
       "LotFrontage          259\n",
       "Alley               1369\n",
       "MasVnrType             8\n",
       "MasVnrArea             8\n",
       "BsmtQual              37\n",
       "BsmtCond              37\n",
       "BsmtExposure          38\n",
       "BsmtFinType1          37\n",
       "BsmtFinType2          38\n",
       "Electrical             1\n",
       "FireplaceQu          690\n",
       "GarageType            81\n",
       "GarageYrBlt           81\n",
       "GarageFinish          81\n",
       "GarageQual            81\n",
       "GarageCond            81\n",
       "PoolQC              1453\n",
       "Fence               1179\n",
       "MiscFeature         1406"
      ]
     },
     "metadata": {},
     "output_type": "display_data"
    },
    {
     "name": "stdout",
     "output_type": "stream",
     "text": [
      "Test data\n"
     ]
    },
    {
     "data": {
      "text/html": [
       "<div>\n",
       "<style scoped>\n",
       "    .dataframe tbody tr th:only-of-type {\n",
       "        vertical-align: middle;\n",
       "    }\n",
       "\n",
       "    .dataframe tbody tr th {\n",
       "        vertical-align: top;\n",
       "    }\n",
       "\n",
       "    .dataframe thead th {\n",
       "        text-align: right;\n",
       "    }\n",
       "</style>\n",
       "<table border=\"1\" class=\"dataframe\">\n",
       "  <thead>\n",
       "    <tr style=\"text-align: right;\">\n",
       "      <th></th>\n",
       "      <th>Null Count</th>\n",
       "    </tr>\n",
       "  </thead>\n",
       "  <tbody>\n",
       "    <tr>\n",
       "      <th>MSZoning</th>\n",
       "      <td>4</td>\n",
       "    </tr>\n",
       "    <tr>\n",
       "      <th>LotFrontage</th>\n",
       "      <td>227</td>\n",
       "    </tr>\n",
       "    <tr>\n",
       "      <th>Alley</th>\n",
       "      <td>1352</td>\n",
       "    </tr>\n",
       "    <tr>\n",
       "      <th>Utilities</th>\n",
       "      <td>2</td>\n",
       "    </tr>\n",
       "    <tr>\n",
       "      <th>Exterior1st</th>\n",
       "      <td>1</td>\n",
       "    </tr>\n",
       "    <tr>\n",
       "      <th>Exterior2nd</th>\n",
       "      <td>1</td>\n",
       "    </tr>\n",
       "    <tr>\n",
       "      <th>MasVnrType</th>\n",
       "      <td>16</td>\n",
       "    </tr>\n",
       "    <tr>\n",
       "      <th>MasVnrArea</th>\n",
       "      <td>15</td>\n",
       "    </tr>\n",
       "    <tr>\n",
       "      <th>BsmtQual</th>\n",
       "      <td>44</td>\n",
       "    </tr>\n",
       "    <tr>\n",
       "      <th>BsmtCond</th>\n",
       "      <td>45</td>\n",
       "    </tr>\n",
       "    <tr>\n",
       "      <th>BsmtExposure</th>\n",
       "      <td>44</td>\n",
       "    </tr>\n",
       "    <tr>\n",
       "      <th>BsmtFinType1</th>\n",
       "      <td>42</td>\n",
       "    </tr>\n",
       "    <tr>\n",
       "      <th>BsmtFinSF1</th>\n",
       "      <td>1</td>\n",
       "    </tr>\n",
       "    <tr>\n",
       "      <th>BsmtFinType2</th>\n",
       "      <td>42</td>\n",
       "    </tr>\n",
       "    <tr>\n",
       "      <th>BsmtFinSF2</th>\n",
       "      <td>1</td>\n",
       "    </tr>\n",
       "    <tr>\n",
       "      <th>BsmtUnfSF</th>\n",
       "      <td>1</td>\n",
       "    </tr>\n",
       "    <tr>\n",
       "      <th>TotalBsmtSF</th>\n",
       "      <td>1</td>\n",
       "    </tr>\n",
       "    <tr>\n",
       "      <th>BsmtFullBath</th>\n",
       "      <td>2</td>\n",
       "    </tr>\n",
       "    <tr>\n",
       "      <th>BsmtHalfBath</th>\n",
       "      <td>2</td>\n",
       "    </tr>\n",
       "    <tr>\n",
       "      <th>KitchenQual</th>\n",
       "      <td>1</td>\n",
       "    </tr>\n",
       "    <tr>\n",
       "      <th>Functional</th>\n",
       "      <td>2</td>\n",
       "    </tr>\n",
       "    <tr>\n",
       "      <th>FireplaceQu</th>\n",
       "      <td>730</td>\n",
       "    </tr>\n",
       "    <tr>\n",
       "      <th>GarageType</th>\n",
       "      <td>76</td>\n",
       "    </tr>\n",
       "    <tr>\n",
       "      <th>GarageYrBlt</th>\n",
       "      <td>78</td>\n",
       "    </tr>\n",
       "    <tr>\n",
       "      <th>GarageFinish</th>\n",
       "      <td>78</td>\n",
       "    </tr>\n",
       "    <tr>\n",
       "      <th>GarageCars</th>\n",
       "      <td>1</td>\n",
       "    </tr>\n",
       "    <tr>\n",
       "      <th>GarageArea</th>\n",
       "      <td>1</td>\n",
       "    </tr>\n",
       "    <tr>\n",
       "      <th>GarageQual</th>\n",
       "      <td>78</td>\n",
       "    </tr>\n",
       "    <tr>\n",
       "      <th>GarageCond</th>\n",
       "      <td>78</td>\n",
       "    </tr>\n",
       "    <tr>\n",
       "      <th>PoolQC</th>\n",
       "      <td>1456</td>\n",
       "    </tr>\n",
       "    <tr>\n",
       "      <th>Fence</th>\n",
       "      <td>1169</td>\n",
       "    </tr>\n",
       "    <tr>\n",
       "      <th>MiscFeature</th>\n",
       "      <td>1408</td>\n",
       "    </tr>\n",
       "    <tr>\n",
       "      <th>SaleType</th>\n",
       "      <td>1</td>\n",
       "    </tr>\n",
       "  </tbody>\n",
       "</table>\n",
       "</div>"
      ],
      "text/plain": [
       "              Null Count\n",
       "MSZoning               4\n",
       "LotFrontage          227\n",
       "Alley               1352\n",
       "Utilities              2\n",
       "Exterior1st            1\n",
       "Exterior2nd            1\n",
       "MasVnrType            16\n",
       "MasVnrArea            15\n",
       "BsmtQual              44\n",
       "BsmtCond              45\n",
       "BsmtExposure          44\n",
       "BsmtFinType1          42\n",
       "BsmtFinSF1             1\n",
       "BsmtFinType2          42\n",
       "BsmtFinSF2             1\n",
       "BsmtUnfSF              1\n",
       "TotalBsmtSF            1\n",
       "BsmtFullBath           2\n",
       "BsmtHalfBath           2\n",
       "KitchenQual            1\n",
       "Functional             2\n",
       "FireplaceQu          730\n",
       "GarageType            76\n",
       "GarageYrBlt           78\n",
       "GarageFinish          78\n",
       "GarageCars             1\n",
       "GarageArea             1\n",
       "GarageQual            78\n",
       "GarageCond            78\n",
       "PoolQC              1456\n",
       "Fence               1169\n",
       "MiscFeature         1408\n",
       "SaleType               1"
      ]
     },
     "metadata": {},
     "output_type": "display_data"
    }
   ],
   "source": [
    "# Check　Null\n",
    "df_train_null_cnt = pd.DataFrame(df_train.isnull().sum(),columns=['Null Count'])\n",
    "df_test_null_cnt = pd.DataFrame(df_test.isnull().sum(),columns=['Null Count'])\n",
    "print('==Columns including Null==')\n",
    "print('Train data')\n",
    "display(df_train_null_cnt[df_train_null_cnt['Null Count']!=0])\n",
    "print('Test data')\n",
    "display(df_test_null_cnt[df_test_null_cnt['Null Count']!=0])"
   ]
  },
  {
   "cell_type": "code",
   "execution_count": 6,
   "id": "925be792",
   "metadata": {},
   "outputs": [
    {
     "name": "stdout",
     "output_type": "stream",
     "text": [
      "==Correlation between x and y==\n"
     ]
    },
    {
     "data": {
      "text/html": [
       "<div>\n",
       "<style scoped>\n",
       "    .dataframe tbody tr th:only-of-type {\n",
       "        vertical-align: middle;\n",
       "    }\n",
       "\n",
       "    .dataframe tbody tr th {\n",
       "        vertical-align: top;\n",
       "    }\n",
       "\n",
       "    .dataframe thead th {\n",
       "        text-align: right;\n",
       "    }\n",
       "</style>\n",
       "<table border=\"1\" class=\"dataframe\">\n",
       "  <thead>\n",
       "    <tr style=\"text-align: right;\">\n",
       "      <th></th>\n",
       "      <th>SalePrice</th>\n",
       "    </tr>\n",
       "  </thead>\n",
       "  <tbody>\n",
       "    <tr>\n",
       "      <th>SalePrice</th>\n",
       "      <td>1.000000</td>\n",
       "    </tr>\n",
       "    <tr>\n",
       "      <th>OverallQual</th>\n",
       "      <td>0.790982</td>\n",
       "    </tr>\n",
       "    <tr>\n",
       "      <th>GrLivArea</th>\n",
       "      <td>0.708624</td>\n",
       "    </tr>\n",
       "    <tr>\n",
       "      <th>GarageCars</th>\n",
       "      <td>0.640409</td>\n",
       "    </tr>\n",
       "    <tr>\n",
       "      <th>GarageArea</th>\n",
       "      <td>0.623431</td>\n",
       "    </tr>\n",
       "    <tr>\n",
       "      <th>TotalBsmtSF</th>\n",
       "      <td>0.613581</td>\n",
       "    </tr>\n",
       "    <tr>\n",
       "      <th>1stFlrSF</th>\n",
       "      <td>0.605852</td>\n",
       "    </tr>\n",
       "    <tr>\n",
       "      <th>FullBath</th>\n",
       "      <td>0.560664</td>\n",
       "    </tr>\n",
       "    <tr>\n",
       "      <th>TotRmsAbvGrd</th>\n",
       "      <td>0.533723</td>\n",
       "    </tr>\n",
       "    <tr>\n",
       "      <th>YearBuilt</th>\n",
       "      <td>0.522897</td>\n",
       "    </tr>\n",
       "    <tr>\n",
       "      <th>YearRemodAdd</th>\n",
       "      <td>0.507101</td>\n",
       "    </tr>\n",
       "    <tr>\n",
       "      <th>GarageYrBlt</th>\n",
       "      <td>0.486362</td>\n",
       "    </tr>\n",
       "    <tr>\n",
       "      <th>MasVnrArea</th>\n",
       "      <td>0.477493</td>\n",
       "    </tr>\n",
       "    <tr>\n",
       "      <th>Fireplaces</th>\n",
       "      <td>0.466929</td>\n",
       "    </tr>\n",
       "    <tr>\n",
       "      <th>BsmtFinSF1</th>\n",
       "      <td>0.386420</td>\n",
       "    </tr>\n",
       "    <tr>\n",
       "      <th>LotFrontage</th>\n",
       "      <td>0.351799</td>\n",
       "    </tr>\n",
       "    <tr>\n",
       "      <th>WoodDeckSF</th>\n",
       "      <td>0.324413</td>\n",
       "    </tr>\n",
       "    <tr>\n",
       "      <th>2ndFlrSF</th>\n",
       "      <td>0.319334</td>\n",
       "    </tr>\n",
       "    <tr>\n",
       "      <th>OpenPorchSF</th>\n",
       "      <td>0.315856</td>\n",
       "    </tr>\n",
       "    <tr>\n",
       "      <th>HalfBath</th>\n",
       "      <td>0.284108</td>\n",
       "    </tr>\n",
       "    <tr>\n",
       "      <th>LotArea</th>\n",
       "      <td>0.263843</td>\n",
       "    </tr>\n",
       "    <tr>\n",
       "      <th>BsmtFullBath</th>\n",
       "      <td>0.227122</td>\n",
       "    </tr>\n",
       "    <tr>\n",
       "      <th>BsmtUnfSF</th>\n",
       "      <td>0.214479</td>\n",
       "    </tr>\n",
       "    <tr>\n",
       "      <th>BedroomAbvGr</th>\n",
       "      <td>0.168213</td>\n",
       "    </tr>\n",
       "    <tr>\n",
       "      <th>ScreenPorch</th>\n",
       "      <td>0.111447</td>\n",
       "    </tr>\n",
       "    <tr>\n",
       "      <th>PoolArea</th>\n",
       "      <td>0.092404</td>\n",
       "    </tr>\n",
       "    <tr>\n",
       "      <th>MoSold</th>\n",
       "      <td>0.046432</td>\n",
       "    </tr>\n",
       "    <tr>\n",
       "      <th>3SsnPorch</th>\n",
       "      <td>0.044584</td>\n",
       "    </tr>\n",
       "    <tr>\n",
       "      <th>BsmtFinSF2</th>\n",
       "      <td>-0.011378</td>\n",
       "    </tr>\n",
       "    <tr>\n",
       "      <th>BsmtHalfBath</th>\n",
       "      <td>-0.016844</td>\n",
       "    </tr>\n",
       "    <tr>\n",
       "      <th>MiscVal</th>\n",
       "      <td>-0.021190</td>\n",
       "    </tr>\n",
       "    <tr>\n",
       "      <th>Id</th>\n",
       "      <td>-0.021917</td>\n",
       "    </tr>\n",
       "    <tr>\n",
       "      <th>LowQualFinSF</th>\n",
       "      <td>-0.025606</td>\n",
       "    </tr>\n",
       "    <tr>\n",
       "      <th>YrSold</th>\n",
       "      <td>-0.028923</td>\n",
       "    </tr>\n",
       "    <tr>\n",
       "      <th>OverallCond</th>\n",
       "      <td>-0.077856</td>\n",
       "    </tr>\n",
       "    <tr>\n",
       "      <th>MSSubClass</th>\n",
       "      <td>-0.084284</td>\n",
       "    </tr>\n",
       "    <tr>\n",
       "      <th>EnclosedPorch</th>\n",
       "      <td>-0.128578</td>\n",
       "    </tr>\n",
       "    <tr>\n",
       "      <th>KitchenAbvGr</th>\n",
       "      <td>-0.135907</td>\n",
       "    </tr>\n",
       "  </tbody>\n",
       "</table>\n",
       "</div>"
      ],
      "text/plain": [
       "               SalePrice\n",
       "SalePrice       1.000000\n",
       "OverallQual     0.790982\n",
       "GrLivArea       0.708624\n",
       "GarageCars      0.640409\n",
       "GarageArea      0.623431\n",
       "TotalBsmtSF     0.613581\n",
       "1stFlrSF        0.605852\n",
       "FullBath        0.560664\n",
       "TotRmsAbvGrd    0.533723\n",
       "YearBuilt       0.522897\n",
       "YearRemodAdd    0.507101\n",
       "GarageYrBlt     0.486362\n",
       "MasVnrArea      0.477493\n",
       "Fireplaces      0.466929\n",
       "BsmtFinSF1      0.386420\n",
       "LotFrontage     0.351799\n",
       "WoodDeckSF      0.324413\n",
       "2ndFlrSF        0.319334\n",
       "OpenPorchSF     0.315856\n",
       "HalfBath        0.284108\n",
       "LotArea         0.263843\n",
       "BsmtFullBath    0.227122\n",
       "BsmtUnfSF       0.214479\n",
       "BedroomAbvGr    0.168213\n",
       "ScreenPorch     0.111447\n",
       "PoolArea        0.092404\n",
       "MoSold          0.046432\n",
       "3SsnPorch       0.044584\n",
       "BsmtFinSF2     -0.011378\n",
       "BsmtHalfBath   -0.016844\n",
       "MiscVal        -0.021190\n",
       "Id             -0.021917\n",
       "LowQualFinSF   -0.025606\n",
       "YrSold         -0.028923\n",
       "OverallCond    -0.077856\n",
       "MSSubClass     -0.084284\n",
       "EnclosedPorch  -0.128578\n",
       "KitchenAbvGr   -0.135907"
      ]
     },
     "metadata": {},
     "output_type": "display_data"
    },
    {
     "name": "stdout",
     "output_type": "stream",
     "text": [
      "==Correlation between x and x==\n"
     ]
    },
    {
     "data": {
      "text/html": [
       "<style  type=\"text/css\" >\n",
       "#T_d4be8_row0_col0,#T_d4be8_row0_col18,#T_d4be8_row0_col34,#T_d4be8_row2_col18,#T_d4be8_row3_col18,#T_d4be8_row4_col10,#T_d4be8_row5_col34,#T_d4be8_row6_col34,#T_d4be8_row7_col36,#T_d4be8_row10_col0,#T_d4be8_row13_col0,#T_d4be8_row13_col15,#T_d4be8_row18_col34,#T_d4be8_row20_col22,#T_d4be8_row20_col30,#T_d4be8_row28_col27,#T_d4be8_row29_col0,#T_d4be8_row29_col16,#T_d4be8_row29_col26,#T_d4be8_row29_col37,#T_d4be8_row30_col12,#T_d4be8_row30_col13,#T_d4be8_row30_col29,#T_d4be8_row30_col37,#T_d4be8_row31_col7,#T_d4be8_row31_col18,#T_d4be8_row31_col24,#T_d4be8_row31_col37,#T_d4be8_row32_col24,#T_d4be8_row33_col1,#T_d4be8_row33_col19,#T_d4be8_row35_col36,#T_d4be8_row36_col3,#T_d4be8_row37_col3{\n",
       "            background-color:  #b9c6e0;\n",
       "            color:  #000000;\n",
       "        }#T_d4be8_row0_col1,#T_d4be8_row14_col22,#T_d4be8_row24_col30,#T_d4be8_row35_col37,#T_d4be8_row36_col32,#T_d4be8_row37_col9{\n",
       "            background-color:  #c8cde4;\n",
       "            color:  #000000;\n",
       "        }#T_d4be8_row0_col2,#T_d4be8_row8_col2,#T_d4be8_row15_col23,#T_d4be8_row15_col37{\n",
       "            background-color:  #529bc7;\n",
       "            color:  #000000;\n",
       "        }#T_d4be8_row0_col3,#T_d4be8_row2_col3,#T_d4be8_row5_col3,#T_d4be8_row7_col29,#T_d4be8_row13_col9,#T_d4be8_row14_col24,#T_d4be8_row15_col21,#T_d4be8_row18_col19,#T_d4be8_row20_col12,#T_d4be8_row20_col16,#T_d4be8_row20_col37,#T_d4be8_row23_col2{\n",
       "            background-color:  #71a8ce;\n",
       "            color:  #000000;\n",
       "        }#T_d4be8_row0_col4,#T_d4be8_row1_col37{\n",
       "            background-color:  #045c90;\n",
       "            color:  #f1f1f1;\n",
       "        }#T_d4be8_row0_col5,#T_d4be8_row2_col5,#T_d4be8_row7_col10,#T_d4be8_row11_col18,#T_d4be8_row11_col32,#T_d4be8_row24_col25,#T_d4be8_row28_col19,#T_d4be8_row29_col25,#T_d4be8_row34_col16,#T_d4be8_row34_col37{\n",
       "            background-color:  #c6cce3;\n",
       "            color:  #000000;\n",
       "        }#T_d4be8_row0_col6,#T_d4be8_row2_col21,#T_d4be8_row5_col9,#T_d4be8_row9_col37,#T_d4be8_row14_col12,#T_d4be8_row23_col16{\n",
       "            background-color:  #2081b9;\n",
       "            color:  #000000;\n",
       "        }#T_d4be8_row0_col7,#T_d4be8_row10_col37{\n",
       "            background-color:  #2484ba;\n",
       "            color:  #000000;\n",
       "        }#T_d4be8_row0_col8,#T_d4be8_row1_col13,#T_d4be8_row4_col6,#T_d4be8_row6_col4,#T_d4be8_row9_col27,#T_d4be8_row12_col37{\n",
       "            background-color:  #2c89bd;\n",
       "            color:  #000000;\n",
       "        }#T_d4be8_row0_col9,#T_d4be8_row14_col37{\n",
       "            background-color:  #4897c4;\n",
       "            color:  #000000;\n",
       "        }#T_d4be8_row0_col10,#T_d4be8_row5_col0,#T_d4be8_row5_col36,#T_d4be8_row6_col15,#T_d4be8_row6_col36,#T_d4be8_row7_col34,#T_d4be8_row9_col0,#T_d4be8_row9_col36,#T_d4be8_row10_col18,#T_d4be8_row11_col33,#T_d4be8_row14_col35,#T_d4be8_row15_col0,#T_d4be8_row16_col1,#T_d4be8_row19_col18,#T_d4be8_row20_col36,#T_d4be8_row22_col32,#T_d4be8_row23_col10,#T_d4be8_row24_col11,#T_d4be8_row25_col22,#T_d4be8_row25_col25,#T_d4be8_row26_col1,#T_d4be8_row26_col9,#T_d4be8_row26_col10,#T_d4be8_row28_col21,#T_d4be8_row28_col35,#T_d4be8_row28_col37,#T_d4be8_row29_col7,#T_d4be8_row29_col20,#T_d4be8_row30_col19,#T_d4be8_row31_col2,#T_d4be8_row31_col6,#T_d4be8_row31_col12,#T_d4be8_row32_col13,#T_d4be8_row33_col3,#T_d4be8_row33_col6,#T_d4be8_row33_col12,#T_d4be8_row33_col13,#T_d4be8_row35_col28,#T_d4be8_row35_col30,#T_d4be8_row35_col35,#T_d4be8_row36_col1,#T_d4be8_row37_col33{\n",
       "            background-color:  #b8c6e0;\n",
       "            color:  #000000;\n",
       "        }#T_d4be8_row0_col11,#T_d4be8_row3_col11,#T_d4be8_row3_col29,#T_d4be8_row6_col29,#T_d4be8_row14_col3,#T_d4be8_row18_col13,#T_d4be8_row18_col26,#T_d4be8_row20_col9,#T_d4be8_row22_col26,#T_d4be8_row22_col37{\n",
       "            background-color:  #7eadd1;\n",
       "            color:  #000000;\n",
       "        }#T_d4be8_row0_col12,#T_d4be8_row5_col37,#T_d4be8_row17_col20,#T_d4be8_row19_col14{\n",
       "            background-color:  #0872b1;\n",
       "            color:  #f1f1f1;\n",
       "        }#T_d4be8_row0_col13,#T_d4be8_row6_col37{\n",
       "            background-color:  #0a73b2;\n",
       "            color:  #f1f1f1;\n",
       "        }#T_d4be8_row0_col14,#T_d4be8_row5_col25,#T_d4be8_row6_col11,#T_d4be8_row11_col12,#T_d4be8_row17_col37,#T_d4be8_row22_col13{\n",
       "            background-color:  #5ea0ca;\n",
       "            color:  #000000;\n",
       "        }#T_d4be8_row0_col15,#T_d4be8_row1_col36,#T_d4be8_row4_col18,#T_d4be8_row4_col34,#T_d4be8_row4_col36,#T_d4be8_row8_col18,#T_d4be8_row11_col3,#T_d4be8_row13_col5,#T_d4be8_row13_col30,#T_d4be8_row13_col36,#T_d4be8_row16_col15,#T_d4be8_row17_col18,#T_d4be8_row17_col31,#T_d4be8_row18_col18,#T_d4be8_row19_col15,#T_d4be8_row20_col25,#T_d4be8_row21_col34,#T_d4be8_row21_col35,#T_d4be8_row22_col34,#T_d4be8_row23_col1,#T_d4be8_row23_col31,#T_d4be8_row24_col1,#T_d4be8_row26_col15,#T_d4be8_row26_col17,#T_d4be8_row27_col14,#T_d4be8_row27_col21,#T_d4be8_row27_col22,#T_d4be8_row29_col14,#T_d4be8_row29_col23,#T_d4be8_row29_col27,#T_d4be8_row29_col29,#T_d4be8_row30_col11,#T_d4be8_row30_col17,#T_d4be8_row30_col27,#T_d4be8_row32_col20,#T_d4be8_row32_col28,#T_d4be8_row32_col35,#T_d4be8_row32_col37,#T_d4be8_row33_col4,#T_d4be8_row33_col24,#T_d4be8_row33_col27,#T_d4be8_row34_col24,#T_d4be8_row35_col21,#T_d4be8_row35_col32,#T_d4be8_row36_col24,#T_d4be8_row37_col31{\n",
       "            background-color:  #bbc7e0;\n",
       "            color:  #000000;\n",
       "        }#T_d4be8_row0_col16,#T_d4be8_row2_col37{\n",
       "            background-color:  #0566a0;\n",
       "            color:  #f1f1f1;\n",
       "        }#T_d4be8_row0_col17,#T_d4be8_row3_col9,#T_d4be8_row3_col28,#T_d4be8_row4_col28,#T_d4be8_row9_col28,#T_d4be8_row10_col29,#T_d4be8_row11_col28,#T_d4be8_row11_col29,#T_d4be8_row14_col26,#T_d4be8_row16_col6,#T_d4be8_row16_col25,#T_d4be8_row16_col26,#T_d4be8_row16_col27,#T_d4be8_row18_col7,#T_d4be8_row18_col25,#T_d4be8_row19_col21,#T_d4be8_row21_col37,#T_d4be8_row23_col20{\n",
       "            background-color:  #7bacd1;\n",
       "            color:  #000000;\n",
       "        }#T_d4be8_row0_col19,#T_d4be8_row7_col37{\n",
       "            background-color:  #167bb6;\n",
       "            color:  #000000;\n",
       "        }#T_d4be8_row0_col20,#T_d4be8_row2_col7,#T_d4be8_row3_col2,#T_d4be8_row5_col23,#T_d4be8_row6_col6,#T_d4be8_row8_col12,#T_d4be8_row9_col13,#T_d4be8_row10_col16,#T_d4be8_row15_col26,#T_d4be8_row19_col37,#T_d4be8_row35_col22,#T_d4be8_row37_col1{\n",
       "            background-color:  #69a5cc;\n",
       "            color:  #000000;\n",
       "        }#T_d4be8_row0_col21,#T_d4be8_row2_col33,#T_d4be8_row8_col28,#T_d4be8_row13_col29,#T_d4be8_row16_col23,#T_d4be8_row18_col24,#T_d4be8_row22_col21,#T_d4be8_row23_col11,#T_d4be8_row23_col37,#T_d4be8_row25_col16{\n",
       "            background-color:  #8bb2d4;\n",
       "            color:  #000000;\n",
       "        }#T_d4be8_row0_col22,#T_d4be8_row14_col14,#T_d4be8_row17_col9,#T_d4be8_row22_col5,#T_d4be8_row34_col11,#T_d4be8_row37_col37{\n",
       "            background-color:  #d2d3e7;\n",
       "            color:  #000000;\n",
       "        }#T_d4be8_row0_col23,#T_d4be8_row1_col12,#T_d4be8_row3_col6,#T_d4be8_row5_col4,#T_d4be8_row8_col37,#T_d4be8_row9_col26{\n",
       "            background-color:  #1c7fb8;\n",
       "            color:  #000000;\n",
       "        }#T_d4be8_row0_col24,#T_d4be8_row2_col26,#T_d4be8_row3_col16,#T_d4be8_row7_col6,#T_d4be8_row9_col19,#T_d4be8_row13_col37{\n",
       "            background-color:  #2f8bbe;\n",
       "            color:  #000000;\n",
       "        }#T_d4be8_row0_col25,#T_d4be8_row4_col12,#T_d4be8_row4_col13,#T_d4be8_row5_col27,#T_d4be8_row6_col27,#T_d4be8_row11_col37{\n",
       "            background-color:  #2987bc;\n",
       "            color:  #000000;\n",
       "        }#T_d4be8_row0_col26,#T_d4be8_row3_col37,#T_d4be8_row10_col25,#T_d4be8_row11_col7{\n",
       "            background-color:  #056ead;\n",
       "            color:  #f1f1f1;\n",
       "        }#T_d4be8_row0_col27,#T_d4be8_row4_col37{\n",
       "            background-color:  #0570b0;\n",
       "            color:  #f1f1f1;\n",
       "        }#T_d4be8_row0_col28,#T_d4be8_row5_col19,#T_d4be8_row7_col12,#T_d4be8_row8_col24,#T_d4be8_row13_col23,#T_d4be8_row16_col37{\n",
       "            background-color:  #5c9fc9;\n",
       "            color:  #000000;\n",
       "        }#T_d4be8_row0_col29,#T_d4be8_row9_col8,#T_d4be8_row12_col6,#T_d4be8_row18_col37{\n",
       "            background-color:  #60a1ca;\n",
       "            color:  #000000;\n",
       "        }#T_d4be8_row0_col30,#T_d4be8_row12_col5,#T_d4be8_row34_col8,#T_d4be8_row36_col37{\n",
       "            background-color:  #d2d2e7;\n",
       "            color:  #000000;\n",
       "        }#T_d4be8_row0_col31,#T_d4be8_row0_col35,#T_d4be8_row8_col9,#T_d4be8_row10_col31,#T_d4be8_row11_col24,#T_d4be8_row13_col10,#T_d4be8_row13_col25,#T_d4be8_row13_col35,#T_d4be8_row14_col23,#T_d4be8_row16_col21,#T_d4be8_row20_col32,#T_d4be8_row23_col18,#T_d4be8_row23_col28,#T_d4be8_row23_col32,#T_d4be8_row23_col35,#T_d4be8_row24_col3,#T_d4be8_row24_col21,#T_d4be8_row26_col21,#T_d4be8_row26_col24,#T_d4be8_row26_col37,#T_d4be8_row27_col7,#T_d4be8_row27_col37,#T_d4be8_row28_col24,#T_d4be8_row29_col21,#T_d4be8_row32_col1,#T_d4be8_row33_col5,#T_d4be8_row34_col36,#T_d4be8_row35_col15{\n",
       "            background-color:  #abbfdc;\n",
       "            color:  #000000;\n",
       "        }#T_d4be8_row0_col32,#T_d4be8_row1_col17,#T_d4be8_row13_col21,#T_d4be8_row14_col29,#T_d4be8_row16_col20,#T_d4be8_row18_col9,#T_d4be8_row19_col28,#T_d4be8_row20_col10,#T_d4be8_row21_col4,#T_d4be8_row23_col24,#T_d4be8_row24_col37,#T_d4be8_row28_col3{\n",
       "            background-color:  #9ab8d8;\n",
       "            color:  #000000;\n",
       "        }#T_d4be8_row0_col33,#T_d4be8_row10_col2,#T_d4be8_row15_col7,#T_d4be8_row16_col14,#T_d4be8_row17_col28,#T_d4be8_row18_col21,#T_d4be8_row23_col29,#T_d4be8_row24_col10,#T_d4be8_row25_col37,#T_d4be8_row28_col32{\n",
       "            background-color:  #9fbad9;\n",
       "            color:  #000000;\n",
       "        }#T_d4be8_row0_col36,#T_d4be8_row1_col0,#T_d4be8_row1_col15,#T_d4be8_row1_col34,#T_d4be8_row5_col15,#T_d4be8_row11_col34,#T_d4be8_row12_col34,#T_d4be8_row16_col0,#T_d4be8_row16_col31,#T_d4be8_row17_col36,#T_d4be8_row18_col5,#T_d4be8_row19_col10,#T_d4be8_row19_col17,#T_d4be8_row20_col0,#T_d4be8_row21_col20,#T_d4be8_row24_col31,#T_d4be8_row25_col35,#T_d4be8_row26_col30,#T_d4be8_row26_col33,#T_d4be8_row27_col10,#T_d4be8_row27_col28,#T_d4be8_row27_col32,#T_d4be8_row28_col20,#T_d4be8_row28_col31,#T_d4be8_row30_col4,#T_d4be8_row30_col8,#T_d4be8_row30_col25,#T_d4be8_row31_col3,#T_d4be8_row31_col4,#T_d4be8_row31_col28,#T_d4be8_row32_col4,#T_d4be8_row32_col12,#T_d4be8_row32_col36,#T_d4be8_row33_col14,#T_d4be8_row33_col15,#T_d4be8_row33_col37,#T_d4be8_row34_col29,#T_d4be8_row36_col35{\n",
       "            background-color:  #bcc7e1;\n",
       "            color:  #000000;\n",
       "        }#T_d4be8_row0_col37,#T_d4be8_row1_col4,#T_d4be8_row2_col16,#T_d4be8_row3_col26,#T_d4be8_row4_col27,#T_d4be8_row5_col12,#T_d4be8_row6_col13,#T_d4be8_row7_col19,#T_d4be8_row8_col23,#T_d4be8_row9_col6,#T_d4be8_row10_col7,#T_d4be8_row11_col25,#T_d4be8_row12_col8,#T_d4be8_row13_col24,#T_d4be8_row14_col9,#T_d4be8_row15_col2,#T_d4be8_row16_col28,#T_d4be8_row17_col14,#T_d4be8_row18_col29,#T_d4be8_row19_col20,#T_d4be8_row20_col3,#T_d4be8_row21_col17,#T_d4be8_row22_col11,#T_d4be8_row23_col21,#T_d4be8_row24_col32,#T_d4be8_row25_col33,#T_d4be8_row26_col35,#T_d4be8_row27_col31,#T_d4be8_row28_col10,#T_d4be8_row29_col18,#T_d4be8_row30_col34,#T_d4be8_row31_col0,#T_d4be8_row32_col15,#T_d4be8_row33_col36,#T_d4be8_row34_col5,#T_d4be8_row35_col1,#T_d4be8_row36_col30,#T_d4be8_row37_col22{\n",
       "            background-color:  #023858;\n",
       "            color:  #f1f1f1;\n",
       "        }#T_d4be8_row1_col1,#T_d4be8_row2_col17,#T_d4be8_row3_col31,#T_d4be8_row4_col31,#T_d4be8_row6_col35,#T_d4be8_row7_col31,#T_d4be8_row9_col31,#T_d4be8_row10_col36,#T_d4be8_row17_col35,#T_d4be8_row21_col16,#T_d4be8_row22_col35,#T_d4be8_row24_col18,#T_d4be8_row24_col34,#T_d4be8_row26_col11,#T_d4be8_row26_col13,#T_d4be8_row26_col14,#T_d4be8_row26_col18,#T_d4be8_row27_col6,#T_d4be8_row27_col18,#T_d4be8_row27_col19,#T_d4be8_row27_col26,#T_d4be8_row27_col27,#T_d4be8_row28_col36,#T_d4be8_row29_col31,#T_d4be8_row29_col32,#T_d4be8_row29_col35,#T_d4be8_row30_col32,#T_d4be8_row33_col7,#T_d4be8_row33_col10,#T_d4be8_row33_col22,#T_d4be8_row35_col4,#T_d4be8_row37_col36{\n",
       "            background-color:  #adc1dd;\n",
       "            color:  #000000;\n",
       "        }#T_d4be8_row1_col2,#T_d4be8_row2_col28,#T_d4be8_row5_col29,#T_d4be8_row8_col11,#T_d4be8_row9_col9,#T_d4be8_row12_col24,#T_d4be8_row13_col8,#T_d4be8_row14_col6,#T_d4be8_row15_col4,#T_d4be8_row16_col16,#T_d4be8_row18_col12,#T_d4be8_row22_col23{\n",
       "            background-color:  #75a9cf;\n",
       "            color:  #000000;\n",
       "        }#T_d4be8_row1_col3,#T_d4be8_row1_col21,#T_d4be8_row2_col32,#T_d4be8_row5_col10,#T_d4be8_row12_col3,#T_d4be8_row12_col21,#T_d4be8_row15_col17,#T_d4be8_row20_col4,#T_d4be8_row20_col8,#T_d4be8_row21_col2,#T_d4be8_row23_col4,#T_d4be8_row23_col8,#T_d4be8_row23_col15,#T_d4be8_row24_col16,#T_d4be8_row28_col12,#T_d4be8_row32_col21{\n",
       "            background-color:  #9cb9d9;\n",
       "            color:  #000000;\n",
       "        }#T_d4be8_row1_col5,#T_d4be8_row11_col10,#T_d4be8_row16_col22,#T_d4be8_row28_col25,#T_d4be8_row34_col4,#T_d4be8_row34_col22,#T_d4be8_row37_col5,#T_d4be8_row37_col28{\n",
       "            background-color:  #c9cee4;\n",
       "            color:  #000000;\n",
       "        }#T_d4be8_row1_col6,#T_d4be8_row9_col4{\n",
       "            background-color:  #1379b5;\n",
       "            color:  #f1f1f1;\n",
       "        }#T_d4be8_row1_col7,#T_d4be8_row1_col19,#T_d4be8_row7_col4,#T_d4be8_row7_col23,#T_d4be8_row8_col19,#T_d4be8_row10_col4{\n",
       "            background-color:  #187cb6;\n",
       "            color:  #000000;\n",
       "        }#T_d4be8_row1_col8,#T_d4be8_row2_col20,#T_d4be8_row5_col11,#T_d4be8_row6_col24,#T_d4be8_row12_col4,#T_d4be8_row13_col13,#T_d4be8_row19_col16,#T_d4be8_row22_col12{\n",
       "            background-color:  #3f93c2;\n",
       "            color:  #000000;\n",
       "        }#T_d4be8_row1_col9,#T_d4be8_row1_col28,#T_d4be8_row2_col11,#T_d4be8_row6_col7,#T_d4be8_row6_col28,#T_d4be8_row10_col13,#T_d4be8_row14_col4,#T_d4be8_row16_col4,#T_d4be8_row16_col13,#T_d4be8_row22_col16{\n",
       "            background-color:  #78abd0;\n",
       "            color:  #000000;\n",
       "        }#T_d4be8_row1_col10,#T_d4be8_row8_col5,#T_d4be8_row10_col15,#T_d4be8_row15_col5,#T_d4be8_row18_col36,#T_d4be8_row19_col5,#T_d4be8_row25_col36,#T_d4be8_row28_col4,#T_d4be8_row32_col7,#T_d4be8_row33_col29,#T_d4be8_row33_col33,#T_d4be8_row34_col1,#T_d4be8_row34_col2,#T_d4be8_row34_col20,#T_d4be8_row34_col23,#T_d4be8_row35_col5{\n",
       "            background-color:  #c2cbe2;\n",
       "            color:  #000000;\n",
       "        }#T_d4be8_row1_col11,#T_d4be8_row1_col29,#T_d4be8_row5_col17,#T_d4be8_row17_col1,#T_d4be8_row18_col4,#T_d4be8_row21_col12,#T_d4be8_row22_col4,#T_d4be8_row35_col14{\n",
       "            background-color:  #62a2cb;\n",
       "            color:  #000000;\n",
       "        }#T_d4be8_row1_col14,#T_d4be8_row4_col9,#T_d4be8_row14_col27,#T_d4be8_row17_col4{\n",
       "            background-color:  #65a3cb;\n",
       "            color:  #000000;\n",
       "        }#T_d4be8_row1_col16,#T_d4be8_row2_col4,#T_d4be8_row9_col7,#T_d4be8_row10_col6{\n",
       "            background-color:  #0d75b3;\n",
       "            color:  #f1f1f1;\n",
       "        }#T_d4be8_row1_col18,#T_d4be8_row3_col1,#T_d4be8_row3_col34,#T_d4be8_row10_col21,#T_d4be8_row19_col11,#T_d4be8_row21_col22,#T_d4be8_row22_col20,#T_d4be8_row22_col36,#T_d4be8_row23_col7,#T_d4be8_row27_col1,#T_d4be8_row28_col22,#T_d4be8_row29_col4,#T_d4be8_row30_col26,#T_d4be8_row31_col15,#T_d4be8_row32_col0,#T_d4be8_row33_col11,#T_d4be8_row35_col26,#T_d4be8_row35_col31,#T_d4be8_row37_col10,#T_d4be8_row37_col17{\n",
       "            background-color:  #bfc9e1;\n",
       "            color:  #000000;\n",
       "        }#T_d4be8_row1_col20,#T_d4be8_row13_col3,#T_d4be8_row19_col4,#T_d4be8_row20_col24{\n",
       "            background-color:  #6da6cd;\n",
       "            color:  #000000;\n",
       "        }#T_d4be8_row1_col22,#T_d4be8_row5_col14,#T_d4be8_row9_col15,#T_d4be8_row9_col22,#T_d4be8_row17_col12,#T_d4be8_row32_col6,#T_d4be8_row37_col4,#T_d4be8_row37_col6{\n",
       "            background-color:  #d9d8ea;\n",
       "            color:  #000000;\n",
       "        }#T_d4be8_row1_col23,#T_d4be8_row8_col4,#T_d4be8_row15_col3,#T_d4be8_row20_col2{\n",
       "            background-color:  #3b92c1;\n",
       "            color:  #000000;\n",
       "        }#T_d4be8_row1_col24,#T_d4be8_row13_col4{\n",
       "            background-color:  #4496c3;\n",
       "            color:  #000000;\n",
       "        }#T_d4be8_row1_col25,#T_d4be8_row11_col4{\n",
       "            background-color:  #197db7;\n",
       "            color:  #000000;\n",
       "        }#T_d4be8_row1_col26,#T_d4be8_row3_col4{\n",
       "            background-color:  #0c74b2;\n",
       "            color:  #f1f1f1;\n",
       "        }#T_d4be8_row1_col27,#T_d4be8_row2_col13,#T_d4be8_row4_col4,#T_d4be8_row4_col25,#T_d4be8_row6_col16,#T_d4be8_row11_col27{\n",
       "            background-color:  #157ab5;\n",
       "            color:  #000000;\n",
       "        }#T_d4be8_row1_col30,#T_d4be8_row7_col30,#T_d4be8_row12_col30,#T_d4be8_row36_col4,#T_d4be8_row36_col8,#T_d4be8_row36_col19{\n",
       "            background-color:  #ced0e6;\n",
       "            color:  #000000;\n",
       "        }#T_d4be8_row1_col31,#T_d4be8_row4_col35,#T_d4be8_row8_col0,#T_d4be8_row8_col34,#T_d4be8_row9_col1,#T_d4be8_row12_col18,#T_d4be8_row13_col18,#T_d4be8_row14_col31,#T_d4be8_row17_col5,#T_d4be8_row22_col15,#T_d4be8_row22_col22,#T_d4be8_row24_col15,#T_d4be8_row25_col34,#T_d4be8_row26_col22,#T_d4be8_row26_col27,#T_d4be8_row26_col31,#T_d4be8_row27_col4,#T_d4be8_row27_col5,#T_d4be8_row27_col9,#T_d4be8_row27_col35,#T_d4be8_row29_col8,#T_d4be8_row29_col24,#T_d4be8_row30_col23,#T_d4be8_row30_col33,#T_d4be8_row31_col23,#T_d4be8_row32_col5,#T_d4be8_row32_col11,#T_d4be8_row32_col32,#T_d4be8_row34_col14,#T_d4be8_row34_col15,#T_d4be8_row34_col31,#T_d4be8_row35_col6,#T_d4be8_row37_col11,#T_d4be8_row37_col35{\n",
       "            background-color:  #afc1dd;\n",
       "            color:  #000000;\n",
       "        }#T_d4be8_row1_col32,#T_d4be8_row1_col33,#T_d4be8_row4_col21,#T_d4be8_row4_col33,#T_d4be8_row12_col32,#T_d4be8_row14_col32,#T_d4be8_row17_col15,#T_d4be8_row17_col30,#T_d4be8_row18_col33,#T_d4be8_row23_col27,#T_d4be8_row24_col4,#T_d4be8_row24_col8,#T_d4be8_row24_col9,#T_d4be8_row25_col4,#T_d4be8_row25_col15,#T_d4be8_row25_col27,#T_d4be8_row25_col29,#T_d4be8_row30_col22,#T_d4be8_row32_col14,#T_d4be8_row32_col30,#T_d4be8_row32_col33,#T_d4be8_row36_col14,#T_d4be8_row36_col15,#T_d4be8_row37_col34{\n",
       "            background-color:  #a7bddb;\n",
       "            color:  #000000;\n",
       "        }#T_d4be8_row1_col35,#T_d4be8_row6_col22,#T_d4be8_row11_col2,#T_d4be8_row11_col14,#T_d4be8_row14_col18,#T_d4be8_row15_col25,#T_d4be8_row15_col31,#T_d4be8_row16_col10,#T_d4be8_row17_col25,#T_d4be8_row18_col17,#T_d4be8_row18_col35,#T_d4be8_row21_col29,#T_d4be8_row21_col33,#T_d4be8_row21_col36,#T_d4be8_row23_col33,#T_d4be8_row25_col17,#T_d4be8_row25_col21,#T_d4be8_row26_col4,#T_d4be8_row26_col29,#T_d4be8_row27_col2,#T_d4be8_row28_col18,#T_d4be8_row28_col28,#T_d4be8_row29_col9,#T_d4be8_row29_col10,#T_d4be8_row30_col5,#T_d4be8_row33_col17,#T_d4be8_row34_col30,#T_d4be8_row34_col34,#T_d4be8_row36_col5,#T_d4be8_row37_col13{\n",
       "            background-color:  #a5bddb;\n",
       "            color:  #000000;\n",
       "        }#T_d4be8_row2_col0,#T_d4be8_row2_col30,#T_d4be8_row6_col0,#T_d4be8_row9_col14,#T_d4be8_row9_col35,#T_d4be8_row12_col33,#T_d4be8_row13_col31,#T_d4be8_row15_col30,#T_d4be8_row15_col35,#T_d4be8_row15_col36,#T_d4be8_row17_col6,#T_d4be8_row23_col34,#T_d4be8_row24_col36,#T_d4be8_row25_col1,#T_d4be8_row25_col8,#T_d4be8_row26_col2,#T_d4be8_row26_col6,#T_d4be8_row27_col24,#T_d4be8_row30_col21,#T_d4be8_row31_col1,#T_d4be8_row31_col5,#T_d4be8_row31_col13,#T_d4be8_row31_col16,#T_d4be8_row32_col22,#T_d4be8_row33_col2,#T_d4be8_row33_col32,#T_d4be8_row34_col0,#T_d4be8_row35_col0,#T_d4be8_row35_col33,#T_d4be8_row36_col2,#T_d4be8_row36_col16,#T_d4be8_row37_col15{\n",
       "            background-color:  #b3c3de;\n",
       "            color:  #000000;\n",
       "        }#T_d4be8_row2_col1,#T_d4be8_row10_col5,#T_d4be8_row16_col33,#T_d4be8_row18_col32,#T_d4be8_row19_col32,#T_d4be8_row24_col20,#T_d4be8_row24_col29,#T_d4be8_row25_col28,#T_d4be8_row34_col7,#T_d4be8_row35_col16{\n",
       "            background-color:  #a4bcda;\n",
       "            color:  #000000;\n",
       "        }#T_d4be8_row2_col2,#T_d4be8_row15_col16{\n",
       "            background-color:  #4295c3;\n",
       "            color:  #000000;\n",
       "        }#T_d4be8_row2_col6,#T_d4be8_row7_col2,#T_d4be8_row9_col16,#T_d4be8_row11_col20,#T_d4be8_row13_col14,#T_d4be8_row15_col19,#T_d4be8_row17_col24,#T_d4be8_row18_col20,#T_d4be8_row19_col25,#T_d4be8_row19_col29,#T_d4be8_row23_col22,#T_d4be8_row37_col21{\n",
       "            background-color:  #83afd3;\n",
       "            color:  #000000;\n",
       "        }#T_d4be8_row2_col8,#T_d4be8_row5_col2,#T_d4be8_row5_col6,#T_d4be8_row9_col12,#T_d4be8_row12_col16,#T_d4be8_row15_col12{\n",
       "            background-color:  #4697c4;\n",
       "            color:  #000000;\n",
       "        }#T_d4be8_row2_col9,#T_d4be8_row10_col28,#T_d4be8_row14_col16,#T_d4be8_row15_col33,#T_d4be8_row16_col7,#T_d4be8_row17_col29,#T_d4be8_row18_col14,#T_d4be8_row25_col2{\n",
       "            background-color:  #80aed2;\n",
       "            color:  #000000;\n",
       "        }#T_d4be8_row2_col10,#T_d4be8_row7_col32,#T_d4be8_row8_col31,#T_d4be8_row10_col34,#T_d4be8_row12_col35,#T_d4be8_row12_col36,#T_d4be8_row14_col0,#T_d4be8_row15_col18,#T_d4be8_row15_col22,#T_d4be8_row16_col11,#T_d4be8_row16_col34,#T_d4be8_row18_col1,#T_d4be8_row18_col31,#T_d4be8_row19_col31,#T_d4be8_row19_col35,#T_d4be8_row19_col36,#T_d4be8_row20_col5,#T_d4be8_row22_col0,#T_d4be8_row22_col28,#T_d4be8_row24_col19,#T_d4be8_row25_col31,#T_d4be8_row26_col8,#T_d4be8_row26_col20,#T_d4be8_row26_col34,#T_d4be8_row27_col20,#T_d4be8_row27_col23,#T_d4be8_row27_col29,#T_d4be8_row27_col33,#T_d4be8_row28_col0,#T_d4be8_row28_col16,#T_d4be8_row29_col2,#T_d4be8_row29_col15,#T_d4be8_row29_col30,#T_d4be8_row29_col34,#T_d4be8_row30_col0,#T_d4be8_row30_col1,#T_d4be8_row30_col7,#T_d4be8_row30_col18,#T_d4be8_row30_col28,#T_d4be8_row30_col35,#T_d4be8_row31_col9,#T_d4be8_row31_col10,#T_d4be8_row31_col11,#T_d4be8_row31_col34,#T_d4be8_row32_col18,#T_d4be8_row33_col8,#T_d4be8_row33_col20,#T_d4be8_row33_col30,#T_d4be8_row34_col3,#T_d4be8_row35_col29,#T_d4be8_row35_col34,#T_d4be8_row36_col18,#T_d4be8_row36_col36,#T_d4be8_row37_col2{\n",
       "            background-color:  #b7c5df;\n",
       "            color:  #000000;\n",
       "        }#T_d4be8_row2_col12,#T_d4be8_row5_col16{\n",
       "            background-color:  #328dbf;\n",
       "            color:  #000000;\n",
       "        }#T_d4be8_row2_col14,#T_d4be8_row17_col16{\n",
       "            background-color:  #0569a4;\n",
       "            color:  #f1f1f1;\n",
       "        }#T_d4be8_row2_col15,#T_d4be8_row3_col17,#T_d4be8_row6_col33,#T_d4be8_row7_col1,#T_d4be8_row7_col22,#T_d4be8_row8_col15,#T_d4be8_row15_col11,#T_d4be8_row21_col26,#T_d4be8_row22_col2,#T_d4be8_row25_col13,#T_d4be8_row32_col16,#T_d4be8_row32_col23,#T_d4be8_row35_col19,#T_d4be8_row37_col19{\n",
       "            background-color:  #94b6d7;\n",
       "            color:  #000000;\n",
       "        }#T_d4be8_row2_col19,#T_d4be8_row7_col16{\n",
       "            background-color:  #056faf;\n",
       "            color:  #f1f1f1;\n",
       "        }#T_d4be8_row2_col22,#T_d4be8_row6_col10,#T_d4be8_row8_col6,#T_d4be8_row9_col23,#T_d4be8_row13_col33,#T_d4be8_row25_col24,#T_d4be8_row28_col13,#T_d4be8_row37_col16{\n",
       "            background-color:  #9ebad9;\n",
       "            color:  #000000;\n",
       "        }#T_d4be8_row2_col23,#T_d4be8_row8_col16,#T_d4be8_row9_col25,#T_d4be8_row11_col6{\n",
       "            background-color:  #045788;\n",
       "            color:  #f1f1f1;\n",
       "        }#T_d4be8_row2_col24,#T_d4be8_row6_col2,#T_d4be8_row13_col16,#T_d4be8_row15_col13{\n",
       "            background-color:  #308cbe;\n",
       "            color:  #000000;\n",
       "        }#T_d4be8_row2_col25,#T_d4be8_row5_col28,#T_d4be8_row6_col25,#T_d4be8_row8_col29,#T_d4be8_row11_col13,#T_d4be8_row11_col16,#T_d4be8_row14_col2,#T_d4be8_row15_col9,#T_d4be8_row16_col12,#T_d4be8_row18_col23{\n",
       "            background-color:  #79abd0;\n",
       "            color:  #000000;\n",
       "        }#T_d4be8_row2_col27,#T_d4be8_row3_col19,#T_d4be8_row4_col16,#T_d4be8_row7_col26{\n",
       "            background-color:  #2d8abd;\n",
       "            color:  #000000;\n",
       "        }#T_d4be8_row2_col29,#T_d4be8_row18_col16{\n",
       "            background-color:  #5a9ec9;\n",
       "            color:  #000000;\n",
       "        }#T_d4be8_row2_col31,#T_d4be8_row3_col33,#T_d4be8_row10_col35,#T_d4be8_row11_col31,#T_d4be8_row12_col1,#T_d4be8_row12_col31,#T_d4be8_row16_col35,#T_d4be8_row16_col36,#T_d4be8_row19_col33,#T_d4be8_row20_col31,#T_d4be8_row21_col32,#T_d4be8_row22_col31,#T_d4be8_row24_col17,#T_d4be8_row24_col35,#T_d4be8_row25_col18,#T_d4be8_row25_col20,#T_d4be8_row25_col26,#T_d4be8_row26_col0,#T_d4be8_row26_col7,#T_d4be8_row26_col28,#T_d4be8_row26_col32,#T_d4be8_row27_col3,#T_d4be8_row27_col8,#T_d4be8_row27_col11,#T_d4be8_row27_col16,#T_d4be8_row27_col25,#T_d4be8_row29_col33,#T_d4be8_row31_col35,#T_d4be8_row33_col28,#T_d4be8_row35_col8{\n",
       "            background-color:  #b0c2de;\n",
       "            color:  #000000;\n",
       "        }#T_d4be8_row2_col34,#T_d4be8_row5_col18,#T_d4be8_row7_col15,#T_d4be8_row11_col0,#T_d4be8_row11_col36,#T_d4be8_row16_col5,#T_d4be8_row18_col0,#T_d4be8_row20_col11,#T_d4be8_row20_col35,#T_d4be8_row21_col31,#T_d4be8_row22_col3,#T_d4be8_row22_col30,#T_d4be8_row25_col5,#T_d4be8_row26_col3,#T_d4be8_row26_col5,#T_d4be8_row27_col15,#T_d4be8_row27_col17,#T_d4be8_row27_col34,#T_d4be8_row29_col1,#T_d4be8_row29_col12,#T_d4be8_row30_col15,#T_d4be8_row30_col16,#T_d4be8_row30_col31,#T_d4be8_row31_col25,#T_d4be8_row31_col29,#T_d4be8_row31_col36,#T_d4be8_row32_col19,#T_d4be8_row32_col31,#T_d4be8_row32_col34,#T_d4be8_row33_col0,#T_d4be8_row33_col25,#T_d4be8_row34_col28,#T_d4be8_row34_col33,#T_d4be8_row34_col35,#T_d4be8_row35_col18,#T_d4be8_row36_col11{\n",
       "            background-color:  #b5c4df;\n",
       "            color:  #000000;\n",
       "        }#T_d4be8_row2_col35,#T_d4be8_row3_col32,#T_d4be8_row4_col32,#T_d4be8_row5_col21,#T_d4be8_row7_col33,#T_d4be8_row13_col11,#T_d4be8_row15_col10,#T_d4be8_row15_col20,#T_d4be8_row17_col3,#T_d4be8_row19_col2,#T_d4be8_row20_col14,#T_d4be8_row20_col18,#T_d4be8_row22_col24,#T_d4be8_row23_col12,#T_d4be8_row24_col26,#T_d4be8_row24_col27,#T_d4be8_row24_col33,#T_d4be8_row25_col19,#T_d4be8_row25_col32,#T_d4be8_row26_col16,#T_d4be8_row28_col2,#T_d4be8_row29_col3{\n",
       "            background-color:  #a9bfdc;\n",
       "            color:  #000000;\n",
       "        }#T_d4be8_row2_col36,#T_d4be8_row3_col10,#T_d4be8_row3_col36,#T_d4be8_row8_col10,#T_d4be8_row8_col36,#T_d4be8_row9_col18,#T_d4be8_row9_col34,#T_d4be8_row10_col32,#T_d4be8_row11_col15,#T_d4be8_row12_col22,#T_d4be8_row22_col33,#T_d4be8_row23_col36,#T_d4be8_row24_col7,#T_d4be8_row25_col11,#T_d4be8_row27_col30,#T_d4be8_row28_col23,#T_d4be8_row28_col26,#T_d4be8_row29_col6,#T_d4be8_row29_col22,#T_d4be8_row30_col6,#T_d4be8_row32_col25,#T_d4be8_row33_col16,#T_d4be8_row33_col21,#T_d4be8_row33_col23,#T_d4be8_row33_col26,#T_d4be8_row36_col31,#T_d4be8_row37_col8,#T_d4be8_row37_col18{\n",
       "            background-color:  #bdc8e1;\n",
       "            color:  #000000;\n",
       "        }#T_d4be8_row3_col0,#T_d4be8_row4_col0,#T_d4be8_row5_col35,#T_d4be8_row9_col3,#T_d4be8_row10_col3,#T_d4be8_row14_col36,#T_d4be8_row17_col34,#T_d4be8_row18_col15,#T_d4be8_row19_col3,#T_d4be8_row20_col6,#T_d4be8_row20_col7,#T_d4be8_row20_col20,#T_d4be8_row23_col5,#T_d4be8_row26_col12,#T_d4be8_row27_col36,#T_d4be8_row28_col15,#T_d4be8_row30_col14,#T_d4be8_row30_col30,#T_d4be8_row31_col26,#T_d4be8_row31_col27,#T_d4be8_row32_col10,#T_d4be8_row32_col29,#T_d4be8_row33_col9,#T_d4be8_row33_col31,#T_d4be8_row34_col21,#T_d4be8_row36_col34{\n",
       "            background-color:  #b1c2de;\n",
       "            color:  #000000;\n",
       "        }#T_d4be8_row3_col3,#T_d4be8_row11_col9,#T_d4be8_row14_col25,#T_d4be8_row20_col17,#T_d4be8_row20_col26,#T_d4be8_row21_col3,#T_d4be8_row21_col10,#T_d4be8_row28_col17{\n",
       "            background-color:  #8eb3d5;\n",
       "            color:  #000000;\n",
       "        }#T_d4be8_row3_col5,#T_d4be8_row34_col26{\n",
       "            background-color:  #dad9ea;\n",
       "            color:  #000000;\n",
       "        }#T_d4be8_row3_col7,#T_d4be8_row7_col14,#T_d4be8_row10_col26,#T_d4be8_row17_col19{\n",
       "            background-color:  #3d93c2;\n",
       "            color:  #000000;\n",
       "        }#T_d4be8_row3_col8,#T_d4be8_row5_col8,#T_d4be8_row12_col12,#T_d4be8_row12_col26{\n",
       "            background-color:  #4e9ac6;\n",
       "            color:  #000000;\n",
       "        }#T_d4be8_row3_col12,#T_d4be8_row5_col26,#T_d4be8_row7_col7,#T_d4be8_row10_col19{\n",
       "            background-color:  #3790c0;\n",
       "            color:  #000000;\n",
       "        }#T_d4be8_row3_col13,#T_d4be8_row6_col26{\n",
       "            background-color:  #358fc0;\n",
       "            color:  #000000;\n",
       "        }#T_d4be8_row3_col14,#T_d4be8_row4_col11,#T_d4be8_row7_col28,#T_d4be8_row9_col17,#T_d4be8_row10_col20,#T_d4be8_row13_col32,#T_d4be8_row16_col19,#T_d4be8_row17_col26,#T_d4be8_row19_col7,#T_d4be8_row21_col6,#T_d4be8_row22_col27,#T_d4be8_row24_col24{\n",
       "            background-color:  #86b0d3;\n",
       "            color:  #000000;\n",
       "        }#T_d4be8_row3_col15,#T_d4be8_row5_col30,#T_d4be8_row18_col30,#T_d4be8_row19_col30,#T_d4be8_row22_col18,#T_d4be8_row29_col11,#T_d4be8_row32_col26,#T_d4be8_row36_col12,#T_d4be8_row36_col20,#T_d4be8_row36_col29{\n",
       "            background-color:  #cacee5;\n",
       "            color:  #000000;\n",
       "        }#T_d4be8_row3_col20,#T_d4be8_row19_col26{\n",
       "            background-color:  #7dacd1;\n",
       "            color:  #000000;\n",
       "        }#T_d4be8_row3_col21,#T_d4be8_row5_col32,#T_d4be8_row6_col32,#T_d4be8_row8_col33,#T_d4be8_row11_col1,#T_d4be8_row12_col17,#T_d4be8_row15_col28,#T_d4be8_row16_col2,#T_d4be8_row18_col3,#T_d4be8_row20_col29,#T_d4be8_row21_col8,#T_d4be8_row23_col26,#T_d4be8_row24_col12,#T_d4be8_row24_col13,#T_d4be8_row25_col23,#T_d4be8_row35_col25{\n",
       "            background-color:  #a1bbda;\n",
       "            color:  #000000;\n",
       "        }#T_d4be8_row3_col22,#T_d4be8_row5_col20,#T_d4be8_row9_col10,#T_d4be8_row9_col32,#T_d4be8_row12_col0,#T_d4be8_row13_col1,#T_d4be8_row14_col5,#T_d4be8_row14_col10,#T_d4be8_row19_col12,#T_d4be8_row21_col15,#T_d4be8_row21_col30,#T_d4be8_row24_col6,#T_d4be8_row27_col0,#T_d4be8_row28_col6,#T_d4be8_row28_col9,#T_d4be8_row29_col36,#T_d4be8_row31_col8,#T_d4be8_row31_col31,#T_d4be8_row32_col17,#T_d4be8_row33_col18,#T_d4be8_row34_col9,#T_d4be8_row35_col24,#T_d4be8_row36_col17,#T_d4be8_row37_col26{\n",
       "            background-color:  #c0c9e2;\n",
       "            color:  #000000;\n",
       "        }#T_d4be8_row3_col23,#T_d4be8_row7_col21,#T_d4be8_row8_col26,#T_d4be8_row23_col19{\n",
       "            background-color:  #509ac6;\n",
       "            color:  #000000;\n",
       "        }#T_d4be8_row3_col24,#T_d4be8_row6_col3,#T_d4be8_row13_col26,#T_d4be8_row20_col13{\n",
       "            background-color:  #63a2cb;\n",
       "            color:  #000000;\n",
       "        }#T_d4be8_row3_col25,#T_d4be8_row11_col26{\n",
       "            background-color:  #0f76b3;\n",
       "            color:  #f1f1f1;\n",
       "        }#T_d4be8_row3_col27,#T_d4be8_row4_col26{\n",
       "            background-color:  #034d79;\n",
       "            color:  #f1f1f1;\n",
       "        }#T_d4be8_row3_col30,#T_d4be8_row4_col5,#T_d4be8_row21_col21,#T_d4be8_row23_col17,#T_d4be8_row34_col27,#T_d4be8_row36_col26{\n",
       "            background-color:  #d5d5e8;\n",
       "            color:  #000000;\n",
       "        }#T_d4be8_row3_col35,#T_d4be8_row5_col31,#T_d4be8_row8_col1,#T_d4be8_row8_col35,#T_d4be8_row10_col1,#T_d4be8_row15_col15,#T_d4be8_row15_col32,#T_d4be8_row16_col18,#T_d4be8_row17_col32,#T_d4be8_row20_col34,#T_d4be8_row23_col0,#T_d4be8_row23_col30,#T_d4be8_row24_col2,#T_d4be8_row24_col14,#T_d4be8_row25_col10,#T_d4be8_row26_col23,#T_d4be8_row26_col26,#T_d4be8_row27_col12,#T_d4be8_row28_col5,#T_d4be8_row28_col30,#T_d4be8_row28_col33,#T_d4be8_row29_col28,#T_d4be8_row30_col3,#T_d4be8_row31_col21,#T_d4be8_row32_col2,#T_d4be8_row34_col10,#T_d4be8_row35_col7,#T_d4be8_row35_col23,#T_d4be8_row36_col10,#T_d4be8_row36_col21,#T_d4be8_row36_col22,#T_d4be8_row37_col30{\n",
       "            background-color:  #acc0dd;\n",
       "            color:  #000000;\n",
       "        }#T_d4be8_row4_col1,#T_d4be8_row14_col30,#T_d4be8_row17_col10,#T_d4be8_row28_col14,#T_d4be8_row35_col27,#T_d4be8_row36_col9{\n",
       "            background-color:  #cccfe5;\n",
       "            color:  #000000;\n",
       "        }#T_d4be8_row4_col2,#T_d4be8_row6_col8,#T_d4be8_row8_col20,#T_d4be8_row12_col13,#T_d4be8_row15_col27,#T_d4be8_row19_col23{\n",
       "            background-color:  #569dc8;\n",
       "            color:  #000000;\n",
       "        }#T_d4be8_row4_col3,#T_d4be8_row4_col17,#T_d4be8_row10_col8,#T_d4be8_row10_col11,#T_d4be8_row12_col7,#T_d4be8_row19_col1,#T_d4be8_row20_col27,#T_d4be8_row21_col27,#T_d4be8_row22_col7,#T_d4be8_row35_col20{\n",
       "            background-color:  #88b1d4;\n",
       "            color:  #000000;\n",
       "        }#T_d4be8_row4_col7,#T_d4be8_row4_col8,#T_d4be8_row10_col27,#T_d4be8_row12_col27{\n",
       "            background-color:  #4c99c5;\n",
       "            color:  #000000;\n",
       "        }#T_d4be8_row4_col14,#T_d4be8_row7_col20,#T_d4be8_row10_col14,#T_d4be8_row13_col17,#T_d4be8_row14_col33,#T_d4be8_row17_col7,#T_d4be8_row17_col27,#T_d4be8_row19_col19,#T_d4be8_row21_col24,#T_d4be8_row25_col9{\n",
       "            background-color:  #93b5d6;\n",
       "            color:  #000000;\n",
       "        }#T_d4be8_row4_col15,#T_d4be8_row4_col22,#T_d4be8_row6_col30,#T_d4be8_row7_col17,#T_d4be8_row10_col10,#T_d4be8_row11_col21,#T_d4be8_row14_col15,#T_d4be8_row19_col22,#T_d4be8_row21_col19,#T_d4be8_row23_col25,#T_d4be8_row28_col1,#T_d4be8_row28_col7,#T_d4be8_row32_col9,#T_d4be8_row32_col27,#T_d4be8_row35_col10,#T_d4be8_row36_col13,#T_d4be8_row37_col20,#T_d4be8_row37_col27{\n",
       "            background-color:  #c4cbe3;\n",
       "            color:  #000000;\n",
       "        }#T_d4be8_row4_col19,#T_d4be8_row6_col23,#T_d4be8_row7_col27,#T_d4be8_row8_col13{\n",
       "            background-color:  #4094c3;\n",
       "            color:  #000000;\n",
       "        }#T_d4be8_row4_col20,#T_d4be8_row12_col28,#T_d4be8_row16_col8,#T_d4be8_row19_col27{\n",
       "            background-color:  #8cb3d5;\n",
       "            color:  #000000;\n",
       "        }#T_d4be8_row4_col23,#T_d4be8_row5_col24,#T_d4be8_row8_col27,#T_d4be8_row13_col12{\n",
       "            background-color:  #589ec8;\n",
       "            color:  #000000;\n",
       "        }#T_d4be8_row4_col24,#T_d4be8_row12_col9,#T_d4be8_row13_col2,#T_d4be8_row13_col27,#T_d4be8_row14_col8,#T_d4be8_row15_col24{\n",
       "            background-color:  #6fa7ce;\n",
       "            color:  #000000;\n",
       "        }#T_d4be8_row4_col29,#T_d4be8_row6_col17,#T_d4be8_row7_col24,#T_d4be8_row9_col20,#T_d4be8_row13_col19,#T_d4be8_row18_col27,#T_d4be8_row19_col6,#T_d4be8_row21_col13{\n",
       "            background-color:  #76aad0;\n",
       "            color:  #000000;\n",
       "        }#T_d4be8_row4_col30,#T_d4be8_row11_col22,#T_d4be8_row13_col22,#T_d4be8_row16_col30,#T_d4be8_row36_col27,#T_d4be8_row36_col28,#T_d4be8_row37_col24,#T_d4be8_row37_col25{\n",
       "            background-color:  #d1d2e6;\n",
       "            color:  #000000;\n",
       "        }#T_d4be8_row5_col1,#T_d4be8_row35_col12{\n",
       "            background-color:  #e2dfee;\n",
       "            color:  #000000;\n",
       "        }#T_d4be8_row5_col5,#T_d4be8_row17_col17,#T_d4be8_row21_col14,#T_d4be8_row34_col12{\n",
       "            background-color:  #d8d7e9;\n",
       "            color:  #000000;\n",
       "        }#T_d4be8_row5_col7,#T_d4be8_row7_col11,#T_d4be8_row10_col12,#T_d4be8_row22_col19{\n",
       "            background-color:  #67a4cc;\n",
       "            color:  #000000;\n",
       "        }#T_d4be8_row5_col13,#T_d4be8_row6_col12{\n",
       "            background-color:  #04588a;\n",
       "            color:  #f1f1f1;\n",
       "        }#T_d4be8_row5_col22,#T_d4be8_row9_col21,#T_d4be8_row12_col10,#T_d4be8_row12_col15,#T_d4be8_row14_col1,#T_d4be8_row16_col32,#T_d4be8_row18_col22,#T_d4be8_row23_col6,#T_d4be8_row24_col28,#T_d4be8_row28_col8,#T_d4be8_row32_col8,#T_d4be8_row35_col9,#T_d4be8_row37_col12,#T_d4be8_row37_col29{\n",
       "            background-color:  #c5cce3;\n",
       "            color:  #000000;\n",
       "        }#T_d4be8_row5_col33,#T_d4be8_row6_col21,#T_d4be8_row7_col3,#T_d4be8_row10_col9,#T_d4be8_row11_col17,#T_d4be8_row12_col29,#T_d4be8_row14_col7,#T_d4be8_row18_col8,#T_d4be8_row18_col11,#T_d4be8_row20_col19,#T_d4be8_row21_col25,#T_d4be8_row22_col29,#T_d4be8_row23_col13,#T_d4be8_row25_col12{\n",
       "            background-color:  #96b6d7;\n",
       "            color:  #000000;\n",
       "        }#T_d4be8_row6_col1,#T_d4be8_row35_col13{\n",
       "            background-color:  #e4e1ef;\n",
       "            color:  #000000;\n",
       "        }#T_d4be8_row6_col5,#T_d4be8_row20_col1,#T_d4be8_row22_col1,#T_d4be8_row34_col13,#T_d4be8_row35_col3,#T_d4be8_row35_col11{\n",
       "            background-color:  #d3d4e7;\n",
       "            color:  #000000;\n",
       "        }#T_d4be8_row6_col9,#T_d4be8_row14_col13{\n",
       "            background-color:  #348ebf;\n",
       "            color:  #000000;\n",
       "        }#T_d4be8_row6_col14,#T_d4be8_row17_col13{\n",
       "            background-color:  #dcdaeb;\n",
       "            color:  #000000;\n",
       "        }#T_d4be8_row6_col18,#T_d4be8_row7_col0,#T_d4be8_row8_col30,#T_d4be8_row9_col33,#T_d4be8_row10_col33,#T_d4be8_row11_col35,#T_d4be8_row13_col34,#T_d4be8_row14_col20,#T_d4be8_row14_col34,#T_d4be8_row15_col34,#T_d4be8_row17_col0,#T_d4be8_row17_col11,#T_d4be8_row18_col10,#T_d4be8_row19_col0,#T_d4be8_row19_col9,#T_d4be8_row19_col34,#T_d4be8_row20_col15,#T_d4be8_row21_col0,#T_d4be8_row21_col1,#T_d4be8_row22_col14,#T_d4be8_row24_col0,#T_d4be8_row25_col6,#T_d4be8_row25_col7,#T_d4be8_row26_col25,#T_d4be8_row28_col29,#T_d4be8_row28_col34,#T_d4be8_row29_col13,#T_d4be8_row30_col2,#T_d4be8_row30_col9,#T_d4be8_row30_col10,#T_d4be8_row30_col20,#T_d4be8_row30_col24,#T_d4be8_row30_col36,#T_d4be8_row31_col14,#T_d4be8_row31_col17,#T_d4be8_row31_col19,#T_d4be8_row31_col20,#T_d4be8_row31_col22,#T_d4be8_row31_col30,#T_d4be8_row31_col32,#T_d4be8_row32_col3,#T_d4be8_row33_col34,#T_d4be8_row35_col17,#T_d4be8_row36_col0,#T_d4be8_row36_col23,#T_d4be8_row37_col0{\n",
       "            background-color:  #b4c4df;\n",
       "            color:  #000000;\n",
       "        }#T_d4be8_row6_col19,#T_d4be8_row7_col13{\n",
       "            background-color:  #4a98c5;\n",
       "            color:  #000000;\n",
       "        }#T_d4be8_row6_col20,#T_d4be8_row19_col13{\n",
       "            background-color:  #d0d1e6;\n",
       "            color:  #000000;\n",
       "        }#T_d4be8_row6_col31,#T_d4be8_row7_col9,#T_d4be8_row7_col35,#T_d4be8_row8_col32,#T_d4be8_row14_col19,#T_d4be8_row16_col29,#T_d4be8_row17_col22,#T_d4be8_row18_col28,#T_d4be8_row24_col5,#T_d4be8_row24_col23,#T_d4be8_row25_col0,#T_d4be8_row25_col30,#T_d4be8_row26_col19,#T_d4be8_row27_col13,#T_d4be8_row31_col33,#T_d4be8_row34_col32,#T_d4be8_row36_col33,#T_d4be8_row37_col14{\n",
       "            background-color:  #a8bedc;\n",
       "            color:  #000000;\n",
       "        }#T_d4be8_row7_col5,#T_d4be8_row10_col30,#T_d4be8_row34_col19,#T_d4be8_row36_col7{\n",
       "            background-color:  #dbdaeb;\n",
       "            color:  #000000;\n",
       "        }#T_d4be8_row7_col8,#T_d4be8_row8_col8,#T_d4be8_row12_col19,#T_d4be8_row12_col23{\n",
       "            background-color:  #6ba5cd;\n",
       "            color:  #000000;\n",
       "        }#T_d4be8_row7_col18,#T_d4be8_row8_col17,#T_d4be8_row21_col5,#T_d4be8_row21_col23,#T_d4be8_row24_col22,#T_d4be8_row29_col19,#T_d4be8_row34_col17,#T_d4be8_row37_col32{\n",
       "            background-color:  #c1cae2;\n",
       "            color:  #000000;\n",
       "        }#T_d4be8_row7_col25,#T_d4be8_row11_col19{\n",
       "            background-color:  #2a88bc;\n",
       "            color:  #000000;\n",
       "        }#T_d4be8_row8_col3,#T_d4be8_row8_col7,#T_d4be8_row9_col29,#T_d4be8_row10_col23,#T_d4be8_row11_col11,#T_d4be8_row12_col2,#T_d4be8_row15_col8,#T_d4be8_row18_col6,#T_d4be8_row20_col23,#T_d4be8_row22_col25{\n",
       "            background-color:  #84b0d3;\n",
       "            color:  #000000;\n",
       "        }#T_d4be8_row8_col14,#T_d4be8_row17_col23{\n",
       "            background-color:  #0771b1;\n",
       "            color:  #f1f1f1;\n",
       "        }#T_d4be8_row8_col21,#T_d4be8_row23_col23{\n",
       "            background-color:  #056aa6;\n",
       "            color:  #f1f1f1;\n",
       "        }#T_d4be8_row8_col22,#T_d4be8_row11_col8,#T_d4be8_row12_col25,#T_d4be8_row37_col23{\n",
       "            background-color:  #73a9cf;\n",
       "            color:  #000000;\n",
       "        }#T_d4be8_row8_col25,#T_d4be8_row9_col11,#T_d4be8_row9_col24,#T_d4be8_row11_col23,#T_d4be8_row13_col6,#T_d4be8_row15_col29,#T_d4be8_row18_col2,#T_d4be8_row22_col6{\n",
       "            background-color:  #8fb4d6;\n",
       "            color:  #000000;\n",
       "        }#T_d4be8_row9_col2,#T_d4be8_row10_col17,#T_d4be8_row15_col6,#T_d4be8_row20_col21,#T_d4be8_row21_col7,#T_d4be8_row23_col3{\n",
       "            background-color:  #97b7d7;\n",
       "            color:  #000000;\n",
       "        }#T_d4be8_row9_col5,#T_d4be8_row34_col6{\n",
       "            background-color:  #f3edf5;\n",
       "            color:  #000000;\n",
       "        }#T_d4be8_row9_col30,#T_d4be8_row15_col1,#T_d4be8_row35_col2,#T_d4be8_row36_col6{\n",
       "            background-color:  #f4eef6;\n",
       "            color:  #000000;\n",
       "        }#T_d4be8_row10_col22,#T_d4be8_row21_col18,#T_d4be8_row26_col36,#T_d4be8_row29_col17,#T_d4be8_row33_col35,#T_d4be8_row37_col7{\n",
       "            background-color:  #d4d4e8;\n",
       "            color:  #000000;\n",
       "        }#T_d4be8_row10_col24,#T_d4be8_row12_col11,#T_d4be8_row13_col7,#T_d4be8_row22_col8,#T_d4be8_row29_col5,#T_d4be8_row34_col18{\n",
       "            background-color:  #99b8d8;\n",
       "            color:  #000000;\n",
       "        }#T_d4be8_row11_col5,#T_d4be8_row34_col25{\n",
       "            background-color:  #eee8f3;\n",
       "            color:  #000000;\n",
       "        }#T_d4be8_row11_col30,#T_d4be8_row36_col25{\n",
       "            background-color:  #ebe6f2;\n",
       "            color:  #000000;\n",
       "        }#T_d4be8_row12_col14,#T_d4be8_row16_col3,#T_d4be8_row16_col17,#T_d4be8_row17_col8,#T_d4be8_row20_col28,#T_d4be8_row21_col28{\n",
       "            background-color:  #89b1d4;\n",
       "            color:  #000000;\n",
       "        }#T_d4be8_row12_col20,#T_d4be8_row13_col20,#T_d4be8_row13_col28,#T_d4be8_row14_col28,#T_d4be8_row16_col9,#T_d4be8_row16_col24,#T_d4be8_row19_col8,#T_d4be8_row19_col24{\n",
       "            background-color:  #81aed2;\n",
       "            color:  #000000;\n",
       "        }#T_d4be8_row14_col11,#T_d4be8_row22_col9{\n",
       "            background-color:  #fff7fb;\n",
       "            color:  #000000;\n",
       "        }#T_d4be8_row14_col17,#T_d4be8_row21_col9{\n",
       "            background-color:  #056dac;\n",
       "            color:  #f1f1f1;\n",
       "        }#T_d4be8_row14_col21,#T_d4be8_row23_col9{\n",
       "            background-color:  #cdd0e5;\n",
       "            color:  #000000;\n",
       "        }#T_d4be8_row15_col14,#T_d4be8_row17_col2,#T_d4be8_row17_col33,#T_d4be8_row20_col33,#T_d4be8_row25_col3,#T_d4be8_row25_col14{\n",
       "            background-color:  #a2bcda;\n",
       "            color:  #000000;\n",
       "        }#T_d4be8_row17_col21,#T_d4be8_row23_col14{\n",
       "            background-color:  #2685bb;\n",
       "            color:  #000000;\n",
       "        }#T_d4be8_row21_col11,#T_d4be8_row22_col17{\n",
       "            background-color:  #f8f1f8;\n",
       "            color:  #000000;\n",
       "        }#T_d4be8_row22_col10,#T_d4be8_row28_col11{\n",
       "            background-color:  #dedcec;\n",
       "            color:  #000000;\n",
       "        }</style><table id=\"T_d4be8_\" ><thead>    <tr>        <th class=\"blank level0\" ></th>        <th class=\"col_heading level0 col0\" >Id</th>        <th class=\"col_heading level0 col1\" >MSSubClass</th>        <th class=\"col_heading level0 col2\" >LotFrontage</th>        <th class=\"col_heading level0 col3\" >LotArea</th>        <th class=\"col_heading level0 col4\" >OverallQual</th>        <th class=\"col_heading level0 col5\" >OverallCond</th>        <th class=\"col_heading level0 col6\" >YearBuilt</th>        <th class=\"col_heading level0 col7\" >YearRemodAdd</th>        <th class=\"col_heading level0 col8\" >MasVnrArea</th>        <th class=\"col_heading level0 col9\" >BsmtFinSF1</th>        <th class=\"col_heading level0 col10\" >BsmtFinSF2</th>        <th class=\"col_heading level0 col11\" >BsmtUnfSF</th>        <th class=\"col_heading level0 col12\" >TotalBsmtSF</th>        <th class=\"col_heading level0 col13\" >1stFlrSF</th>        <th class=\"col_heading level0 col14\" >2ndFlrSF</th>        <th class=\"col_heading level0 col15\" >LowQualFinSF</th>        <th class=\"col_heading level0 col16\" >GrLivArea</th>        <th class=\"col_heading level0 col17\" >BsmtFullBath</th>        <th class=\"col_heading level0 col18\" >BsmtHalfBath</th>        <th class=\"col_heading level0 col19\" >FullBath</th>        <th class=\"col_heading level0 col20\" >HalfBath</th>        <th class=\"col_heading level0 col21\" >BedroomAbvGr</th>        <th class=\"col_heading level0 col22\" >KitchenAbvGr</th>        <th class=\"col_heading level0 col23\" >TotRmsAbvGrd</th>        <th class=\"col_heading level0 col24\" >Fireplaces</th>        <th class=\"col_heading level0 col25\" >GarageYrBlt</th>        <th class=\"col_heading level0 col26\" >GarageCars</th>        <th class=\"col_heading level0 col27\" >GarageArea</th>        <th class=\"col_heading level0 col28\" >WoodDeckSF</th>        <th class=\"col_heading level0 col29\" >OpenPorchSF</th>        <th class=\"col_heading level0 col30\" >EnclosedPorch</th>        <th class=\"col_heading level0 col31\" >3SsnPorch</th>        <th class=\"col_heading level0 col32\" >ScreenPorch</th>        <th class=\"col_heading level0 col33\" >PoolArea</th>        <th class=\"col_heading level0 col34\" >MiscVal</th>        <th class=\"col_heading level0 col35\" >MoSold</th>        <th class=\"col_heading level0 col36\" >YrSold</th>        <th class=\"col_heading level0 col37\" >SalePrice</th>    </tr></thead><tbody>\n",
       "                <tr>\n",
       "                        <th id=\"T_d4be8_level0_row0\" class=\"row_heading level0 row0\" >SalePrice</th>\n",
       "                        <td id=\"T_d4be8_row0_col0\" class=\"data row0 col0\" >-0.021917</td>\n",
       "                        <td id=\"T_d4be8_row0_col1\" class=\"data row0 col1\" >-0.084284</td>\n",
       "                        <td id=\"T_d4be8_row0_col2\" class=\"data row0 col2\" >0.351799</td>\n",
       "                        <td id=\"T_d4be8_row0_col3\" class=\"data row0 col3\" >0.263843</td>\n",
       "                        <td id=\"T_d4be8_row0_col4\" class=\"data row0 col4\" >0.790982</td>\n",
       "                        <td id=\"T_d4be8_row0_col5\" class=\"data row0 col5\" >-0.077856</td>\n",
       "                        <td id=\"T_d4be8_row0_col6\" class=\"data row0 col6\" >0.522897</td>\n",
       "                        <td id=\"T_d4be8_row0_col7\" class=\"data row0 col7\" >0.507101</td>\n",
       "                        <td id=\"T_d4be8_row0_col8\" class=\"data row0 col8\" >0.477493</td>\n",
       "                        <td id=\"T_d4be8_row0_col9\" class=\"data row0 col9\" >0.386420</td>\n",
       "                        <td id=\"T_d4be8_row0_col10\" class=\"data row0 col10\" >-0.011378</td>\n",
       "                        <td id=\"T_d4be8_row0_col11\" class=\"data row0 col11\" >0.214479</td>\n",
       "                        <td id=\"T_d4be8_row0_col12\" class=\"data row0 col12\" >0.613581</td>\n",
       "                        <td id=\"T_d4be8_row0_col13\" class=\"data row0 col13\" >0.605852</td>\n",
       "                        <td id=\"T_d4be8_row0_col14\" class=\"data row0 col14\" >0.319334</td>\n",
       "                        <td id=\"T_d4be8_row0_col15\" class=\"data row0 col15\" >-0.025606</td>\n",
       "                        <td id=\"T_d4be8_row0_col16\" class=\"data row0 col16\" >0.708624</td>\n",
       "                        <td id=\"T_d4be8_row0_col17\" class=\"data row0 col17\" >0.227122</td>\n",
       "                        <td id=\"T_d4be8_row0_col18\" class=\"data row0 col18\" >-0.016844</td>\n",
       "                        <td id=\"T_d4be8_row0_col19\" class=\"data row0 col19\" >0.560664</td>\n",
       "                        <td id=\"T_d4be8_row0_col20\" class=\"data row0 col20\" >0.284108</td>\n",
       "                        <td id=\"T_d4be8_row0_col21\" class=\"data row0 col21\" >0.168213</td>\n",
       "                        <td id=\"T_d4be8_row0_col22\" class=\"data row0 col22\" >-0.135907</td>\n",
       "                        <td id=\"T_d4be8_row0_col23\" class=\"data row0 col23\" >0.533723</td>\n",
       "                        <td id=\"T_d4be8_row0_col24\" class=\"data row0 col24\" >0.466929</td>\n",
       "                        <td id=\"T_d4be8_row0_col25\" class=\"data row0 col25\" >0.486362</td>\n",
       "                        <td id=\"T_d4be8_row0_col26\" class=\"data row0 col26\" >0.640409</td>\n",
       "                        <td id=\"T_d4be8_row0_col27\" class=\"data row0 col27\" >0.623431</td>\n",
       "                        <td id=\"T_d4be8_row0_col28\" class=\"data row0 col28\" >0.324413</td>\n",
       "                        <td id=\"T_d4be8_row0_col29\" class=\"data row0 col29\" >0.315856</td>\n",
       "                        <td id=\"T_d4be8_row0_col30\" class=\"data row0 col30\" >-0.128578</td>\n",
       "                        <td id=\"T_d4be8_row0_col31\" class=\"data row0 col31\" >0.044584</td>\n",
       "                        <td id=\"T_d4be8_row0_col32\" class=\"data row0 col32\" >0.111447</td>\n",
       "                        <td id=\"T_d4be8_row0_col33\" class=\"data row0 col33\" >0.092404</td>\n",
       "                        <td id=\"T_d4be8_row0_col34\" class=\"data row0 col34\" >-0.021190</td>\n",
       "                        <td id=\"T_d4be8_row0_col35\" class=\"data row0 col35\" >0.046432</td>\n",
       "                        <td id=\"T_d4be8_row0_col36\" class=\"data row0 col36\" >-0.028923</td>\n",
       "                        <td id=\"T_d4be8_row0_col37\" class=\"data row0 col37\" >1.000000</td>\n",
       "            </tr>\n",
       "            <tr>\n",
       "                        <th id=\"T_d4be8_level0_row1\" class=\"row_heading level0 row1\" >OverallQual</th>\n",
       "                        <td id=\"T_d4be8_row1_col0\" class=\"data row1 col0\" >-0.028365</td>\n",
       "                        <td id=\"T_d4be8_row1_col1\" class=\"data row1 col1\" >0.032628</td>\n",
       "                        <td id=\"T_d4be8_row1_col2\" class=\"data row1 col2\" >0.251646</td>\n",
       "                        <td id=\"T_d4be8_row1_col3\" class=\"data row1 col3\" >0.105806</td>\n",
       "                        <td id=\"T_d4be8_row1_col4\" class=\"data row1 col4\" >1.000000</td>\n",
       "                        <td id=\"T_d4be8_row1_col5\" class=\"data row1 col5\" >-0.091932</td>\n",
       "                        <td id=\"T_d4be8_row1_col6\" class=\"data row1 col6\" >0.572323</td>\n",
       "                        <td id=\"T_d4be8_row1_col7\" class=\"data row1 col7\" >0.550684</td>\n",
       "                        <td id=\"T_d4be8_row1_col8\" class=\"data row1 col8\" >0.411876</td>\n",
       "                        <td id=\"T_d4be8_row1_col9\" class=\"data row1 col9\" >0.239666</td>\n",
       "                        <td id=\"T_d4be8_row1_col10\" class=\"data row1 col10\" >-0.059119</td>\n",
       "                        <td id=\"T_d4be8_row1_col11\" class=\"data row1 col11\" >0.308159</td>\n",
       "                        <td id=\"T_d4be8_row1_col12\" class=\"data row1 col12\" >0.537808</td>\n",
       "                        <td id=\"T_d4be8_row1_col13\" class=\"data row1 col13\" >0.476224</td>\n",
       "                        <td id=\"T_d4be8_row1_col14\" class=\"data row1 col14\" >0.295493</td>\n",
       "                        <td id=\"T_d4be8_row1_col15\" class=\"data row1 col15\" >-0.030429</td>\n",
       "                        <td id=\"T_d4be8_row1_col16\" class=\"data row1 col16\" >0.593007</td>\n",
       "                        <td id=\"T_d4be8_row1_col17\" class=\"data row1 col17\" >0.111098</td>\n",
       "                        <td id=\"T_d4be8_row1_col18\" class=\"data row1 col18\" >-0.040150</td>\n",
       "                        <td id=\"T_d4be8_row1_col19\" class=\"data row1 col19\" >0.550600</td>\n",
       "                        <td id=\"T_d4be8_row1_col20\" class=\"data row1 col20\" >0.273458</td>\n",
       "                        <td id=\"T_d4be8_row1_col21\" class=\"data row1 col21\" >0.101676</td>\n",
       "                        <td id=\"T_d4be8_row1_col22\" class=\"data row1 col22\" >-0.183882</td>\n",
       "                        <td id=\"T_d4be8_row1_col23\" class=\"data row1 col23\" >0.427452</td>\n",
       "                        <td id=\"T_d4be8_row1_col24\" class=\"data row1 col24\" >0.396765</td>\n",
       "                        <td id=\"T_d4be8_row1_col25\" class=\"data row1 col25\" >0.547766</td>\n",
       "                        <td id=\"T_d4be8_row1_col26\" class=\"data row1 col26\" >0.600671</td>\n",
       "                        <td id=\"T_d4be8_row1_col27\" class=\"data row1 col27\" >0.562022</td>\n",
       "                        <td id=\"T_d4be8_row1_col28\" class=\"data row1 col28\" >0.238923</td>\n",
       "                        <td id=\"T_d4be8_row1_col29\" class=\"data row1 col29\" >0.308819</td>\n",
       "                        <td id=\"T_d4be8_row1_col30\" class=\"data row1 col30\" >-0.113937</td>\n",
       "                        <td id=\"T_d4be8_row1_col31\" class=\"data row1 col31\" >0.030371</td>\n",
       "                        <td id=\"T_d4be8_row1_col32\" class=\"data row1 col32\" >0.064886</td>\n",
       "                        <td id=\"T_d4be8_row1_col33\" class=\"data row1 col33\" >0.065166</td>\n",
       "                        <td id=\"T_d4be8_row1_col34\" class=\"data row1 col34\" >-0.031406</td>\n",
       "                        <td id=\"T_d4be8_row1_col35\" class=\"data row1 col35\" >0.070815</td>\n",
       "                        <td id=\"T_d4be8_row1_col36\" class=\"data row1 col36\" >-0.027347</td>\n",
       "                        <td id=\"T_d4be8_row1_col37\" class=\"data row1 col37\" >0.790982</td>\n",
       "            </tr>\n",
       "            <tr>\n",
       "                        <th id=\"T_d4be8_level0_row2\" class=\"row_heading level0 row2\" >GrLivArea</th>\n",
       "                        <td id=\"T_d4be8_row2_col0\" class=\"data row2 col0\" >0.008273</td>\n",
       "                        <td id=\"T_d4be8_row2_col1\" class=\"data row2 col1\" >0.074853</td>\n",
       "                        <td id=\"T_d4be8_row2_col2\" class=\"data row2 col2\" >0.402797</td>\n",
       "                        <td id=\"T_d4be8_row2_col3\" class=\"data row2 col3\" >0.263116</td>\n",
       "                        <td id=\"T_d4be8_row2_col4\" class=\"data row2 col4\" >0.593007</td>\n",
       "                        <td id=\"T_d4be8_row2_col5\" class=\"data row2 col5\" >-0.079686</td>\n",
       "                        <td id=\"T_d4be8_row2_col6\" class=\"data row2 col6\" >0.199010</td>\n",
       "                        <td id=\"T_d4be8_row2_col7\" class=\"data row2 col7\" >0.287389</td>\n",
       "                        <td id=\"T_d4be8_row2_col8\" class=\"data row2 col8\" >0.390857</td>\n",
       "                        <td id=\"T_d4be8_row2_col9\" class=\"data row2 col9\" >0.208171</td>\n",
       "                        <td id=\"T_d4be8_row2_col10\" class=\"data row2 col10\" >-0.009640</td>\n",
       "                        <td id=\"T_d4be8_row2_col11\" class=\"data row2 col11\" >0.240257</td>\n",
       "                        <td id=\"T_d4be8_row2_col12\" class=\"data row2 col12\" >0.454868</td>\n",
       "                        <td id=\"T_d4be8_row2_col13\" class=\"data row2 col13\" >0.566024</td>\n",
       "                        <td id=\"T_d4be8_row2_col14\" class=\"data row2 col14\" >0.687501</td>\n",
       "                        <td id=\"T_d4be8_row2_col15\" class=\"data row2 col15\" >0.134683</td>\n",
       "                        <td id=\"T_d4be8_row2_col16\" class=\"data row2 col16\" >1.000000</td>\n",
       "                        <td id=\"T_d4be8_row2_col17\" class=\"data row2 col17\" >0.034836</td>\n",
       "                        <td id=\"T_d4be8_row2_col18\" class=\"data row2 col18\" >-0.018918</td>\n",
       "                        <td id=\"T_d4be8_row2_col19\" class=\"data row2 col19\" >0.630012</td>\n",
       "                        <td id=\"T_d4be8_row2_col20\" class=\"data row2 col20\" >0.415772</td>\n",
       "                        <td id=\"T_d4be8_row2_col21\" class=\"data row2 col21\" >0.521270</td>\n",
       "                        <td id=\"T_d4be8_row2_col22\" class=\"data row2 col22\" >0.100063</td>\n",
       "                        <td id=\"T_d4be8_row2_col23\" class=\"data row2 col23\" >0.825489</td>\n",
       "                        <td id=\"T_d4be8_row2_col24\" class=\"data row2 col24\" >0.461679</td>\n",
       "                        <td id=\"T_d4be8_row2_col25\" class=\"data row2 col25\" >0.231197</td>\n",
       "                        <td id=\"T_d4be8_row2_col26\" class=\"data row2 col26\" >0.467247</td>\n",
       "                        <td id=\"T_d4be8_row2_col27\" class=\"data row2 col27\" >0.468997</td>\n",
       "                        <td id=\"T_d4be8_row2_col28\" class=\"data row2 col28\" >0.247433</td>\n",
       "                        <td id=\"T_d4be8_row2_col29\" class=\"data row2 col29\" >0.330224</td>\n",
       "                        <td id=\"T_d4be8_row2_col30\" class=\"data row2 col30\" >0.009113</td>\n",
       "                        <td id=\"T_d4be8_row2_col31\" class=\"data row2 col31\" >0.020643</td>\n",
       "                        <td id=\"T_d4be8_row2_col32\" class=\"data row2 col32\" >0.101510</td>\n",
       "                        <td id=\"T_d4be8_row2_col33\" class=\"data row2 col33\" >0.170205</td>\n",
       "                        <td id=\"T_d4be8_row2_col34\" class=\"data row2 col34\" >-0.002416</td>\n",
       "                        <td id=\"T_d4be8_row2_col35\" class=\"data row2 col35\" >0.050240</td>\n",
       "                        <td id=\"T_d4be8_row2_col36\" class=\"data row2 col36\" >-0.036526</td>\n",
       "                        <td id=\"T_d4be8_row2_col37\" class=\"data row2 col37\" >0.708624</td>\n",
       "            </tr>\n",
       "            <tr>\n",
       "                        <th id=\"T_d4be8_level0_row3\" class=\"row_heading level0 row3\" >GarageCars</th>\n",
       "                        <td id=\"T_d4be8_row3_col0\" class=\"data row3 col0\" >0.016570</td>\n",
       "                        <td id=\"T_d4be8_row3_col1\" class=\"data row3 col1\" >-0.040110</td>\n",
       "                        <td id=\"T_d4be8_row3_col2\" class=\"data row3 col2\" >0.285691</td>\n",
       "                        <td id=\"T_d4be8_row3_col3\" class=\"data row3 col3\" >0.154871</td>\n",
       "                        <td id=\"T_d4be8_row3_col4\" class=\"data row3 col4\" >0.600671</td>\n",
       "                        <td id=\"T_d4be8_row3_col5\" class=\"data row3 col5\" >-0.185758</td>\n",
       "                        <td id=\"T_d4be8_row3_col6\" class=\"data row3 col6\" >0.537850</td>\n",
       "                        <td id=\"T_d4be8_row3_col7\" class=\"data row3 col7\" >0.420622</td>\n",
       "                        <td id=\"T_d4be8_row3_col8\" class=\"data row3 col8\" >0.364204</td>\n",
       "                        <td id=\"T_d4be8_row3_col9\" class=\"data row3 col9\" >0.224054</td>\n",
       "                        <td id=\"T_d4be8_row3_col10\" class=\"data row3 col10\" >-0.038264</td>\n",
       "                        <td id=\"T_d4be8_row3_col11\" class=\"data row3 col11\" >0.214175</td>\n",
       "                        <td id=\"T_d4be8_row3_col12\" class=\"data row3 col12\" >0.434585</td>\n",
       "                        <td id=\"T_d4be8_row3_col13\" class=\"data row3 col13\" >0.439317</td>\n",
       "                        <td id=\"T_d4be8_row3_col14\" class=\"data row3 col14\" >0.183926</td>\n",
       "                        <td id=\"T_d4be8_row3_col15\" class=\"data row3 col15\" >-0.094480</td>\n",
       "                        <td id=\"T_d4be8_row3_col16\" class=\"data row3 col16\" >0.467247</td>\n",
       "                        <td id=\"T_d4be8_row3_col17\" class=\"data row3 col17\" >0.131881</td>\n",
       "                        <td id=\"T_d4be8_row3_col18\" class=\"data row3 col18\" >-0.020891</td>\n",
       "                        <td id=\"T_d4be8_row3_col19\" class=\"data row3 col19\" >0.469672</td>\n",
       "                        <td id=\"T_d4be8_row3_col20\" class=\"data row3 col20\" >0.219178</td>\n",
       "                        <td id=\"T_d4be8_row3_col21\" class=\"data row3 col21\" >0.086106</td>\n",
       "                        <td id=\"T_d4be8_row3_col22\" class=\"data row3 col22\" >-0.050634</td>\n",
       "                        <td id=\"T_d4be8_row3_col23\" class=\"data row3 col23\" >0.362289</td>\n",
       "                        <td id=\"T_d4be8_row3_col24\" class=\"data row3 col24\" >0.300789</td>\n",
       "                        <td id=\"T_d4be8_row3_col25\" class=\"data row3 col25\" >0.588920</td>\n",
       "                        <td id=\"T_d4be8_row3_col26\" class=\"data row3 col26\" >1.000000</td>\n",
       "                        <td id=\"T_d4be8_row3_col27\" class=\"data row3 col27\" >0.882475</td>\n",
       "                        <td id=\"T_d4be8_row3_col28\" class=\"data row3 col28\" >0.226342</td>\n",
       "                        <td id=\"T_d4be8_row3_col29\" class=\"data row3 col29\" >0.213569</td>\n",
       "                        <td id=\"T_d4be8_row3_col30\" class=\"data row3 col30\" >-0.151434</td>\n",
       "                        <td id=\"T_d4be8_row3_col31\" class=\"data row3 col31\" >0.035765</td>\n",
       "                        <td id=\"T_d4be8_row3_col32\" class=\"data row3 col32\" >0.050494</td>\n",
       "                        <td id=\"T_d4be8_row3_col33\" class=\"data row3 col33\" >0.020934</td>\n",
       "                        <td id=\"T_d4be8_row3_col34\" class=\"data row3 col34\" >-0.043080</td>\n",
       "                        <td id=\"T_d4be8_row3_col35\" class=\"data row3 col35\" >0.040522</td>\n",
       "                        <td id=\"T_d4be8_row3_col36\" class=\"data row3 col36\" >-0.039117</td>\n",
       "                        <td id=\"T_d4be8_row3_col37\" class=\"data row3 col37\" >0.640409</td>\n",
       "            </tr>\n",
       "            <tr>\n",
       "                        <th id=\"T_d4be8_level0_row4\" class=\"row_heading level0 row4\" >GarageArea</th>\n",
       "                        <td id=\"T_d4be8_row4_col0\" class=\"data row4 col0\" >0.017634</td>\n",
       "                        <td id=\"T_d4be8_row4_col1\" class=\"data row4 col1\" >-0.098672</td>\n",
       "                        <td id=\"T_d4be8_row4_col2\" class=\"data row4 col2\" >0.344997</td>\n",
       "                        <td id=\"T_d4be8_row4_col3\" class=\"data row4 col3\" >0.180403</td>\n",
       "                        <td id=\"T_d4be8_row4_col4\" class=\"data row4 col4\" >0.562022</td>\n",
       "                        <td id=\"T_d4be8_row4_col5\" class=\"data row4 col5\" >-0.151521</td>\n",
       "                        <td id=\"T_d4be8_row4_col6\" class=\"data row4 col6\" >0.478954</td>\n",
       "                        <td id=\"T_d4be8_row4_col7\" class=\"data row4 col7\" >0.371600</td>\n",
       "                        <td id=\"T_d4be8_row4_col8\" class=\"data row4 col8\" >0.373066</td>\n",
       "                        <td id=\"T_d4be8_row4_col9\" class=\"data row4 col9\" >0.296970</td>\n",
       "                        <td id=\"T_d4be8_row4_col10\" class=\"data row4 col10\" >-0.018227</td>\n",
       "                        <td id=\"T_d4be8_row4_col11\" class=\"data row4 col11\" >0.183303</td>\n",
       "                        <td id=\"T_d4be8_row4_col12\" class=\"data row4 col12\" >0.486665</td>\n",
       "                        <td id=\"T_d4be8_row4_col13\" class=\"data row4 col13\" >0.489782</td>\n",
       "                        <td id=\"T_d4be8_row4_col14\" class=\"data row4 col14\" >0.138347</td>\n",
       "                        <td id=\"T_d4be8_row4_col15\" class=\"data row4 col15\" >-0.067601</td>\n",
       "                        <td id=\"T_d4be8_row4_col16\" class=\"data row4 col16\" >0.468997</td>\n",
       "                        <td id=\"T_d4be8_row4_col17\" class=\"data row4 col17\" >0.179189</td>\n",
       "                        <td id=\"T_d4be8_row4_col18\" class=\"data row4 col18\" >-0.024536</td>\n",
       "                        <td id=\"T_d4be8_row4_col19\" class=\"data row4 col19\" >0.405656</td>\n",
       "                        <td id=\"T_d4be8_row4_col20\" class=\"data row4 col20\" >0.163549</td>\n",
       "                        <td id=\"T_d4be8_row4_col21\" class=\"data row4 col21\" >0.065253</td>\n",
       "                        <td id=\"T_d4be8_row4_col22\" class=\"data row4 col22\" >-0.064433</td>\n",
       "                        <td id=\"T_d4be8_row4_col23\" class=\"data row4 col23\" >0.337822</td>\n",
       "                        <td id=\"T_d4be8_row4_col24\" class=\"data row4 col24\" >0.269141</td>\n",
       "                        <td id=\"T_d4be8_row4_col25\" class=\"data row4 col25\" >0.564567</td>\n",
       "                        <td id=\"T_d4be8_row4_col26\" class=\"data row4 col26\" >0.882475</td>\n",
       "                        <td id=\"T_d4be8_row4_col27\" class=\"data row4 col27\" >1.000000</td>\n",
       "                        <td id=\"T_d4be8_row4_col28\" class=\"data row4 col28\" >0.224666</td>\n",
       "                        <td id=\"T_d4be8_row4_col29\" class=\"data row4 col29\" >0.241435</td>\n",
       "                        <td id=\"T_d4be8_row4_col30\" class=\"data row4 col30\" >-0.121777</td>\n",
       "                        <td id=\"T_d4be8_row4_col31\" class=\"data row4 col31\" >0.035087</td>\n",
       "                        <td id=\"T_d4be8_row4_col32\" class=\"data row4 col32\" >0.051412</td>\n",
       "                        <td id=\"T_d4be8_row4_col33\" class=\"data row4 col33\" >0.061047</td>\n",
       "                        <td id=\"T_d4be8_row4_col34\" class=\"data row4 col34\" >-0.027400</td>\n",
       "                        <td id=\"T_d4be8_row4_col35\" class=\"data row4 col35\" >0.027974</td>\n",
       "                        <td id=\"T_d4be8_row4_col36\" class=\"data row4 col36\" >-0.027378</td>\n",
       "                        <td id=\"T_d4be8_row4_col37\" class=\"data row4 col37\" >0.623431</td>\n",
       "            </tr>\n",
       "            <tr>\n",
       "                        <th id=\"T_d4be8_level0_row5\" class=\"row_heading level0 row5\" >TotalBsmtSF</th>\n",
       "                        <td id=\"T_d4be8_row5_col0\" class=\"data row5 col0\" >-0.015415</td>\n",
       "                        <td id=\"T_d4be8_row5_col1\" class=\"data row5 col1\" >-0.238518</td>\n",
       "                        <td id=\"T_d4be8_row5_col2\" class=\"data row5 col2\" >0.392075</td>\n",
       "                        <td id=\"T_d4be8_row5_col3\" class=\"data row5 col3\" >0.260833</td>\n",
       "                        <td id=\"T_d4be8_row5_col4\" class=\"data row5 col4\" >0.537808</td>\n",
       "                        <td id=\"T_d4be8_row5_col5\" class=\"data row5 col5\" >-0.171098</td>\n",
       "                        <td id=\"T_d4be8_row5_col6\" class=\"data row5 col6\" >0.391452</td>\n",
       "                        <td id=\"T_d4be8_row5_col7\" class=\"data row5 col7\" >0.291066</td>\n",
       "                        <td id=\"T_d4be8_row5_col8\" class=\"data row5 col8\" >0.363936</td>\n",
       "                        <td id=\"T_d4be8_row5_col9\" class=\"data row5 col9\" >0.522396</td>\n",
       "                        <td id=\"T_d4be8_row5_col10\" class=\"data row5 col10\" >0.104810</td>\n",
       "                        <td id=\"T_d4be8_row5_col11\" class=\"data row5 col11\" >0.415360</td>\n",
       "                        <td id=\"T_d4be8_row5_col12\" class=\"data row5 col12\" >1.000000</td>\n",
       "                        <td id=\"T_d4be8_row5_col13\" class=\"data row5 col13\" >0.819530</td>\n",
       "                        <td id=\"T_d4be8_row5_col14\" class=\"data row5 col14\" >-0.174512</td>\n",
       "                        <td id=\"T_d4be8_row5_col15\" class=\"data row5 col15\" >-0.033245</td>\n",
       "                        <td id=\"T_d4be8_row5_col16\" class=\"data row5 col16\" >0.454868</td>\n",
       "                        <td id=\"T_d4be8_row5_col17\" class=\"data row5 col17\" >0.307351</td>\n",
       "                        <td id=\"T_d4be8_row5_col18\" class=\"data row5 col18\" >-0.000315</td>\n",
       "                        <td id=\"T_d4be8_row5_col19\" class=\"data row5 col19\" >0.323722</td>\n",
       "                        <td id=\"T_d4be8_row5_col20\" class=\"data row5 col20\" >-0.048804</td>\n",
       "                        <td id=\"T_d4be8_row5_col21\" class=\"data row5 col21\" >0.050450</td>\n",
       "                        <td id=\"T_d4be8_row5_col22\" class=\"data row5 col22\" >-0.068901</td>\n",
       "                        <td id=\"T_d4be8_row5_col23\" class=\"data row5 col23\" >0.285573</td>\n",
       "                        <td id=\"T_d4be8_row5_col24\" class=\"data row5 col24\" >0.339519</td>\n",
       "                        <td id=\"T_d4be8_row5_col25\" class=\"data row5 col25\" >0.322445</td>\n",
       "                        <td id=\"T_d4be8_row5_col26\" class=\"data row5 col26\" >0.434585</td>\n",
       "                        <td id=\"T_d4be8_row5_col27\" class=\"data row5 col27\" >0.486665</td>\n",
       "                        <td id=\"T_d4be8_row5_col28\" class=\"data row5 col28\" >0.232019</td>\n",
       "                        <td id=\"T_d4be8_row5_col29\" class=\"data row5 col29\" >0.247264</td>\n",
       "                        <td id=\"T_d4be8_row5_col30\" class=\"data row5 col30\" >-0.095478</td>\n",
       "                        <td id=\"T_d4be8_row5_col31\" class=\"data row5 col31\" >0.037384</td>\n",
       "                        <td id=\"T_d4be8_row5_col32\" class=\"data row5 col32\" >0.084489</td>\n",
       "                        <td id=\"T_d4be8_row5_col33\" class=\"data row5 col33\" >0.126053</td>\n",
       "                        <td id=\"T_d4be8_row5_col34\" class=\"data row5 col34\" >-0.018479</td>\n",
       "                        <td id=\"T_d4be8_row5_col35\" class=\"data row5 col35\" >0.013196</td>\n",
       "                        <td id=\"T_d4be8_row5_col36\" class=\"data row5 col36\" >-0.014969</td>\n",
       "                        <td id=\"T_d4be8_row5_col37\" class=\"data row5 col37\" >0.613581</td>\n",
       "            </tr>\n",
       "            <tr>\n",
       "                        <th id=\"T_d4be8_level0_row6\" class=\"row_heading level0 row6\" >1stFlrSF</th>\n",
       "                        <td id=\"T_d4be8_row6_col0\" class=\"data row6 col0\" >0.010496</td>\n",
       "                        <td id=\"T_d4be8_row6_col1\" class=\"data row6 col1\" >-0.251758</td>\n",
       "                        <td id=\"T_d4be8_row6_col2\" class=\"data row6 col2\" >0.457181</td>\n",
       "                        <td id=\"T_d4be8_row6_col3\" class=\"data row6 col3\" >0.299475</td>\n",
       "                        <td id=\"T_d4be8_row6_col4\" class=\"data row6 col4\" >0.476224</td>\n",
       "                        <td id=\"T_d4be8_row6_col5\" class=\"data row6 col5\" >-0.144203</td>\n",
       "                        <td id=\"T_d4be8_row6_col6\" class=\"data row6 col6\" >0.281986</td>\n",
       "                        <td id=\"T_d4be8_row6_col7\" class=\"data row6 col7\" >0.240379</td>\n",
       "                        <td id=\"T_d4be8_row6_col8\" class=\"data row6 col8\" >0.344501</td>\n",
       "                        <td id=\"T_d4be8_row6_col9\" class=\"data row6 col9\" >0.445863</td>\n",
       "                        <td id=\"T_d4be8_row6_col10\" class=\"data row6 col10\" >0.097117</td>\n",
       "                        <td id=\"T_d4be8_row6_col11\" class=\"data row6 col11\" >0.317987</td>\n",
       "                        <td id=\"T_d4be8_row6_col12\" class=\"data row6 col12\" >0.819530</td>\n",
       "                        <td id=\"T_d4be8_row6_col13\" class=\"data row6 col13\" >1.000000</td>\n",
       "                        <td id=\"T_d4be8_row6_col14\" class=\"data row6 col14\" >-0.202646</td>\n",
       "                        <td id=\"T_d4be8_row6_col15\" class=\"data row6 col15\" >-0.014241</td>\n",
       "                        <td id=\"T_d4be8_row6_col16\" class=\"data row6 col16\" >0.566024</td>\n",
       "                        <td id=\"T_d4be8_row6_col17\" class=\"data row6 col17\" >0.244671</td>\n",
       "                        <td id=\"T_d4be8_row6_col18\" class=\"data row6 col18\" >0.001956</td>\n",
       "                        <td id=\"T_d4be8_row6_col19\" class=\"data row6 col19\" >0.380637</td>\n",
       "                        <td id=\"T_d4be8_row6_col20\" class=\"data row6 col20\" >-0.119916</td>\n",
       "                        <td id=\"T_d4be8_row6_col21\" class=\"data row6 col21\" >0.127401</td>\n",
       "                        <td id=\"T_d4be8_row6_col22\" class=\"data row6 col22\" >0.068101</td>\n",
       "                        <td id=\"T_d4be8_row6_col23\" class=\"data row6 col23\" >0.409516</td>\n",
       "                        <td id=\"T_d4be8_row6_col24\" class=\"data row6 col24\" >0.410531</td>\n",
       "                        <td id=\"T_d4be8_row6_col25\" class=\"data row6 col25\" >0.233449</td>\n",
       "                        <td id=\"T_d4be8_row6_col26\" class=\"data row6 col26\" >0.439317</td>\n",
       "                        <td id=\"T_d4be8_row6_col27\" class=\"data row6 col27\" >0.489782</td>\n",
       "                        <td id=\"T_d4be8_row6_col28\" class=\"data row6 col28\" >0.235459</td>\n",
       "                        <td id=\"T_d4be8_row6_col29\" class=\"data row6 col29\" >0.211671</td>\n",
       "                        <td id=\"T_d4be8_row6_col30\" class=\"data row6 col30\" >-0.065292</td>\n",
       "                        <td id=\"T_d4be8_row6_col31\" class=\"data row6 col31\" >0.056104</td>\n",
       "                        <td id=\"T_d4be8_row6_col32\" class=\"data row6 col32\" >0.088758</td>\n",
       "                        <td id=\"T_d4be8_row6_col33\" class=\"data row6 col33\" >0.131525</td>\n",
       "                        <td id=\"T_d4be8_row6_col34\" class=\"data row6 col34\" >-0.021096</td>\n",
       "                        <td id=\"T_d4be8_row6_col35\" class=\"data row6 col35\" >0.031372</td>\n",
       "                        <td id=\"T_d4be8_row6_col36\" class=\"data row6 col36\" >-0.013604</td>\n",
       "                        <td id=\"T_d4be8_row6_col37\" class=\"data row6 col37\" >0.605852</td>\n",
       "            </tr>\n",
       "            <tr>\n",
       "                        <th id=\"T_d4be8_level0_row7\" class=\"row_heading level0 row7\" >FullBath</th>\n",
       "                        <td id=\"T_d4be8_row7_col0\" class=\"data row7 col0\" >0.005587</td>\n",
       "                        <td id=\"T_d4be8_row7_col1\" class=\"data row7 col1\" >0.131608</td>\n",
       "                        <td id=\"T_d4be8_row7_col2\" class=\"data row7 col2\" >0.198769</td>\n",
       "                        <td id=\"T_d4be8_row7_col3\" class=\"data row7 col3\" >0.126031</td>\n",
       "                        <td id=\"T_d4be8_row7_col4\" class=\"data row7 col4\" >0.550600</td>\n",
       "                        <td id=\"T_d4be8_row7_col5\" class=\"data row7 col5\" >-0.194149</td>\n",
       "                        <td id=\"T_d4be8_row7_col6\" class=\"data row7 col6\" >0.468271</td>\n",
       "                        <td id=\"T_d4be8_row7_col7\" class=\"data row7 col7\" >0.439046</td>\n",
       "                        <td id=\"T_d4be8_row7_col8\" class=\"data row7 col8\" >0.276833</td>\n",
       "                        <td id=\"T_d4be8_row7_col9\" class=\"data row7 col9\" >0.058543</td>\n",
       "                        <td id=\"T_d4be8_row7_col10\" class=\"data row7 col10\" >-0.076444</td>\n",
       "                        <td id=\"T_d4be8_row7_col11\" class=\"data row7 col11\" >0.288886</td>\n",
       "                        <td id=\"T_d4be8_row7_col12\" class=\"data row7 col12\" >0.323722</td>\n",
       "                        <td id=\"T_d4be8_row7_col13\" class=\"data row7 col13\" >0.380637</td>\n",
       "                        <td id=\"T_d4be8_row7_col14\" class=\"data row7 col14\" >0.421378</td>\n",
       "                        <td id=\"T_d4be8_row7_col15\" class=\"data row7 col15\" >-0.000710</td>\n",
       "                        <td id=\"T_d4be8_row7_col16\" class=\"data row7 col16\" >0.630012</td>\n",
       "                        <td id=\"T_d4be8_row7_col17\" class=\"data row7 col17\" >-0.064512</td>\n",
       "                        <td id=\"T_d4be8_row7_col18\" class=\"data row7 col18\" >-0.054536</td>\n",
       "                        <td id=\"T_d4be8_row7_col19\" class=\"data row7 col19\" >1.000000</td>\n",
       "                        <td id=\"T_d4be8_row7_col20\" class=\"data row7 col20\" >0.136381</td>\n",
       "                        <td id=\"T_d4be8_row7_col21\" class=\"data row7 col21\" >0.363252</td>\n",
       "                        <td id=\"T_d4be8_row7_col22\" class=\"data row7 col22\" >0.133115</td>\n",
       "                        <td id=\"T_d4be8_row7_col23\" class=\"data row7 col23\" >0.554784</td>\n",
       "                        <td id=\"T_d4be8_row7_col24\" class=\"data row7 col24\" >0.243671</td>\n",
       "                        <td id=\"T_d4be8_row7_col25\" class=\"data row7 col25\" >0.484557</td>\n",
       "                        <td id=\"T_d4be8_row7_col26\" class=\"data row7 col26\" >0.469672</td>\n",
       "                        <td id=\"T_d4be8_row7_col27\" class=\"data row7 col27\" >0.405656</td>\n",
       "                        <td id=\"T_d4be8_row7_col28\" class=\"data row7 col28\" >0.187703</td>\n",
       "                        <td id=\"T_d4be8_row7_col29\" class=\"data row7 col29\" >0.259977</td>\n",
       "                        <td id=\"T_d4be8_row7_col30\" class=\"data row7 col30\" >-0.115093</td>\n",
       "                        <td id=\"T_d4be8_row7_col31\" class=\"data row7 col31\" >0.035353</td>\n",
       "                        <td id=\"T_d4be8_row7_col32\" class=\"data row7 col32\" >-0.008106</td>\n",
       "                        <td id=\"T_d4be8_row7_col33\" class=\"data row7 col33\" >0.049604</td>\n",
       "                        <td id=\"T_d4be8_row7_col34\" class=\"data row7 col34\" >-0.014290</td>\n",
       "                        <td id=\"T_d4be8_row7_col35\" class=\"data row7 col35\" >0.055872</td>\n",
       "                        <td id=\"T_d4be8_row7_col36\" class=\"data row7 col36\" >-0.019669</td>\n",
       "                        <td id=\"T_d4be8_row7_col37\" class=\"data row7 col37\" >0.560664</td>\n",
       "            </tr>\n",
       "            <tr>\n",
       "                        <th id=\"T_d4be8_level0_row8\" class=\"row_heading level0 row8\" >TotRmsAbvGrd</th>\n",
       "                        <td id=\"T_d4be8_row8_col0\" class=\"data row8 col0\" >0.027239</td>\n",
       "                        <td id=\"T_d4be8_row8_col1\" class=\"data row8 col1\" >0.040380</td>\n",
       "                        <td id=\"T_d4be8_row8_col2\" class=\"data row8 col2\" >0.352096</td>\n",
       "                        <td id=\"T_d4be8_row8_col3\" class=\"data row8 col3\" >0.190015</td>\n",
       "                        <td id=\"T_d4be8_row8_col4\" class=\"data row8 col4\" >0.427452</td>\n",
       "                        <td id=\"T_d4be8_row8_col5\" class=\"data row8 col5\" >-0.057583</td>\n",
       "                        <td id=\"T_d4be8_row8_col6\" class=\"data row8 col6\" >0.095589</td>\n",
       "                        <td id=\"T_d4be8_row8_col7\" class=\"data row8 col7\" >0.191740</td>\n",
       "                        <td id=\"T_d4be8_row8_col8\" class=\"data row8 col8\" >0.280682</td>\n",
       "                        <td id=\"T_d4be8_row8_col9\" class=\"data row8 col9\" >0.044316</td>\n",
       "                        <td id=\"T_d4be8_row8_col10\" class=\"data row8 col10\" >-0.035227</td>\n",
       "                        <td id=\"T_d4be8_row8_col11\" class=\"data row8 col11\" >0.250647</td>\n",
       "                        <td id=\"T_d4be8_row8_col12\" class=\"data row8 col12\" >0.285573</td>\n",
       "                        <td id=\"T_d4be8_row8_col13\" class=\"data row8 col13\" >0.409516</td>\n",
       "                        <td id=\"T_d4be8_row8_col14\" class=\"data row8 col14\" >0.616423</td>\n",
       "                        <td id=\"T_d4be8_row8_col15\" class=\"data row8 col15\" >0.131185</td>\n",
       "                        <td id=\"T_d4be8_row8_col16\" class=\"data row8 col16\" >0.825489</td>\n",
       "                        <td id=\"T_d4be8_row8_col17\" class=\"data row8 col17\" >-0.053275</td>\n",
       "                        <td id=\"T_d4be8_row8_col18\" class=\"data row8 col18\" >-0.023836</td>\n",
       "                        <td id=\"T_d4be8_row8_col19\" class=\"data row8 col19\" >0.554784</td>\n",
       "                        <td id=\"T_d4be8_row8_col20\" class=\"data row8 col20\" >0.343415</td>\n",
       "                        <td id=\"T_d4be8_row8_col21\" class=\"data row8 col21\" >0.676620</td>\n",
       "                        <td id=\"T_d4be8_row8_col22\" class=\"data row8 col22\" >0.256045</td>\n",
       "                        <td id=\"T_d4be8_row8_col23\" class=\"data row8 col23\" >1.000000</td>\n",
       "                        <td id=\"T_d4be8_row8_col24\" class=\"data row8 col24\" >0.326114</td>\n",
       "                        <td id=\"T_d4be8_row8_col25\" class=\"data row8 col25\" >0.148112</td>\n",
       "                        <td id=\"T_d4be8_row8_col26\" class=\"data row8 col26\" >0.362289</td>\n",
       "                        <td id=\"T_d4be8_row8_col27\" class=\"data row8 col27\" >0.337822</td>\n",
       "                        <td id=\"T_d4be8_row8_col28\" class=\"data row8 col28\" >0.165984</td>\n",
       "                        <td id=\"T_d4be8_row8_col29\" class=\"data row8 col29\" >0.234192</td>\n",
       "                        <td id=\"T_d4be8_row8_col30\" class=\"data row8 col30\" >0.004151</td>\n",
       "                        <td id=\"T_d4be8_row8_col31\" class=\"data row8 col31\" >-0.006683</td>\n",
       "                        <td id=\"T_d4be8_row8_col32\" class=\"data row8 col32\" >0.059383</td>\n",
       "                        <td id=\"T_d4be8_row8_col33\" class=\"data row8 col33\" >0.083757</td>\n",
       "                        <td id=\"T_d4be8_row8_col34\" class=\"data row8 col34\" >0.024763</td>\n",
       "                        <td id=\"T_d4be8_row8_col35\" class=\"data row8 col35\" >0.036907</td>\n",
       "                        <td id=\"T_d4be8_row8_col36\" class=\"data row8 col36\" >-0.034516</td>\n",
       "                        <td id=\"T_d4be8_row8_col37\" class=\"data row8 col37\" >0.533723</td>\n",
       "            </tr>\n",
       "            <tr>\n",
       "                        <th id=\"T_d4be8_level0_row9\" class=\"row_heading level0 row9\" >YearBuilt</th>\n",
       "                        <td id=\"T_d4be8_row9_col0\" class=\"data row9 col0\" >-0.012713</td>\n",
       "                        <td id=\"T_d4be8_row9_col1\" class=\"data row9 col1\" >0.027850</td>\n",
       "                        <td id=\"T_d4be8_row9_col2\" class=\"data row9 col2\" >0.123349</td>\n",
       "                        <td id=\"T_d4be8_row9_col3\" class=\"data row9 col3\" >0.014228</td>\n",
       "                        <td id=\"T_d4be8_row9_col4\" class=\"data row9 col4\" >0.572323</td>\n",
       "                        <td id=\"T_d4be8_row9_col5\" class=\"data row9 col5\" >-0.375983</td>\n",
       "                        <td id=\"T_d4be8_row9_col6\" class=\"data row9 col6\" >1.000000</td>\n",
       "                        <td id=\"T_d4be8_row9_col7\" class=\"data row9 col7\" >0.592855</td>\n",
       "                        <td id=\"T_d4be8_row9_col8\" class=\"data row9 col8\" >0.315707</td>\n",
       "                        <td id=\"T_d4be8_row9_col9\" class=\"data row9 col9\" >0.249503</td>\n",
       "                        <td id=\"T_d4be8_row9_col10\" class=\"data row9 col10\" >-0.049107</td>\n",
       "                        <td id=\"T_d4be8_row9_col11\" class=\"data row9 col11\" >0.149040</td>\n",
       "                        <td id=\"T_d4be8_row9_col12\" class=\"data row9 col12\" >0.391452</td>\n",
       "                        <td id=\"T_d4be8_row9_col13\" class=\"data row9 col13\" >0.281986</td>\n",
       "                        <td id=\"T_d4be8_row9_col14\" class=\"data row9 col14\" >0.010308</td>\n",
       "                        <td id=\"T_d4be8_row9_col15\" class=\"data row9 col15\" >-0.183784</td>\n",
       "                        <td id=\"T_d4be8_row9_col16\" class=\"data row9 col16\" >0.199010</td>\n",
       "                        <td id=\"T_d4be8_row9_col17\" class=\"data row9 col17\" >0.187599</td>\n",
       "                        <td id=\"T_d4be8_row9_col18\" class=\"data row9 col18\" >-0.038162</td>\n",
       "                        <td id=\"T_d4be8_row9_col19\" class=\"data row9 col19\" >0.468271</td>\n",
       "                        <td id=\"T_d4be8_row9_col20\" class=\"data row9 col20\" >0.242656</td>\n",
       "                        <td id=\"T_d4be8_row9_col21\" class=\"data row9 col21\" >-0.070651</td>\n",
       "                        <td id=\"T_d4be8_row9_col22\" class=\"data row9 col22\" >-0.174800</td>\n",
       "                        <td id=\"T_d4be8_row9_col23\" class=\"data row9 col23\" >0.095589</td>\n",
       "                        <td id=\"T_d4be8_row9_col24\" class=\"data row9 col24\" >0.147716</td>\n",
       "                        <td id=\"T_d4be8_row9_col25\" class=\"data row9 col25\" >0.825667</td>\n",
       "                        <td id=\"T_d4be8_row9_col26\" class=\"data row9 col26\" >0.537850</td>\n",
       "                        <td id=\"T_d4be8_row9_col27\" class=\"data row9 col27\" >0.478954</td>\n",
       "                        <td id=\"T_d4be8_row9_col28\" class=\"data row9 col28\" >0.224880</td>\n",
       "                        <td id=\"T_d4be8_row9_col29\" class=\"data row9 col29\" >0.188686</td>\n",
       "                        <td id=\"T_d4be8_row9_col30\" class=\"data row9 col30\" >-0.387268</td>\n",
       "                        <td id=\"T_d4be8_row9_col31\" class=\"data row9 col31\" >0.031355</td>\n",
       "                        <td id=\"T_d4be8_row9_col32\" class=\"data row9 col32\" >-0.050364</td>\n",
       "                        <td id=\"T_d4be8_row9_col33\" class=\"data row9 col33\" >0.004950</td>\n",
       "                        <td id=\"T_d4be8_row9_col34\" class=\"data row9 col34\" >-0.034383</td>\n",
       "                        <td id=\"T_d4be8_row9_col35\" class=\"data row9 col35\" >0.012398</td>\n",
       "                        <td id=\"T_d4be8_row9_col36\" class=\"data row9 col36\" >-0.013618</td>\n",
       "                        <td id=\"T_d4be8_row9_col37\" class=\"data row9 col37\" >0.522897</td>\n",
       "            </tr>\n",
       "            <tr>\n",
       "                        <th id=\"T_d4be8_level0_row10\" class=\"row_heading level0 row10\" >YearRemodAdd</th>\n",
       "                        <td id=\"T_d4be8_row10_col0\" class=\"data row10 col0\" >-0.021998</td>\n",
       "                        <td id=\"T_d4be8_row10_col1\" class=\"data row10 col1\" >0.040581</td>\n",
       "                        <td id=\"T_d4be8_row10_col2\" class=\"data row10 col2\" >0.088866</td>\n",
       "                        <td id=\"T_d4be8_row10_col3\" class=\"data row10 col3\" >0.013788</td>\n",
       "                        <td id=\"T_d4be8_row10_col4\" class=\"data row10 col4\" >0.550684</td>\n",
       "                        <td id=\"T_d4be8_row10_col5\" class=\"data row10 col5\" >0.073741</td>\n",
       "                        <td id=\"T_d4be8_row10_col6\" class=\"data row10 col6\" >0.592855</td>\n",
       "                        <td id=\"T_d4be8_row10_col7\" class=\"data row10 col7\" >1.000000</td>\n",
       "                        <td id=\"T_d4be8_row10_col8\" class=\"data row10 col8\" >0.179618</td>\n",
       "                        <td id=\"T_d4be8_row10_col9\" class=\"data row10 col9\" >0.128451</td>\n",
       "                        <td id=\"T_d4be8_row10_col10\" class=\"data row10 col10\" >-0.067759</td>\n",
       "                        <td id=\"T_d4be8_row10_col11\" class=\"data row10 col11\" >0.181133</td>\n",
       "                        <td id=\"T_d4be8_row10_col12\" class=\"data row10 col12\" >0.291066</td>\n",
       "                        <td id=\"T_d4be8_row10_col13\" class=\"data row10 col13\" >0.240379</td>\n",
       "                        <td id=\"T_d4be8_row10_col14\" class=\"data row10 col14\" >0.140024</td>\n",
       "                        <td id=\"T_d4be8_row10_col15\" class=\"data row10 col15\" >-0.062419</td>\n",
       "                        <td id=\"T_d4be8_row10_col16\" class=\"data row10 col16\" >0.287389</td>\n",
       "                        <td id=\"T_d4be8_row10_col17\" class=\"data row10 col17\" >0.119470</td>\n",
       "                        <td id=\"T_d4be8_row10_col18\" class=\"data row10 col18\" >-0.012337</td>\n",
       "                        <td id=\"T_d4be8_row10_col19\" class=\"data row10 col19\" >0.439046</td>\n",
       "                        <td id=\"T_d4be8_row10_col20\" class=\"data row10 col20\" >0.183331</td>\n",
       "                        <td id=\"T_d4be8_row10_col21\" class=\"data row10 col21\" >-0.040581</td>\n",
       "                        <td id=\"T_d4be8_row10_col22\" class=\"data row10 col22\" >-0.149598</td>\n",
       "                        <td id=\"T_d4be8_row10_col23\" class=\"data row10 col23\" >0.191740</td>\n",
       "                        <td id=\"T_d4be8_row10_col24\" class=\"data row10 col24\" >0.112581</td>\n",
       "                        <td id=\"T_d4be8_row10_col25\" class=\"data row10 col25\" >0.642277</td>\n",
       "                        <td id=\"T_d4be8_row10_col26\" class=\"data row10 col26\" >0.420622</td>\n",
       "                        <td id=\"T_d4be8_row10_col27\" class=\"data row10 col27\" >0.371600</td>\n",
       "                        <td id=\"T_d4be8_row10_col28\" class=\"data row10 col28\" >0.205726</td>\n",
       "                        <td id=\"T_d4be8_row10_col29\" class=\"data row10 col29\" >0.226298</td>\n",
       "                        <td id=\"T_d4be8_row10_col30\" class=\"data row10 col30\" >-0.193919</td>\n",
       "                        <td id=\"T_d4be8_row10_col31\" class=\"data row10 col31\" >0.045286</td>\n",
       "                        <td id=\"T_d4be8_row10_col32\" class=\"data row10 col32\" >-0.038740</td>\n",
       "                        <td id=\"T_d4be8_row10_col33\" class=\"data row10 col33\" >0.005829</td>\n",
       "                        <td id=\"T_d4be8_row10_col34\" class=\"data row10 col34\" >-0.010286</td>\n",
       "                        <td id=\"T_d4be8_row10_col35\" class=\"data row10 col35\" >0.021490</td>\n",
       "                        <td id=\"T_d4be8_row10_col36\" class=\"data row10 col36\" >0.035743</td>\n",
       "                        <td id=\"T_d4be8_row10_col37\" class=\"data row10 col37\" >0.507101</td>\n",
       "            </tr>\n",
       "            <tr>\n",
       "                        <th id=\"T_d4be8_level0_row11\" class=\"row_heading level0 row11\" >GarageYrBlt</th>\n",
       "                        <td id=\"T_d4be8_row11_col0\" class=\"data row11 col0\" >0.000072</td>\n",
       "                        <td id=\"T_d4be8_row11_col1\" class=\"data row11 col1\" >0.085072</td>\n",
       "                        <td id=\"T_d4be8_row11_col2\" class=\"data row11 col2\" >0.070250</td>\n",
       "                        <td id=\"T_d4be8_row11_col3\" class=\"data row11 col3\" >-0.024947</td>\n",
       "                        <td id=\"T_d4be8_row11_col4\" class=\"data row11 col4\" >0.547766</td>\n",
       "                        <td id=\"T_d4be8_row11_col5\" class=\"data row11 col5\" >-0.324297</td>\n",
       "                        <td id=\"T_d4be8_row11_col6\" class=\"data row11 col6\" >0.825667</td>\n",
       "                        <td id=\"T_d4be8_row11_col7\" class=\"data row11 col7\" >0.642277</td>\n",
       "                        <td id=\"T_d4be8_row11_col8\" class=\"data row11 col8\" >0.252691</td>\n",
       "                        <td id=\"T_d4be8_row11_col9\" class=\"data row11 col9\" >0.153484</td>\n",
       "                        <td id=\"T_d4be8_row11_col10\" class=\"data row11 col10\" >-0.088011</td>\n",
       "                        <td id=\"T_d4be8_row11_col11\" class=\"data row11 col11\" >0.190708</td>\n",
       "                        <td id=\"T_d4be8_row11_col12\" class=\"data row11 col12\" >0.322445</td>\n",
       "                        <td id=\"T_d4be8_row11_col13\" class=\"data row11 col13\" >0.233449</td>\n",
       "                        <td id=\"T_d4be8_row11_col14\" class=\"data row11 col14\" >0.070832</td>\n",
       "                        <td id=\"T_d4be8_row11_col15\" class=\"data row11 col15\" >-0.036363</td>\n",
       "                        <td id=\"T_d4be8_row11_col16\" class=\"data row11 col16\" >0.231197</td>\n",
       "                        <td id=\"T_d4be8_row11_col17\" class=\"data row11 col17\" >0.124553</td>\n",
       "                        <td id=\"T_d4be8_row11_col18\" class=\"data row11 col18\" >-0.077464</td>\n",
       "                        <td id=\"T_d4be8_row11_col19\" class=\"data row11 col19\" >0.484557</td>\n",
       "                        <td id=\"T_d4be8_row11_col20\" class=\"data row11 col20\" >0.196785</td>\n",
       "                        <td id=\"T_d4be8_row11_col21\" class=\"data row11 col21\" >-0.064518</td>\n",
       "                        <td id=\"T_d4be8_row11_col22\" class=\"data row11 col22\" >-0.124411</td>\n",
       "                        <td id=\"T_d4be8_row11_col23\" class=\"data row11 col23\" >0.148112</td>\n",
       "                        <td id=\"T_d4be8_row11_col24\" class=\"data row11 col24\" >0.046822</td>\n",
       "                        <td id=\"T_d4be8_row11_col25\" class=\"data row11 col25\" >1.000000</td>\n",
       "                        <td id=\"T_d4be8_row11_col26\" class=\"data row11 col26\" >0.588920</td>\n",
       "                        <td id=\"T_d4be8_row11_col27\" class=\"data row11 col27\" >0.564567</td>\n",
       "                        <td id=\"T_d4be8_row11_col28\" class=\"data row11 col28\" >0.224577</td>\n",
       "                        <td id=\"T_d4be8_row11_col29\" class=\"data row11 col29\" >0.228425</td>\n",
       "                        <td id=\"T_d4be8_row11_col30\" class=\"data row11 col30\" >-0.297003</td>\n",
       "                        <td id=\"T_d4be8_row11_col31\" class=\"data row11 col31\" >0.023544</td>\n",
       "                        <td id=\"T_d4be8_row11_col32\" class=\"data row11 col32\" >-0.075418</td>\n",
       "                        <td id=\"T_d4be8_row11_col33\" class=\"data row11 col33\" >-0.014501</td>\n",
       "                        <td id=\"T_d4be8_row11_col34\" class=\"data row11 col34\" >-0.032417</td>\n",
       "                        <td id=\"T_d4be8_row11_col35\" class=\"data row11 col35\" >0.005337</td>\n",
       "                        <td id=\"T_d4be8_row11_col36\" class=\"data row11 col36\" >-0.001014</td>\n",
       "                        <td id=\"T_d4be8_row11_col37\" class=\"data row11 col37\" >0.486362</td>\n",
       "            </tr>\n",
       "            <tr>\n",
       "                        <th id=\"T_d4be8_level0_row12\" class=\"row_heading level0 row12\" >MasVnrArea</th>\n",
       "                        <td id=\"T_d4be8_row12_col0\" class=\"data row12 col0\" >-0.050298</td>\n",
       "                        <td id=\"T_d4be8_row12_col1\" class=\"data row12 col1\" >0.022936</td>\n",
       "                        <td id=\"T_d4be8_row12_col2\" class=\"data row12 col2\" >0.193458</td>\n",
       "                        <td id=\"T_d4be8_row12_col3\" class=\"data row12 col3\" >0.104160</td>\n",
       "                        <td id=\"T_d4be8_row12_col4\" class=\"data row12 col4\" >0.411876</td>\n",
       "                        <td id=\"T_d4be8_row12_col5\" class=\"data row12 col5\" >-0.128101</td>\n",
       "                        <td id=\"T_d4be8_row12_col6\" class=\"data row12 col6\" >0.315707</td>\n",
       "                        <td id=\"T_d4be8_row12_col7\" class=\"data row12 col7\" >0.179618</td>\n",
       "                        <td id=\"T_d4be8_row12_col8\" class=\"data row12 col8\" >1.000000</td>\n",
       "                        <td id=\"T_d4be8_row12_col9\" class=\"data row12 col9\" >0.264736</td>\n",
       "                        <td id=\"T_d4be8_row12_col10\" class=\"data row12 col10\" >-0.072319</td>\n",
       "                        <td id=\"T_d4be8_row12_col11\" class=\"data row12 col11\" >0.114442</td>\n",
       "                        <td id=\"T_d4be8_row12_col12\" class=\"data row12 col12\" >0.363936</td>\n",
       "                        <td id=\"T_d4be8_row12_col13\" class=\"data row12 col13\" >0.344501</td>\n",
       "                        <td id=\"T_d4be8_row12_col14\" class=\"data row12 col14\" >0.174561</td>\n",
       "                        <td id=\"T_d4be8_row12_col15\" class=\"data row12 col15\" >-0.069071</td>\n",
       "                        <td id=\"T_d4be8_row12_col16\" class=\"data row12 col16\" >0.390857</td>\n",
       "                        <td id=\"T_d4be8_row12_col17\" class=\"data row12 col17\" >0.085310</td>\n",
       "                        <td id=\"T_d4be8_row12_col18\" class=\"data row12 col18\" >0.026673</td>\n",
       "                        <td id=\"T_d4be8_row12_col19\" class=\"data row12 col19\" >0.276833</td>\n",
       "                        <td id=\"T_d4be8_row12_col20\" class=\"data row12 col20\" >0.201444</td>\n",
       "                        <td id=\"T_d4be8_row12_col21\" class=\"data row12 col21\" >0.102821</td>\n",
       "                        <td id=\"T_d4be8_row12_col22\" class=\"data row12 col22\" >-0.037610</td>\n",
       "                        <td id=\"T_d4be8_row12_col23\" class=\"data row12 col23\" >0.280682</td>\n",
       "                        <td id=\"T_d4be8_row12_col24\" class=\"data row12 col24\" >0.249070</td>\n",
       "                        <td id=\"T_d4be8_row12_col25\" class=\"data row12 col25\" >0.252691</td>\n",
       "                        <td id=\"T_d4be8_row12_col26\" class=\"data row12 col26\" >0.364204</td>\n",
       "                        <td id=\"T_d4be8_row12_col27\" class=\"data row12 col27\" >0.373066</td>\n",
       "                        <td id=\"T_d4be8_row12_col28\" class=\"data row12 col28\" >0.159718</td>\n",
       "                        <td id=\"T_d4be8_row12_col29\" class=\"data row12 col29\" >0.125703</td>\n",
       "                        <td id=\"T_d4be8_row12_col30\" class=\"data row12 col30\" >-0.110204</td>\n",
       "                        <td id=\"T_d4be8_row12_col31\" class=\"data row12 col31\" >0.018796</td>\n",
       "                        <td id=\"T_d4be8_row12_col32\" class=\"data row12 col32\" >0.061466</td>\n",
       "                        <td id=\"T_d4be8_row12_col33\" class=\"data row12 col33\" >0.011723</td>\n",
       "                        <td id=\"T_d4be8_row12_col34\" class=\"data row12 col34\" >-0.029815</td>\n",
       "                        <td id=\"T_d4be8_row12_col35\" class=\"data row12 col35\" >-0.005965</td>\n",
       "                        <td id=\"T_d4be8_row12_col36\" class=\"data row12 col36\" >-0.008201</td>\n",
       "                        <td id=\"T_d4be8_row12_col37\" class=\"data row12 col37\" >0.477493</td>\n",
       "            </tr>\n",
       "            <tr>\n",
       "                        <th id=\"T_d4be8_level0_row13\" class=\"row_heading level0 row13\" >Fireplaces</th>\n",
       "                        <td id=\"T_d4be8_row13_col0\" class=\"data row13 col0\" >-0.019772</td>\n",
       "                        <td id=\"T_d4be8_row13_col1\" class=\"data row13 col1\" >-0.045569</td>\n",
       "                        <td id=\"T_d4be8_row13_col2\" class=\"data row13 col2\" >0.266639</td>\n",
       "                        <td id=\"T_d4be8_row13_col3\" class=\"data row13 col3\" >0.271364</td>\n",
       "                        <td id=\"T_d4be8_row13_col4\" class=\"data row13 col4\" >0.396765</td>\n",
       "                        <td id=\"T_d4be8_row13_col5\" class=\"data row13 col5\" >-0.023820</td>\n",
       "                        <td id=\"T_d4be8_row13_col6\" class=\"data row13 col6\" >0.147716</td>\n",
       "                        <td id=\"T_d4be8_row13_col7\" class=\"data row13 col7\" >0.112581</td>\n",
       "                        <td id=\"T_d4be8_row13_col8\" class=\"data row13 col8\" >0.249070</td>\n",
       "                        <td id=\"T_d4be8_row13_col9\" class=\"data row13 col9\" >0.260011</td>\n",
       "                        <td id=\"T_d4be8_row13_col10\" class=\"data row13 col10\" >0.046921</td>\n",
       "                        <td id=\"T_d4be8_row13_col11\" class=\"data row13 col11\" >0.051575</td>\n",
       "                        <td id=\"T_d4be8_row13_col12\" class=\"data row13 col12\" >0.339519</td>\n",
       "                        <td id=\"T_d4be8_row13_col13\" class=\"data row13 col13\" >0.410531</td>\n",
       "                        <td id=\"T_d4be8_row13_col14\" class=\"data row13 col14\" >0.194561</td>\n",
       "                        <td id=\"T_d4be8_row13_col15\" class=\"data row13 col15\" >-0.021272</td>\n",
       "                        <td id=\"T_d4be8_row13_col16\" class=\"data row13 col16\" >0.461679</td>\n",
       "                        <td id=\"T_d4be8_row13_col17\" class=\"data row13 col17\" >0.137928</td>\n",
       "                        <td id=\"T_d4be8_row13_col18\" class=\"data row13 col18\" >0.028976</td>\n",
       "                        <td id=\"T_d4be8_row13_col19\" class=\"data row13 col19\" >0.243671</td>\n",
       "                        <td id=\"T_d4be8_row13_col20\" class=\"data row13 col20\" >0.203649</td>\n",
       "                        <td id=\"T_d4be8_row13_col21\" class=\"data row13 col21\" >0.107570</td>\n",
       "                        <td id=\"T_d4be8_row13_col22\" class=\"data row13 col22\" >-0.123936</td>\n",
       "                        <td id=\"T_d4be8_row13_col23\" class=\"data row13 col23\" >0.326114</td>\n",
       "                        <td id=\"T_d4be8_row13_col24\" class=\"data row13 col24\" >1.000000</td>\n",
       "                        <td id=\"T_d4be8_row13_col25\" class=\"data row13 col25\" >0.046822</td>\n",
       "                        <td id=\"T_d4be8_row13_col26\" class=\"data row13 col26\" >0.300789</td>\n",
       "                        <td id=\"T_d4be8_row13_col27\" class=\"data row13 col27\" >0.269141</td>\n",
       "                        <td id=\"T_d4be8_row13_col28\" class=\"data row13 col28\" >0.200019</td>\n",
       "                        <td id=\"T_d4be8_row13_col29\" class=\"data row13 col29\" >0.169405</td>\n",
       "                        <td id=\"T_d4be8_row13_col30\" class=\"data row13 col30\" >-0.024822</td>\n",
       "                        <td id=\"T_d4be8_row13_col31\" class=\"data row13 col31\" >0.011257</td>\n",
       "                        <td id=\"T_d4be8_row13_col32\" class=\"data row13 col32\" >0.184530</td>\n",
       "                        <td id=\"T_d4be8_row13_col33\" class=\"data row13 col33\" >0.095074</td>\n",
       "                        <td id=\"T_d4be8_row13_col34\" class=\"data row13 col34\" >0.001409</td>\n",
       "                        <td id=\"T_d4be8_row13_col35\" class=\"data row13 col35\" >0.046357</td>\n",
       "                        <td id=\"T_d4be8_row13_col36\" class=\"data row13 col36\" >-0.024096</td>\n",
       "                        <td id=\"T_d4be8_row13_col37\" class=\"data row13 col37\" >0.466929</td>\n",
       "            </tr>\n",
       "            <tr>\n",
       "                        <th id=\"T_d4be8_level0_row14\" class=\"row_heading level0 row14\" >BsmtFinSF1</th>\n",
       "                        <td id=\"T_d4be8_row14_col0\" class=\"data row14 col0\" >-0.005024</td>\n",
       "                        <td id=\"T_d4be8_row14_col1\" class=\"data row14 col1\" >-0.069836</td>\n",
       "                        <td id=\"T_d4be8_row14_col2\" class=\"data row14 col2\" >0.233633</td>\n",
       "                        <td id=\"T_d4be8_row14_col3\" class=\"data row14 col3\" >0.214103</td>\n",
       "                        <td id=\"T_d4be8_row14_col4\" class=\"data row14 col4\" >0.239666</td>\n",
       "                        <td id=\"T_d4be8_row14_col5\" class=\"data row14 col5\" >-0.046231</td>\n",
       "                        <td id=\"T_d4be8_row14_col6\" class=\"data row14 col6\" >0.249503</td>\n",
       "                        <td id=\"T_d4be8_row14_col7\" class=\"data row14 col7\" >0.128451</td>\n",
       "                        <td id=\"T_d4be8_row14_col8\" class=\"data row14 col8\" >0.264736</td>\n",
       "                        <td id=\"T_d4be8_row14_col9\" class=\"data row14 col9\" >1.000000</td>\n",
       "                        <td id=\"T_d4be8_row14_col10\" class=\"data row14 col10\" >-0.050117</td>\n",
       "                        <td id=\"T_d4be8_row14_col11\" class=\"data row14 col11\" >-0.495251</td>\n",
       "                        <td id=\"T_d4be8_row14_col12\" class=\"data row14 col12\" >0.522396</td>\n",
       "                        <td id=\"T_d4be8_row14_col13\" class=\"data row14 col13\" >0.445863</td>\n",
       "                        <td id=\"T_d4be8_row14_col14\" class=\"data row14 col14\" >-0.137079</td>\n",
       "                        <td id=\"T_d4be8_row14_col15\" class=\"data row14 col15\" >-0.064503</td>\n",
       "                        <td id=\"T_d4be8_row14_col16\" class=\"data row14 col16\" >0.208171</td>\n",
       "                        <td id=\"T_d4be8_row14_col17\" class=\"data row14 col17\" >0.649212</td>\n",
       "                        <td id=\"T_d4be8_row14_col18\" class=\"data row14 col18\" >0.067418</td>\n",
       "                        <td id=\"T_d4be8_row14_col19\" class=\"data row14 col19\" >0.058543</td>\n",
       "                        <td id=\"T_d4be8_row14_col20\" class=\"data row14 col20\" >0.004262</td>\n",
       "                        <td id=\"T_d4be8_row14_col21\" class=\"data row14 col21\" >-0.107355</td>\n",
       "                        <td id=\"T_d4be8_row14_col22\" class=\"data row14 col22\" >-0.081007</td>\n",
       "                        <td id=\"T_d4be8_row14_col23\" class=\"data row14 col23\" >0.044316</td>\n",
       "                        <td id=\"T_d4be8_row14_col24\" class=\"data row14 col24\" >0.260011</td>\n",
       "                        <td id=\"T_d4be8_row14_col25\" class=\"data row14 col25\" >0.153484</td>\n",
       "                        <td id=\"T_d4be8_row14_col26\" class=\"data row14 col26\" >0.224054</td>\n",
       "                        <td id=\"T_d4be8_row14_col27\" class=\"data row14 col27\" >0.296970</td>\n",
       "                        <td id=\"T_d4be8_row14_col28\" class=\"data row14 col28\" >0.204306</td>\n",
       "                        <td id=\"T_d4be8_row14_col29\" class=\"data row14 col29\" >0.111761</td>\n",
       "                        <td id=\"T_d4be8_row14_col30\" class=\"data row14 col30\" >-0.102303</td>\n",
       "                        <td id=\"T_d4be8_row14_col31\" class=\"data row14 col31\" >0.026451</td>\n",
       "                        <td id=\"T_d4be8_row14_col32\" class=\"data row14 col32\" >0.062021</td>\n",
       "                        <td id=\"T_d4be8_row14_col33\" class=\"data row14 col33\" >0.140491</td>\n",
       "                        <td id=\"T_d4be8_row14_col34\" class=\"data row14 col34\" >0.003571</td>\n",
       "                        <td id=\"T_d4be8_row14_col35\" class=\"data row14 col35\" >-0.015727</td>\n",
       "                        <td id=\"T_d4be8_row14_col36\" class=\"data row14 col36\" >0.014359</td>\n",
       "                        <td id=\"T_d4be8_row14_col37\" class=\"data row14 col37\" >0.386420</td>\n",
       "            </tr>\n",
       "            <tr>\n",
       "                        <th id=\"T_d4be8_level0_row15\" class=\"row_heading level0 row15\" >LotFrontage</th>\n",
       "                        <td id=\"T_d4be8_row15_col0\" class=\"data row15 col0\" >-0.010601</td>\n",
       "                        <td id=\"T_d4be8_row15_col1\" class=\"data row15 col1\" >-0.386347</td>\n",
       "                        <td id=\"T_d4be8_row15_col2\" class=\"data row15 col2\" >1.000000</td>\n",
       "                        <td id=\"T_d4be8_row15_col3\" class=\"data row15 col3\" >0.426095</td>\n",
       "                        <td id=\"T_d4be8_row15_col4\" class=\"data row15 col4\" >0.251646</td>\n",
       "                        <td id=\"T_d4be8_row15_col5\" class=\"data row15 col5\" >-0.059213</td>\n",
       "                        <td id=\"T_d4be8_row15_col6\" class=\"data row15 col6\" >0.123349</td>\n",
       "                        <td id=\"T_d4be8_row15_col7\" class=\"data row15 col7\" >0.088866</td>\n",
       "                        <td id=\"T_d4be8_row15_col8\" class=\"data row15 col8\" >0.193458</td>\n",
       "                        <td id=\"T_d4be8_row15_col9\" class=\"data row15 col9\" >0.233633</td>\n",
       "                        <td id=\"T_d4be8_row15_col10\" class=\"data row15 col10\" >0.049900</td>\n",
       "                        <td id=\"T_d4be8_row15_col11\" class=\"data row15 col11\" >0.132644</td>\n",
       "                        <td id=\"T_d4be8_row15_col12\" class=\"data row15 col12\" >0.392075</td>\n",
       "                        <td id=\"T_d4be8_row15_col13\" class=\"data row15 col13\" >0.457181</td>\n",
       "                        <td id=\"T_d4be8_row15_col14\" class=\"data row15 col14\" >0.080177</td>\n",
       "                        <td id=\"T_d4be8_row15_col15\" class=\"data row15 col15\" >0.038469</td>\n",
       "                        <td id=\"T_d4be8_row15_col16\" class=\"data row15 col16\" >0.402797</td>\n",
       "                        <td id=\"T_d4be8_row15_col17\" class=\"data row15 col17\" >0.100949</td>\n",
       "                        <td id=\"T_d4be8_row15_col18\" class=\"data row15 col18\" >-0.007234</td>\n",
       "                        <td id=\"T_d4be8_row15_col19\" class=\"data row15 col19\" >0.198769</td>\n",
       "                        <td id=\"T_d4be8_row15_col20\" class=\"data row15 col20\" >0.053532</td>\n",
       "                        <td id=\"T_d4be8_row15_col21\" class=\"data row15 col21\" >0.263170</td>\n",
       "                        <td id=\"T_d4be8_row15_col22\" class=\"data row15 col22\" >-0.006069</td>\n",
       "                        <td id=\"T_d4be8_row15_col23\" class=\"data row15 col23\" >0.352096</td>\n",
       "                        <td id=\"T_d4be8_row15_col24\" class=\"data row15 col24\" >0.266639</td>\n",
       "                        <td id=\"T_d4be8_row15_col25\" class=\"data row15 col25\" >0.070250</td>\n",
       "                        <td id=\"T_d4be8_row15_col26\" class=\"data row15 col26\" >0.285691</td>\n",
       "                        <td id=\"T_d4be8_row15_col27\" class=\"data row15 col27\" >0.344997</td>\n",
       "                        <td id=\"T_d4be8_row15_col28\" class=\"data row15 col28\" >0.088521</td>\n",
       "                        <td id=\"T_d4be8_row15_col29\" class=\"data row15 col29\" >0.151972</td>\n",
       "                        <td id=\"T_d4be8_row15_col30\" class=\"data row15 col30\" >0.010700</td>\n",
       "                        <td id=\"T_d4be8_row15_col31\" class=\"data row15 col31\" >0.070029</td>\n",
       "                        <td id=\"T_d4be8_row15_col32\" class=\"data row15 col32\" >0.041383</td>\n",
       "                        <td id=\"T_d4be8_row15_col33\" class=\"data row15 col33\" >0.206167</td>\n",
       "                        <td id=\"T_d4be8_row15_col34\" class=\"data row15 col34\" >0.003368</td>\n",
       "                        <td id=\"T_d4be8_row15_col35\" class=\"data row15 col35\" >0.011200</td>\n",
       "                        <td id=\"T_d4be8_row15_col36\" class=\"data row15 col36\" >0.007450</td>\n",
       "                        <td id=\"T_d4be8_row15_col37\" class=\"data row15 col37\" >0.351799</td>\n",
       "            </tr>\n",
       "            <tr>\n",
       "                        <th id=\"T_d4be8_level0_row16\" class=\"row_heading level0 row16\" >WoodDeckSF</th>\n",
       "                        <td id=\"T_d4be8_row16_col0\" class=\"data row16 col0\" >-0.029643</td>\n",
       "                        <td id=\"T_d4be8_row16_col1\" class=\"data row16 col1\" >-0.012579</td>\n",
       "                        <td id=\"T_d4be8_row16_col2\" class=\"data row16 col2\" >0.088521</td>\n",
       "                        <td id=\"T_d4be8_row16_col3\" class=\"data row16 col3\" >0.171698</td>\n",
       "                        <td id=\"T_d4be8_row16_col4\" class=\"data row16 col4\" >0.238923</td>\n",
       "                        <td id=\"T_d4be8_row16_col5\" class=\"data row16 col5\" >-0.003334</td>\n",
       "                        <td id=\"T_d4be8_row16_col6\" class=\"data row16 col6\" >0.224880</td>\n",
       "                        <td id=\"T_d4be8_row16_col7\" class=\"data row16 col7\" >0.205726</td>\n",
       "                        <td id=\"T_d4be8_row16_col8\" class=\"data row16 col8\" >0.159718</td>\n",
       "                        <td id=\"T_d4be8_row16_col9\" class=\"data row16 col9\" >0.204306</td>\n",
       "                        <td id=\"T_d4be8_row16_col10\" class=\"data row16 col10\" >0.067898</td>\n",
       "                        <td id=\"T_d4be8_row16_col11\" class=\"data row16 col11\" >-0.005316</td>\n",
       "                        <td id=\"T_d4be8_row16_col12\" class=\"data row16 col12\" >0.232019</td>\n",
       "                        <td id=\"T_d4be8_row16_col13\" class=\"data row16 col13\" >0.235459</td>\n",
       "                        <td id=\"T_d4be8_row16_col14\" class=\"data row16 col14\" >0.092165</td>\n",
       "                        <td id=\"T_d4be8_row16_col15\" class=\"data row16 col15\" >-0.025444</td>\n",
       "                        <td id=\"T_d4be8_row16_col16\" class=\"data row16 col16\" >0.247433</td>\n",
       "                        <td id=\"T_d4be8_row16_col17\" class=\"data row16 col17\" >0.175315</td>\n",
       "                        <td id=\"T_d4be8_row16_col18\" class=\"data row16 col18\" >0.040161</td>\n",
       "                        <td id=\"T_d4be8_row16_col19\" class=\"data row16 col19\" >0.187703</td>\n",
       "                        <td id=\"T_d4be8_row16_col20\" class=\"data row16 col20\" >0.108080</td>\n",
       "                        <td id=\"T_d4be8_row16_col21\" class=\"data row16 col21\" >0.046854</td>\n",
       "                        <td id=\"T_d4be8_row16_col22\" class=\"data row16 col22\" >-0.090130</td>\n",
       "                        <td id=\"T_d4be8_row16_col23\" class=\"data row16 col23\" >0.165984</td>\n",
       "                        <td id=\"T_d4be8_row16_col24\" class=\"data row16 col24\" >0.200019</td>\n",
       "                        <td id=\"T_d4be8_row16_col25\" class=\"data row16 col25\" >0.224577</td>\n",
       "                        <td id=\"T_d4be8_row16_col26\" class=\"data row16 col26\" >0.226342</td>\n",
       "                        <td id=\"T_d4be8_row16_col27\" class=\"data row16 col27\" >0.224666</td>\n",
       "                        <td id=\"T_d4be8_row16_col28\" class=\"data row16 col28\" >1.000000</td>\n",
       "                        <td id=\"T_d4be8_row16_col29\" class=\"data row16 col29\" >0.058661</td>\n",
       "                        <td id=\"T_d4be8_row16_col30\" class=\"data row16 col30\" >-0.125989</td>\n",
       "                        <td id=\"T_d4be8_row16_col31\" class=\"data row16 col31\" >-0.032771</td>\n",
       "                        <td id=\"T_d4be8_row16_col32\" class=\"data row16 col32\" >-0.074181</td>\n",
       "                        <td id=\"T_d4be8_row16_col33\" class=\"data row16 col33\" >0.073378</td>\n",
       "                        <td id=\"T_d4be8_row16_col34\" class=\"data row16 col34\" >-0.009551</td>\n",
       "                        <td id=\"T_d4be8_row16_col35\" class=\"data row16 col35\" >0.021011</td>\n",
       "                        <td id=\"T_d4be8_row16_col36\" class=\"data row16 col36\" >0.022270</td>\n",
       "                        <td id=\"T_d4be8_row16_col37\" class=\"data row16 col37\" >0.324413</td>\n",
       "            </tr>\n",
       "            <tr>\n",
       "                        <th id=\"T_d4be8_level0_row17\" class=\"row_heading level0 row17\" >2ndFlrSF</th>\n",
       "                        <td id=\"T_d4be8_row17_col0\" class=\"data row17 col0\" >0.005590</td>\n",
       "                        <td id=\"T_d4be8_row17_col1\" class=\"data row17 col1\" >0.307886</td>\n",
       "                        <td id=\"T_d4be8_row17_col2\" class=\"data row17 col2\" >0.080177</td>\n",
       "                        <td id=\"T_d4be8_row17_col3\" class=\"data row17 col3\" >0.050986</td>\n",
       "                        <td id=\"T_d4be8_row17_col4\" class=\"data row17 col4\" >0.295493</td>\n",
       "                        <td id=\"T_d4be8_row17_col5\" class=\"data row17 col5\" >0.028942</td>\n",
       "                        <td id=\"T_d4be8_row17_col6\" class=\"data row17 col6\" >0.010308</td>\n",
       "                        <td id=\"T_d4be8_row17_col7\" class=\"data row17 col7\" >0.140024</td>\n",
       "                        <td id=\"T_d4be8_row17_col8\" class=\"data row17 col8\" >0.174561</td>\n",
       "                        <td id=\"T_d4be8_row17_col9\" class=\"data row17 col9\" >-0.137079</td>\n",
       "                        <td id=\"T_d4be8_row17_col10\" class=\"data row17 col10\" >-0.099260</td>\n",
       "                        <td id=\"T_d4be8_row17_col11\" class=\"data row17 col11\" >0.004469</td>\n",
       "                        <td id=\"T_d4be8_row17_col12\" class=\"data row17 col12\" >-0.174512</td>\n",
       "                        <td id=\"T_d4be8_row17_col13\" class=\"data row17 col13\" >-0.202646</td>\n",
       "                        <td id=\"T_d4be8_row17_col14\" class=\"data row17 col14\" >1.000000</td>\n",
       "                        <td id=\"T_d4be8_row17_col15\" class=\"data row17 col15\" >0.063353</td>\n",
       "                        <td id=\"T_d4be8_row17_col16\" class=\"data row17 col16\" >0.687501</td>\n",
       "                        <td id=\"T_d4be8_row17_col17\" class=\"data row17 col17\" >-0.169494</td>\n",
       "                        <td id=\"T_d4be8_row17_col18\" class=\"data row17 col18\" >-0.023855</td>\n",
       "                        <td id=\"T_d4be8_row17_col19\" class=\"data row17 col19\" >0.421378</td>\n",
       "                        <td id=\"T_d4be8_row17_col20\" class=\"data row17 col20\" >0.609707</td>\n",
       "                        <td id=\"T_d4be8_row17_col21\" class=\"data row17 col21\" >0.502901</td>\n",
       "                        <td id=\"T_d4be8_row17_col22\" class=\"data row17 col22\" >0.059306</td>\n",
       "                        <td id=\"T_d4be8_row17_col23\" class=\"data row17 col23\" >0.616423</td>\n",
       "                        <td id=\"T_d4be8_row17_col24\" class=\"data row17 col24\" >0.194561</td>\n",
       "                        <td id=\"T_d4be8_row17_col25\" class=\"data row17 col25\" >0.070832</td>\n",
       "                        <td id=\"T_d4be8_row17_col26\" class=\"data row17 col26\" >0.183926</td>\n",
       "                        <td id=\"T_d4be8_row17_col27\" class=\"data row17 col27\" >0.138347</td>\n",
       "                        <td id=\"T_d4be8_row17_col28\" class=\"data row17 col28\" >0.092165</td>\n",
       "                        <td id=\"T_d4be8_row17_col29\" class=\"data row17 col29\" >0.208026</td>\n",
       "                        <td id=\"T_d4be8_row17_col30\" class=\"data row17 col30\" >0.061989</td>\n",
       "                        <td id=\"T_d4be8_row17_col31\" class=\"data row17 col31\" >-0.024358</td>\n",
       "                        <td id=\"T_d4be8_row17_col32\" class=\"data row17 col32\" >0.040606</td>\n",
       "                        <td id=\"T_d4be8_row17_col33\" class=\"data row17 col33\" >0.081487</td>\n",
       "                        <td id=\"T_d4be8_row17_col34\" class=\"data row17 col34\" >0.016197</td>\n",
       "                        <td id=\"T_d4be8_row17_col35\" class=\"data row17 col35\" >0.035164</td>\n",
       "                        <td id=\"T_d4be8_row17_col36\" class=\"data row17 col36\" >-0.028700</td>\n",
       "                        <td id=\"T_d4be8_row17_col37\" class=\"data row17 col37\" >0.319334</td>\n",
       "            </tr>\n",
       "            <tr>\n",
       "                        <th id=\"T_d4be8_level0_row18\" class=\"row_heading level0 row18\" >OpenPorchSF</th>\n",
       "                        <td id=\"T_d4be8_row18_col0\" class=\"data row18 col0\" >-0.000477</td>\n",
       "                        <td id=\"T_d4be8_row18_col1\" class=\"data row18 col1\" >-0.006100</td>\n",
       "                        <td id=\"T_d4be8_row18_col2\" class=\"data row18 col2\" >0.151972</td>\n",
       "                        <td id=\"T_d4be8_row18_col3\" class=\"data row18 col3\" >0.084774</td>\n",
       "                        <td id=\"T_d4be8_row18_col4\" class=\"data row18 col4\" >0.308819</td>\n",
       "                        <td id=\"T_d4be8_row18_col5\" class=\"data row18 col5\" >-0.032589</td>\n",
       "                        <td id=\"T_d4be8_row18_col6\" class=\"data row18 col6\" >0.188686</td>\n",
       "                        <td id=\"T_d4be8_row18_col7\" class=\"data row18 col7\" >0.226298</td>\n",
       "                        <td id=\"T_d4be8_row18_col8\" class=\"data row18 col8\" >0.125703</td>\n",
       "                        <td id=\"T_d4be8_row18_col9\" class=\"data row18 col9\" >0.111761</td>\n",
       "                        <td id=\"T_d4be8_row18_col10\" class=\"data row18 col10\" >0.003093</td>\n",
       "                        <td id=\"T_d4be8_row18_col11\" class=\"data row18 col11\" >0.129005</td>\n",
       "                        <td id=\"T_d4be8_row18_col12\" class=\"data row18 col12\" >0.247264</td>\n",
       "                        <td id=\"T_d4be8_row18_col13\" class=\"data row18 col13\" >0.211671</td>\n",
       "                        <td id=\"T_d4be8_row18_col14\" class=\"data row18 col14\" >0.208026</td>\n",
       "                        <td id=\"T_d4be8_row18_col15\" class=\"data row18 col15\" >0.018251</td>\n",
       "                        <td id=\"T_d4be8_row18_col16\" class=\"data row18 col16\" >0.330224</td>\n",
       "                        <td id=\"T_d4be8_row18_col17\" class=\"data row18 col17\" >0.067341</td>\n",
       "                        <td id=\"T_d4be8_row18_col18\" class=\"data row18 col18\" >-0.025324</td>\n",
       "                        <td id=\"T_d4be8_row18_col19\" class=\"data row18 col19\" >0.259977</td>\n",
       "                        <td id=\"T_d4be8_row18_col20\" class=\"data row18 col20\" >0.199740</td>\n",
       "                        <td id=\"T_d4be8_row18_col21\" class=\"data row18 col21\" >0.093810</td>\n",
       "                        <td id=\"T_d4be8_row18_col22\" class=\"data row18 col22\" >-0.070091</td>\n",
       "                        <td id=\"T_d4be8_row18_col23\" class=\"data row18 col23\" >0.234192</td>\n",
       "                        <td id=\"T_d4be8_row18_col24\" class=\"data row18 col24\" >0.169405</td>\n",
       "                        <td id=\"T_d4be8_row18_col25\" class=\"data row18 col25\" >0.228425</td>\n",
       "                        <td id=\"T_d4be8_row18_col26\" class=\"data row18 col26\" >0.213569</td>\n",
       "                        <td id=\"T_d4be8_row18_col27\" class=\"data row18 col27\" >0.241435</td>\n",
       "                        <td id=\"T_d4be8_row18_col28\" class=\"data row18 col28\" >0.058661</td>\n",
       "                        <td id=\"T_d4be8_row18_col29\" class=\"data row18 col29\" >1.000000</td>\n",
       "                        <td id=\"T_d4be8_row18_col30\" class=\"data row18 col30\" >-0.093079</td>\n",
       "                        <td id=\"T_d4be8_row18_col31\" class=\"data row18 col31\" >-0.005842</td>\n",
       "                        <td id=\"T_d4be8_row18_col32\" class=\"data row18 col32\" >0.074304</td>\n",
       "                        <td id=\"T_d4be8_row18_col33\" class=\"data row18 col33\" >0.060762</td>\n",
       "                        <td id=\"T_d4be8_row18_col34\" class=\"data row18 col34\" >-0.018584</td>\n",
       "                        <td id=\"T_d4be8_row18_col35\" class=\"data row18 col35\" >0.071255</td>\n",
       "                        <td id=\"T_d4be8_row18_col36\" class=\"data row18 col36\" >-0.057619</td>\n",
       "                        <td id=\"T_d4be8_row18_col37\" class=\"data row18 col37\" >0.315856</td>\n",
       "            </tr>\n",
       "            <tr>\n",
       "                        <th id=\"T_d4be8_level0_row19\" class=\"row_heading level0 row19\" >HalfBath</th>\n",
       "                        <td id=\"T_d4be8_row19_col0\" class=\"data row19 col0\" >0.006784</td>\n",
       "                        <td id=\"T_d4be8_row19_col1\" class=\"data row19 col1\" >0.177354</td>\n",
       "                        <td id=\"T_d4be8_row19_col2\" class=\"data row19 col2\" >0.053532</td>\n",
       "                        <td id=\"T_d4be8_row19_col3\" class=\"data row19 col3\" >0.014259</td>\n",
       "                        <td id=\"T_d4be8_row19_col4\" class=\"data row19 col4\" >0.273458</td>\n",
       "                        <td id=\"T_d4be8_row19_col5\" class=\"data row19 col5\" >-0.060769</td>\n",
       "                        <td id=\"T_d4be8_row19_col6\" class=\"data row19 col6\" >0.242656</td>\n",
       "                        <td id=\"T_d4be8_row19_col7\" class=\"data row19 col7\" >0.183331</td>\n",
       "                        <td id=\"T_d4be8_row19_col8\" class=\"data row19 col8\" >0.201444</td>\n",
       "                        <td id=\"T_d4be8_row19_col9\" class=\"data row19 col9\" >0.004262</td>\n",
       "                        <td id=\"T_d4be8_row19_col10\" class=\"data row19 col10\" >-0.032148</td>\n",
       "                        <td id=\"T_d4be8_row19_col11\" class=\"data row19 col11\" >-0.041118</td>\n",
       "                        <td id=\"T_d4be8_row19_col12\" class=\"data row19 col12\" >-0.048804</td>\n",
       "                        <td id=\"T_d4be8_row19_col13\" class=\"data row19 col13\" >-0.119916</td>\n",
       "                        <td id=\"T_d4be8_row19_col14\" class=\"data row19 col14\" >0.609707</td>\n",
       "                        <td id=\"T_d4be8_row19_col15\" class=\"data row19 col15\" >-0.027080</td>\n",
       "                        <td id=\"T_d4be8_row19_col16\" class=\"data row19 col16\" >0.415772</td>\n",
       "                        <td id=\"T_d4be8_row19_col17\" class=\"data row19 col17\" >-0.030905</td>\n",
       "                        <td id=\"T_d4be8_row19_col18\" class=\"data row19 col18\" >-0.012340</td>\n",
       "                        <td id=\"T_d4be8_row19_col19\" class=\"data row19 col19\" >0.136381</td>\n",
       "                        <td id=\"T_d4be8_row19_col20\" class=\"data row19 col20\" >1.000000</td>\n",
       "                        <td id=\"T_d4be8_row19_col21\" class=\"data row19 col21\" >0.226651</td>\n",
       "                        <td id=\"T_d4be8_row19_col22\" class=\"data row19 col22\" >-0.068263</td>\n",
       "                        <td id=\"T_d4be8_row19_col23\" class=\"data row19 col23\" >0.343415</td>\n",
       "                        <td id=\"T_d4be8_row19_col24\" class=\"data row19 col24\" >0.203649</td>\n",
       "                        <td id=\"T_d4be8_row19_col25\" class=\"data row19 col25\" >0.196785</td>\n",
       "                        <td id=\"T_d4be8_row19_col26\" class=\"data row19 col26\" >0.219178</td>\n",
       "                        <td id=\"T_d4be8_row19_col27\" class=\"data row19 col27\" >0.163549</td>\n",
       "                        <td id=\"T_d4be8_row19_col28\" class=\"data row19 col28\" >0.108080</td>\n",
       "                        <td id=\"T_d4be8_row19_col29\" class=\"data row19 col29\" >0.199740</td>\n",
       "                        <td id=\"T_d4be8_row19_col30\" class=\"data row19 col30\" >-0.095317</td>\n",
       "                        <td id=\"T_d4be8_row19_col31\" class=\"data row19 col31\" >-0.004972</td>\n",
       "                        <td id=\"T_d4be8_row19_col32\" class=\"data row19 col32\" >0.072426</td>\n",
       "                        <td id=\"T_d4be8_row19_col33\" class=\"data row19 col33\" >0.022381</td>\n",
       "                        <td id=\"T_d4be8_row19_col34\" class=\"data row19 col34\" >0.001290</td>\n",
       "                        <td id=\"T_d4be8_row19_col35\" class=\"data row19 col35\" >-0.009050</td>\n",
       "                        <td id=\"T_d4be8_row19_col36\" class=\"data row19 col36\" >-0.010269</td>\n",
       "                        <td id=\"T_d4be8_row19_col37\" class=\"data row19 col37\" >0.284108</td>\n",
       "            </tr>\n",
       "            <tr>\n",
       "                        <th id=\"T_d4be8_level0_row20\" class=\"row_heading level0 row20\" >LotArea</th>\n",
       "                        <td id=\"T_d4be8_row20_col0\" class=\"data row20 col0\" >-0.033226</td>\n",
       "                        <td id=\"T_d4be8_row20_col1\" class=\"data row20 col1\" >-0.139781</td>\n",
       "                        <td id=\"T_d4be8_row20_col2\" class=\"data row20 col2\" >0.426095</td>\n",
       "                        <td id=\"T_d4be8_row20_col3\" class=\"data row20 col3\" >1.000000</td>\n",
       "                        <td id=\"T_d4be8_row20_col4\" class=\"data row20 col4\" >0.105806</td>\n",
       "                        <td id=\"T_d4be8_row20_col5\" class=\"data row20 col5\" >-0.005636</td>\n",
       "                        <td id=\"T_d4be8_row20_col6\" class=\"data row20 col6\" >0.014228</td>\n",
       "                        <td id=\"T_d4be8_row20_col7\" class=\"data row20 col7\" >0.013788</td>\n",
       "                        <td id=\"T_d4be8_row20_col8\" class=\"data row20 col8\" >0.104160</td>\n",
       "                        <td id=\"T_d4be8_row20_col9\" class=\"data row20 col9\" >0.214103</td>\n",
       "                        <td id=\"T_d4be8_row20_col10\" class=\"data row20 col10\" >0.111170</td>\n",
       "                        <td id=\"T_d4be8_row20_col11\" class=\"data row20 col11\" >-0.002618</td>\n",
       "                        <td id=\"T_d4be8_row20_col12\" class=\"data row20 col12\" >0.260833</td>\n",
       "                        <td id=\"T_d4be8_row20_col13\" class=\"data row20 col13\" >0.299475</td>\n",
       "                        <td id=\"T_d4be8_row20_col14\" class=\"data row20 col14\" >0.050986</td>\n",
       "                        <td id=\"T_d4be8_row20_col15\" class=\"data row20 col15\" >0.004779</td>\n",
       "                        <td id=\"T_d4be8_row20_col16\" class=\"data row20 col16\" >0.263116</td>\n",
       "                        <td id=\"T_d4be8_row20_col17\" class=\"data row20 col17\" >0.158155</td>\n",
       "                        <td id=\"T_d4be8_row20_col18\" class=\"data row20 col18\" >0.048046</td>\n",
       "                        <td id=\"T_d4be8_row20_col19\" class=\"data row20 col19\" >0.126031</td>\n",
       "                        <td id=\"T_d4be8_row20_col20\" class=\"data row20 col20\" >0.014259</td>\n",
       "                        <td id=\"T_d4be8_row20_col21\" class=\"data row20 col21\" >0.119690</td>\n",
       "                        <td id=\"T_d4be8_row20_col22\" class=\"data row20 col22\" >-0.017784</td>\n",
       "                        <td id=\"T_d4be8_row20_col23\" class=\"data row20 col23\" >0.190015</td>\n",
       "                        <td id=\"T_d4be8_row20_col24\" class=\"data row20 col24\" >0.271364</td>\n",
       "                        <td id=\"T_d4be8_row20_col25\" class=\"data row20 col25\" >-0.024947</td>\n",
       "                        <td id=\"T_d4be8_row20_col26\" class=\"data row20 col26\" >0.154871</td>\n",
       "                        <td id=\"T_d4be8_row20_col27\" class=\"data row20 col27\" >0.180403</td>\n",
       "                        <td id=\"T_d4be8_row20_col28\" class=\"data row20 col28\" >0.171698</td>\n",
       "                        <td id=\"T_d4be8_row20_col29\" class=\"data row20 col29\" >0.084774</td>\n",
       "                        <td id=\"T_d4be8_row20_col30\" class=\"data row20 col30\" >-0.018340</td>\n",
       "                        <td id=\"T_d4be8_row20_col31\" class=\"data row20 col31\" >0.020423</td>\n",
       "                        <td id=\"T_d4be8_row20_col32\" class=\"data row20 col32\" >0.043160</td>\n",
       "                        <td id=\"T_d4be8_row20_col33\" class=\"data row20 col33\" >0.077672</td>\n",
       "                        <td id=\"T_d4be8_row20_col34\" class=\"data row20 col34\" >0.038068</td>\n",
       "                        <td id=\"T_d4be8_row20_col35\" class=\"data row20 col35\" >0.001205</td>\n",
       "                        <td id=\"T_d4be8_row20_col36\" class=\"data row20 col36\" >-0.014261</td>\n",
       "                        <td id=\"T_d4be8_row20_col37\" class=\"data row20 col37\" >0.263843</td>\n",
       "            </tr>\n",
       "            <tr>\n",
       "                        <th id=\"T_d4be8_level0_row21\" class=\"row_heading level0 row21\" >BsmtFullBath</th>\n",
       "                        <td id=\"T_d4be8_row21_col0\" class=\"data row21 col0\" >0.002289</td>\n",
       "                        <td id=\"T_d4be8_row21_col1\" class=\"data row21 col1\" >0.003491</td>\n",
       "                        <td id=\"T_d4be8_row21_col2\" class=\"data row21 col2\" >0.100949</td>\n",
       "                        <td id=\"T_d4be8_row21_col3\" class=\"data row21 col3\" >0.158155</td>\n",
       "                        <td id=\"T_d4be8_row21_col4\" class=\"data row21 col4\" >0.111098</td>\n",
       "                        <td id=\"T_d4be8_row21_col5\" class=\"data row21 col5\" >-0.054942</td>\n",
       "                        <td id=\"T_d4be8_row21_col6\" class=\"data row21 col6\" >0.187599</td>\n",
       "                        <td id=\"T_d4be8_row21_col7\" class=\"data row21 col7\" >0.119470</td>\n",
       "                        <td id=\"T_d4be8_row21_col8\" class=\"data row21 col8\" >0.085310</td>\n",
       "                        <td id=\"T_d4be8_row21_col9\" class=\"data row21 col9\" >0.649212</td>\n",
       "                        <td id=\"T_d4be8_row21_col10\" class=\"data row21 col10\" >0.158678</td>\n",
       "                        <td id=\"T_d4be8_row21_col11\" class=\"data row21 col11\" >-0.422900</td>\n",
       "                        <td id=\"T_d4be8_row21_col12\" class=\"data row21 col12\" >0.307351</td>\n",
       "                        <td id=\"T_d4be8_row21_col13\" class=\"data row21 col13\" >0.244671</td>\n",
       "                        <td id=\"T_d4be8_row21_col14\" class=\"data row21 col14\" >-0.169494</td>\n",
       "                        <td id=\"T_d4be8_row21_col15\" class=\"data row21 col15\" >-0.047143</td>\n",
       "                        <td id=\"T_d4be8_row21_col16\" class=\"data row21 col16\" >0.034836</td>\n",
       "                        <td id=\"T_d4be8_row21_col17\" class=\"data row21 col17\" >1.000000</td>\n",
       "                        <td id=\"T_d4be8_row21_col18\" class=\"data row21 col18\" >-0.147871</td>\n",
       "                        <td id=\"T_d4be8_row21_col19\" class=\"data row21 col19\" >-0.064512</td>\n",
       "                        <td id=\"T_d4be8_row21_col20\" class=\"data row21 col20\" >-0.030905</td>\n",
       "                        <td id=\"T_d4be8_row21_col21\" class=\"data row21 col21\" >-0.150673</td>\n",
       "                        <td id=\"T_d4be8_row21_col22\" class=\"data row21 col22\" >-0.041503</td>\n",
       "                        <td id=\"T_d4be8_row21_col23\" class=\"data row21 col23\" >-0.053275</td>\n",
       "                        <td id=\"T_d4be8_row21_col24\" class=\"data row21 col24\" >0.137928</td>\n",
       "                        <td id=\"T_d4be8_row21_col25\" class=\"data row21 col25\" >0.124553</td>\n",
       "                        <td id=\"T_d4be8_row21_col26\" class=\"data row21 col26\" >0.131881</td>\n",
       "                        <td id=\"T_d4be8_row21_col27\" class=\"data row21 col27\" >0.179189</td>\n",
       "                        <td id=\"T_d4be8_row21_col28\" class=\"data row21 col28\" >0.175315</td>\n",
       "                        <td id=\"T_d4be8_row21_col29\" class=\"data row21 col29\" >0.067341</td>\n",
       "                        <td id=\"T_d4be8_row21_col30\" class=\"data row21 col30\" >-0.049911</td>\n",
       "                        <td id=\"T_d4be8_row21_col31\" class=\"data row21 col31\" >-0.000106</td>\n",
       "                        <td id=\"T_d4be8_row21_col32\" class=\"data row21 col32\" >0.023148</td>\n",
       "                        <td id=\"T_d4be8_row21_col33\" class=\"data row21 col33\" >0.067616</td>\n",
       "                        <td id=\"T_d4be8_row21_col34\" class=\"data row21 col34\" >-0.023047</td>\n",
       "                        <td id=\"T_d4be8_row21_col35\" class=\"data row21 col35\" >-0.025361</td>\n",
       "                        <td id=\"T_d4be8_row21_col36\" class=\"data row21 col36\" >0.067049</td>\n",
       "                        <td id=\"T_d4be8_row21_col37\" class=\"data row21 col37\" >0.227122</td>\n",
       "            </tr>\n",
       "            <tr>\n",
       "                        <th id=\"T_d4be8_level0_row22\" class=\"row_heading level0 row22\" >BsmtUnfSF</th>\n",
       "                        <td id=\"T_d4be8_row22_col0\" class=\"data row22 col0\" >-0.007940</td>\n",
       "                        <td id=\"T_d4be8_row22_col1\" class=\"data row22 col1\" >-0.140759</td>\n",
       "                        <td id=\"T_d4be8_row22_col2\" class=\"data row22 col2\" >0.132644</td>\n",
       "                        <td id=\"T_d4be8_row22_col3\" class=\"data row22 col3\" >-0.002618</td>\n",
       "                        <td id=\"T_d4be8_row22_col4\" class=\"data row22 col4\" >0.308159</td>\n",
       "                        <td id=\"T_d4be8_row22_col5\" class=\"data row22 col5\" >-0.136841</td>\n",
       "                        <td id=\"T_d4be8_row22_col6\" class=\"data row22 col6\" >0.149040</td>\n",
       "                        <td id=\"T_d4be8_row22_col7\" class=\"data row22 col7\" >0.181133</td>\n",
       "                        <td id=\"T_d4be8_row22_col8\" class=\"data row22 col8\" >0.114442</td>\n",
       "                        <td id=\"T_d4be8_row22_col9\" class=\"data row22 col9\" >-0.495251</td>\n",
       "                        <td id=\"T_d4be8_row22_col10\" class=\"data row22 col10\" >-0.209294</td>\n",
       "                        <td id=\"T_d4be8_row22_col11\" class=\"data row22 col11\" >1.000000</td>\n",
       "                        <td id=\"T_d4be8_row22_col12\" class=\"data row22 col12\" >0.415360</td>\n",
       "                        <td id=\"T_d4be8_row22_col13\" class=\"data row22 col13\" >0.317987</td>\n",
       "                        <td id=\"T_d4be8_row22_col14\" class=\"data row22 col14\" >0.004469</td>\n",
       "                        <td id=\"T_d4be8_row22_col15\" class=\"data row22 col15\" >0.028167</td>\n",
       "                        <td id=\"T_d4be8_row22_col16\" class=\"data row22 col16\" >0.240257</td>\n",
       "                        <td id=\"T_d4be8_row22_col17\" class=\"data row22 col17\" >-0.422900</td>\n",
       "                        <td id=\"T_d4be8_row22_col18\" class=\"data row22 col18\" >-0.095804</td>\n",
       "                        <td id=\"T_d4be8_row22_col19\" class=\"data row22 col19\" >0.288886</td>\n",
       "                        <td id=\"T_d4be8_row22_col20\" class=\"data row22 col20\" >-0.041118</td>\n",
       "                        <td id=\"T_d4be8_row22_col21\" class=\"data row22 col21\" >0.166643</td>\n",
       "                        <td id=\"T_d4be8_row22_col22\" class=\"data row22 col22\" >0.030086</td>\n",
       "                        <td id=\"T_d4be8_row22_col23\" class=\"data row22 col23\" >0.250647</td>\n",
       "                        <td id=\"T_d4be8_row22_col24\" class=\"data row22 col24\" >0.051575</td>\n",
       "                        <td id=\"T_d4be8_row22_col25\" class=\"data row22 col25\" >0.190708</td>\n",
       "                        <td id=\"T_d4be8_row22_col26\" class=\"data row22 col26\" >0.214175</td>\n",
       "                        <td id=\"T_d4be8_row22_col27\" class=\"data row22 col27\" >0.183303</td>\n",
       "                        <td id=\"T_d4be8_row22_col28\" class=\"data row22 col28\" >-0.005316</td>\n",
       "                        <td id=\"T_d4be8_row22_col29\" class=\"data row22 col29\" >0.129005</td>\n",
       "                        <td id=\"T_d4be8_row22_col30\" class=\"data row22 col30\" >-0.002538</td>\n",
       "                        <td id=\"T_d4be8_row22_col31\" class=\"data row22 col31\" >0.020764</td>\n",
       "                        <td id=\"T_d4be8_row22_col32\" class=\"data row22 col32\" >-0.012579</td>\n",
       "                        <td id=\"T_d4be8_row22_col33\" class=\"data row22 col33\" >-0.035092</td>\n",
       "                        <td id=\"T_d4be8_row22_col34\" class=\"data row22 col34\" >-0.023837</td>\n",
       "                        <td id=\"T_d4be8_row22_col35\" class=\"data row22 col35\" >0.034888</td>\n",
       "                        <td id=\"T_d4be8_row22_col36\" class=\"data row22 col36\" >-0.041258</td>\n",
       "                        <td id=\"T_d4be8_row22_col37\" class=\"data row22 col37\" >0.214479</td>\n",
       "            </tr>\n",
       "            <tr>\n",
       "                        <th id=\"T_d4be8_level0_row23\" class=\"row_heading level0 row23\" >BedroomAbvGr</th>\n",
       "                        <td id=\"T_d4be8_row23_col0\" class=\"data row23 col0\" >0.037719</td>\n",
       "                        <td id=\"T_d4be8_row23_col1\" class=\"data row23 col1\" >-0.023438</td>\n",
       "                        <td id=\"T_d4be8_row23_col2\" class=\"data row23 col2\" >0.263170</td>\n",
       "                        <td id=\"T_d4be8_row23_col3\" class=\"data row23 col3\" >0.119690</td>\n",
       "                        <td id=\"T_d4be8_row23_col4\" class=\"data row23 col4\" >0.101676</td>\n",
       "                        <td id=\"T_d4be8_row23_col5\" class=\"data row23 col5\" >0.012980</td>\n",
       "                        <td id=\"T_d4be8_row23_col6\" class=\"data row23 col6\" >-0.070651</td>\n",
       "                        <td id=\"T_d4be8_row23_col7\" class=\"data row23 col7\" >-0.040581</td>\n",
       "                        <td id=\"T_d4be8_row23_col8\" class=\"data row23 col8\" >0.102821</td>\n",
       "                        <td id=\"T_d4be8_row23_col9\" class=\"data row23 col9\" >-0.107355</td>\n",
       "                        <td id=\"T_d4be8_row23_col10\" class=\"data row23 col10\" >-0.015728</td>\n",
       "                        <td id=\"T_d4be8_row23_col11\" class=\"data row23 col11\" >0.166643</td>\n",
       "                        <td id=\"T_d4be8_row23_col12\" class=\"data row23 col12\" >0.050450</td>\n",
       "                        <td id=\"T_d4be8_row23_col13\" class=\"data row23 col13\" >0.127401</td>\n",
       "                        <td id=\"T_d4be8_row23_col14\" class=\"data row23 col14\" >0.502901</td>\n",
       "                        <td id=\"T_d4be8_row23_col15\" class=\"data row23 col15\" >0.105607</td>\n",
       "                        <td id=\"T_d4be8_row23_col16\" class=\"data row23 col16\" >0.521270</td>\n",
       "                        <td id=\"T_d4be8_row23_col17\" class=\"data row23 col17\" >-0.150673</td>\n",
       "                        <td id=\"T_d4be8_row23_col18\" class=\"data row23 col18\" >0.046519</td>\n",
       "                        <td id=\"T_d4be8_row23_col19\" class=\"data row23 col19\" >0.363252</td>\n",
       "                        <td id=\"T_d4be8_row23_col20\" class=\"data row23 col20\" >0.226651</td>\n",
       "                        <td id=\"T_d4be8_row23_col21\" class=\"data row23 col21\" >1.000000</td>\n",
       "                        <td id=\"T_d4be8_row23_col22\" class=\"data row23 col22\" >0.198597</td>\n",
       "                        <td id=\"T_d4be8_row23_col23\" class=\"data row23 col23\" >0.676620</td>\n",
       "                        <td id=\"T_d4be8_row23_col24\" class=\"data row23 col24\" >0.107570</td>\n",
       "                        <td id=\"T_d4be8_row23_col25\" class=\"data row23 col25\" >-0.064518</td>\n",
       "                        <td id=\"T_d4be8_row23_col26\" class=\"data row23 col26\" >0.086106</td>\n",
       "                        <td id=\"T_d4be8_row23_col27\" class=\"data row23 col27\" >0.065253</td>\n",
       "                        <td id=\"T_d4be8_row23_col28\" class=\"data row23 col28\" >0.046854</td>\n",
       "                        <td id=\"T_d4be8_row23_col29\" class=\"data row23 col29\" >0.093810</td>\n",
       "                        <td id=\"T_d4be8_row23_col30\" class=\"data row23 col30\" >0.041570</td>\n",
       "                        <td id=\"T_d4be8_row23_col31\" class=\"data row23 col31\" >-0.024478</td>\n",
       "                        <td id=\"T_d4be8_row23_col32\" class=\"data row23 col32\" >0.044300</td>\n",
       "                        <td id=\"T_d4be8_row23_col33\" class=\"data row23 col33\" >0.070703</td>\n",
       "                        <td id=\"T_d4be8_row23_col34\" class=\"data row23 col34\" >0.007767</td>\n",
       "                        <td id=\"T_d4be8_row23_col35\" class=\"data row23 col35\" >0.046544</td>\n",
       "                        <td id=\"T_d4be8_row23_col36\" class=\"data row23 col36\" >-0.036014</td>\n",
       "                        <td id=\"T_d4be8_row23_col37\" class=\"data row23 col37\" >0.168213</td>\n",
       "            </tr>\n",
       "            <tr>\n",
       "                        <th id=\"T_d4be8_level0_row24\" class=\"row_heading level0 row24\" >ScreenPorch</th>\n",
       "                        <td id=\"T_d4be8_row24_col0\" class=\"data row24 col0\" >0.001330</td>\n",
       "                        <td id=\"T_d4be8_row24_col1\" class=\"data row24 col1\" >-0.026030</td>\n",
       "                        <td id=\"T_d4be8_row24_col2\" class=\"data row24 col2\" >0.041383</td>\n",
       "                        <td id=\"T_d4be8_row24_col3\" class=\"data row24 col3\" >0.043160</td>\n",
       "                        <td id=\"T_d4be8_row24_col4\" class=\"data row24 col4\" >0.064886</td>\n",
       "                        <td id=\"T_d4be8_row24_col5\" class=\"data row24 col5\" >0.054811</td>\n",
       "                        <td id=\"T_d4be8_row24_col6\" class=\"data row24 col6\" >-0.050364</td>\n",
       "                        <td id=\"T_d4be8_row24_col7\" class=\"data row24 col7\" >-0.038740</td>\n",
       "                        <td id=\"T_d4be8_row24_col8\" class=\"data row24 col8\" >0.061466</td>\n",
       "                        <td id=\"T_d4be8_row24_col9\" class=\"data row24 col9\" >0.062021</td>\n",
       "                        <td id=\"T_d4be8_row24_col10\" class=\"data row24 col10\" >0.088871</td>\n",
       "                        <td id=\"T_d4be8_row24_col11\" class=\"data row24 col11\" >-0.012579</td>\n",
       "                        <td id=\"T_d4be8_row24_col12\" class=\"data row24 col12\" >0.084489</td>\n",
       "                        <td id=\"T_d4be8_row24_col13\" class=\"data row24 col13\" >0.088758</td>\n",
       "                        <td id=\"T_d4be8_row24_col14\" class=\"data row24 col14\" >0.040606</td>\n",
       "                        <td id=\"T_d4be8_row24_col15\" class=\"data row24 col15\" >0.026799</td>\n",
       "                        <td id=\"T_d4be8_row24_col16\" class=\"data row24 col16\" >0.101510</td>\n",
       "                        <td id=\"T_d4be8_row24_col17\" class=\"data row24 col17\" >0.023148</td>\n",
       "                        <td id=\"T_d4be8_row24_col18\" class=\"data row24 col18\" >0.032121</td>\n",
       "                        <td id=\"T_d4be8_row24_col19\" class=\"data row24 col19\" >-0.008106</td>\n",
       "                        <td id=\"T_d4be8_row24_col20\" class=\"data row24 col20\" >0.072426</td>\n",
       "                        <td id=\"T_d4be8_row24_col21\" class=\"data row24 col21\" >0.044300</td>\n",
       "                        <td id=\"T_d4be8_row24_col22\" class=\"data row24 col22\" >-0.051613</td>\n",
       "                        <td id=\"T_d4be8_row24_col23\" class=\"data row24 col23\" >0.059383</td>\n",
       "                        <td id=\"T_d4be8_row24_col24\" class=\"data row24 col24\" >0.184530</td>\n",
       "                        <td id=\"T_d4be8_row24_col25\" class=\"data row24 col25\" >-0.075418</td>\n",
       "                        <td id=\"T_d4be8_row24_col26\" class=\"data row24 col26\" >0.050494</td>\n",
       "                        <td id=\"T_d4be8_row24_col27\" class=\"data row24 col27\" >0.051412</td>\n",
       "                        <td id=\"T_d4be8_row24_col28\" class=\"data row24 col28\" >-0.074181</td>\n",
       "                        <td id=\"T_d4be8_row24_col29\" class=\"data row24 col29\" >0.074304</td>\n",
       "                        <td id=\"T_d4be8_row24_col30\" class=\"data row24 col30\" >-0.082864</td>\n",
       "                        <td id=\"T_d4be8_row24_col31\" class=\"data row24 col31\" >-0.031436</td>\n",
       "                        <td id=\"T_d4be8_row24_col32\" class=\"data row24 col32\" >1.000000</td>\n",
       "                        <td id=\"T_d4be8_row24_col33\" class=\"data row24 col33\" >0.051307</td>\n",
       "                        <td id=\"T_d4be8_row24_col34\" class=\"data row24 col34\" >0.031946</td>\n",
       "                        <td id=\"T_d4be8_row24_col35\" class=\"data row24 col35\" >0.023217</td>\n",
       "                        <td id=\"T_d4be8_row24_col36\" class=\"data row24 col36\" >0.010694</td>\n",
       "                        <td id=\"T_d4be8_row24_col37\" class=\"data row24 col37\" >0.111447</td>\n",
       "            </tr>\n",
       "            <tr>\n",
       "                        <th id=\"T_d4be8_level0_row25\" class=\"row_heading level0 row25\" >PoolArea</th>\n",
       "                        <td id=\"T_d4be8_row25_col0\" class=\"data row25 col0\" >0.057044</td>\n",
       "                        <td id=\"T_d4be8_row25_col1\" class=\"data row25 col1\" >0.008283</td>\n",
       "                        <td id=\"T_d4be8_row25_col2\" class=\"data row25 col2\" >0.206167</td>\n",
       "                        <td id=\"T_d4be8_row25_col3\" class=\"data row25 col3\" >0.077672</td>\n",
       "                        <td id=\"T_d4be8_row25_col4\" class=\"data row25 col4\" >0.065166</td>\n",
       "                        <td id=\"T_d4be8_row25_col5\" class=\"data row25 col5\" >-0.001985</td>\n",
       "                        <td id=\"T_d4be8_row25_col6\" class=\"data row25 col6\" >0.004950</td>\n",
       "                        <td id=\"T_d4be8_row25_col7\" class=\"data row25 col7\" >0.005829</td>\n",
       "                        <td id=\"T_d4be8_row25_col8\" class=\"data row25 col8\" >0.011723</td>\n",
       "                        <td id=\"T_d4be8_row25_col9\" class=\"data row25 col9\" >0.140491</td>\n",
       "                        <td id=\"T_d4be8_row25_col10\" class=\"data row25 col10\" >0.041709</td>\n",
       "                        <td id=\"T_d4be8_row25_col11\" class=\"data row25 col11\" >-0.035092</td>\n",
       "                        <td id=\"T_d4be8_row25_col12\" class=\"data row25 col12\" >0.126053</td>\n",
       "                        <td id=\"T_d4be8_row25_col13\" class=\"data row25 col13\" >0.131525</td>\n",
       "                        <td id=\"T_d4be8_row25_col14\" class=\"data row25 col14\" >0.081487</td>\n",
       "                        <td id=\"T_d4be8_row25_col15\" class=\"data row25 col15\" >0.062157</td>\n",
       "                        <td id=\"T_d4be8_row25_col16\" class=\"data row25 col16\" >0.170205</td>\n",
       "                        <td id=\"T_d4be8_row25_col17\" class=\"data row25 col17\" >0.067616</td>\n",
       "                        <td id=\"T_d4be8_row25_col18\" class=\"data row25 col18\" >0.020025</td>\n",
       "                        <td id=\"T_d4be8_row25_col19\" class=\"data row25 col19\" >0.049604</td>\n",
       "                        <td id=\"T_d4be8_row25_col20\" class=\"data row25 col20\" >0.022381</td>\n",
       "                        <td id=\"T_d4be8_row25_col21\" class=\"data row25 col21\" >0.070703</td>\n",
       "                        <td id=\"T_d4be8_row25_col22\" class=\"data row25 col22\" >-0.014525</td>\n",
       "                        <td id=\"T_d4be8_row25_col23\" class=\"data row25 col23\" >0.083757</td>\n",
       "                        <td id=\"T_d4be8_row25_col24\" class=\"data row25 col24\" >0.095074</td>\n",
       "                        <td id=\"T_d4be8_row25_col25\" class=\"data row25 col25\" >-0.014501</td>\n",
       "                        <td id=\"T_d4be8_row25_col26\" class=\"data row25 col26\" >0.020934</td>\n",
       "                        <td id=\"T_d4be8_row25_col27\" class=\"data row25 col27\" >0.061047</td>\n",
       "                        <td id=\"T_d4be8_row25_col28\" class=\"data row25 col28\" >0.073378</td>\n",
       "                        <td id=\"T_d4be8_row25_col29\" class=\"data row25 col29\" >0.060762</td>\n",
       "                        <td id=\"T_d4be8_row25_col30\" class=\"data row25 col30\" >0.054203</td>\n",
       "                        <td id=\"T_d4be8_row25_col31\" class=\"data row25 col31\" >-0.007992</td>\n",
       "                        <td id=\"T_d4be8_row25_col32\" class=\"data row25 col32\" >0.051307</td>\n",
       "                        <td id=\"T_d4be8_row25_col33\" class=\"data row25 col33\" >1.000000</td>\n",
       "                        <td id=\"T_d4be8_row25_col34\" class=\"data row25 col34\" >0.029669</td>\n",
       "                        <td id=\"T_d4be8_row25_col35\" class=\"data row25 col35\" >-0.033737</td>\n",
       "                        <td id=\"T_d4be8_row25_col36\" class=\"data row25 col36\" >-0.059689</td>\n",
       "                        <td id=\"T_d4be8_row25_col37\" class=\"data row25 col37\" >0.092404</td>\n",
       "            </tr>\n",
       "            <tr>\n",
       "                        <th id=\"T_d4be8_level0_row26\" class=\"row_heading level0 row26\" >MoSold</th>\n",
       "                        <td id=\"T_d4be8_row26_col0\" class=\"data row26 col0\" >0.021172</td>\n",
       "                        <td id=\"T_d4be8_row26_col1\" class=\"data row26 col1\" >-0.013585</td>\n",
       "                        <td id=\"T_d4be8_row26_col2\" class=\"data row26 col2\" >0.011200</td>\n",
       "                        <td id=\"T_d4be8_row26_col3\" class=\"data row26 col3\" >0.001205</td>\n",
       "                        <td id=\"T_d4be8_row26_col4\" class=\"data row26 col4\" >0.070815</td>\n",
       "                        <td id=\"T_d4be8_row26_col5\" class=\"data row26 col5\" >-0.003511</td>\n",
       "                        <td id=\"T_d4be8_row26_col6\" class=\"data row26 col6\" >0.012398</td>\n",
       "                        <td id=\"T_d4be8_row26_col7\" class=\"data row26 col7\" >0.021490</td>\n",
       "                        <td id=\"T_d4be8_row26_col8\" class=\"data row26 col8\" >-0.005965</td>\n",
       "                        <td id=\"T_d4be8_row26_col9\" class=\"data row26 col9\" >-0.015727</td>\n",
       "                        <td id=\"T_d4be8_row26_col10\" class=\"data row26 col10\" >-0.015211</td>\n",
       "                        <td id=\"T_d4be8_row26_col11\" class=\"data row26 col11\" >0.034888</td>\n",
       "                        <td id=\"T_d4be8_row26_col12\" class=\"data row26 col12\" >0.013196</td>\n",
       "                        <td id=\"T_d4be8_row26_col13\" class=\"data row26 col13\" >0.031372</td>\n",
       "                        <td id=\"T_d4be8_row26_col14\" class=\"data row26 col14\" >0.035164</td>\n",
       "                        <td id=\"T_d4be8_row26_col15\" class=\"data row26 col15\" >-0.022174</td>\n",
       "                        <td id=\"T_d4be8_row26_col16\" class=\"data row26 col16\" >0.050240</td>\n",
       "                        <td id=\"T_d4be8_row26_col17\" class=\"data row26 col17\" >-0.025361</td>\n",
       "                        <td id=\"T_d4be8_row26_col18\" class=\"data row26 col18\" >0.032873</td>\n",
       "                        <td id=\"T_d4be8_row26_col19\" class=\"data row26 col19\" >0.055872</td>\n",
       "                        <td id=\"T_d4be8_row26_col20\" class=\"data row26 col20\" >-0.009050</td>\n",
       "                        <td id=\"T_d4be8_row26_col21\" class=\"data row26 col21\" >0.046544</td>\n",
       "                        <td id=\"T_d4be8_row26_col22\" class=\"data row26 col22\" >0.026589</td>\n",
       "                        <td id=\"T_d4be8_row26_col23\" class=\"data row26 col23\" >0.036907</td>\n",
       "                        <td id=\"T_d4be8_row26_col24\" class=\"data row26 col24\" >0.046357</td>\n",
       "                        <td id=\"T_d4be8_row26_col25\" class=\"data row26 col25\" >0.005337</td>\n",
       "                        <td id=\"T_d4be8_row26_col26\" class=\"data row26 col26\" >0.040522</td>\n",
       "                        <td id=\"T_d4be8_row26_col27\" class=\"data row26 col27\" >0.027974</td>\n",
       "                        <td id=\"T_d4be8_row26_col28\" class=\"data row26 col28\" >0.021011</td>\n",
       "                        <td id=\"T_d4be8_row26_col29\" class=\"data row26 col29\" >0.071255</td>\n",
       "                        <td id=\"T_d4be8_row26_col30\" class=\"data row26 col30\" >-0.028887</td>\n",
       "                        <td id=\"T_d4be8_row26_col31\" class=\"data row26 col31\" >0.029474</td>\n",
       "                        <td id=\"T_d4be8_row26_col32\" class=\"data row26 col32\" >0.023217</td>\n",
       "                        <td id=\"T_d4be8_row26_col33\" class=\"data row26 col33\" >-0.033737</td>\n",
       "                        <td id=\"T_d4be8_row26_col34\" class=\"data row26 col34\" >-0.006495</td>\n",
       "                        <td id=\"T_d4be8_row26_col35\" class=\"data row26 col35\" >1.000000</td>\n",
       "                        <td id=\"T_d4be8_row26_col36\" class=\"data row26 col36\" >-0.145721</td>\n",
       "                        <td id=\"T_d4be8_row26_col37\" class=\"data row26 col37\" >0.046432</td>\n",
       "            </tr>\n",
       "            <tr>\n",
       "                        <th id=\"T_d4be8_level0_row27\" class=\"row_heading level0 row27\" >3SsnPorch</th>\n",
       "                        <td id=\"T_d4be8_row27_col0\" class=\"data row27 col0\" >-0.046635</td>\n",
       "                        <td id=\"T_d4be8_row27_col1\" class=\"data row27 col1\" >-0.043825</td>\n",
       "                        <td id=\"T_d4be8_row27_col2\" class=\"data row27 col2\" >0.070029</td>\n",
       "                        <td id=\"T_d4be8_row27_col3\" class=\"data row27 col3\" >0.020423</td>\n",
       "                        <td id=\"T_d4be8_row27_col4\" class=\"data row27 col4\" >0.030371</td>\n",
       "                        <td id=\"T_d4be8_row27_col5\" class=\"data row27 col5\" >0.025504</td>\n",
       "                        <td id=\"T_d4be8_row27_col6\" class=\"data row27 col6\" >0.031355</td>\n",
       "                        <td id=\"T_d4be8_row27_col7\" class=\"data row27 col7\" >0.045286</td>\n",
       "                        <td id=\"T_d4be8_row27_col8\" class=\"data row27 col8\" >0.018796</td>\n",
       "                        <td id=\"T_d4be8_row27_col9\" class=\"data row27 col9\" >0.026451</td>\n",
       "                        <td id=\"T_d4be8_row27_col10\" class=\"data row27 col10\" >-0.029993</td>\n",
       "                        <td id=\"T_d4be8_row27_col11\" class=\"data row27 col11\" >0.020764</td>\n",
       "                        <td id=\"T_d4be8_row27_col12\" class=\"data row27 col12\" >0.037384</td>\n",
       "                        <td id=\"T_d4be8_row27_col13\" class=\"data row27 col13\" >0.056104</td>\n",
       "                        <td id=\"T_d4be8_row27_col14\" class=\"data row27 col14\" >-0.024358</td>\n",
       "                        <td id=\"T_d4be8_row27_col15\" class=\"data row27 col15\" >-0.004296</td>\n",
       "                        <td id=\"T_d4be8_row27_col16\" class=\"data row27 col16\" >0.020643</td>\n",
       "                        <td id=\"T_d4be8_row27_col17\" class=\"data row27 col17\" >-0.000106</td>\n",
       "                        <td id=\"T_d4be8_row27_col18\" class=\"data row27 col18\" >0.035114</td>\n",
       "                        <td id=\"T_d4be8_row27_col19\" class=\"data row27 col19\" >0.035353</td>\n",
       "                        <td id=\"T_d4be8_row27_col20\" class=\"data row27 col20\" >-0.004972</td>\n",
       "                        <td id=\"T_d4be8_row27_col21\" class=\"data row27 col21\" >-0.024478</td>\n",
       "                        <td id=\"T_d4be8_row27_col22\" class=\"data row27 col22\" >-0.024600</td>\n",
       "                        <td id=\"T_d4be8_row27_col23\" class=\"data row27 col23\" >-0.006683</td>\n",
       "                        <td id=\"T_d4be8_row27_col24\" class=\"data row27 col24\" >0.011257</td>\n",
       "                        <td id=\"T_d4be8_row27_col25\" class=\"data row27 col25\" >0.023544</td>\n",
       "                        <td id=\"T_d4be8_row27_col26\" class=\"data row27 col26\" >0.035765</td>\n",
       "                        <td id=\"T_d4be8_row27_col27\" class=\"data row27 col27\" >0.035087</td>\n",
       "                        <td id=\"T_d4be8_row27_col28\" class=\"data row27 col28\" >-0.032771</td>\n",
       "                        <td id=\"T_d4be8_row27_col29\" class=\"data row27 col29\" >-0.005842</td>\n",
       "                        <td id=\"T_d4be8_row27_col30\" class=\"data row27 col30\" >-0.037305</td>\n",
       "                        <td id=\"T_d4be8_row27_col31\" class=\"data row27 col31\" >1.000000</td>\n",
       "                        <td id=\"T_d4be8_row27_col32\" class=\"data row27 col32\" >-0.031436</td>\n",
       "                        <td id=\"T_d4be8_row27_col33\" class=\"data row27 col33\" >-0.007992</td>\n",
       "                        <td id=\"T_d4be8_row27_col34\" class=\"data row27 col34\" >0.000354</td>\n",
       "                        <td id=\"T_d4be8_row27_col35\" class=\"data row27 col35\" >0.029474</td>\n",
       "                        <td id=\"T_d4be8_row27_col36\" class=\"data row27 col36\" >0.018645</td>\n",
       "                        <td id=\"T_d4be8_row27_col37\" class=\"data row27 col37\" >0.044584</td>\n",
       "            </tr>\n",
       "            <tr>\n",
       "                        <th id=\"T_d4be8_level0_row28\" class=\"row_heading level0 row28\" >BsmtFinSF2</th>\n",
       "                        <td id=\"T_d4be8_row28_col0\" class=\"data row28 col0\" >-0.005968</td>\n",
       "                        <td id=\"T_d4be8_row28_col1\" class=\"data row28 col1\" >-0.065649</td>\n",
       "                        <td id=\"T_d4be8_row28_col2\" class=\"data row28 col2\" >0.049900</td>\n",
       "                        <td id=\"T_d4be8_row28_col3\" class=\"data row28 col3\" >0.111170</td>\n",
       "                        <td id=\"T_d4be8_row28_col4\" class=\"data row28 col4\" >-0.059119</td>\n",
       "                        <td id=\"T_d4be8_row28_col5\" class=\"data row28 col5\" >0.040229</td>\n",
       "                        <td id=\"T_d4be8_row28_col6\" class=\"data row28 col6\" >-0.049107</td>\n",
       "                        <td id=\"T_d4be8_row28_col7\" class=\"data row28 col7\" >-0.067759</td>\n",
       "                        <td id=\"T_d4be8_row28_col8\" class=\"data row28 col8\" >-0.072319</td>\n",
       "                        <td id=\"T_d4be8_row28_col9\" class=\"data row28 col9\" >-0.050117</td>\n",
       "                        <td id=\"T_d4be8_row28_col10\" class=\"data row28 col10\" >1.000000</td>\n",
       "                        <td id=\"T_d4be8_row28_col11\" class=\"data row28 col11\" >-0.209294</td>\n",
       "                        <td id=\"T_d4be8_row28_col12\" class=\"data row28 col12\" >0.104810</td>\n",
       "                        <td id=\"T_d4be8_row28_col13\" class=\"data row28 col13\" >0.097117</td>\n",
       "                        <td id=\"T_d4be8_row28_col14\" class=\"data row28 col14\" >-0.099260</td>\n",
       "                        <td id=\"T_d4be8_row28_col15\" class=\"data row28 col15\" >0.014807</td>\n",
       "                        <td id=\"T_d4be8_row28_col16\" class=\"data row28 col16\" >-0.009640</td>\n",
       "                        <td id=\"T_d4be8_row28_col17\" class=\"data row28 col17\" >0.158678</td>\n",
       "                        <td id=\"T_d4be8_row28_col18\" class=\"data row28 col18\" >0.070948</td>\n",
       "                        <td id=\"T_d4be8_row28_col19\" class=\"data row28 col19\" >-0.076444</td>\n",
       "                        <td id=\"T_d4be8_row28_col20\" class=\"data row28 col20\" >-0.032148</td>\n",
       "                        <td id=\"T_d4be8_row28_col21\" class=\"data row28 col21\" >-0.015728</td>\n",
       "                        <td id=\"T_d4be8_row28_col22\" class=\"data row28 col22\" >-0.040751</td>\n",
       "                        <td id=\"T_d4be8_row28_col23\" class=\"data row28 col23\" >-0.035227</td>\n",
       "                        <td id=\"T_d4be8_row28_col24\" class=\"data row28 col24\" >0.046921</td>\n",
       "                        <td id=\"T_d4be8_row28_col25\" class=\"data row28 col25\" >-0.088011</td>\n",
       "                        <td id=\"T_d4be8_row28_col26\" class=\"data row28 col26\" >-0.038264</td>\n",
       "                        <td id=\"T_d4be8_row28_col27\" class=\"data row28 col27\" >-0.018227</td>\n",
       "                        <td id=\"T_d4be8_row28_col28\" class=\"data row28 col28\" >0.067898</td>\n",
       "                        <td id=\"T_d4be8_row28_col29\" class=\"data row28 col29\" >0.003093</td>\n",
       "                        <td id=\"T_d4be8_row28_col30\" class=\"data row28 col30\" >0.036543</td>\n",
       "                        <td id=\"T_d4be8_row28_col31\" class=\"data row28 col31\" >-0.029993</td>\n",
       "                        <td id=\"T_d4be8_row28_col32\" class=\"data row28 col32\" >0.088871</td>\n",
       "                        <td id=\"T_d4be8_row28_col33\" class=\"data row28 col33\" >0.041709</td>\n",
       "                        <td id=\"T_d4be8_row28_col34\" class=\"data row28 col34\" >0.004940</td>\n",
       "                        <td id=\"T_d4be8_row28_col35\" class=\"data row28 col35\" >-0.015211</td>\n",
       "                        <td id=\"T_d4be8_row28_col36\" class=\"data row28 col36\" >0.031706</td>\n",
       "                        <td id=\"T_d4be8_row28_col37\" class=\"data row28 col37\" >-0.011378</td>\n",
       "            </tr>\n",
       "            <tr>\n",
       "                        <th id=\"T_d4be8_level0_row29\" class=\"row_heading level0 row29\" >BsmtHalfBath</th>\n",
       "                        <td id=\"T_d4be8_row29_col0\" class=\"data row29 col0\" >-0.020155</td>\n",
       "                        <td id=\"T_d4be8_row29_col1\" class=\"data row29 col1\" >-0.002333</td>\n",
       "                        <td id=\"T_d4be8_row29_col2\" class=\"data row29 col2\" >-0.007234</td>\n",
       "                        <td id=\"T_d4be8_row29_col3\" class=\"data row29 col3\" >0.048046</td>\n",
       "                        <td id=\"T_d4be8_row29_col4\" class=\"data row29 col4\" >-0.040150</td>\n",
       "                        <td id=\"T_d4be8_row29_col5\" class=\"data row29 col5\" >0.117821</td>\n",
       "                        <td id=\"T_d4be8_row29_col6\" class=\"data row29 col6\" >-0.038162</td>\n",
       "                        <td id=\"T_d4be8_row29_col7\" class=\"data row29 col7\" >-0.012337</td>\n",
       "                        <td id=\"T_d4be8_row29_col8\" class=\"data row29 col8\" >0.026673</td>\n",
       "                        <td id=\"T_d4be8_row29_col9\" class=\"data row29 col9\" >0.067418</td>\n",
       "                        <td id=\"T_d4be8_row29_col10\" class=\"data row29 col10\" >0.070948</td>\n",
       "                        <td id=\"T_d4be8_row29_col11\" class=\"data row29 col11\" >-0.095804</td>\n",
       "                        <td id=\"T_d4be8_row29_col12\" class=\"data row29 col12\" >-0.000315</td>\n",
       "                        <td id=\"T_d4be8_row29_col13\" class=\"data row29 col13\" >0.001956</td>\n",
       "                        <td id=\"T_d4be8_row29_col14\" class=\"data row29 col14\" >-0.023855</td>\n",
       "                        <td id=\"T_d4be8_row29_col15\" class=\"data row29 col15\" >-0.005842</td>\n",
       "                        <td id=\"T_d4be8_row29_col16\" class=\"data row29 col16\" >-0.018918</td>\n",
       "                        <td id=\"T_d4be8_row29_col17\" class=\"data row29 col17\" >-0.147871</td>\n",
       "                        <td id=\"T_d4be8_row29_col18\" class=\"data row29 col18\" >1.000000</td>\n",
       "                        <td id=\"T_d4be8_row29_col19\" class=\"data row29 col19\" >-0.054536</td>\n",
       "                        <td id=\"T_d4be8_row29_col20\" class=\"data row29 col20\" >-0.012340</td>\n",
       "                        <td id=\"T_d4be8_row29_col21\" class=\"data row29 col21\" >0.046519</td>\n",
       "                        <td id=\"T_d4be8_row29_col22\" class=\"data row29 col22\" >-0.037944</td>\n",
       "                        <td id=\"T_d4be8_row29_col23\" class=\"data row29 col23\" >-0.023836</td>\n",
       "                        <td id=\"T_d4be8_row29_col24\" class=\"data row29 col24\" >0.028976</td>\n",
       "                        <td id=\"T_d4be8_row29_col25\" class=\"data row29 col25\" >-0.077464</td>\n",
       "                        <td id=\"T_d4be8_row29_col26\" class=\"data row29 col26\" >-0.020891</td>\n",
       "                        <td id=\"T_d4be8_row29_col27\" class=\"data row29 col27\" >-0.024536</td>\n",
       "                        <td id=\"T_d4be8_row29_col28\" class=\"data row29 col28\" >0.040161</td>\n",
       "                        <td id=\"T_d4be8_row29_col29\" class=\"data row29 col29\" >-0.025324</td>\n",
       "                        <td id=\"T_d4be8_row29_col30\" class=\"data row29 col30\" >-0.008555</td>\n",
       "                        <td id=\"T_d4be8_row29_col31\" class=\"data row29 col31\" >0.035114</td>\n",
       "                        <td id=\"T_d4be8_row29_col32\" class=\"data row29 col32\" >0.032121</td>\n",
       "                        <td id=\"T_d4be8_row29_col33\" class=\"data row29 col33\" >0.020025</td>\n",
       "                        <td id=\"T_d4be8_row29_col34\" class=\"data row29 col34\" >-0.007367</td>\n",
       "                        <td id=\"T_d4be8_row29_col35\" class=\"data row29 col35\" >0.032873</td>\n",
       "                        <td id=\"T_d4be8_row29_col36\" class=\"data row29 col36\" >-0.046524</td>\n",
       "                        <td id=\"T_d4be8_row29_col37\" class=\"data row29 col37\" >-0.016844</td>\n",
       "            </tr>\n",
       "            <tr>\n",
       "                        <th id=\"T_d4be8_level0_row30\" class=\"row_heading level0 row30\" >MiscVal</th>\n",
       "                        <td id=\"T_d4be8_row30_col0\" class=\"data row30 col0\" >-0.006242</td>\n",
       "                        <td id=\"T_d4be8_row30_col1\" class=\"data row30 col1\" >-0.007683</td>\n",
       "                        <td id=\"T_d4be8_row30_col2\" class=\"data row30 col2\" >0.003368</td>\n",
       "                        <td id=\"T_d4be8_row30_col3\" class=\"data row30 col3\" >0.038068</td>\n",
       "                        <td id=\"T_d4be8_row30_col4\" class=\"data row30 col4\" >-0.031406</td>\n",
       "                        <td id=\"T_d4be8_row30_col5\" class=\"data row30 col5\" >0.068777</td>\n",
       "                        <td id=\"T_d4be8_row30_col6\" class=\"data row30 col6\" >-0.034383</td>\n",
       "                        <td id=\"T_d4be8_row30_col7\" class=\"data row30 col7\" >-0.010286</td>\n",
       "                        <td id=\"T_d4be8_row30_col8\" class=\"data row30 col8\" >-0.029815</td>\n",
       "                        <td id=\"T_d4be8_row30_col9\" class=\"data row30 col9\" >0.003571</td>\n",
       "                        <td id=\"T_d4be8_row30_col10\" class=\"data row30 col10\" >0.004940</td>\n",
       "                        <td id=\"T_d4be8_row30_col11\" class=\"data row30 col11\" >-0.023837</td>\n",
       "                        <td id=\"T_d4be8_row30_col12\" class=\"data row30 col12\" >-0.018479</td>\n",
       "                        <td id=\"T_d4be8_row30_col13\" class=\"data row30 col13\" >-0.021096</td>\n",
       "                        <td id=\"T_d4be8_row30_col14\" class=\"data row30 col14\" >0.016197</td>\n",
       "                        <td id=\"T_d4be8_row30_col15\" class=\"data row30 col15\" >-0.003793</td>\n",
       "                        <td id=\"T_d4be8_row30_col16\" class=\"data row30 col16\" >-0.002416</td>\n",
       "                        <td id=\"T_d4be8_row30_col17\" class=\"data row30 col17\" >-0.023047</td>\n",
       "                        <td id=\"T_d4be8_row30_col18\" class=\"data row30 col18\" >-0.007367</td>\n",
       "                        <td id=\"T_d4be8_row30_col19\" class=\"data row30 col19\" >-0.014290</td>\n",
       "                        <td id=\"T_d4be8_row30_col20\" class=\"data row30 col20\" >0.001290</td>\n",
       "                        <td id=\"T_d4be8_row30_col21\" class=\"data row30 col21\" >0.007767</td>\n",
       "                        <td id=\"T_d4be8_row30_col22\" class=\"data row30 col22\" >0.062341</td>\n",
       "                        <td id=\"T_d4be8_row30_col23\" class=\"data row30 col23\" >0.024763</td>\n",
       "                        <td id=\"T_d4be8_row30_col24\" class=\"data row30 col24\" >0.001409</td>\n",
       "                        <td id=\"T_d4be8_row30_col25\" class=\"data row30 col25\" >-0.032417</td>\n",
       "                        <td id=\"T_d4be8_row30_col26\" class=\"data row30 col26\" >-0.043080</td>\n",
       "                        <td id=\"T_d4be8_row30_col27\" class=\"data row30 col27\" >-0.027400</td>\n",
       "                        <td id=\"T_d4be8_row30_col28\" class=\"data row30 col28\" >-0.009551</td>\n",
       "                        <td id=\"T_d4be8_row30_col29\" class=\"data row30 col29\" >-0.018584</td>\n",
       "                        <td id=\"T_d4be8_row30_col30\" class=\"data row30 col30\" >0.018361</td>\n",
       "                        <td id=\"T_d4be8_row30_col31\" class=\"data row30 col31\" >0.000354</td>\n",
       "                        <td id=\"T_d4be8_row30_col32\" class=\"data row30 col32\" >0.031946</td>\n",
       "                        <td id=\"T_d4be8_row30_col33\" class=\"data row30 col33\" >0.029669</td>\n",
       "                        <td id=\"T_d4be8_row30_col34\" class=\"data row30 col34\" >1.000000</td>\n",
       "                        <td id=\"T_d4be8_row30_col35\" class=\"data row30 col35\" >-0.006495</td>\n",
       "                        <td id=\"T_d4be8_row30_col36\" class=\"data row30 col36\" >0.004906</td>\n",
       "                        <td id=\"T_d4be8_row30_col37\" class=\"data row30 col37\" >-0.021190</td>\n",
       "            </tr>\n",
       "            <tr>\n",
       "                        <th id=\"T_d4be8_level0_row31\" class=\"row_heading level0 row31\" >Id</th>\n",
       "                        <td id=\"T_d4be8_row31_col0\" class=\"data row31 col0\" >1.000000</td>\n",
       "                        <td id=\"T_d4be8_row31_col1\" class=\"data row31 col1\" >0.011156</td>\n",
       "                        <td id=\"T_d4be8_row31_col2\" class=\"data row31 col2\" >-0.010601</td>\n",
       "                        <td id=\"T_d4be8_row31_col3\" class=\"data row31 col3\" >-0.033226</td>\n",
       "                        <td id=\"T_d4be8_row31_col4\" class=\"data row31 col4\" >-0.028365</td>\n",
       "                        <td id=\"T_d4be8_row31_col5\" class=\"data row31 col5\" >0.012609</td>\n",
       "                        <td id=\"T_d4be8_row31_col6\" class=\"data row31 col6\" >-0.012713</td>\n",
       "                        <td id=\"T_d4be8_row31_col7\" class=\"data row31 col7\" >-0.021998</td>\n",
       "                        <td id=\"T_d4be8_row31_col8\" class=\"data row31 col8\" >-0.050298</td>\n",
       "                        <td id=\"T_d4be8_row31_col9\" class=\"data row31 col9\" >-0.005024</td>\n",
       "                        <td id=\"T_d4be8_row31_col10\" class=\"data row31 col10\" >-0.005968</td>\n",
       "                        <td id=\"T_d4be8_row31_col11\" class=\"data row31 col11\" >-0.007940</td>\n",
       "                        <td id=\"T_d4be8_row31_col12\" class=\"data row31 col12\" >-0.015415</td>\n",
       "                        <td id=\"T_d4be8_row31_col13\" class=\"data row31 col13\" >0.010496</td>\n",
       "                        <td id=\"T_d4be8_row31_col14\" class=\"data row31 col14\" >0.005590</td>\n",
       "                        <td id=\"T_d4be8_row31_col15\" class=\"data row31 col15\" >-0.044230</td>\n",
       "                        <td id=\"T_d4be8_row31_col16\" class=\"data row31 col16\" >0.008273</td>\n",
       "                        <td id=\"T_d4be8_row31_col17\" class=\"data row31 col17\" >0.002289</td>\n",
       "                        <td id=\"T_d4be8_row31_col18\" class=\"data row31 col18\" >-0.020155</td>\n",
       "                        <td id=\"T_d4be8_row31_col19\" class=\"data row31 col19\" >0.005587</td>\n",
       "                        <td id=\"T_d4be8_row31_col20\" class=\"data row31 col20\" >0.006784</td>\n",
       "                        <td id=\"T_d4be8_row31_col21\" class=\"data row31 col21\" >0.037719</td>\n",
       "                        <td id=\"T_d4be8_row31_col22\" class=\"data row31 col22\" >0.002951</td>\n",
       "                        <td id=\"T_d4be8_row31_col23\" class=\"data row31 col23\" >0.027239</td>\n",
       "                        <td id=\"T_d4be8_row31_col24\" class=\"data row31 col24\" >-0.019772</td>\n",
       "                        <td id=\"T_d4be8_row31_col25\" class=\"data row31 col25\" >0.000072</td>\n",
       "                        <td id=\"T_d4be8_row31_col26\" class=\"data row31 col26\" >0.016570</td>\n",
       "                        <td id=\"T_d4be8_row31_col27\" class=\"data row31 col27\" >0.017634</td>\n",
       "                        <td id=\"T_d4be8_row31_col28\" class=\"data row31 col28\" >-0.029643</td>\n",
       "                        <td id=\"T_d4be8_row31_col29\" class=\"data row31 col29\" >-0.000477</td>\n",
       "                        <td id=\"T_d4be8_row31_col30\" class=\"data row31 col30\" >0.002889</td>\n",
       "                        <td id=\"T_d4be8_row31_col31\" class=\"data row31 col31\" >-0.046635</td>\n",
       "                        <td id=\"T_d4be8_row31_col32\" class=\"data row31 col32\" >0.001330</td>\n",
       "                        <td id=\"T_d4be8_row31_col33\" class=\"data row31 col33\" >0.057044</td>\n",
       "                        <td id=\"T_d4be8_row31_col34\" class=\"data row31 col34\" >-0.006242</td>\n",
       "                        <td id=\"T_d4be8_row31_col35\" class=\"data row31 col35\" >0.021172</td>\n",
       "                        <td id=\"T_d4be8_row31_col36\" class=\"data row31 col36\" >0.000712</td>\n",
       "                        <td id=\"T_d4be8_row31_col37\" class=\"data row31 col37\" >-0.021917</td>\n",
       "            </tr>\n",
       "            <tr>\n",
       "                        <th id=\"T_d4be8_level0_row32\" class=\"row_heading level0 row32\" >LowQualFinSF</th>\n",
       "                        <td id=\"T_d4be8_row32_col0\" class=\"data row32 col0\" >-0.044230</td>\n",
       "                        <td id=\"T_d4be8_row32_col1\" class=\"data row32 col1\" >0.046474</td>\n",
       "                        <td id=\"T_d4be8_row32_col2\" class=\"data row32 col2\" >0.038469</td>\n",
       "                        <td id=\"T_d4be8_row32_col3\" class=\"data row32 col3\" >0.004779</td>\n",
       "                        <td id=\"T_d4be8_row32_col4\" class=\"data row32 col4\" >-0.030429</td>\n",
       "                        <td id=\"T_d4be8_row32_col5\" class=\"data row32 col5\" >0.025494</td>\n",
       "                        <td id=\"T_d4be8_row32_col6\" class=\"data row32 col6\" >-0.183784</td>\n",
       "                        <td id=\"T_d4be8_row32_col7\" class=\"data row32 col7\" >-0.062419</td>\n",
       "                        <td id=\"T_d4be8_row32_col8\" class=\"data row32 col8\" >-0.069071</td>\n",
       "                        <td id=\"T_d4be8_row32_col9\" class=\"data row32 col9\" >-0.064503</td>\n",
       "                        <td id=\"T_d4be8_row32_col10\" class=\"data row32 col10\" >0.014807</td>\n",
       "                        <td id=\"T_d4be8_row32_col11\" class=\"data row32 col11\" >0.028167</td>\n",
       "                        <td id=\"T_d4be8_row32_col12\" class=\"data row32 col12\" >-0.033245</td>\n",
       "                        <td id=\"T_d4be8_row32_col13\" class=\"data row32 col13\" >-0.014241</td>\n",
       "                        <td id=\"T_d4be8_row32_col14\" class=\"data row32 col14\" >0.063353</td>\n",
       "                        <td id=\"T_d4be8_row32_col15\" class=\"data row32 col15\" >1.000000</td>\n",
       "                        <td id=\"T_d4be8_row32_col16\" class=\"data row32 col16\" >0.134683</td>\n",
       "                        <td id=\"T_d4be8_row32_col17\" class=\"data row32 col17\" >-0.047143</td>\n",
       "                        <td id=\"T_d4be8_row32_col18\" class=\"data row32 col18\" >-0.005842</td>\n",
       "                        <td id=\"T_d4be8_row32_col19\" class=\"data row32 col19\" >-0.000710</td>\n",
       "                        <td id=\"T_d4be8_row32_col20\" class=\"data row32 col20\" >-0.027080</td>\n",
       "                        <td id=\"T_d4be8_row32_col21\" class=\"data row32 col21\" >0.105607</td>\n",
       "                        <td id=\"T_d4be8_row32_col22\" class=\"data row32 col22\" >0.007522</td>\n",
       "                        <td id=\"T_d4be8_row32_col23\" class=\"data row32 col23\" >0.131185</td>\n",
       "                        <td id=\"T_d4be8_row32_col24\" class=\"data row32 col24\" >-0.021272</td>\n",
       "                        <td id=\"T_d4be8_row32_col25\" class=\"data row32 col25\" >-0.036363</td>\n",
       "                        <td id=\"T_d4be8_row32_col26\" class=\"data row32 col26\" >-0.094480</td>\n",
       "                        <td id=\"T_d4be8_row32_col27\" class=\"data row32 col27\" >-0.067601</td>\n",
       "                        <td id=\"T_d4be8_row32_col28\" class=\"data row32 col28\" >-0.025444</td>\n",
       "                        <td id=\"T_d4be8_row32_col29\" class=\"data row32 col29\" >0.018251</td>\n",
       "                        <td id=\"T_d4be8_row32_col30\" class=\"data row32 col30\" >0.061081</td>\n",
       "                        <td id=\"T_d4be8_row32_col31\" class=\"data row32 col31\" >-0.004296</td>\n",
       "                        <td id=\"T_d4be8_row32_col32\" class=\"data row32 col32\" >0.026799</td>\n",
       "                        <td id=\"T_d4be8_row32_col33\" class=\"data row32 col33\" >0.062157</td>\n",
       "                        <td id=\"T_d4be8_row32_col34\" class=\"data row32 col34\" >-0.003793</td>\n",
       "                        <td id=\"T_d4be8_row32_col35\" class=\"data row32 col35\" >-0.022174</td>\n",
       "                        <td id=\"T_d4be8_row32_col36\" class=\"data row32 col36\" >-0.028921</td>\n",
       "                        <td id=\"T_d4be8_row32_col37\" class=\"data row32 col37\" >-0.025606</td>\n",
       "            </tr>\n",
       "            <tr>\n",
       "                        <th id=\"T_d4be8_level0_row33\" class=\"row_heading level0 row33\" >YrSold</th>\n",
       "                        <td id=\"T_d4be8_row33_col0\" class=\"data row33 col0\" >0.000712</td>\n",
       "                        <td id=\"T_d4be8_row33_col1\" class=\"data row33 col1\" >-0.021407</td>\n",
       "                        <td id=\"T_d4be8_row33_col2\" class=\"data row33 col2\" >0.007450</td>\n",
       "                        <td id=\"T_d4be8_row33_col3\" class=\"data row33 col3\" >-0.014261</td>\n",
       "                        <td id=\"T_d4be8_row33_col4\" class=\"data row33 col4\" >-0.027347</td>\n",
       "                        <td id=\"T_d4be8_row33_col5\" class=\"data row33 col5\" >0.043950</td>\n",
       "                        <td id=\"T_d4be8_row33_col6\" class=\"data row33 col6\" >-0.013618</td>\n",
       "                        <td id=\"T_d4be8_row33_col7\" class=\"data row33 col7\" >0.035743</td>\n",
       "                        <td id=\"T_d4be8_row33_col8\" class=\"data row33 col8\" >-0.008201</td>\n",
       "                        <td id=\"T_d4be8_row33_col9\" class=\"data row33 col9\" >0.014359</td>\n",
       "                        <td id=\"T_d4be8_row33_col10\" class=\"data row33 col10\" >0.031706</td>\n",
       "                        <td id=\"T_d4be8_row33_col11\" class=\"data row33 col11\" >-0.041258</td>\n",
       "                        <td id=\"T_d4be8_row33_col12\" class=\"data row33 col12\" >-0.014969</td>\n",
       "                        <td id=\"T_d4be8_row33_col13\" class=\"data row33 col13\" >-0.013604</td>\n",
       "                        <td id=\"T_d4be8_row33_col14\" class=\"data row33 col14\" >-0.028700</td>\n",
       "                        <td id=\"T_d4be8_row33_col15\" class=\"data row33 col15\" >-0.028921</td>\n",
       "                        <td id=\"T_d4be8_row33_col16\" class=\"data row33 col16\" >-0.036526</td>\n",
       "                        <td id=\"T_d4be8_row33_col17\" class=\"data row33 col17\" >0.067049</td>\n",
       "                        <td id=\"T_d4be8_row33_col18\" class=\"data row33 col18\" >-0.046524</td>\n",
       "                        <td id=\"T_d4be8_row33_col19\" class=\"data row33 col19\" >-0.019669</td>\n",
       "                        <td id=\"T_d4be8_row33_col20\" class=\"data row33 col20\" >-0.010269</td>\n",
       "                        <td id=\"T_d4be8_row33_col21\" class=\"data row33 col21\" >-0.036014</td>\n",
       "                        <td id=\"T_d4be8_row33_col22\" class=\"data row33 col22\" >0.031687</td>\n",
       "                        <td id=\"T_d4be8_row33_col23\" class=\"data row33 col23\" >-0.034516</td>\n",
       "                        <td id=\"T_d4be8_row33_col24\" class=\"data row33 col24\" >-0.024096</td>\n",
       "                        <td id=\"T_d4be8_row33_col25\" class=\"data row33 col25\" >-0.001014</td>\n",
       "                        <td id=\"T_d4be8_row33_col26\" class=\"data row33 col26\" >-0.039117</td>\n",
       "                        <td id=\"T_d4be8_row33_col27\" class=\"data row33 col27\" >-0.027378</td>\n",
       "                        <td id=\"T_d4be8_row33_col28\" class=\"data row33 col28\" >0.022270</td>\n",
       "                        <td id=\"T_d4be8_row33_col29\" class=\"data row33 col29\" >-0.057619</td>\n",
       "                        <td id=\"T_d4be8_row33_col30\" class=\"data row33 col30\" >-0.009916</td>\n",
       "                        <td id=\"T_d4be8_row33_col31\" class=\"data row33 col31\" >0.018645</td>\n",
       "                        <td id=\"T_d4be8_row33_col32\" class=\"data row33 col32\" >0.010694</td>\n",
       "                        <td id=\"T_d4be8_row33_col33\" class=\"data row33 col33\" >-0.059689</td>\n",
       "                        <td id=\"T_d4be8_row33_col34\" class=\"data row33 col34\" >0.004906</td>\n",
       "                        <td id=\"T_d4be8_row33_col35\" class=\"data row33 col35\" >-0.145721</td>\n",
       "                        <td id=\"T_d4be8_row33_col36\" class=\"data row33 col36\" >1.000000</td>\n",
       "                        <td id=\"T_d4be8_row33_col37\" class=\"data row33 col37\" >-0.028923</td>\n",
       "            </tr>\n",
       "            <tr>\n",
       "                        <th id=\"T_d4be8_level0_row34\" class=\"row_heading level0 row34\" >OverallCond</th>\n",
       "                        <td id=\"T_d4be8_row34_col0\" class=\"data row34 col0\" >0.012609</td>\n",
       "                        <td id=\"T_d4be8_row34_col1\" class=\"data row34 col1\" >-0.059316</td>\n",
       "                        <td id=\"T_d4be8_row34_col2\" class=\"data row34 col2\" >-0.059213</td>\n",
       "                        <td id=\"T_d4be8_row34_col3\" class=\"data row34 col3\" >-0.005636</td>\n",
       "                        <td id=\"T_d4be8_row34_col4\" class=\"data row34 col4\" >-0.091932</td>\n",
       "                        <td id=\"T_d4be8_row34_col5\" class=\"data row34 col5\" >1.000000</td>\n",
       "                        <td id=\"T_d4be8_row34_col6\" class=\"data row34 col6\" >-0.375983</td>\n",
       "                        <td id=\"T_d4be8_row34_col7\" class=\"data row34 col7\" >0.073741</td>\n",
       "                        <td id=\"T_d4be8_row34_col8\" class=\"data row34 col8\" >-0.128101</td>\n",
       "                        <td id=\"T_d4be8_row34_col9\" class=\"data row34 col9\" >-0.046231</td>\n",
       "                        <td id=\"T_d4be8_row34_col10\" class=\"data row34 col10\" >0.040229</td>\n",
       "                        <td id=\"T_d4be8_row34_col11\" class=\"data row34 col11\" >-0.136841</td>\n",
       "                        <td id=\"T_d4be8_row34_col12\" class=\"data row34 col12\" >-0.171098</td>\n",
       "                        <td id=\"T_d4be8_row34_col13\" class=\"data row34 col13\" >-0.144203</td>\n",
       "                        <td id=\"T_d4be8_row34_col14\" class=\"data row34 col14\" >0.028942</td>\n",
       "                        <td id=\"T_d4be8_row34_col15\" class=\"data row34 col15\" >0.025494</td>\n",
       "                        <td id=\"T_d4be8_row34_col16\" class=\"data row34 col16\" >-0.079686</td>\n",
       "                        <td id=\"T_d4be8_row34_col17\" class=\"data row34 col17\" >-0.054942</td>\n",
       "                        <td id=\"T_d4be8_row34_col18\" class=\"data row34 col18\" >0.117821</td>\n",
       "                        <td id=\"T_d4be8_row34_col19\" class=\"data row34 col19\" >-0.194149</td>\n",
       "                        <td id=\"T_d4be8_row34_col20\" class=\"data row34 col20\" >-0.060769</td>\n",
       "                        <td id=\"T_d4be8_row34_col21\" class=\"data row34 col21\" >0.012980</td>\n",
       "                        <td id=\"T_d4be8_row34_col22\" class=\"data row34 col22\" >-0.087001</td>\n",
       "                        <td id=\"T_d4be8_row34_col23\" class=\"data row34 col23\" >-0.057583</td>\n",
       "                        <td id=\"T_d4be8_row34_col24\" class=\"data row34 col24\" >-0.023820</td>\n",
       "                        <td id=\"T_d4be8_row34_col25\" class=\"data row34 col25\" >-0.324297</td>\n",
       "                        <td id=\"T_d4be8_row34_col26\" class=\"data row34 col26\" >-0.185758</td>\n",
       "                        <td id=\"T_d4be8_row34_col27\" class=\"data row34 col27\" >-0.151521</td>\n",
       "                        <td id=\"T_d4be8_row34_col28\" class=\"data row34 col28\" >-0.003334</td>\n",
       "                        <td id=\"T_d4be8_row34_col29\" class=\"data row34 col29\" >-0.032589</td>\n",
       "                        <td id=\"T_d4be8_row34_col30\" class=\"data row34 col30\" >0.070356</td>\n",
       "                        <td id=\"T_d4be8_row34_col31\" class=\"data row34 col31\" >0.025504</td>\n",
       "                        <td id=\"T_d4be8_row34_col32\" class=\"data row34 col32\" >0.054811</td>\n",
       "                        <td id=\"T_d4be8_row34_col33\" class=\"data row34 col33\" >-0.001985</td>\n",
       "                        <td id=\"T_d4be8_row34_col34\" class=\"data row34 col34\" >0.068777</td>\n",
       "                        <td id=\"T_d4be8_row34_col35\" class=\"data row34 col35\" >-0.003511</td>\n",
       "                        <td id=\"T_d4be8_row34_col36\" class=\"data row34 col36\" >0.043950</td>\n",
       "                        <td id=\"T_d4be8_row34_col37\" class=\"data row34 col37\" >-0.077856</td>\n",
       "            </tr>\n",
       "            <tr>\n",
       "                        <th id=\"T_d4be8_level0_row35\" class=\"row_heading level0 row35\" >MSSubClass</th>\n",
       "                        <td id=\"T_d4be8_row35_col0\" class=\"data row35 col0\" >0.011156</td>\n",
       "                        <td id=\"T_d4be8_row35_col1\" class=\"data row35 col1\" >1.000000</td>\n",
       "                        <td id=\"T_d4be8_row35_col2\" class=\"data row35 col2\" >-0.386347</td>\n",
       "                        <td id=\"T_d4be8_row35_col3\" class=\"data row35 col3\" >-0.139781</td>\n",
       "                        <td id=\"T_d4be8_row35_col4\" class=\"data row35 col4\" >0.032628</td>\n",
       "                        <td id=\"T_d4be8_row35_col5\" class=\"data row35 col5\" >-0.059316</td>\n",
       "                        <td id=\"T_d4be8_row35_col6\" class=\"data row35 col6\" >0.027850</td>\n",
       "                        <td id=\"T_d4be8_row35_col7\" class=\"data row35 col7\" >0.040581</td>\n",
       "                        <td id=\"T_d4be8_row35_col8\" class=\"data row35 col8\" >0.022936</td>\n",
       "                        <td id=\"T_d4be8_row35_col9\" class=\"data row35 col9\" >-0.069836</td>\n",
       "                        <td id=\"T_d4be8_row35_col10\" class=\"data row35 col10\" >-0.065649</td>\n",
       "                        <td id=\"T_d4be8_row35_col11\" class=\"data row35 col11\" >-0.140759</td>\n",
       "                        <td id=\"T_d4be8_row35_col12\" class=\"data row35 col12\" >-0.238518</td>\n",
       "                        <td id=\"T_d4be8_row35_col13\" class=\"data row35 col13\" >-0.251758</td>\n",
       "                        <td id=\"T_d4be8_row35_col14\" class=\"data row35 col14\" >0.307886</td>\n",
       "                        <td id=\"T_d4be8_row35_col15\" class=\"data row35 col15\" >0.046474</td>\n",
       "                        <td id=\"T_d4be8_row35_col16\" class=\"data row35 col16\" >0.074853</td>\n",
       "                        <td id=\"T_d4be8_row35_col17\" class=\"data row35 col17\" >0.003491</td>\n",
       "                        <td id=\"T_d4be8_row35_col18\" class=\"data row35 col18\" >-0.002333</td>\n",
       "                        <td id=\"T_d4be8_row35_col19\" class=\"data row35 col19\" >0.131608</td>\n",
       "                        <td id=\"T_d4be8_row35_col20\" class=\"data row35 col20\" >0.177354</td>\n",
       "                        <td id=\"T_d4be8_row35_col21\" class=\"data row35 col21\" >-0.023438</td>\n",
       "                        <td id=\"T_d4be8_row35_col22\" class=\"data row35 col22\" >0.281721</td>\n",
       "                        <td id=\"T_d4be8_row35_col23\" class=\"data row35 col23\" >0.040380</td>\n",
       "                        <td id=\"T_d4be8_row35_col24\" class=\"data row35 col24\" >-0.045569</td>\n",
       "                        <td id=\"T_d4be8_row35_col25\" class=\"data row35 col25\" >0.085072</td>\n",
       "                        <td id=\"T_d4be8_row35_col26\" class=\"data row35 col26\" >-0.040110</td>\n",
       "                        <td id=\"T_d4be8_row35_col27\" class=\"data row35 col27\" >-0.098672</td>\n",
       "                        <td id=\"T_d4be8_row35_col28\" class=\"data row35 col28\" >-0.012579</td>\n",
       "                        <td id=\"T_d4be8_row35_col29\" class=\"data row35 col29\" >-0.006100</td>\n",
       "                        <td id=\"T_d4be8_row35_col30\" class=\"data row35 col30\" >-0.012037</td>\n",
       "                        <td id=\"T_d4be8_row35_col31\" class=\"data row35 col31\" >-0.043825</td>\n",
       "                        <td id=\"T_d4be8_row35_col32\" class=\"data row35 col32\" >-0.026030</td>\n",
       "                        <td id=\"T_d4be8_row35_col33\" class=\"data row35 col33\" >0.008283</td>\n",
       "                        <td id=\"T_d4be8_row35_col34\" class=\"data row35 col34\" >-0.007683</td>\n",
       "                        <td id=\"T_d4be8_row35_col35\" class=\"data row35 col35\" >-0.013585</td>\n",
       "                        <td id=\"T_d4be8_row35_col36\" class=\"data row35 col36\" >-0.021407</td>\n",
       "                        <td id=\"T_d4be8_row35_col37\" class=\"data row35 col37\" >-0.084284</td>\n",
       "            </tr>\n",
       "            <tr>\n",
       "                        <th id=\"T_d4be8_level0_row36\" class=\"row_heading level0 row36\" >EnclosedPorch</th>\n",
       "                        <td id=\"T_d4be8_row36_col0\" class=\"data row36 col0\" >0.002889</td>\n",
       "                        <td id=\"T_d4be8_row36_col1\" class=\"data row36 col1\" >-0.012037</td>\n",
       "                        <td id=\"T_d4be8_row36_col2\" class=\"data row36 col2\" >0.010700</td>\n",
       "                        <td id=\"T_d4be8_row36_col3\" class=\"data row36 col3\" >-0.018340</td>\n",
       "                        <td id=\"T_d4be8_row36_col4\" class=\"data row36 col4\" >-0.113937</td>\n",
       "                        <td id=\"T_d4be8_row36_col5\" class=\"data row36 col5\" >0.070356</td>\n",
       "                        <td id=\"T_d4be8_row36_col6\" class=\"data row36 col6\" >-0.387268</td>\n",
       "                        <td id=\"T_d4be8_row36_col7\" class=\"data row36 col7\" >-0.193919</td>\n",
       "                        <td id=\"T_d4be8_row36_col8\" class=\"data row36 col8\" >-0.110204</td>\n",
       "                        <td id=\"T_d4be8_row36_col9\" class=\"data row36 col9\" >-0.102303</td>\n",
       "                        <td id=\"T_d4be8_row36_col10\" class=\"data row36 col10\" >0.036543</td>\n",
       "                        <td id=\"T_d4be8_row36_col11\" class=\"data row36 col11\" >-0.002538</td>\n",
       "                        <td id=\"T_d4be8_row36_col12\" class=\"data row36 col12\" >-0.095478</td>\n",
       "                        <td id=\"T_d4be8_row36_col13\" class=\"data row36 col13\" >-0.065292</td>\n",
       "                        <td id=\"T_d4be8_row36_col14\" class=\"data row36 col14\" >0.061989</td>\n",
       "                        <td id=\"T_d4be8_row36_col15\" class=\"data row36 col15\" >0.061081</td>\n",
       "                        <td id=\"T_d4be8_row36_col16\" class=\"data row36 col16\" >0.009113</td>\n",
       "                        <td id=\"T_d4be8_row36_col17\" class=\"data row36 col17\" >-0.049911</td>\n",
       "                        <td id=\"T_d4be8_row36_col18\" class=\"data row36 col18\" >-0.008555</td>\n",
       "                        <td id=\"T_d4be8_row36_col19\" class=\"data row36 col19\" >-0.115093</td>\n",
       "                        <td id=\"T_d4be8_row36_col20\" class=\"data row36 col20\" >-0.095317</td>\n",
       "                        <td id=\"T_d4be8_row36_col21\" class=\"data row36 col21\" >0.041570</td>\n",
       "                        <td id=\"T_d4be8_row36_col22\" class=\"data row36 col22\" >0.037312</td>\n",
       "                        <td id=\"T_d4be8_row36_col23\" class=\"data row36 col23\" >0.004151</td>\n",
       "                        <td id=\"T_d4be8_row36_col24\" class=\"data row36 col24\" >-0.024822</td>\n",
       "                        <td id=\"T_d4be8_row36_col25\" class=\"data row36 col25\" >-0.297003</td>\n",
       "                        <td id=\"T_d4be8_row36_col26\" class=\"data row36 col26\" >-0.151434</td>\n",
       "                        <td id=\"T_d4be8_row36_col27\" class=\"data row36 col27\" >-0.121777</td>\n",
       "                        <td id=\"T_d4be8_row36_col28\" class=\"data row36 col28\" >-0.125989</td>\n",
       "                        <td id=\"T_d4be8_row36_col29\" class=\"data row36 col29\" >-0.093079</td>\n",
       "                        <td id=\"T_d4be8_row36_col30\" class=\"data row36 col30\" >1.000000</td>\n",
       "                        <td id=\"T_d4be8_row36_col31\" class=\"data row36 col31\" >-0.037305</td>\n",
       "                        <td id=\"T_d4be8_row36_col32\" class=\"data row36 col32\" >-0.082864</td>\n",
       "                        <td id=\"T_d4be8_row36_col33\" class=\"data row36 col33\" >0.054203</td>\n",
       "                        <td id=\"T_d4be8_row36_col34\" class=\"data row36 col34\" >0.018361</td>\n",
       "                        <td id=\"T_d4be8_row36_col35\" class=\"data row36 col35\" >-0.028887</td>\n",
       "                        <td id=\"T_d4be8_row36_col36\" class=\"data row36 col36\" >-0.009916</td>\n",
       "                        <td id=\"T_d4be8_row36_col37\" class=\"data row36 col37\" >-0.128578</td>\n",
       "            </tr>\n",
       "            <tr>\n",
       "                        <th id=\"T_d4be8_level0_row37\" class=\"row_heading level0 row37\" >KitchenAbvGr</th>\n",
       "                        <td id=\"T_d4be8_row37_col0\" class=\"data row37 col0\" >0.002951</td>\n",
       "                        <td id=\"T_d4be8_row37_col1\" class=\"data row37 col1\" >0.281721</td>\n",
       "                        <td id=\"T_d4be8_row37_col2\" class=\"data row37 col2\" >-0.006069</td>\n",
       "                        <td id=\"T_d4be8_row37_col3\" class=\"data row37 col3\" >-0.017784</td>\n",
       "                        <td id=\"T_d4be8_row37_col4\" class=\"data row37 col4\" >-0.183882</td>\n",
       "                        <td id=\"T_d4be8_row37_col5\" class=\"data row37 col5\" >-0.087001</td>\n",
       "                        <td id=\"T_d4be8_row37_col6\" class=\"data row37 col6\" >-0.174800</td>\n",
       "                        <td id=\"T_d4be8_row37_col7\" class=\"data row37 col7\" >-0.149598</td>\n",
       "                        <td id=\"T_d4be8_row37_col8\" class=\"data row37 col8\" >-0.037610</td>\n",
       "                        <td id=\"T_d4be8_row37_col9\" class=\"data row37 col9\" >-0.081007</td>\n",
       "                        <td id=\"T_d4be8_row37_col10\" class=\"data row37 col10\" >-0.040751</td>\n",
       "                        <td id=\"T_d4be8_row37_col11\" class=\"data row37 col11\" >0.030086</td>\n",
       "                        <td id=\"T_d4be8_row37_col12\" class=\"data row37 col12\" >-0.068901</td>\n",
       "                        <td id=\"T_d4be8_row37_col13\" class=\"data row37 col13\" >0.068101</td>\n",
       "                        <td id=\"T_d4be8_row37_col14\" class=\"data row37 col14\" >0.059306</td>\n",
       "                        <td id=\"T_d4be8_row37_col15\" class=\"data row37 col15\" >0.007522</td>\n",
       "                        <td id=\"T_d4be8_row37_col16\" class=\"data row37 col16\" >0.100063</td>\n",
       "                        <td id=\"T_d4be8_row37_col17\" class=\"data row37 col17\" >-0.041503</td>\n",
       "                        <td id=\"T_d4be8_row37_col18\" class=\"data row37 col18\" >-0.037944</td>\n",
       "                        <td id=\"T_d4be8_row37_col19\" class=\"data row37 col19\" >0.133115</td>\n",
       "                        <td id=\"T_d4be8_row37_col20\" class=\"data row37 col20\" >-0.068263</td>\n",
       "                        <td id=\"T_d4be8_row37_col21\" class=\"data row37 col21\" >0.198597</td>\n",
       "                        <td id=\"T_d4be8_row37_col22\" class=\"data row37 col22\" >1.000000</td>\n",
       "                        <td id=\"T_d4be8_row37_col23\" class=\"data row37 col23\" >0.256045</td>\n",
       "                        <td id=\"T_d4be8_row37_col24\" class=\"data row37 col24\" >-0.123936</td>\n",
       "                        <td id=\"T_d4be8_row37_col25\" class=\"data row37 col25\" >-0.124411</td>\n",
       "                        <td id=\"T_d4be8_row37_col26\" class=\"data row37 col26\" >-0.050634</td>\n",
       "                        <td id=\"T_d4be8_row37_col27\" class=\"data row37 col27\" >-0.064433</td>\n",
       "                        <td id=\"T_d4be8_row37_col28\" class=\"data row37 col28\" >-0.090130</td>\n",
       "                        <td id=\"T_d4be8_row37_col29\" class=\"data row37 col29\" >-0.070091</td>\n",
       "                        <td id=\"T_d4be8_row37_col30\" class=\"data row37 col30\" >0.037312</td>\n",
       "                        <td id=\"T_d4be8_row37_col31\" class=\"data row37 col31\" >-0.024600</td>\n",
       "                        <td id=\"T_d4be8_row37_col32\" class=\"data row37 col32\" >-0.051613</td>\n",
       "                        <td id=\"T_d4be8_row37_col33\" class=\"data row37 col33\" >-0.014525</td>\n",
       "                        <td id=\"T_d4be8_row37_col34\" class=\"data row37 col34\" >0.062341</td>\n",
       "                        <td id=\"T_d4be8_row37_col35\" class=\"data row37 col35\" >0.026589</td>\n",
       "                        <td id=\"T_d4be8_row37_col36\" class=\"data row37 col36\" >0.031687</td>\n",
       "                        <td id=\"T_d4be8_row37_col37\" class=\"data row37 col37\" >-0.135907</td>\n",
       "            </tr>\n",
       "    </tbody></table>"
      ],
      "text/plain": [
       "<pandas.io.formats.style.Styler at 0x28012e26970>"
      ]
     },
     "metadata": {},
     "output_type": "display_data"
    }
   ],
   "source": [
    "# Check Correlation between x and y / x and x limited to quantitative vals\n",
    "pd.options.display.max_columns=50\n",
    "print('==Correlation between x and y==')\n",
    "df_corr_x_and_y = df_train[df_dtype[df_dtype['dtype']!='object'].index].corr()[['SalePrice']].sort_values(by='SalePrice',ascending=False)\n",
    "display(df_corr_x_and_y)\n",
    "print('==Correlation between x and x==')\n",
    "df_corr_x_and_x = df_train[df_dtype[df_dtype['dtype']!='object'].index].corr().sort_values(by='SalePrice',ascending=False)\n",
    "display(df_corr_x_and_x.style.background_gradient(axis=None))"
   ]
  },
  {
   "cell_type": "markdown",
   "id": "d4566874",
   "metadata": {},
   "source": [
    "## Feature Engineering"
   ]
  },
  {
   "cell_type": "code",
   "execution_count": 7,
   "id": "1dfb5767",
   "metadata": {},
   "outputs": [],
   "source": [
    "# Features used to modeling\n",
    "usefull_cols = ['OverallQual', 'GrLivArea', 'GarageArea', 'TotalBsmtSF'\n",
    "                , 'FullBath', 'YearBuilt', 'YearRemodAdd', 'Fireplaces'\n",
    "                ,'LotFrontage','WoodDeckSF','OpenPorchSF'\n",
    "                ,'ExterQual','KitchenQual','Neighborhood','MSZoning'\n",
    "                ,'Alley','LotShape','LandContour','Condition1','HouseStyle','MasVnrType','SaleCondition']"
   ]
  },
  {
   "cell_type": "code",
   "execution_count": 8,
   "id": "38986f12",
   "metadata": {},
   "outputs": [],
   "source": [
    "df_train_prepro = df_train[usefull_cols].copy()\n",
    "df_test_prepro = df_test[usefull_cols].copy()"
   ]
  },
  {
   "cell_type": "code",
   "execution_count": 9,
   "id": "3ed30d85",
   "metadata": {},
   "outputs": [
    {
     "name": "stdout",
     "output_type": "stream",
     "text": [
      "Train data====\n"
     ]
    },
    {
     "data": {
      "text/plain": [
       "OverallQual         0\n",
       "GrLivArea           0\n",
       "GarageArea          0\n",
       "TotalBsmtSF         0\n",
       "FullBath            0\n",
       "YearBuilt           0\n",
       "YearRemodAdd        0\n",
       "Fireplaces          0\n",
       "LotFrontage       259\n",
       "WoodDeckSF          0\n",
       "OpenPorchSF         0\n",
       "ExterQual           0\n",
       "KitchenQual         0\n",
       "Neighborhood        0\n",
       "MSZoning            0\n",
       "Alley            1369\n",
       "LotShape            0\n",
       "LandContour         0\n",
       "Condition1          0\n",
       "HouseStyle          0\n",
       "MasVnrType          8\n",
       "SaleCondition       0\n",
       "dtype: int64"
      ]
     },
     "metadata": {},
     "output_type": "display_data"
    },
    {
     "name": "stdout",
     "output_type": "stream",
     "text": [
      "Test data====\n"
     ]
    },
    {
     "data": {
      "text/plain": [
       "OverallQual         0\n",
       "GrLivArea           0\n",
       "GarageArea          1\n",
       "TotalBsmtSF         1\n",
       "FullBath            0\n",
       "YearBuilt           0\n",
       "YearRemodAdd        0\n",
       "Fireplaces          0\n",
       "LotFrontage       227\n",
       "WoodDeckSF          0\n",
       "OpenPorchSF         0\n",
       "ExterQual           0\n",
       "KitchenQual         1\n",
       "Neighborhood        0\n",
       "MSZoning            4\n",
       "Alley            1352\n",
       "LotShape            0\n",
       "LandContour         0\n",
       "Condition1          0\n",
       "HouseStyle          0\n",
       "MasVnrType         16\n",
       "SaleCondition       0\n",
       "dtype: int64"
      ]
     },
     "metadata": {},
     "output_type": "display_data"
    }
   ],
   "source": [
    "print('Train data====')\n",
    "display(df_train_prepro.isnull().sum())\n",
    "print('Test data====')\n",
    "display(df_test_prepro.isnull().sum())"
   ]
  },
  {
   "cell_type": "code",
   "execution_count": 10,
   "id": "d51942b5",
   "metadata": {},
   "outputs": [],
   "source": [
    "# Complement　null \n",
    "## GarageArea in test data\n",
    "df_test_prepro['GarageArea'] = df_test_prepro['GarageArea'].fillna(df_train_prepro['GarageArea'].mean())\n",
    "## TotalBsmtSF in test data\n",
    "df_test_prepro['TotalBsmtSF'] = df_test_prepro['TotalBsmtSF'].fillna(df_train_prepro['TotalBsmtSF'].mean())\n",
    "## LotFrontage in train data\n",
    "df_train_prepro['LotFrontage'] = df_train_prepro['LotFrontage'].fillna(0)\n",
    "## LotFrontage in test data\n",
    "df_test_prepro['LotFrontage'] = df_test_prepro['LotFrontage'].fillna(0)\n",
    "## KitchenQual in test data\n",
    "df_test_prepro['KitchenQual'] = df_test_prepro['KitchenQual'].fillna('TA')"
   ]
  },
  {
   "cell_type": "code",
   "execution_count": 11,
   "id": "bb971414",
   "metadata": {},
   "outputs": [],
   "source": [
    "# yeo-johnson\n",
    "for c in ['GrLivArea','GarageArea','WoodDeckSF','OpenPorchSF']:\n",
    "    pt = PowerTransformer(method='yeo-johnson')\n",
    "    pt.fit(df_train_prepro[[c]].values)\n",
    "    df_train_prepro[c] = pt.transform(df_train_prepro[[c]].values)\n",
    "    df_test_prepro[c] = pt.transform(df_test_prepro[[c]].values)\n",
    "# Standard Scaler\n",
    "for c in ['TotalBsmtSF','LotFrontage']:\n",
    "    sc = StandardScaler()\n",
    "    sc.fit(df_train_prepro[[c]].values)\n",
    "    df_train_prepro[c] = sc.transform(df_train_prepro[[c]].values)\n",
    "    df_test_prepro[c] = sc.transform(df_test_prepro[[c]].values)"
   ]
  },
  {
   "cell_type": "code",
   "execution_count": 12,
   "id": "27b70585",
   "metadata": {},
   "outputs": [],
   "source": [
    "# Create YearRemodAdd -  YearBuilt flag columns\n",
    "df_train_prepro['YearRemodAdd - YearBuilt'] = df_train_prepro['YearRemodAdd'] - df_train_prepro['YearBuilt']\n",
    "df_test_prepro['YearRemodAdd - YearBuilt'] = df_test_prepro['YearRemodAdd'] - df_test_prepro['YearBuilt']\n",
    "# Drop YearRemodAdd\n",
    "df_train_prepro = df_train_prepro.drop(columns=['YearRemodAdd'])\n",
    "df_test_prepro = df_test_prepro.drop(columns=['YearRemodAdd'])"
   ]
  },
  {
   "cell_type": "code",
   "execution_count": 13,
   "id": "0d324458",
   "metadata": {},
   "outputs": [],
   "source": [
    "# Ordinal vals\n",
    "for c in ['ExterQual','KitchenQual']:\n",
    "    df_train_prepro = df_train_prepro.replace({c:{'Ex':5,'Gd':4,'TA':3,'Fa':2,'Po':1}})\n",
    "    df_test_prepro = df_test_prepro.replace({c:{'Ex':5,'Gd':4,'TA':3,'Fa':2,'Po':1}})"
   ]
  },
  {
   "cell_type": "code",
   "execution_count": 14,
   "id": "dfaf0949",
   "metadata": {},
   "outputs": [],
   "source": [
    "# One-hot encoding\n",
    "df_train_prepro = pd.get_dummies(df_train_prepro,columns=['Neighborhood','MSZoning','Alley','LotShape','LandContour','Condition1','HouseStyle','MasVnrType','SaleCondition'])\n",
    "df_test_prepro = pd.get_dummies(df_test_prepro,columns=['Neighborhood','MSZoning','Alley','LotShape','LandContour','Condition1','HouseStyle','MasVnrType','SaleCondition'])"
   ]
  },
  {
   "cell_type": "code",
   "execution_count": 15,
   "id": "165f9201",
   "metadata": {},
   "outputs": [],
   "source": [
    "# Transform DataFrame to ndarray\n",
    "x_train = df_train_prepro.values\n",
    "y_train = np.log(df_train[['SalePrice']].values)\n",
    "x_test = df_test_prepro.values\n",
    "\n",
    "# Transform ndarray to tensor\n",
    "x_train_tensor = torch.tensor(x_train).float()\n",
    "y_train_tensor = torch.tensor(y_train).float()\n",
    "x_test_tensor = torch.tensor(x_test).float()"
   ]
  },
  {
   "cell_type": "code",
   "execution_count": 16,
   "id": "cceee4b3",
   "metadata": {},
   "outputs": [],
   "source": [
    "# Set input dimension\n",
    "n_input = x_train_tensor.shape[1]\n",
    "# Set hidden dimension\n",
    "n_hidden = 32\n",
    "# Set output dimension\n",
    "n_output = 1\n",
    "\n",
    "# Define Regression model with PyTorch\n",
    "class Net(nn.Module):\n",
    "    def __init__(self,n_input,n_output,n_hidden):\n",
    "        super().__init__()\n",
    "        \n",
    "        # Hidden layer\n",
    "        self.l1 = nn.Linear(n_input,n_hidden)\n",
    "        # Output layer\n",
    "        self.l2 = nn.Linear(n_hidden,n_output)\n",
    "        # ReLU func\n",
    "        self.relu = nn.ReLU(inplace=True)\n",
    "\n",
    "        self.features = nn.Sequential(\n",
    "            self.l1,\n",
    "            self.relu,\n",
    "            self.l2\n",
    "        )\n",
    "        \n",
    "    def forward(self,x):\n",
    "        x1 = self.features(x)\n",
    "        return x1"
   ]
  },
  {
   "cell_type": "code",
   "execution_count": 17,
   "id": "13e0c19f",
   "metadata": {},
   "outputs": [
    {
     "name": "stdout",
     "output_type": "stream",
     "text": [
      "Net(\n",
      "  (l1): Linear(in_features=80, out_features=32, bias=True)\n",
      "  (l2): Linear(in_features=32, out_features=1, bias=True)\n",
      "  (relu): ReLU(inplace=True)\n",
      "  (features): Sequential(\n",
      "    (0): Linear(in_features=80, out_features=32, bias=True)\n",
      "    (1): ReLU(inplace=True)\n",
      "    (2): Linear(in_features=32, out_features=1, bias=True)\n",
      "  )\n",
      ")\n"
     ]
    }
   ],
   "source": [
    "# Print model outline\n",
    "net = Net(n_input, n_output, n_hidden)\n",
    "print(net)"
   ]
  },
  {
   "cell_type": "code",
   "execution_count": 18,
   "id": "c0c1fc58",
   "metadata": {},
   "outputs": [],
   "source": [
    "# Lock random seed\n",
    "torch.manual_seed(20220214)\n",
    "torch.cuda.manual_seed(20220214)\n",
    "torch.backends.cudnn.deterministic = True\n",
    "torch.use_deterministic_algorithms = True"
   ]
  },
  {
   "cell_type": "code",
   "execution_count": 19,
   "id": "f0a25894",
   "metadata": {},
   "outputs": [],
   "source": [
    "# Allocate device to use GPU\n",
    "device = torch.device(\"cuda:0\" if torch.cuda.is_available() else \"cpu\")\n",
    "# Transfer model to GPU\n",
    "net = net.to(device)\n",
    "# Transfer data to GPU\n",
    "x_train_tensor = x_train_tensor.to(device)\n",
    "y_train_tensor = y_train_tensor.to(device)\n",
    "x_test_tensor = x_test_tensor.to(device)"
   ]
  },
  {
   "cell_type": "code",
   "execution_count": 20,
   "id": "55f7a5f9",
   "metadata": {},
   "outputs": [],
   "source": [
    "train_tensor = data.TensorDataset(x_train_tensor, y_train_tensor)\n",
    "# mini-batch size\n",
    "batch_size = 1500 # <- free to modify\n",
    "# Train dataloader\n",
    "train_loader = DataLoader(train_tensor,batch_size=batch_size,shuffle=True)"
   ]
  },
  {
   "cell_type": "code",
   "execution_count": 21,
   "id": "43c3070d",
   "metadata": {},
   "outputs": [
    {
     "data": {
      "application/vnd.jupyter.widget-view+json": {
       "model_id": "4bc89f09a5ed4c6199cd8291ef52a60e",
       "version_major": 2,
       "version_minor": 0
      },
      "text/plain": [
       "  0%|          | 0/1 [00:00<?, ?it/s]"
      ]
     },
     "metadata": {},
     "output_type": "display_data"
    },
    {
     "name": "stdout",
     "output_type": "stream",
     "text": [
      "Epoch 0 loss: 20.00187\n"
     ]
    },
    {
     "data": {
      "application/vnd.jupyter.widget-view+json": {
       "model_id": "40609da120114be3b9441ae531be4f2e",
       "version_major": 2,
       "version_minor": 0
      },
      "text/plain": [
       "  0%|          | 0/1 [00:00<?, ?it/s]"
      ]
     },
     "metadata": {},
     "output_type": "display_data"
    },
    {
     "name": "stdout",
     "output_type": "stream",
     "text": [
      "Epoch 1 loss: 504.42792\n"
     ]
    },
    {
     "data": {
      "application/vnd.jupyter.widget-view+json": {
       "model_id": "a90927d02b984e36acb75a4a152bf4af",
       "version_major": 2,
       "version_minor": 0
      },
      "text/plain": [
       "  0%|          | 0/1 [00:00<?, ?it/s]"
      ]
     },
     "metadata": {},
     "output_type": "display_data"
    },
    {
     "name": "stdout",
     "output_type": "stream",
     "text": [
      "Epoch 2 loss: 319.65967\n"
     ]
    },
    {
     "data": {
      "application/vnd.jupyter.widget-view+json": {
       "model_id": "566a8b7963f44b1c9cb28d7f44d4d9ab",
       "version_major": 2,
       "version_minor": 0
      },
      "text/plain": [
       "  0%|          | 0/1 [00:00<?, ?it/s]"
      ]
     },
     "metadata": {},
     "output_type": "display_data"
    },
    {
     "name": "stdout",
     "output_type": "stream",
     "text": [
      "Epoch 3 loss: 116.97225\n"
     ]
    },
    {
     "data": {
      "application/vnd.jupyter.widget-view+json": {
       "model_id": "386bd6c21aa34388bb0bc31d4cc3f1f0",
       "version_major": 2,
       "version_minor": 0
      },
      "text/plain": [
       "  0%|          | 0/1 [00:00<?, ?it/s]"
      ]
     },
     "metadata": {},
     "output_type": "display_data"
    },
    {
     "name": "stdout",
     "output_type": "stream",
     "text": [
      "Epoch 4 loss: 20.57583\n"
     ]
    },
    {
     "data": {
      "application/vnd.jupyter.widget-view+json": {
       "model_id": "8c3e40112ab741bd97abf1e1ffa45ecb",
       "version_major": 2,
       "version_minor": 0
      },
      "text/plain": [
       "  0%|          | 0/1 [00:00<?, ?it/s]"
      ]
     },
     "metadata": {},
     "output_type": "display_data"
    },
    {
     "name": "stdout",
     "output_type": "stream",
     "text": [
      "Epoch 5 loss: 11.93562\n"
     ]
    },
    {
     "data": {
      "application/vnd.jupyter.widget-view+json": {
       "model_id": "30b21ab7574f459780e022477f26548d",
       "version_major": 2,
       "version_minor": 0
      },
      "text/plain": [
       "  0%|          | 0/1 [00:00<?, ?it/s]"
      ]
     },
     "metadata": {},
     "output_type": "display_data"
    },
    {
     "name": "stdout",
     "output_type": "stream",
     "text": [
      "Epoch 6 loss: 11.86087\n"
     ]
    },
    {
     "data": {
      "application/vnd.jupyter.widget-view+json": {
       "model_id": "2a6141b72de74f8ab8b7048823656ec7",
       "version_major": 2,
       "version_minor": 0
      },
      "text/plain": [
       "  0%|          | 0/1 [00:00<?, ?it/s]"
      ]
     },
     "metadata": {},
     "output_type": "display_data"
    },
    {
     "name": "stdout",
     "output_type": "stream",
     "text": [
      "Epoch 7 loss: 11.78129\n"
     ]
    },
    {
     "data": {
      "application/vnd.jupyter.widget-view+json": {
       "model_id": "1598de311df64036b26d5e309dd1fa29",
       "version_major": 2,
       "version_minor": 0
      },
      "text/plain": [
       "  0%|          | 0/1 [00:00<?, ?it/s]"
      ]
     },
     "metadata": {},
     "output_type": "display_data"
    },
    {
     "name": "stdout",
     "output_type": "stream",
     "text": [
      "Epoch 8 loss: 11.69814\n"
     ]
    },
    {
     "data": {
      "application/vnd.jupyter.widget-view+json": {
       "model_id": "058fa8d731ea45c5b55d2eff92b0f443",
       "version_major": 2,
       "version_minor": 0
      },
      "text/plain": [
       "  0%|          | 0/1 [00:00<?, ?it/s]"
      ]
     },
     "metadata": {},
     "output_type": "display_data"
    },
    {
     "name": "stdout",
     "output_type": "stream",
     "text": [
      "Epoch 9 loss: 11.61225\n"
     ]
    },
    {
     "data": {
      "application/vnd.jupyter.widget-view+json": {
       "model_id": "91b4fe6975674ce28afb0a3e5fbc45d9",
       "version_major": 2,
       "version_minor": 0
      },
      "text/plain": [
       "  0%|          | 0/1 [00:00<?, ?it/s]"
      ]
     },
     "metadata": {},
     "output_type": "display_data"
    },
    {
     "name": "stdout",
     "output_type": "stream",
     "text": [
      "Epoch 10 loss: 11.52421\n"
     ]
    },
    {
     "data": {
      "application/vnd.jupyter.widget-view+json": {
       "model_id": "f068bc8405a443978539cb7a6f06bcc0",
       "version_major": 2,
       "version_minor": 0
      },
      "text/plain": [
       "  0%|          | 0/1 [00:00<?, ?it/s]"
      ]
     },
     "metadata": {},
     "output_type": "display_data"
    },
    {
     "name": "stdout",
     "output_type": "stream",
     "text": [
      "Epoch 11 loss: 11.43443\n"
     ]
    },
    {
     "data": {
      "application/vnd.jupyter.widget-view+json": {
       "model_id": "166988f4e2aa49cf8affd759e20217b8",
       "version_major": 2,
       "version_minor": 0
      },
      "text/plain": [
       "  0%|          | 0/1 [00:00<?, ?it/s]"
      ]
     },
     "metadata": {},
     "output_type": "display_data"
    },
    {
     "name": "stdout",
     "output_type": "stream",
     "text": [
      "Epoch 12 loss: 11.34325\n"
     ]
    },
    {
     "data": {
      "application/vnd.jupyter.widget-view+json": {
       "model_id": "3280632dd2044ee28ad79f9ef555f2d2",
       "version_major": 2,
       "version_minor": 0
      },
      "text/plain": [
       "  0%|          | 0/1 [00:00<?, ?it/s]"
      ]
     },
     "metadata": {},
     "output_type": "display_data"
    },
    {
     "name": "stdout",
     "output_type": "stream",
     "text": [
      "Epoch 13 loss: 11.25089\n"
     ]
    },
    {
     "data": {
      "application/vnd.jupyter.widget-view+json": {
       "model_id": "13e71ddde2cd42c5be5f074bc452cb55",
       "version_major": 2,
       "version_minor": 0
      },
      "text/plain": [
       "  0%|          | 0/1 [00:00<?, ?it/s]"
      ]
     },
     "metadata": {},
     "output_type": "display_data"
    },
    {
     "name": "stdout",
     "output_type": "stream",
     "text": [
      "Epoch 14 loss: 11.15755\n"
     ]
    },
    {
     "data": {
      "application/vnd.jupyter.widget-view+json": {
       "model_id": "55e256e3a749476095691c82205fcbb8",
       "version_major": 2,
       "version_minor": 0
      },
      "text/plain": [
       "  0%|          | 0/1 [00:00<?, ?it/s]"
      ]
     },
     "metadata": {},
     "output_type": "display_data"
    },
    {
     "name": "stdout",
     "output_type": "stream",
     "text": [
      "Epoch 15 loss: 11.06338\n"
     ]
    },
    {
     "data": {
      "application/vnd.jupyter.widget-view+json": {
       "model_id": "f481c4b29d784ddd85ed9eb1ad90fe9e",
       "version_major": 2,
       "version_minor": 0
      },
      "text/plain": [
       "  0%|          | 0/1 [00:00<?, ?it/s]"
      ]
     },
     "metadata": {},
     "output_type": "display_data"
    },
    {
     "name": "stdout",
     "output_type": "stream",
     "text": [
      "Epoch 16 loss: 10.96850\n"
     ]
    },
    {
     "data": {
      "application/vnd.jupyter.widget-view+json": {
       "model_id": "79f49c90e145449e9e2f8ae52ec4269b",
       "version_major": 2,
       "version_minor": 0
      },
      "text/plain": [
       "  0%|          | 0/1 [00:00<?, ?it/s]"
      ]
     },
     "metadata": {},
     "output_type": "display_data"
    },
    {
     "name": "stdout",
     "output_type": "stream",
     "text": [
      "Epoch 17 loss: 10.87302\n"
     ]
    },
    {
     "data": {
      "application/vnd.jupyter.widget-view+json": {
       "model_id": "36f66ca9eafc44e89d8e34360bddf569",
       "version_major": 2,
       "version_minor": 0
      },
      "text/plain": [
       "  0%|          | 0/1 [00:00<?, ?it/s]"
      ]
     },
     "metadata": {},
     "output_type": "display_data"
    },
    {
     "name": "stdout",
     "output_type": "stream",
     "text": [
      "Epoch 18 loss: 10.77702\n"
     ]
    },
    {
     "data": {
      "application/vnd.jupyter.widget-view+json": {
       "model_id": "587b45eeb6f54aaf94bcda63b32fa0e4",
       "version_major": 2,
       "version_minor": 0
      },
      "text/plain": [
       "  0%|          | 0/1 [00:00<?, ?it/s]"
      ]
     },
     "metadata": {},
     "output_type": "display_data"
    },
    {
     "name": "stdout",
     "output_type": "stream",
     "text": [
      "Epoch 19 loss: 10.68057\n"
     ]
    },
    {
     "data": {
      "application/vnd.jupyter.widget-view+json": {
       "model_id": "4b48cc6db0c24668aa3421db5c39236c",
       "version_major": 2,
       "version_minor": 0
      },
      "text/plain": [
       "  0%|          | 0/1 [00:00<?, ?it/s]"
      ]
     },
     "metadata": {},
     "output_type": "display_data"
    },
    {
     "name": "stdout",
     "output_type": "stream",
     "text": [
      "Epoch 20 loss: 10.58373\n"
     ]
    },
    {
     "data": {
      "application/vnd.jupyter.widget-view+json": {
       "model_id": "f8a5fcf867ac440e816cc88a9c5fd1da",
       "version_major": 2,
       "version_minor": 0
      },
      "text/plain": [
       "  0%|          | 0/1 [00:00<?, ?it/s]"
      ]
     },
     "metadata": {},
     "output_type": "display_data"
    },
    {
     "name": "stdout",
     "output_type": "stream",
     "text": [
      "Epoch 21 loss: 10.48654\n"
     ]
    },
    {
     "data": {
      "application/vnd.jupyter.widget-view+json": {
       "model_id": "63a02dfa9ff247a9aac86cc6afb1e4b5",
       "version_major": 2,
       "version_minor": 0
      },
      "text/plain": [
       "  0%|          | 0/1 [00:00<?, ?it/s]"
      ]
     },
     "metadata": {},
     "output_type": "display_data"
    },
    {
     "name": "stdout",
     "output_type": "stream",
     "text": [
      "Epoch 22 loss: 10.38905\n"
     ]
    },
    {
     "data": {
      "application/vnd.jupyter.widget-view+json": {
       "model_id": "d61b84753be048a08bef4c4c5d507d50",
       "version_major": 2,
       "version_minor": 0
      },
      "text/plain": [
       "  0%|          | 0/1 [00:00<?, ?it/s]"
      ]
     },
     "metadata": {},
     "output_type": "display_data"
    },
    {
     "name": "stdout",
     "output_type": "stream",
     "text": [
      "Epoch 23 loss: 10.29129\n"
     ]
    },
    {
     "data": {
      "application/vnd.jupyter.widget-view+json": {
       "model_id": "50ea97514a544f948d67933390bc9280",
       "version_major": 2,
       "version_minor": 0
      },
      "text/plain": [
       "  0%|          | 0/1 [00:00<?, ?it/s]"
      ]
     },
     "metadata": {},
     "output_type": "display_data"
    },
    {
     "name": "stdout",
     "output_type": "stream",
     "text": [
      "Epoch 24 loss: 10.19330\n"
     ]
    },
    {
     "data": {
      "application/vnd.jupyter.widget-view+json": {
       "model_id": "b34f7850346c45298fa26887f099ffda",
       "version_major": 2,
       "version_minor": 0
      },
      "text/plain": [
       "  0%|          | 0/1 [00:00<?, ?it/s]"
      ]
     },
     "metadata": {},
     "output_type": "display_data"
    },
    {
     "name": "stdout",
     "output_type": "stream",
     "text": [
      "Epoch 25 loss: 10.09511\n"
     ]
    },
    {
     "data": {
      "application/vnd.jupyter.widget-view+json": {
       "model_id": "b6be57f2e59e4617ba43c82a034e9e0d",
       "version_major": 2,
       "version_minor": 0
      },
      "text/plain": [
       "  0%|          | 0/1 [00:00<?, ?it/s]"
      ]
     },
     "metadata": {},
     "output_type": "display_data"
    },
    {
     "name": "stdout",
     "output_type": "stream",
     "text": [
      "Epoch 26 loss: 9.99673\n"
     ]
    },
    {
     "data": {
      "application/vnd.jupyter.widget-view+json": {
       "model_id": "dae8b902b3404ff1986d1f4aa471de3a",
       "version_major": 2,
       "version_minor": 0
      },
      "text/plain": [
       "  0%|          | 0/1 [00:00<?, ?it/s]"
      ]
     },
     "metadata": {},
     "output_type": "display_data"
    },
    {
     "name": "stdout",
     "output_type": "stream",
     "text": [
      "Epoch 27 loss: 9.89820\n"
     ]
    },
    {
     "data": {
      "application/vnd.jupyter.widget-view+json": {
       "model_id": "29e045e5865f43389494d4455490037b",
       "version_major": 2,
       "version_minor": 0
      },
      "text/plain": [
       "  0%|          | 0/1 [00:00<?, ?it/s]"
      ]
     },
     "metadata": {},
     "output_type": "display_data"
    },
    {
     "name": "stdout",
     "output_type": "stream",
     "text": [
      "Epoch 28 loss: 9.79952\n"
     ]
    },
    {
     "data": {
      "application/vnd.jupyter.widget-view+json": {
       "model_id": "102197b43e884241832457bb4ee7efd4",
       "version_major": 2,
       "version_minor": 0
      },
      "text/plain": [
       "  0%|          | 0/1 [00:00<?, ?it/s]"
      ]
     },
     "metadata": {},
     "output_type": "display_data"
    },
    {
     "name": "stdout",
     "output_type": "stream",
     "text": [
      "Epoch 29 loss: 9.70072\n"
     ]
    },
    {
     "data": {
      "application/vnd.jupyter.widget-view+json": {
       "model_id": "3957ec4ad0b842ab8a1433ea7704d482",
       "version_major": 2,
       "version_minor": 0
      },
      "text/plain": [
       "  0%|          | 0/1 [00:00<?, ?it/s]"
      ]
     },
     "metadata": {},
     "output_type": "display_data"
    },
    {
     "name": "stdout",
     "output_type": "stream",
     "text": [
      "Epoch 30 loss: 9.60180\n"
     ]
    },
    {
     "data": {
      "application/vnd.jupyter.widget-view+json": {
       "model_id": "b5a9c18873fc4ab791f2be9b92d9711a",
       "version_major": 2,
       "version_minor": 0
      },
      "text/plain": [
       "  0%|          | 0/1 [00:00<?, ?it/s]"
      ]
     },
     "metadata": {},
     "output_type": "display_data"
    },
    {
     "name": "stdout",
     "output_type": "stream",
     "text": [
      "Epoch 31 loss: 9.50278\n"
     ]
    },
    {
     "data": {
      "application/vnd.jupyter.widget-view+json": {
       "model_id": "91842c2452554270acaaa8367dfc111e",
       "version_major": 2,
       "version_minor": 0
      },
      "text/plain": [
       "  0%|          | 0/1 [00:00<?, ?it/s]"
      ]
     },
     "metadata": {},
     "output_type": "display_data"
    },
    {
     "name": "stdout",
     "output_type": "stream",
     "text": [
      "Epoch 32 loss: 9.40367\n"
     ]
    },
    {
     "data": {
      "application/vnd.jupyter.widget-view+json": {
       "model_id": "49db177686db4eb4a9c9abdc55d07671",
       "version_major": 2,
       "version_minor": 0
      },
      "text/plain": [
       "  0%|          | 0/1 [00:00<?, ?it/s]"
      ]
     },
     "metadata": {},
     "output_type": "display_data"
    },
    {
     "name": "stdout",
     "output_type": "stream",
     "text": [
      "Epoch 33 loss: 9.30449\n"
     ]
    },
    {
     "data": {
      "application/vnd.jupyter.widget-view+json": {
       "model_id": "9007962bd86d4f0ca7d1182f4661b304",
       "version_major": 2,
       "version_minor": 0
      },
      "text/plain": [
       "  0%|          | 0/1 [00:00<?, ?it/s]"
      ]
     },
     "metadata": {},
     "output_type": "display_data"
    },
    {
     "name": "stdout",
     "output_type": "stream",
     "text": [
      "Epoch 34 loss: 9.20523\n"
     ]
    },
    {
     "data": {
      "application/vnd.jupyter.widget-view+json": {
       "model_id": "1d93d68f961844419ddd4b6c994fccb9",
       "version_major": 2,
       "version_minor": 0
      },
      "text/plain": [
       "  0%|          | 0/1 [00:00<?, ?it/s]"
      ]
     },
     "metadata": {},
     "output_type": "display_data"
    },
    {
     "name": "stdout",
     "output_type": "stream",
     "text": [
      "Epoch 35 loss: 9.10591\n"
     ]
    },
    {
     "data": {
      "application/vnd.jupyter.widget-view+json": {
       "model_id": "4d3e7a0cdf184157ad1f403bbee86976",
       "version_major": 2,
       "version_minor": 0
      },
      "text/plain": [
       "  0%|          | 0/1 [00:00<?, ?it/s]"
      ]
     },
     "metadata": {},
     "output_type": "display_data"
    },
    {
     "name": "stdout",
     "output_type": "stream",
     "text": [
      "Epoch 36 loss: 9.00654\n"
     ]
    },
    {
     "data": {
      "application/vnd.jupyter.widget-view+json": {
       "model_id": "de82b639d8d842478ca9c434112d1d60",
       "version_major": 2,
       "version_minor": 0
      },
      "text/plain": [
       "  0%|          | 0/1 [00:00<?, ?it/s]"
      ]
     },
     "metadata": {},
     "output_type": "display_data"
    },
    {
     "name": "stdout",
     "output_type": "stream",
     "text": [
      "Epoch 37 loss: 8.90712\n"
     ]
    },
    {
     "data": {
      "application/vnd.jupyter.widget-view+json": {
       "model_id": "b7808bdb39c24f6c85dc8a1f0011df68",
       "version_major": 2,
       "version_minor": 0
      },
      "text/plain": [
       "  0%|          | 0/1 [00:00<?, ?it/s]"
      ]
     },
     "metadata": {},
     "output_type": "display_data"
    },
    {
     "name": "stdout",
     "output_type": "stream",
     "text": [
      "Epoch 38 loss: 8.80765\n"
     ]
    },
    {
     "data": {
      "application/vnd.jupyter.widget-view+json": {
       "model_id": "47183cc0c6ab4588a9551a31fbf07099",
       "version_major": 2,
       "version_minor": 0
      },
      "text/plain": [
       "  0%|          | 0/1 [00:00<?, ?it/s]"
      ]
     },
     "metadata": {},
     "output_type": "display_data"
    },
    {
     "name": "stdout",
     "output_type": "stream",
     "text": [
      "Epoch 39 loss: 8.70815\n"
     ]
    },
    {
     "data": {
      "application/vnd.jupyter.widget-view+json": {
       "model_id": "d2b86accd7a14dbb8c312605ae442fe8",
       "version_major": 2,
       "version_minor": 0
      },
      "text/plain": [
       "  0%|          | 0/1 [00:00<?, ?it/s]"
      ]
     },
     "metadata": {},
     "output_type": "display_data"
    },
    {
     "name": "stdout",
     "output_type": "stream",
     "text": [
      "Epoch 40 loss: 8.60860\n"
     ]
    },
    {
     "data": {
      "application/vnd.jupyter.widget-view+json": {
       "model_id": "e0666e1250f14aad80c5fb32f38d2aed",
       "version_major": 2,
       "version_minor": 0
      },
      "text/plain": [
       "  0%|          | 0/1 [00:00<?, ?it/s]"
      ]
     },
     "metadata": {},
     "output_type": "display_data"
    },
    {
     "name": "stdout",
     "output_type": "stream",
     "text": [
      "Epoch 41 loss: 8.50903\n"
     ]
    },
    {
     "data": {
      "application/vnd.jupyter.widget-view+json": {
       "model_id": "f09b157f655042e4a25e6a561319026c",
       "version_major": 2,
       "version_minor": 0
      },
      "text/plain": [
       "  0%|          | 0/1 [00:00<?, ?it/s]"
      ]
     },
     "metadata": {},
     "output_type": "display_data"
    },
    {
     "name": "stdout",
     "output_type": "stream",
     "text": [
      "Epoch 42 loss: 8.40944\n"
     ]
    },
    {
     "data": {
      "application/vnd.jupyter.widget-view+json": {
       "model_id": "e0295621733547ad8c2055a2d09d1626",
       "version_major": 2,
       "version_minor": 0
      },
      "text/plain": [
       "  0%|          | 0/1 [00:00<?, ?it/s]"
      ]
     },
     "metadata": {},
     "output_type": "display_data"
    },
    {
     "name": "stdout",
     "output_type": "stream",
     "text": [
      "Epoch 43 loss: 8.30982\n"
     ]
    },
    {
     "data": {
      "application/vnd.jupyter.widget-view+json": {
       "model_id": "4f0c36a5f86845e8be830b05a4ce87d8",
       "version_major": 2,
       "version_minor": 0
      },
      "text/plain": [
       "  0%|          | 0/1 [00:00<?, ?it/s]"
      ]
     },
     "metadata": {},
     "output_type": "display_data"
    },
    {
     "name": "stdout",
     "output_type": "stream",
     "text": [
      "Epoch 44 loss: 8.21017\n"
     ]
    },
    {
     "data": {
      "application/vnd.jupyter.widget-view+json": {
       "model_id": "cd8aa70a608844839424d83aabd4fddd",
       "version_major": 2,
       "version_minor": 0
      },
      "text/plain": [
       "  0%|          | 0/1 [00:00<?, ?it/s]"
      ]
     },
     "metadata": {},
     "output_type": "display_data"
    },
    {
     "name": "stdout",
     "output_type": "stream",
     "text": [
      "Epoch 45 loss: 8.11052\n"
     ]
    },
    {
     "data": {
      "application/vnd.jupyter.widget-view+json": {
       "model_id": "4d41932abdfd45169570f3b404cf435d",
       "version_major": 2,
       "version_minor": 0
      },
      "text/plain": [
       "  0%|          | 0/1 [00:00<?, ?it/s]"
      ]
     },
     "metadata": {},
     "output_type": "display_data"
    },
    {
     "name": "stdout",
     "output_type": "stream",
     "text": [
      "Epoch 46 loss: 8.01084\n"
     ]
    },
    {
     "data": {
      "application/vnd.jupyter.widget-view+json": {
       "model_id": "6149c17e67374bbdb3702c2368e6ae4b",
       "version_major": 2,
       "version_minor": 0
      },
      "text/plain": [
       "  0%|          | 0/1 [00:00<?, ?it/s]"
      ]
     },
     "metadata": {},
     "output_type": "display_data"
    },
    {
     "name": "stdout",
     "output_type": "stream",
     "text": [
      "Epoch 47 loss: 7.91115\n"
     ]
    },
    {
     "data": {
      "application/vnd.jupyter.widget-view+json": {
       "model_id": "9b47b7bc2fcd47a6bf4022eebc3501ae",
       "version_major": 2,
       "version_minor": 0
      },
      "text/plain": [
       "  0%|          | 0/1 [00:00<?, ?it/s]"
      ]
     },
     "metadata": {},
     "output_type": "display_data"
    },
    {
     "name": "stdout",
     "output_type": "stream",
     "text": [
      "Epoch 48 loss: 7.81145\n"
     ]
    },
    {
     "data": {
      "application/vnd.jupyter.widget-view+json": {
       "model_id": "3a1b08b8500b4af9b48ce6f43b623c86",
       "version_major": 2,
       "version_minor": 0
      },
      "text/plain": [
       "  0%|          | 0/1 [00:00<?, ?it/s]"
      ]
     },
     "metadata": {},
     "output_type": "display_data"
    },
    {
     "name": "stdout",
     "output_type": "stream",
     "text": [
      "Epoch 49 loss: 7.71174\n"
     ]
    },
    {
     "data": {
      "application/vnd.jupyter.widget-view+json": {
       "model_id": "880d2a934adf40fb947e991840fc547e",
       "version_major": 2,
       "version_minor": 0
      },
      "text/plain": [
       "  0%|          | 0/1 [00:00<?, ?it/s]"
      ]
     },
     "metadata": {},
     "output_type": "display_data"
    },
    {
     "name": "stdout",
     "output_type": "stream",
     "text": [
      "Epoch 50 loss: 7.61203\n"
     ]
    },
    {
     "data": {
      "application/vnd.jupyter.widget-view+json": {
       "model_id": "5555f95ee0fc481bb96bfa2bdbc97286",
       "version_major": 2,
       "version_minor": 0
      },
      "text/plain": [
       "  0%|          | 0/1 [00:00<?, ?it/s]"
      ]
     },
     "metadata": {},
     "output_type": "display_data"
    },
    {
     "name": "stdout",
     "output_type": "stream",
     "text": [
      "Epoch 51 loss: 7.51230\n"
     ]
    },
    {
     "data": {
      "application/vnd.jupyter.widget-view+json": {
       "model_id": "98209c2846e74af68945fb0c9edfed17",
       "version_major": 2,
       "version_minor": 0
      },
      "text/plain": [
       "  0%|          | 0/1 [00:00<?, ?it/s]"
      ]
     },
     "metadata": {},
     "output_type": "display_data"
    },
    {
     "name": "stdout",
     "output_type": "stream",
     "text": [
      "Epoch 52 loss: 7.41258\n"
     ]
    },
    {
     "data": {
      "application/vnd.jupyter.widget-view+json": {
       "model_id": "0f628f8582a0481c95c4b49a0b201df4",
       "version_major": 2,
       "version_minor": 0
      },
      "text/plain": [
       "  0%|          | 0/1 [00:00<?, ?it/s]"
      ]
     },
     "metadata": {},
     "output_type": "display_data"
    },
    {
     "name": "stdout",
     "output_type": "stream",
     "text": [
      "Epoch 53 loss: 7.31284\n"
     ]
    },
    {
     "data": {
      "application/vnd.jupyter.widget-view+json": {
       "model_id": "8d02fb42d24d4dd0ad1e94a4dec174d8",
       "version_major": 2,
       "version_minor": 0
      },
      "text/plain": [
       "  0%|          | 0/1 [00:00<?, ?it/s]"
      ]
     },
     "metadata": {},
     "output_type": "display_data"
    },
    {
     "name": "stdout",
     "output_type": "stream",
     "text": [
      "Epoch 54 loss: 7.21311\n"
     ]
    },
    {
     "data": {
      "application/vnd.jupyter.widget-view+json": {
       "model_id": "5054902e37744050a0d888e3513b64ae",
       "version_major": 2,
       "version_minor": 0
      },
      "text/plain": [
       "  0%|          | 0/1 [00:00<?, ?it/s]"
      ]
     },
     "metadata": {},
     "output_type": "display_data"
    },
    {
     "name": "stdout",
     "output_type": "stream",
     "text": [
      "Epoch 55 loss: 7.11337\n"
     ]
    },
    {
     "data": {
      "application/vnd.jupyter.widget-view+json": {
       "model_id": "ebe4073c82f848868acb8f82950f6b8d",
       "version_major": 2,
       "version_minor": 0
      },
      "text/plain": [
       "  0%|          | 0/1 [00:00<?, ?it/s]"
      ]
     },
     "metadata": {},
     "output_type": "display_data"
    },
    {
     "name": "stdout",
     "output_type": "stream",
     "text": [
      "Epoch 56 loss: 7.01363\n"
     ]
    },
    {
     "data": {
      "application/vnd.jupyter.widget-view+json": {
       "model_id": "94cf4e8588754f8da983e32c172559ed",
       "version_major": 2,
       "version_minor": 0
      },
      "text/plain": [
       "  0%|          | 0/1 [00:00<?, ?it/s]"
      ]
     },
     "metadata": {},
     "output_type": "display_data"
    },
    {
     "name": "stdout",
     "output_type": "stream",
     "text": [
      "Epoch 57 loss: 6.91390\n"
     ]
    },
    {
     "data": {
      "application/vnd.jupyter.widget-view+json": {
       "model_id": "d7bf05f308de4e6e9a52e38db18926a0",
       "version_major": 2,
       "version_minor": 0
      },
      "text/plain": [
       "  0%|          | 0/1 [00:00<?, ?it/s]"
      ]
     },
     "metadata": {},
     "output_type": "display_data"
    },
    {
     "name": "stdout",
     "output_type": "stream",
     "text": [
      "Epoch 58 loss: 6.81416\n"
     ]
    },
    {
     "data": {
      "application/vnd.jupyter.widget-view+json": {
       "model_id": "8e3f78cbedbd41129fd294097c304f66",
       "version_major": 2,
       "version_minor": 0
      },
      "text/plain": [
       "  0%|          | 0/1 [00:00<?, ?it/s]"
      ]
     },
     "metadata": {},
     "output_type": "display_data"
    },
    {
     "name": "stdout",
     "output_type": "stream",
     "text": [
      "Epoch 59 loss: 6.71443\n"
     ]
    },
    {
     "data": {
      "application/vnd.jupyter.widget-view+json": {
       "model_id": "346d433edbc44c60b3179f01771c2b5d",
       "version_major": 2,
       "version_minor": 0
      },
      "text/plain": [
       "  0%|          | 0/1 [00:00<?, ?it/s]"
      ]
     },
     "metadata": {},
     "output_type": "display_data"
    },
    {
     "name": "stdout",
     "output_type": "stream",
     "text": [
      "Epoch 60 loss: 6.61470\n"
     ]
    },
    {
     "data": {
      "application/vnd.jupyter.widget-view+json": {
       "model_id": "75579ba690de4a5b8563d8752f71434a",
       "version_major": 2,
       "version_minor": 0
      },
      "text/plain": [
       "  0%|          | 0/1 [00:00<?, ?it/s]"
      ]
     },
     "metadata": {},
     "output_type": "display_data"
    },
    {
     "name": "stdout",
     "output_type": "stream",
     "text": [
      "Epoch 61 loss: 6.51498\n"
     ]
    },
    {
     "data": {
      "application/vnd.jupyter.widget-view+json": {
       "model_id": "385bddcca91d446daf8bec568e5bd762",
       "version_major": 2,
       "version_minor": 0
      },
      "text/plain": [
       "  0%|          | 0/1 [00:00<?, ?it/s]"
      ]
     },
     "metadata": {},
     "output_type": "display_data"
    },
    {
     "name": "stdout",
     "output_type": "stream",
     "text": [
      "Epoch 62 loss: 6.41525\n"
     ]
    },
    {
     "data": {
      "application/vnd.jupyter.widget-view+json": {
       "model_id": "69c74fc94fcb40dcbef477ba0ed45ef0",
       "version_major": 2,
       "version_minor": 0
      },
      "text/plain": [
       "  0%|          | 0/1 [00:00<?, ?it/s]"
      ]
     },
     "metadata": {},
     "output_type": "display_data"
    },
    {
     "name": "stdout",
     "output_type": "stream",
     "text": [
      "Epoch 63 loss: 6.31554\n"
     ]
    },
    {
     "data": {
      "application/vnd.jupyter.widget-view+json": {
       "model_id": "cb382d1f6c4548729bdeefb406dbbc5b",
       "version_major": 2,
       "version_minor": 0
      },
      "text/plain": [
       "  0%|          | 0/1 [00:00<?, ?it/s]"
      ]
     },
     "metadata": {},
     "output_type": "display_data"
    },
    {
     "name": "stdout",
     "output_type": "stream",
     "text": [
      "Epoch 64 loss: 6.21583\n"
     ]
    },
    {
     "data": {
      "application/vnd.jupyter.widget-view+json": {
       "model_id": "59fe3e72512a45feb96401605c5e7f41",
       "version_major": 2,
       "version_minor": 0
      },
      "text/plain": [
       "  0%|          | 0/1 [00:00<?, ?it/s]"
      ]
     },
     "metadata": {},
     "output_type": "display_data"
    },
    {
     "name": "stdout",
     "output_type": "stream",
     "text": [
      "Epoch 65 loss: 6.11613\n"
     ]
    },
    {
     "data": {
      "application/vnd.jupyter.widget-view+json": {
       "model_id": "95b6f2067528444b85027fffbf4c6cd8",
       "version_major": 2,
       "version_minor": 0
      },
      "text/plain": [
       "  0%|          | 0/1 [00:00<?, ?it/s]"
      ]
     },
     "metadata": {},
     "output_type": "display_data"
    },
    {
     "name": "stdout",
     "output_type": "stream",
     "text": [
      "Epoch 66 loss: 6.01643\n"
     ]
    },
    {
     "data": {
      "application/vnd.jupyter.widget-view+json": {
       "model_id": "fef35d5c2ecf4f679b438a84d5c3a626",
       "version_major": 2,
       "version_minor": 0
      },
      "text/plain": [
       "  0%|          | 0/1 [00:00<?, ?it/s]"
      ]
     },
     "metadata": {},
     "output_type": "display_data"
    },
    {
     "name": "stdout",
     "output_type": "stream",
     "text": [
      "Epoch 67 loss: 5.91675\n"
     ]
    },
    {
     "data": {
      "application/vnd.jupyter.widget-view+json": {
       "model_id": "1bb40fd0ef1c422e8b023080cb314e37",
       "version_major": 2,
       "version_minor": 0
      },
      "text/plain": [
       "  0%|          | 0/1 [00:00<?, ?it/s]"
      ]
     },
     "metadata": {},
     "output_type": "display_data"
    },
    {
     "name": "stdout",
     "output_type": "stream",
     "text": [
      "Epoch 68 loss: 5.81707\n"
     ]
    },
    {
     "data": {
      "application/vnd.jupyter.widget-view+json": {
       "model_id": "bf887f070d1c4f53ad26cf6f96e8f9bd",
       "version_major": 2,
       "version_minor": 0
      },
      "text/plain": [
       "  0%|          | 0/1 [00:00<?, ?it/s]"
      ]
     },
     "metadata": {},
     "output_type": "display_data"
    },
    {
     "name": "stdout",
     "output_type": "stream",
     "text": [
      "Epoch 69 loss: 5.71740\n"
     ]
    },
    {
     "data": {
      "application/vnd.jupyter.widget-view+json": {
       "model_id": "5f547d349b8140a59470e1cc54031d20",
       "version_major": 2,
       "version_minor": 0
      },
      "text/plain": [
       "  0%|          | 0/1 [00:00<?, ?it/s]"
      ]
     },
     "metadata": {},
     "output_type": "display_data"
    },
    {
     "name": "stdout",
     "output_type": "stream",
     "text": [
      "Epoch 70 loss: 5.61775\n"
     ]
    },
    {
     "data": {
      "application/vnd.jupyter.widget-view+json": {
       "model_id": "7c44bb9213ce45ef8611e5b577105ae6",
       "version_major": 2,
       "version_minor": 0
      },
      "text/plain": [
       "  0%|          | 0/1 [00:00<?, ?it/s]"
      ]
     },
     "metadata": {},
     "output_type": "display_data"
    },
    {
     "name": "stdout",
     "output_type": "stream",
     "text": [
      "Epoch 71 loss: 5.51810\n"
     ]
    },
    {
     "data": {
      "application/vnd.jupyter.widget-view+json": {
       "model_id": "531e67bb93414b389e20375ec36b8b20",
       "version_major": 2,
       "version_minor": 0
      },
      "text/plain": [
       "  0%|          | 0/1 [00:00<?, ?it/s]"
      ]
     },
     "metadata": {},
     "output_type": "display_data"
    },
    {
     "name": "stdout",
     "output_type": "stream",
     "text": [
      "Epoch 72 loss: 5.41847\n"
     ]
    },
    {
     "data": {
      "application/vnd.jupyter.widget-view+json": {
       "model_id": "17c44bbf41f7481295d5103735157daa",
       "version_major": 2,
       "version_minor": 0
      },
      "text/plain": [
       "  0%|          | 0/1 [00:00<?, ?it/s]"
      ]
     },
     "metadata": {},
     "output_type": "display_data"
    },
    {
     "name": "stdout",
     "output_type": "stream",
     "text": [
      "Epoch 73 loss: 5.31885\n"
     ]
    },
    {
     "data": {
      "application/vnd.jupyter.widget-view+json": {
       "model_id": "a5b49bd684cd4a87b7b6fe3475f04738",
       "version_major": 2,
       "version_minor": 0
      },
      "text/plain": [
       "  0%|          | 0/1 [00:00<?, ?it/s]"
      ]
     },
     "metadata": {},
     "output_type": "display_data"
    },
    {
     "name": "stdout",
     "output_type": "stream",
     "text": [
      "Epoch 74 loss: 5.21925\n"
     ]
    },
    {
     "data": {
      "application/vnd.jupyter.widget-view+json": {
       "model_id": "568812d9463f42cead360d3aed4fba62",
       "version_major": 2,
       "version_minor": 0
      },
      "text/plain": [
       "  0%|          | 0/1 [00:00<?, ?it/s]"
      ]
     },
     "metadata": {},
     "output_type": "display_data"
    },
    {
     "name": "stdout",
     "output_type": "stream",
     "text": [
      "Epoch 75 loss: 5.11966\n"
     ]
    },
    {
     "data": {
      "application/vnd.jupyter.widget-view+json": {
       "model_id": "9be8dc4609ca45f787f74fdc6f6427c9",
       "version_major": 2,
       "version_minor": 0
      },
      "text/plain": [
       "  0%|          | 0/1 [00:00<?, ?it/s]"
      ]
     },
     "metadata": {},
     "output_type": "display_data"
    },
    {
     "name": "stdout",
     "output_type": "stream",
     "text": [
      "Epoch 76 loss: 5.02009\n"
     ]
    },
    {
     "data": {
      "application/vnd.jupyter.widget-view+json": {
       "model_id": "205591dbb320420aa6d5eae78dcb4cc3",
       "version_major": 2,
       "version_minor": 0
      },
      "text/plain": [
       "  0%|          | 0/1 [00:00<?, ?it/s]"
      ]
     },
     "metadata": {},
     "output_type": "display_data"
    },
    {
     "name": "stdout",
     "output_type": "stream",
     "text": [
      "Epoch 77 loss: 4.92053\n"
     ]
    },
    {
     "data": {
      "application/vnd.jupyter.widget-view+json": {
       "model_id": "4e0717d2c0d44201af808741fe810763",
       "version_major": 2,
       "version_minor": 0
      },
      "text/plain": [
       "  0%|          | 0/1 [00:00<?, ?it/s]"
      ]
     },
     "metadata": {},
     "output_type": "display_data"
    },
    {
     "name": "stdout",
     "output_type": "stream",
     "text": [
      "Epoch 78 loss: 4.82100\n"
     ]
    },
    {
     "data": {
      "application/vnd.jupyter.widget-view+json": {
       "model_id": "8d5529959be141e7b1e3c41070d3d520",
       "version_major": 2,
       "version_minor": 0
      },
      "text/plain": [
       "  0%|          | 0/1 [00:00<?, ?it/s]"
      ]
     },
     "metadata": {},
     "output_type": "display_data"
    },
    {
     "name": "stdout",
     "output_type": "stream",
     "text": [
      "Epoch 79 loss: 4.72148\n"
     ]
    },
    {
     "data": {
      "application/vnd.jupyter.widget-view+json": {
       "model_id": "1caf484673e34561bcc35e97359abad9",
       "version_major": 2,
       "version_minor": 0
      },
      "text/plain": [
       "  0%|          | 0/1 [00:00<?, ?it/s]"
      ]
     },
     "metadata": {},
     "output_type": "display_data"
    },
    {
     "name": "stdout",
     "output_type": "stream",
     "text": [
      "Epoch 80 loss: 4.62199\n"
     ]
    },
    {
     "data": {
      "application/vnd.jupyter.widget-view+json": {
       "model_id": "6839fb0a103c494eab51fb93a008756a",
       "version_major": 2,
       "version_minor": 0
      },
      "text/plain": [
       "  0%|          | 0/1 [00:00<?, ?it/s]"
      ]
     },
     "metadata": {},
     "output_type": "display_data"
    },
    {
     "name": "stdout",
     "output_type": "stream",
     "text": [
      "Epoch 81 loss: 4.52251\n"
     ]
    },
    {
     "data": {
      "application/vnd.jupyter.widget-view+json": {
       "model_id": "618bf2cc185d4fd789a42cbfe9017ee9",
       "version_major": 2,
       "version_minor": 0
      },
      "text/plain": [
       "  0%|          | 0/1 [00:00<?, ?it/s]"
      ]
     },
     "metadata": {},
     "output_type": "display_data"
    },
    {
     "name": "stdout",
     "output_type": "stream",
     "text": [
      "Epoch 82 loss: 4.42307\n"
     ]
    },
    {
     "data": {
      "application/vnd.jupyter.widget-view+json": {
       "model_id": "bd8d8c31ac5349cd919b015a255cd041",
       "version_major": 2,
       "version_minor": 0
      },
      "text/plain": [
       "  0%|          | 0/1 [00:00<?, ?it/s]"
      ]
     },
     "metadata": {},
     "output_type": "display_data"
    },
    {
     "name": "stdout",
     "output_type": "stream",
     "text": [
      "Epoch 83 loss: 4.32365\n"
     ]
    },
    {
     "data": {
      "application/vnd.jupyter.widget-view+json": {
       "model_id": "d0eec5747fc045639b0ab619066c6fd0",
       "version_major": 2,
       "version_minor": 0
      },
      "text/plain": [
       "  0%|          | 0/1 [00:00<?, ?it/s]"
      ]
     },
     "metadata": {},
     "output_type": "display_data"
    },
    {
     "name": "stdout",
     "output_type": "stream",
     "text": [
      "Epoch 84 loss: 4.22426\n"
     ]
    },
    {
     "data": {
      "application/vnd.jupyter.widget-view+json": {
       "model_id": "d6cc990d18554836897ff6c99b57049b",
       "version_major": 2,
       "version_minor": 0
      },
      "text/plain": [
       "  0%|          | 0/1 [00:00<?, ?it/s]"
      ]
     },
     "metadata": {},
     "output_type": "display_data"
    },
    {
     "name": "stdout",
     "output_type": "stream",
     "text": [
      "Epoch 85 loss: 4.12489\n"
     ]
    },
    {
     "data": {
      "application/vnd.jupyter.widget-view+json": {
       "model_id": "16fe3df7f81443dcb043e54c2d824c80",
       "version_major": 2,
       "version_minor": 0
      },
      "text/plain": [
       "  0%|          | 0/1 [00:00<?, ?it/s]"
      ]
     },
     "metadata": {},
     "output_type": "display_data"
    },
    {
     "name": "stdout",
     "output_type": "stream",
     "text": [
      "Epoch 86 loss: 4.02556\n"
     ]
    },
    {
     "data": {
      "application/vnd.jupyter.widget-view+json": {
       "model_id": "7e27a2822d2f4c7faca89437772b695f",
       "version_major": 2,
       "version_minor": 0
      },
      "text/plain": [
       "  0%|          | 0/1 [00:00<?, ?it/s]"
      ]
     },
     "metadata": {},
     "output_type": "display_data"
    },
    {
     "name": "stdout",
     "output_type": "stream",
     "text": [
      "Epoch 87 loss: 3.92627\n"
     ]
    },
    {
     "data": {
      "application/vnd.jupyter.widget-view+json": {
       "model_id": "6c3665cb933c4c6b895203ea77ea887b",
       "version_major": 2,
       "version_minor": 0
      },
      "text/plain": [
       "  0%|          | 0/1 [00:00<?, ?it/s]"
      ]
     },
     "metadata": {},
     "output_type": "display_data"
    },
    {
     "name": "stdout",
     "output_type": "stream",
     "text": [
      "Epoch 88 loss: 3.82701\n"
     ]
    },
    {
     "data": {
      "application/vnd.jupyter.widget-view+json": {
       "model_id": "375591bf8df34502b7fd055e08076182",
       "version_major": 2,
       "version_minor": 0
      },
      "text/plain": [
       "  0%|          | 0/1 [00:00<?, ?it/s]"
      ]
     },
     "metadata": {},
     "output_type": "display_data"
    },
    {
     "name": "stdout",
     "output_type": "stream",
     "text": [
      "Epoch 89 loss: 3.72780\n"
     ]
    },
    {
     "data": {
      "application/vnd.jupyter.widget-view+json": {
       "model_id": "89a427a2bb6345d98fd504eddb393e49",
       "version_major": 2,
       "version_minor": 0
      },
      "text/plain": [
       "  0%|          | 0/1 [00:00<?, ?it/s]"
      ]
     },
     "metadata": {},
     "output_type": "display_data"
    },
    {
     "name": "stdout",
     "output_type": "stream",
     "text": [
      "Epoch 90 loss: 3.62863\n"
     ]
    },
    {
     "data": {
      "application/vnd.jupyter.widget-view+json": {
       "model_id": "828b297fbb97449bafce801e78dbe27b",
       "version_major": 2,
       "version_minor": 0
      },
      "text/plain": [
       "  0%|          | 0/1 [00:00<?, ?it/s]"
      ]
     },
     "metadata": {},
     "output_type": "display_data"
    },
    {
     "name": "stdout",
     "output_type": "stream",
     "text": [
      "Epoch 91 loss: 3.52950\n"
     ]
    },
    {
     "data": {
      "application/vnd.jupyter.widget-view+json": {
       "model_id": "09adc58addb84a178311ae26a0e7422d",
       "version_major": 2,
       "version_minor": 0
      },
      "text/plain": [
       "  0%|          | 0/1 [00:00<?, ?it/s]"
      ]
     },
     "metadata": {},
     "output_type": "display_data"
    },
    {
     "name": "stdout",
     "output_type": "stream",
     "text": [
      "Epoch 92 loss: 3.43043\n"
     ]
    },
    {
     "data": {
      "application/vnd.jupyter.widget-view+json": {
       "model_id": "691b0b1cda884b1581a11d9fb34c1538",
       "version_major": 2,
       "version_minor": 0
      },
      "text/plain": [
       "  0%|          | 0/1 [00:00<?, ?it/s]"
      ]
     },
     "metadata": {},
     "output_type": "display_data"
    },
    {
     "name": "stdout",
     "output_type": "stream",
     "text": [
      "Epoch 93 loss: 3.33142\n"
     ]
    },
    {
     "data": {
      "application/vnd.jupyter.widget-view+json": {
       "model_id": "b225b176efad48269c5e2eed4db1c15b",
       "version_major": 2,
       "version_minor": 0
      },
      "text/plain": [
       "  0%|          | 0/1 [00:00<?, ?it/s]"
      ]
     },
     "metadata": {},
     "output_type": "display_data"
    },
    {
     "name": "stdout",
     "output_type": "stream",
     "text": [
      "Epoch 94 loss: 3.23246\n"
     ]
    },
    {
     "data": {
      "application/vnd.jupyter.widget-view+json": {
       "model_id": "36641c9f182f41e6ada469d05b1600ba",
       "version_major": 2,
       "version_minor": 0
      },
      "text/plain": [
       "  0%|          | 0/1 [00:00<?, ?it/s]"
      ]
     },
     "metadata": {},
     "output_type": "display_data"
    },
    {
     "name": "stdout",
     "output_type": "stream",
     "text": [
      "Epoch 95 loss: 3.13358\n"
     ]
    },
    {
     "data": {
      "application/vnd.jupyter.widget-view+json": {
       "model_id": "5960759bf7a54b77b65047f47a28e9bd",
       "version_major": 2,
       "version_minor": 0
      },
      "text/plain": [
       "  0%|          | 0/1 [00:00<?, ?it/s]"
      ]
     },
     "metadata": {},
     "output_type": "display_data"
    },
    {
     "name": "stdout",
     "output_type": "stream",
     "text": [
      "Epoch 96 loss: 3.03476\n"
     ]
    },
    {
     "data": {
      "application/vnd.jupyter.widget-view+json": {
       "model_id": "c4b1c41c35294ed7aa4a01f9671a9da8",
       "version_major": 2,
       "version_minor": 0
      },
      "text/plain": [
       "  0%|          | 0/1 [00:00<?, ?it/s]"
      ]
     },
     "metadata": {},
     "output_type": "display_data"
    },
    {
     "name": "stdout",
     "output_type": "stream",
     "text": [
      "Epoch 97 loss: 2.93603\n"
     ]
    },
    {
     "data": {
      "application/vnd.jupyter.widget-view+json": {
       "model_id": "678bad5521744708b5d6e608e88ad3c8",
       "version_major": 2,
       "version_minor": 0
      },
      "text/plain": [
       "  0%|          | 0/1 [00:00<?, ?it/s]"
      ]
     },
     "metadata": {},
     "output_type": "display_data"
    },
    {
     "name": "stdout",
     "output_type": "stream",
     "text": [
      "Epoch 98 loss: 2.83739\n"
     ]
    },
    {
     "data": {
      "application/vnd.jupyter.widget-view+json": {
       "model_id": "6b9e05dd1fbd45a0b5c628a71c3d4fc9",
       "version_major": 2,
       "version_minor": 0
      },
      "text/plain": [
       "  0%|          | 0/1 [00:00<?, ?it/s]"
      ]
     },
     "metadata": {},
     "output_type": "display_data"
    },
    {
     "name": "stdout",
     "output_type": "stream",
     "text": [
      "Epoch 99 loss: 2.73884\n"
     ]
    },
    {
     "data": {
      "application/vnd.jupyter.widget-view+json": {
       "model_id": "b607657a7ea04c7a9c37517d51a8bb17",
       "version_major": 2,
       "version_minor": 0
      },
      "text/plain": [
       "  0%|          | 0/1 [00:00<?, ?it/s]"
      ]
     },
     "metadata": {},
     "output_type": "display_data"
    },
    {
     "name": "stdout",
     "output_type": "stream",
     "text": [
      "Epoch 100 loss: 2.64041\n"
     ]
    },
    {
     "data": {
      "application/vnd.jupyter.widget-view+json": {
       "model_id": "3da1d13fc428419cb4e9e7e3187ab971",
       "version_major": 2,
       "version_minor": 0
      },
      "text/plain": [
       "  0%|          | 0/1 [00:00<?, ?it/s]"
      ]
     },
     "metadata": {},
     "output_type": "display_data"
    },
    {
     "name": "stdout",
     "output_type": "stream",
     "text": [
      "Epoch 101 loss: 2.54209\n"
     ]
    },
    {
     "data": {
      "application/vnd.jupyter.widget-view+json": {
       "model_id": "4c3c173f77dd4c9b9357a4dee16b3784",
       "version_major": 2,
       "version_minor": 0
      },
      "text/plain": [
       "  0%|          | 0/1 [00:00<?, ?it/s]"
      ]
     },
     "metadata": {},
     "output_type": "display_data"
    },
    {
     "name": "stdout",
     "output_type": "stream",
     "text": [
      "Epoch 102 loss: 2.44392\n"
     ]
    },
    {
     "data": {
      "application/vnd.jupyter.widget-view+json": {
       "model_id": "ab40dbee529245aa9e9ae4bc2a43bac5",
       "version_major": 2,
       "version_minor": 0
      },
      "text/plain": [
       "  0%|          | 0/1 [00:00<?, ?it/s]"
      ]
     },
     "metadata": {},
     "output_type": "display_data"
    },
    {
     "name": "stdout",
     "output_type": "stream",
     "text": [
      "Epoch 103 loss: 2.34589\n"
     ]
    },
    {
     "data": {
      "application/vnd.jupyter.widget-view+json": {
       "model_id": "42f78390152f40219a706895f9e34bea",
       "version_major": 2,
       "version_minor": 0
      },
      "text/plain": [
       "  0%|          | 0/1 [00:00<?, ?it/s]"
      ]
     },
     "metadata": {},
     "output_type": "display_data"
    },
    {
     "name": "stdout",
     "output_type": "stream",
     "text": [
      "Epoch 104 loss: 2.24803\n"
     ]
    },
    {
     "data": {
      "application/vnd.jupyter.widget-view+json": {
       "model_id": "989ac802390b448c8865c2c52d7e06f3",
       "version_major": 2,
       "version_minor": 0
      },
      "text/plain": [
       "  0%|          | 0/1 [00:00<?, ?it/s]"
      ]
     },
     "metadata": {},
     "output_type": "display_data"
    },
    {
     "name": "stdout",
     "output_type": "stream",
     "text": [
      "Epoch 105 loss: 2.15037\n"
     ]
    },
    {
     "data": {
      "application/vnd.jupyter.widget-view+json": {
       "model_id": "05e5166a7e2248dc9301fc903c2b06ed",
       "version_major": 2,
       "version_minor": 0
      },
      "text/plain": [
       "  0%|          | 0/1 [00:00<?, ?it/s]"
      ]
     },
     "metadata": {},
     "output_type": "display_data"
    },
    {
     "name": "stdout",
     "output_type": "stream",
     "text": [
      "Epoch 106 loss: 2.05293\n"
     ]
    },
    {
     "data": {
      "application/vnd.jupyter.widget-view+json": {
       "model_id": "8342c1a2756a4fdca9874a34cfe23241",
       "version_major": 2,
       "version_minor": 0
      },
      "text/plain": [
       "  0%|          | 0/1 [00:00<?, ?it/s]"
      ]
     },
     "metadata": {},
     "output_type": "display_data"
    },
    {
     "name": "stdout",
     "output_type": "stream",
     "text": [
      "Epoch 107 loss: 1.95573\n"
     ]
    },
    {
     "data": {
      "application/vnd.jupyter.widget-view+json": {
       "model_id": "45715b5f86a849b9a9cf8941417802dc",
       "version_major": 2,
       "version_minor": 0
      },
      "text/plain": [
       "  0%|          | 0/1 [00:00<?, ?it/s]"
      ]
     },
     "metadata": {},
     "output_type": "display_data"
    },
    {
     "name": "stdout",
     "output_type": "stream",
     "text": [
      "Epoch 108 loss: 1.85883\n"
     ]
    },
    {
     "data": {
      "application/vnd.jupyter.widget-view+json": {
       "model_id": "ad6af330fac4496d92e4ebe07ab9d0a2",
       "version_major": 2,
       "version_minor": 0
      },
      "text/plain": [
       "  0%|          | 0/1 [00:00<?, ?it/s]"
      ]
     },
     "metadata": {},
     "output_type": "display_data"
    },
    {
     "name": "stdout",
     "output_type": "stream",
     "text": [
      "Epoch 109 loss: 1.76226\n"
     ]
    },
    {
     "data": {
      "application/vnd.jupyter.widget-view+json": {
       "model_id": "7e761efc8f16480d8a260cadd526297d",
       "version_major": 2,
       "version_minor": 0
      },
      "text/plain": [
       "  0%|          | 0/1 [00:00<?, ?it/s]"
      ]
     },
     "metadata": {},
     "output_type": "display_data"
    },
    {
     "name": "stdout",
     "output_type": "stream",
     "text": [
      "Epoch 110 loss: 1.66607\n"
     ]
    },
    {
     "data": {
      "application/vnd.jupyter.widget-view+json": {
       "model_id": "ae38865a51274225aef8e63bf728a5ae",
       "version_major": 2,
       "version_minor": 0
      },
      "text/plain": [
       "  0%|          | 0/1 [00:00<?, ?it/s]"
      ]
     },
     "metadata": {},
     "output_type": "display_data"
    },
    {
     "name": "stdout",
     "output_type": "stream",
     "text": [
      "Epoch 111 loss: 1.57035\n"
     ]
    },
    {
     "data": {
      "application/vnd.jupyter.widget-view+json": {
       "model_id": "b6edd25cd09c43b99ba46f34fe30e45d",
       "version_major": 2,
       "version_minor": 0
      },
      "text/plain": [
       "  0%|          | 0/1 [00:00<?, ?it/s]"
      ]
     },
     "metadata": {},
     "output_type": "display_data"
    },
    {
     "name": "stdout",
     "output_type": "stream",
     "text": [
      "Epoch 112 loss: 1.47516\n"
     ]
    },
    {
     "data": {
      "application/vnd.jupyter.widget-view+json": {
       "model_id": "a841026a87d34809b50ec09c25ae8962",
       "version_major": 2,
       "version_minor": 0
      },
      "text/plain": [
       "  0%|          | 0/1 [00:00<?, ?it/s]"
      ]
     },
     "metadata": {},
     "output_type": "display_data"
    },
    {
     "name": "stdout",
     "output_type": "stream",
     "text": [
      "Epoch 113 loss: 1.38061\n"
     ]
    },
    {
     "data": {
      "application/vnd.jupyter.widget-view+json": {
       "model_id": "ec58148e32c24e3f9c7fd4536696e0c3",
       "version_major": 2,
       "version_minor": 0
      },
      "text/plain": [
       "  0%|          | 0/1 [00:00<?, ?it/s]"
      ]
     },
     "metadata": {},
     "output_type": "display_data"
    },
    {
     "name": "stdout",
     "output_type": "stream",
     "text": [
      "Epoch 114 loss: 1.28685\n"
     ]
    },
    {
     "data": {
      "application/vnd.jupyter.widget-view+json": {
       "model_id": "297bc172b0384b6eb654c08156583a2a",
       "version_major": 2,
       "version_minor": 0
      },
      "text/plain": [
       "  0%|          | 0/1 [00:00<?, ?it/s]"
      ]
     },
     "metadata": {},
     "output_type": "display_data"
    },
    {
     "name": "stdout",
     "output_type": "stream",
     "text": [
      "Epoch 115 loss: 1.19403\n"
     ]
    },
    {
     "data": {
      "application/vnd.jupyter.widget-view+json": {
       "model_id": "b8fdd43db00f414eb51a0197e575ce1a",
       "version_major": 2,
       "version_minor": 0
      },
      "text/plain": [
       "  0%|          | 0/1 [00:00<?, ?it/s]"
      ]
     },
     "metadata": {},
     "output_type": "display_data"
    },
    {
     "name": "stdout",
     "output_type": "stream",
     "text": [
      "Epoch 116 loss: 1.10238\n"
     ]
    },
    {
     "data": {
      "application/vnd.jupyter.widget-view+json": {
       "model_id": "b97a56c7f15a4ce280ce320a234d212e",
       "version_major": 2,
       "version_minor": 0
      },
      "text/plain": [
       "  0%|          | 0/1 [00:00<?, ?it/s]"
      ]
     },
     "metadata": {},
     "output_type": "display_data"
    },
    {
     "name": "stdout",
     "output_type": "stream",
     "text": [
      "Epoch 117 loss: 1.01219\n"
     ]
    },
    {
     "data": {
      "application/vnd.jupyter.widget-view+json": {
       "model_id": "dfb3fd2fde0a470e9b02388e9d894c10",
       "version_major": 2,
       "version_minor": 0
      },
      "text/plain": [
       "  0%|          | 0/1 [00:00<?, ?it/s]"
      ]
     },
     "metadata": {},
     "output_type": "display_data"
    },
    {
     "name": "stdout",
     "output_type": "stream",
     "text": [
      "Epoch 118 loss: 0.92387\n"
     ]
    },
    {
     "data": {
      "application/vnd.jupyter.widget-view+json": {
       "model_id": "d3b12349ae2f44ad947a4caea0ddc033",
       "version_major": 2,
       "version_minor": 0
      },
      "text/plain": [
       "  0%|          | 0/1 [00:00<?, ?it/s]"
      ]
     },
     "metadata": {},
     "output_type": "display_data"
    },
    {
     "name": "stdout",
     "output_type": "stream",
     "text": [
      "Epoch 119 loss: 0.83794\n"
     ]
    },
    {
     "data": {
      "application/vnd.jupyter.widget-view+json": {
       "model_id": "3d6c72a41d5b479cbedf8df18c45cf9f",
       "version_major": 2,
       "version_minor": 0
      },
      "text/plain": [
       "  0%|          | 0/1 [00:00<?, ?it/s]"
      ]
     },
     "metadata": {},
     "output_type": "display_data"
    },
    {
     "name": "stdout",
     "output_type": "stream",
     "text": [
      "Epoch 120 loss: 0.75514\n"
     ]
    },
    {
     "data": {
      "application/vnd.jupyter.widget-view+json": {
       "model_id": "f1381f517f804bfb973c6fb06100613e",
       "version_major": 2,
       "version_minor": 0
      },
      "text/plain": [
       "  0%|          | 0/1 [00:00<?, ?it/s]"
      ]
     },
     "metadata": {},
     "output_type": "display_data"
    },
    {
     "name": "stdout",
     "output_type": "stream",
     "text": [
      "Epoch 121 loss: 0.67650\n"
     ]
    },
    {
     "data": {
      "application/vnd.jupyter.widget-view+json": {
       "model_id": "601364824ba047ffa97c751ad4003f8c",
       "version_major": 2,
       "version_minor": 0
      },
      "text/plain": [
       "  0%|          | 0/1 [00:00<?, ?it/s]"
      ]
     },
     "metadata": {},
     "output_type": "display_data"
    },
    {
     "name": "stdout",
     "output_type": "stream",
     "text": [
      "Epoch 122 loss: 0.60344\n"
     ]
    },
    {
     "data": {
      "application/vnd.jupyter.widget-view+json": {
       "model_id": "2b05b4b42f5344728c825e8837fef010",
       "version_major": 2,
       "version_minor": 0
      },
      "text/plain": [
       "  0%|          | 0/1 [00:00<?, ?it/s]"
      ]
     },
     "metadata": {},
     "output_type": "display_data"
    },
    {
     "name": "stdout",
     "output_type": "stream",
     "text": [
      "Epoch 123 loss: 0.53789\n"
     ]
    },
    {
     "data": {
      "application/vnd.jupyter.widget-view+json": {
       "model_id": "427a40f8b0694ee4bcc0617ed5789281",
       "version_major": 2,
       "version_minor": 0
      },
      "text/plain": [
       "  0%|          | 0/1 [00:00<?, ?it/s]"
      ]
     },
     "metadata": {},
     "output_type": "display_data"
    },
    {
     "name": "stdout",
     "output_type": "stream",
     "text": [
      "Epoch 124 loss: 0.48233\n"
     ]
    },
    {
     "data": {
      "application/vnd.jupyter.widget-view+json": {
       "model_id": "a8c8d610c5d540d2a9e7c8e3fc83a09e",
       "version_major": 2,
       "version_minor": 0
      },
      "text/plain": [
       "  0%|          | 0/1 [00:00<?, ?it/s]"
      ]
     },
     "metadata": {},
     "output_type": "display_data"
    },
    {
     "name": "stdout",
     "output_type": "stream",
     "text": [
      "Epoch 125 loss: 0.43956\n"
     ]
    },
    {
     "data": {
      "application/vnd.jupyter.widget-view+json": {
       "model_id": "16739482a1f54a3bb2369cda464bd36d",
       "version_major": 2,
       "version_minor": 0
      },
      "text/plain": [
       "  0%|          | 0/1 [00:00<?, ?it/s]"
      ]
     },
     "metadata": {},
     "output_type": "display_data"
    },
    {
     "name": "stdout",
     "output_type": "stream",
     "text": [
      "Epoch 126 loss: 0.41191\n"
     ]
    },
    {
     "data": {
      "application/vnd.jupyter.widget-view+json": {
       "model_id": "927c189bdc4446c2a75fd6600b4ea053",
       "version_major": 2,
       "version_minor": 0
      },
      "text/plain": [
       "  0%|          | 0/1 [00:00<?, ?it/s]"
      ]
     },
     "metadata": {},
     "output_type": "display_data"
    },
    {
     "name": "stdout",
     "output_type": "stream",
     "text": [
      "Epoch 127 loss: 0.40003\n"
     ]
    },
    {
     "data": {
      "application/vnd.jupyter.widget-view+json": {
       "model_id": "5e7e775e35bc41feb550791b264f54ed",
       "version_major": 2,
       "version_minor": 0
      },
      "text/plain": [
       "  0%|          | 0/1 [00:00<?, ?it/s]"
      ]
     },
     "metadata": {},
     "output_type": "display_data"
    },
    {
     "name": "stdout",
     "output_type": "stream",
     "text": [
      "Epoch 128 loss: 0.40202\n"
     ]
    },
    {
     "data": {
      "application/vnd.jupyter.widget-view+json": {
       "model_id": "d5f591f38e7d431da5b4c3813c1ae94f",
       "version_major": 2,
       "version_minor": 0
      },
      "text/plain": [
       "  0%|          | 0/1 [00:00<?, ?it/s]"
      ]
     },
     "metadata": {},
     "output_type": "display_data"
    },
    {
     "name": "stdout",
     "output_type": "stream",
     "text": [
      "Epoch 129 loss: 0.41391\n"
     ]
    },
    {
     "data": {
      "application/vnd.jupyter.widget-view+json": {
       "model_id": "efd090de59ef4c729bb06e192341ba2e",
       "version_major": 2,
       "version_minor": 0
      },
      "text/plain": [
       "  0%|          | 0/1 [00:00<?, ?it/s]"
      ]
     },
     "metadata": {},
     "output_type": "display_data"
    },
    {
     "name": "stdout",
     "output_type": "stream",
     "text": [
      "Epoch 130 loss: 0.43115\n"
     ]
    },
    {
     "data": {
      "application/vnd.jupyter.widget-view+json": {
       "model_id": "c2b30ec7b96a4949a82b1f7e528ea546",
       "version_major": 2,
       "version_minor": 0
      },
      "text/plain": [
       "  0%|          | 0/1 [00:00<?, ?it/s]"
      ]
     },
     "metadata": {},
     "output_type": "display_data"
    },
    {
     "name": "stdout",
     "output_type": "stream",
     "text": [
      "Epoch 131 loss: 0.44983\n"
     ]
    },
    {
     "data": {
      "application/vnd.jupyter.widget-view+json": {
       "model_id": "e85c9f8f45904ff49a92b0ee6d4cb09a",
       "version_major": 2,
       "version_minor": 0
      },
      "text/plain": [
       "  0%|          | 0/1 [00:00<?, ?it/s]"
      ]
     },
     "metadata": {},
     "output_type": "display_data"
    },
    {
     "name": "stdout",
     "output_type": "stream",
     "text": [
      "Epoch 132 loss: 0.46718\n"
     ]
    },
    {
     "data": {
      "application/vnd.jupyter.widget-view+json": {
       "model_id": "3ca1744548de4d8fb94000610c219823",
       "version_major": 2,
       "version_minor": 0
      },
      "text/plain": [
       "  0%|          | 0/1 [00:00<?, ?it/s]"
      ]
     },
     "metadata": {},
     "output_type": "display_data"
    },
    {
     "name": "stdout",
     "output_type": "stream",
     "text": [
      "Epoch 133 loss: 0.48146\n"
     ]
    },
    {
     "data": {
      "application/vnd.jupyter.widget-view+json": {
       "model_id": "d94f413a26d2462a978a97bd37132336",
       "version_major": 2,
       "version_minor": 0
      },
      "text/plain": [
       "  0%|          | 0/1 [00:00<?, ?it/s]"
      ]
     },
     "metadata": {},
     "output_type": "display_data"
    },
    {
     "name": "stdout",
     "output_type": "stream",
     "text": [
      "Epoch 134 loss: 0.49177\n"
     ]
    },
    {
     "data": {
      "application/vnd.jupyter.widget-view+json": {
       "model_id": "f817244940bb4b34b12f144ff9de0a81",
       "version_major": 2,
       "version_minor": 0
      },
      "text/plain": [
       "  0%|          | 0/1 [00:00<?, ?it/s]"
      ]
     },
     "metadata": {},
     "output_type": "display_data"
    },
    {
     "name": "stdout",
     "output_type": "stream",
     "text": [
      "Epoch 135 loss: 0.49774\n"
     ]
    },
    {
     "data": {
      "application/vnd.jupyter.widget-view+json": {
       "model_id": "35044210a81e4941a9f8b81c688c7af7",
       "version_major": 2,
       "version_minor": 0
      },
      "text/plain": [
       "  0%|          | 0/1 [00:00<?, ?it/s]"
      ]
     },
     "metadata": {},
     "output_type": "display_data"
    },
    {
     "name": "stdout",
     "output_type": "stream",
     "text": [
      "Epoch 136 loss: 0.49943\n"
     ]
    },
    {
     "data": {
      "application/vnd.jupyter.widget-view+json": {
       "model_id": "1cfccb5d093648a29699bb83eb31a87a",
       "version_major": 2,
       "version_minor": 0
      },
      "text/plain": [
       "  0%|          | 0/1 [00:00<?, ?it/s]"
      ]
     },
     "metadata": {},
     "output_type": "display_data"
    },
    {
     "name": "stdout",
     "output_type": "stream",
     "text": [
      "Epoch 137 loss: 0.49715\n"
     ]
    },
    {
     "data": {
      "application/vnd.jupyter.widget-view+json": {
       "model_id": "bf567c98f1dc4c3dade9b7484363814d",
       "version_major": 2,
       "version_minor": 0
      },
      "text/plain": [
       "  0%|          | 0/1 [00:00<?, ?it/s]"
      ]
     },
     "metadata": {},
     "output_type": "display_data"
    },
    {
     "name": "stdout",
     "output_type": "stream",
     "text": [
      "Epoch 138 loss: 0.49140\n"
     ]
    },
    {
     "data": {
      "application/vnd.jupyter.widget-view+json": {
       "model_id": "db879e3d589546a1aca38393c95ab1f5",
       "version_major": 2,
       "version_minor": 0
      },
      "text/plain": [
       "  0%|          | 0/1 [00:00<?, ?it/s]"
      ]
     },
     "metadata": {},
     "output_type": "display_data"
    },
    {
     "name": "stdout",
     "output_type": "stream",
     "text": [
      "Epoch 139 loss: 0.48281\n"
     ]
    },
    {
     "data": {
      "application/vnd.jupyter.widget-view+json": {
       "model_id": "8f8a1964dd1b401ba40e36b9d2d61b5c",
       "version_major": 2,
       "version_minor": 0
      },
      "text/plain": [
       "  0%|          | 0/1 [00:00<?, ?it/s]"
      ]
     },
     "metadata": {},
     "output_type": "display_data"
    },
    {
     "name": "stdout",
     "output_type": "stream",
     "text": [
      "Epoch 140 loss: 0.47211\n"
     ]
    },
    {
     "data": {
      "application/vnd.jupyter.widget-view+json": {
       "model_id": "c3487552c27a46f5943cc8b6a937e527",
       "version_major": 2,
       "version_minor": 0
      },
      "text/plain": [
       "  0%|          | 0/1 [00:00<?, ?it/s]"
      ]
     },
     "metadata": {},
     "output_type": "display_data"
    },
    {
     "name": "stdout",
     "output_type": "stream",
     "text": [
      "Epoch 141 loss: 0.46008\n"
     ]
    },
    {
     "data": {
      "application/vnd.jupyter.widget-view+json": {
       "model_id": "04ea000ed7b94f7e82b18f576715c0c3",
       "version_major": 2,
       "version_minor": 0
      },
      "text/plain": [
       "  0%|          | 0/1 [00:00<?, ?it/s]"
      ]
     },
     "metadata": {},
     "output_type": "display_data"
    },
    {
     "name": "stdout",
     "output_type": "stream",
     "text": [
      "Epoch 142 loss: 0.44757\n"
     ]
    },
    {
     "data": {
      "application/vnd.jupyter.widget-view+json": {
       "model_id": "4b3819a4b03c4c87a2cf6c39ec66a39e",
       "version_major": 2,
       "version_minor": 0
      },
      "text/plain": [
       "  0%|          | 0/1 [00:00<?, ?it/s]"
      ]
     },
     "metadata": {},
     "output_type": "display_data"
    },
    {
     "name": "stdout",
     "output_type": "stream",
     "text": [
      "Epoch 143 loss: 0.43537\n"
     ]
    },
    {
     "data": {
      "application/vnd.jupyter.widget-view+json": {
       "model_id": "77aec28030294bf7b29ab2ca4c79f263",
       "version_major": 2,
       "version_minor": 0
      },
      "text/plain": [
       "  0%|          | 0/1 [00:00<?, ?it/s]"
      ]
     },
     "metadata": {},
     "output_type": "display_data"
    },
    {
     "name": "stdout",
     "output_type": "stream",
     "text": [
      "Epoch 144 loss: 0.42425\n"
     ]
    },
    {
     "data": {
      "application/vnd.jupyter.widget-view+json": {
       "model_id": "1b4e1d11aa8b49f19eb98b2f43a03f98",
       "version_major": 2,
       "version_minor": 0
      },
      "text/plain": [
       "  0%|          | 0/1 [00:00<?, ?it/s]"
      ]
     },
     "metadata": {},
     "output_type": "display_data"
    },
    {
     "name": "stdout",
     "output_type": "stream",
     "text": [
      "Epoch 145 loss: 0.41483\n"
     ]
    },
    {
     "data": {
      "application/vnd.jupyter.widget-view+json": {
       "model_id": "9a878f7dbdfc48358c18b8c49bf2c9da",
       "version_major": 2,
       "version_minor": 0
      },
      "text/plain": [
       "  0%|          | 0/1 [00:00<?, ?it/s]"
      ]
     },
     "metadata": {},
     "output_type": "display_data"
    },
    {
     "name": "stdout",
     "output_type": "stream",
     "text": [
      "Epoch 146 loss: 0.40756\n"
     ]
    },
    {
     "data": {
      "application/vnd.jupyter.widget-view+json": {
       "model_id": "cdff45afc7b7441bb83a919c91868f62",
       "version_major": 2,
       "version_minor": 0
      },
      "text/plain": [
       "  0%|          | 0/1 [00:00<?, ?it/s]"
      ]
     },
     "metadata": {},
     "output_type": "display_data"
    },
    {
     "name": "stdout",
     "output_type": "stream",
     "text": [
      "Epoch 147 loss: 0.40262\n"
     ]
    },
    {
     "data": {
      "application/vnd.jupyter.widget-view+json": {
       "model_id": "025b9ab0828e4dca943e9da0449fa2c9",
       "version_major": 2,
       "version_minor": 0
      },
      "text/plain": [
       "  0%|          | 0/1 [00:00<?, ?it/s]"
      ]
     },
     "metadata": {},
     "output_type": "display_data"
    },
    {
     "name": "stdout",
     "output_type": "stream",
     "text": [
      "Epoch 148 loss: 0.39998\n"
     ]
    },
    {
     "data": {
      "application/vnd.jupyter.widget-view+json": {
       "model_id": "92f7dffc9cb649cb9e8e1b7d33d1f85e",
       "version_major": 2,
       "version_minor": 0
      },
      "text/plain": [
       "  0%|          | 0/1 [00:00<?, ?it/s]"
      ]
     },
     "metadata": {},
     "output_type": "display_data"
    },
    {
     "name": "stdout",
     "output_type": "stream",
     "text": [
      "Epoch 149 loss: 0.39933\n"
     ]
    },
    {
     "data": {
      "application/vnd.jupyter.widget-view+json": {
       "model_id": "3bcea0b157c3474e9158ed8ab04a5475",
       "version_major": 2,
       "version_minor": 0
      },
      "text/plain": [
       "  0%|          | 0/1 [00:00<?, ?it/s]"
      ]
     },
     "metadata": {},
     "output_type": "display_data"
    },
    {
     "name": "stdout",
     "output_type": "stream",
     "text": [
      "Epoch 150 loss: 0.40024\n"
     ]
    },
    {
     "data": {
      "application/vnd.jupyter.widget-view+json": {
       "model_id": "9849f292ce474f94ba0875d8172b2e4b",
       "version_major": 2,
       "version_minor": 0
      },
      "text/plain": [
       "  0%|          | 0/1 [00:00<?, ?it/s]"
      ]
     },
     "metadata": {},
     "output_type": "display_data"
    },
    {
     "name": "stdout",
     "output_type": "stream",
     "text": [
      "Epoch 151 loss: 0.40217\n"
     ]
    },
    {
     "data": {
      "application/vnd.jupyter.widget-view+json": {
       "model_id": "99d912ef790a44df867bd08f3bb45854",
       "version_major": 2,
       "version_minor": 0
      },
      "text/plain": [
       "  0%|          | 0/1 [00:00<?, ?it/s]"
      ]
     },
     "metadata": {},
     "output_type": "display_data"
    },
    {
     "name": "stdout",
     "output_type": "stream",
     "text": [
      "Epoch 152 loss: 0.40461\n"
     ]
    },
    {
     "data": {
      "application/vnd.jupyter.widget-view+json": {
       "model_id": "5635fd3028234bffbce26e17a6a183d8",
       "version_major": 2,
       "version_minor": 0
      },
      "text/plain": [
       "  0%|          | 0/1 [00:00<?, ?it/s]"
      ]
     },
     "metadata": {},
     "output_type": "display_data"
    },
    {
     "name": "stdout",
     "output_type": "stream",
     "text": [
      "Epoch 153 loss: 0.40708\n"
     ]
    },
    {
     "data": {
      "application/vnd.jupyter.widget-view+json": {
       "model_id": "0567a4b9b0b94654878ce709f382ab94",
       "version_major": 2,
       "version_minor": 0
      },
      "text/plain": [
       "  0%|          | 0/1 [00:00<?, ?it/s]"
      ]
     },
     "metadata": {},
     "output_type": "display_data"
    },
    {
     "name": "stdout",
     "output_type": "stream",
     "text": [
      "Epoch 154 loss: 0.40923\n"
     ]
    },
    {
     "data": {
      "application/vnd.jupyter.widget-view+json": {
       "model_id": "8df2242b99c84fa3beb18773d567ab24",
       "version_major": 2,
       "version_minor": 0
      },
      "text/plain": [
       "  0%|          | 0/1 [00:00<?, ?it/s]"
      ]
     },
     "metadata": {},
     "output_type": "display_data"
    },
    {
     "name": "stdout",
     "output_type": "stream",
     "text": [
      "Epoch 155 loss: 0.41080\n"
     ]
    },
    {
     "data": {
      "application/vnd.jupyter.widget-view+json": {
       "model_id": "19d30db8564b4f70905089d7f417a9c1",
       "version_major": 2,
       "version_minor": 0
      },
      "text/plain": [
       "  0%|          | 0/1 [00:00<?, ?it/s]"
      ]
     },
     "metadata": {},
     "output_type": "display_data"
    },
    {
     "name": "stdout",
     "output_type": "stream",
     "text": [
      "Epoch 156 loss: 0.41166\n"
     ]
    },
    {
     "data": {
      "application/vnd.jupyter.widget-view+json": {
       "model_id": "a76ca604b5384bf59cafb757fcbbda98",
       "version_major": 2,
       "version_minor": 0
      },
      "text/plain": [
       "  0%|          | 0/1 [00:00<?, ?it/s]"
      ]
     },
     "metadata": {},
     "output_type": "display_data"
    },
    {
     "name": "stdout",
     "output_type": "stream",
     "text": [
      "Epoch 157 loss: 0.41179\n"
     ]
    },
    {
     "data": {
      "application/vnd.jupyter.widget-view+json": {
       "model_id": "5e28561729e34d9086f57f9ba1c815f8",
       "version_major": 2,
       "version_minor": 0
      },
      "text/plain": [
       "  0%|          | 0/1 [00:00<?, ?it/s]"
      ]
     },
     "metadata": {},
     "output_type": "display_data"
    },
    {
     "name": "stdout",
     "output_type": "stream",
     "text": [
      "Epoch 158 loss: 0.41123\n"
     ]
    },
    {
     "data": {
      "application/vnd.jupyter.widget-view+json": {
       "model_id": "b83f1a20098e49c9a259bfc44b59496d",
       "version_major": 2,
       "version_minor": 0
      },
      "text/plain": [
       "  0%|          | 0/1 [00:00<?, ?it/s]"
      ]
     },
     "metadata": {},
     "output_type": "display_data"
    },
    {
     "name": "stdout",
     "output_type": "stream",
     "text": [
      "Epoch 159 loss: 0.41012\n"
     ]
    },
    {
     "data": {
      "application/vnd.jupyter.widget-view+json": {
       "model_id": "049e51bbb947447eae8ee31402bc29ff",
       "version_major": 2,
       "version_minor": 0
      },
      "text/plain": [
       "  0%|          | 0/1 [00:00<?, ?it/s]"
      ]
     },
     "metadata": {},
     "output_type": "display_data"
    },
    {
     "name": "stdout",
     "output_type": "stream",
     "text": [
      "Epoch 160 loss: 0.40860\n"
     ]
    },
    {
     "data": {
      "application/vnd.jupyter.widget-view+json": {
       "model_id": "fc7a0883fce64a7c86f8afff2365134d",
       "version_major": 2,
       "version_minor": 0
      },
      "text/plain": [
       "  0%|          | 0/1 [00:00<?, ?it/s]"
      ]
     },
     "metadata": {},
     "output_type": "display_data"
    },
    {
     "name": "stdout",
     "output_type": "stream",
     "text": [
      "Epoch 161 loss: 0.40685\n"
     ]
    },
    {
     "data": {
      "application/vnd.jupyter.widget-view+json": {
       "model_id": "ed8ce49d0d9742c79dcf29f495b86716",
       "version_major": 2,
       "version_minor": 0
      },
      "text/plain": [
       "  0%|          | 0/1 [00:00<?, ?it/s]"
      ]
     },
     "metadata": {},
     "output_type": "display_data"
    },
    {
     "name": "stdout",
     "output_type": "stream",
     "text": [
      "Epoch 162 loss: 0.40505\n"
     ]
    },
    {
     "data": {
      "application/vnd.jupyter.widget-view+json": {
       "model_id": "d91b84d28e6c493bbc03bbb5869e8656",
       "version_major": 2,
       "version_minor": 0
      },
      "text/plain": [
       "  0%|          | 0/1 [00:00<?, ?it/s]"
      ]
     },
     "metadata": {},
     "output_type": "display_data"
    },
    {
     "name": "stdout",
     "output_type": "stream",
     "text": [
      "Epoch 163 loss: 0.40336\n"
     ]
    },
    {
     "data": {
      "application/vnd.jupyter.widget-view+json": {
       "model_id": "05d7feca38ba48c1b8225d08eef5e4a3",
       "version_major": 2,
       "version_minor": 0
      },
      "text/plain": [
       "  0%|          | 0/1 [00:00<?, ?it/s]"
      ]
     },
     "metadata": {},
     "output_type": "display_data"
    },
    {
     "name": "stdout",
     "output_type": "stream",
     "text": [
      "Epoch 164 loss: 0.40189\n"
     ]
    },
    {
     "data": {
      "application/vnd.jupyter.widget-view+json": {
       "model_id": "fda88123a5d8485680d4bae41b126d35",
       "version_major": 2,
       "version_minor": 0
      },
      "text/plain": [
       "  0%|          | 0/1 [00:00<?, ?it/s]"
      ]
     },
     "metadata": {},
     "output_type": "display_data"
    },
    {
     "name": "stdout",
     "output_type": "stream",
     "text": [
      "Epoch 165 loss: 0.40073\n"
     ]
    },
    {
     "data": {
      "application/vnd.jupyter.widget-view+json": {
       "model_id": "e43a046189d54b3f92343dc59839c585",
       "version_major": 2,
       "version_minor": 0
      },
      "text/plain": [
       "  0%|          | 0/1 [00:00<?, ?it/s]"
      ]
     },
     "metadata": {},
     "output_type": "display_data"
    },
    {
     "name": "stdout",
     "output_type": "stream",
     "text": [
      "Epoch 166 loss: 0.39993\n"
     ]
    },
    {
     "data": {
      "application/vnd.jupyter.widget-view+json": {
       "model_id": "a3f0b6b5d27a4106a648b8a786954103",
       "version_major": 2,
       "version_minor": 0
      },
      "text/plain": [
       "  0%|          | 0/1 [00:00<?, ?it/s]"
      ]
     },
     "metadata": {},
     "output_type": "display_data"
    },
    {
     "name": "stdout",
     "output_type": "stream",
     "text": [
      "Epoch 167 loss: 0.39947\n"
     ]
    },
    {
     "data": {
      "application/vnd.jupyter.widget-view+json": {
       "model_id": "0bebca3f59904c36923efb634076f8c6",
       "version_major": 2,
       "version_minor": 0
      },
      "text/plain": [
       "  0%|          | 0/1 [00:00<?, ?it/s]"
      ]
     },
     "metadata": {},
     "output_type": "display_data"
    },
    {
     "name": "stdout",
     "output_type": "stream",
     "text": [
      "Epoch 168 loss: 0.39932\n"
     ]
    },
    {
     "data": {
      "application/vnd.jupyter.widget-view+json": {
       "model_id": "5e710fa21d174c9c86b9f4e984c5d8fb",
       "version_major": 2,
       "version_minor": 0
      },
      "text/plain": [
       "  0%|          | 0/1 [00:00<?, ?it/s]"
      ]
     },
     "metadata": {},
     "output_type": "display_data"
    },
    {
     "name": "stdout",
     "output_type": "stream",
     "text": [
      "Epoch 169 loss: 0.39941\n"
     ]
    },
    {
     "data": {
      "application/vnd.jupyter.widget-view+json": {
       "model_id": "3d1815f3a1734aa592d8cc33153bf567",
       "version_major": 2,
       "version_minor": 0
      },
      "text/plain": [
       "  0%|          | 0/1 [00:00<?, ?it/s]"
      ]
     },
     "metadata": {},
     "output_type": "display_data"
    },
    {
     "name": "stdout",
     "output_type": "stream",
     "text": [
      "Epoch 170 loss: 0.39967\n"
     ]
    },
    {
     "data": {
      "application/vnd.jupyter.widget-view+json": {
       "model_id": "7d66abd65bc54a06a60559389be2f1f7",
       "version_major": 2,
       "version_minor": 0
      },
      "text/plain": [
       "  0%|          | 0/1 [00:00<?, ?it/s]"
      ]
     },
     "metadata": {},
     "output_type": "display_data"
    },
    {
     "name": "stdout",
     "output_type": "stream",
     "text": [
      "Epoch 171 loss: 0.40002\n"
     ]
    },
    {
     "data": {
      "application/vnd.jupyter.widget-view+json": {
       "model_id": "faa35c1da7cc4b1aa4a0ac705f220de3",
       "version_major": 2,
       "version_minor": 0
      },
      "text/plain": [
       "  0%|          | 0/1 [00:00<?, ?it/s]"
      ]
     },
     "metadata": {},
     "output_type": "display_data"
    },
    {
     "name": "stdout",
     "output_type": "stream",
     "text": [
      "Epoch 172 loss: 0.40038\n"
     ]
    },
    {
     "data": {
      "application/vnd.jupyter.widget-view+json": {
       "model_id": "1a10bee7d2d4487695c5b11ab914ac3a",
       "version_major": 2,
       "version_minor": 0
      },
      "text/plain": [
       "  0%|          | 0/1 [00:00<?, ?it/s]"
      ]
     },
     "metadata": {},
     "output_type": "display_data"
    },
    {
     "name": "stdout",
     "output_type": "stream",
     "text": [
      "Epoch 173 loss: 0.40070\n"
     ]
    },
    {
     "data": {
      "application/vnd.jupyter.widget-view+json": {
       "model_id": "fdb20bb4443b4aa49452c954aa48e21d",
       "version_major": 2,
       "version_minor": 0
      },
      "text/plain": [
       "  0%|          | 0/1 [00:00<?, ?it/s]"
      ]
     },
     "metadata": {},
     "output_type": "display_data"
    },
    {
     "name": "stdout",
     "output_type": "stream",
     "text": [
      "Epoch 174 loss: 0.40094\n"
     ]
    },
    {
     "data": {
      "application/vnd.jupyter.widget-view+json": {
       "model_id": "cf47fd30d96c42e6bf70e87440c84af5",
       "version_major": 2,
       "version_minor": 0
      },
      "text/plain": [
       "  0%|          | 0/1 [00:00<?, ?it/s]"
      ]
     },
     "metadata": {},
     "output_type": "display_data"
    },
    {
     "name": "stdout",
     "output_type": "stream",
     "text": [
      "Epoch 175 loss: 0.40107\n"
     ]
    },
    {
     "data": {
      "application/vnd.jupyter.widget-view+json": {
       "model_id": "b09f797cece34a4e9eca20e4f733cd85",
       "version_major": 2,
       "version_minor": 0
      },
      "text/plain": [
       "  0%|          | 0/1 [00:00<?, ?it/s]"
      ]
     },
     "metadata": {},
     "output_type": "display_data"
    },
    {
     "name": "stdout",
     "output_type": "stream",
     "text": [
      "Epoch 176 loss: 0.40108\n"
     ]
    },
    {
     "data": {
      "application/vnd.jupyter.widget-view+json": {
       "model_id": "236396ed474741648cd11a03baf9215c",
       "version_major": 2,
       "version_minor": 0
      },
      "text/plain": [
       "  0%|          | 0/1 [00:00<?, ?it/s]"
      ]
     },
     "metadata": {},
     "output_type": "display_data"
    },
    {
     "name": "stdout",
     "output_type": "stream",
     "text": [
      "Epoch 177 loss: 0.40099\n"
     ]
    },
    {
     "data": {
      "application/vnd.jupyter.widget-view+json": {
       "model_id": "e5fb725d457e457f9ba2557c4d614500",
       "version_major": 2,
       "version_minor": 0
      },
      "text/plain": [
       "  0%|          | 0/1 [00:00<?, ?it/s]"
      ]
     },
     "metadata": {},
     "output_type": "display_data"
    },
    {
     "name": "stdout",
     "output_type": "stream",
     "text": [
      "Epoch 178 loss: 0.40081\n"
     ]
    },
    {
     "data": {
      "application/vnd.jupyter.widget-view+json": {
       "model_id": "6fa8e8eb9bde4bd6b467bb2cb63006db",
       "version_major": 2,
       "version_minor": 0
      },
      "text/plain": [
       "  0%|          | 0/1 [00:00<?, ?it/s]"
      ]
     },
     "metadata": {},
     "output_type": "display_data"
    },
    {
     "name": "stdout",
     "output_type": "stream",
     "text": [
      "Epoch 179 loss: 0.40057\n"
     ]
    },
    {
     "data": {
      "application/vnd.jupyter.widget-view+json": {
       "model_id": "31062761b47046d987b1c4638090f2c2",
       "version_major": 2,
       "version_minor": 0
      },
      "text/plain": [
       "  0%|          | 0/1 [00:00<?, ?it/s]"
      ]
     },
     "metadata": {},
     "output_type": "display_data"
    },
    {
     "name": "stdout",
     "output_type": "stream",
     "text": [
      "Epoch 180 loss: 0.40031\n"
     ]
    },
    {
     "data": {
      "application/vnd.jupyter.widget-view+json": {
       "model_id": "2929f56ba7a94deebff93541aee685ec",
       "version_major": 2,
       "version_minor": 0
      },
      "text/plain": [
       "  0%|          | 0/1 [00:00<?, ?it/s]"
      ]
     },
     "metadata": {},
     "output_type": "display_data"
    },
    {
     "name": "stdout",
     "output_type": "stream",
     "text": [
      "Epoch 181 loss: 0.40004\n"
     ]
    },
    {
     "data": {
      "application/vnd.jupyter.widget-view+json": {
       "model_id": "e78bb9c00230498caa8fe14c4257f5b1",
       "version_major": 2,
       "version_minor": 0
      },
      "text/plain": [
       "  0%|          | 0/1 [00:00<?, ?it/s]"
      ]
     },
     "metadata": {},
     "output_type": "display_data"
    },
    {
     "name": "stdout",
     "output_type": "stream",
     "text": [
      "Epoch 182 loss: 0.39980\n"
     ]
    },
    {
     "data": {
      "application/vnd.jupyter.widget-view+json": {
       "model_id": "156003c7c11d46cbb82a8f1c071b2391",
       "version_major": 2,
       "version_minor": 0
      },
      "text/plain": [
       "  0%|          | 0/1 [00:00<?, ?it/s]"
      ]
     },
     "metadata": {},
     "output_type": "display_data"
    },
    {
     "name": "stdout",
     "output_type": "stream",
     "text": [
      "Epoch 183 loss: 0.39960\n"
     ]
    },
    {
     "data": {
      "application/vnd.jupyter.widget-view+json": {
       "model_id": "f7d19b4c4da9493eacdf77d564900b1b",
       "version_major": 2,
       "version_minor": 0
      },
      "text/plain": [
       "  0%|          | 0/1 [00:00<?, ?it/s]"
      ]
     },
     "metadata": {},
     "output_type": "display_data"
    },
    {
     "name": "stdout",
     "output_type": "stream",
     "text": [
      "Epoch 184 loss: 0.39946\n"
     ]
    },
    {
     "data": {
      "application/vnd.jupyter.widget-view+json": {
       "model_id": "0d1b30d7b1334deab75f2df623dc019a",
       "version_major": 2,
       "version_minor": 0
      },
      "text/plain": [
       "  0%|          | 0/1 [00:00<?, ?it/s]"
      ]
     },
     "metadata": {},
     "output_type": "display_data"
    },
    {
     "name": "stdout",
     "output_type": "stream",
     "text": [
      "Epoch 185 loss: 0.39936\n"
     ]
    },
    {
     "data": {
      "application/vnd.jupyter.widget-view+json": {
       "model_id": "7cfff95b4e994446ab2381114d196e32",
       "version_major": 2,
       "version_minor": 0
      },
      "text/plain": [
       "  0%|          | 0/1 [00:00<?, ?it/s]"
      ]
     },
     "metadata": {},
     "output_type": "display_data"
    },
    {
     "name": "stdout",
     "output_type": "stream",
     "text": [
      "Epoch 186 loss: 0.39932\n"
     ]
    },
    {
     "data": {
      "application/vnd.jupyter.widget-view+json": {
       "model_id": "004807cb60414e7d8ca89eaddf90c426",
       "version_major": 2,
       "version_minor": 0
      },
      "text/plain": [
       "  0%|          | 0/1 [00:00<?, ?it/s]"
      ]
     },
     "metadata": {},
     "output_type": "display_data"
    },
    {
     "name": "stdout",
     "output_type": "stream",
     "text": [
      "Epoch 187 loss: 0.39932\n"
     ]
    },
    {
     "data": {
      "application/vnd.jupyter.widget-view+json": {
       "model_id": "3ff1cc6e4ba94622aed75512852efdbb",
       "version_major": 2,
       "version_minor": 0
      },
      "text/plain": [
       "  0%|          | 0/1 [00:00<?, ?it/s]"
      ]
     },
     "metadata": {},
     "output_type": "display_data"
    },
    {
     "name": "stdout",
     "output_type": "stream",
     "text": [
      "Epoch 188 loss: 0.39935\n"
     ]
    },
    {
     "data": {
      "application/vnd.jupyter.widget-view+json": {
       "model_id": "d76aff27b24d44178bdf4bd36166e659",
       "version_major": 2,
       "version_minor": 0
      },
      "text/plain": [
       "  0%|          | 0/1 [00:00<?, ?it/s]"
      ]
     },
     "metadata": {},
     "output_type": "display_data"
    },
    {
     "name": "stdout",
     "output_type": "stream",
     "text": [
      "Epoch 189 loss: 0.39940\n"
     ]
    },
    {
     "data": {
      "application/vnd.jupyter.widget-view+json": {
       "model_id": "6c00d6e19d864a6d85d42ae61c2bfff8",
       "version_major": 2,
       "version_minor": 0
      },
      "text/plain": [
       "  0%|          | 0/1 [00:00<?, ?it/s]"
      ]
     },
     "metadata": {},
     "output_type": "display_data"
    },
    {
     "name": "stdout",
     "output_type": "stream",
     "text": [
      "Epoch 190 loss: 0.39946\n"
     ]
    },
    {
     "data": {
      "application/vnd.jupyter.widget-view+json": {
       "model_id": "5e8307327b234c4498e71c069e365c34",
       "version_major": 2,
       "version_minor": 0
      },
      "text/plain": [
       "  0%|          | 0/1 [00:00<?, ?it/s]"
      ]
     },
     "metadata": {},
     "output_type": "display_data"
    },
    {
     "name": "stdout",
     "output_type": "stream",
     "text": [
      "Epoch 191 loss: 0.39951\n"
     ]
    },
    {
     "data": {
      "application/vnd.jupyter.widget-view+json": {
       "model_id": "f6758266f7b440fcb02b3e9c478720a4",
       "version_major": 2,
       "version_minor": 0
      },
      "text/plain": [
       "  0%|          | 0/1 [00:00<?, ?it/s]"
      ]
     },
     "metadata": {},
     "output_type": "display_data"
    },
    {
     "name": "stdout",
     "output_type": "stream",
     "text": [
      "Epoch 192 loss: 0.39955\n"
     ]
    },
    {
     "data": {
      "application/vnd.jupyter.widget-view+json": {
       "model_id": "756d5140536f419d85cb48a8b04366da",
       "version_major": 2,
       "version_minor": 0
      },
      "text/plain": [
       "  0%|          | 0/1 [00:00<?, ?it/s]"
      ]
     },
     "metadata": {},
     "output_type": "display_data"
    },
    {
     "name": "stdout",
     "output_type": "stream",
     "text": [
      "Epoch 193 loss: 0.39958\n"
     ]
    },
    {
     "data": {
      "application/vnd.jupyter.widget-view+json": {
       "model_id": "d6d95a263bc74a18a61774d4482fd92c",
       "version_major": 2,
       "version_minor": 0
      },
      "text/plain": [
       "  0%|          | 0/1 [00:00<?, ?it/s]"
      ]
     },
     "metadata": {},
     "output_type": "display_data"
    },
    {
     "name": "stdout",
     "output_type": "stream",
     "text": [
      "Epoch 194 loss: 0.39958\n"
     ]
    },
    {
     "data": {
      "application/vnd.jupyter.widget-view+json": {
       "model_id": "1ea790c70ca140e3a82dc1d655886968",
       "version_major": 2,
       "version_minor": 0
      },
      "text/plain": [
       "  0%|          | 0/1 [00:00<?, ?it/s]"
      ]
     },
     "metadata": {},
     "output_type": "display_data"
    },
    {
     "name": "stdout",
     "output_type": "stream",
     "text": [
      "Epoch 195 loss: 0.39957\n"
     ]
    },
    {
     "data": {
      "application/vnd.jupyter.widget-view+json": {
       "model_id": "a616f92d313941dea0b44d8a84945b82",
       "version_major": 2,
       "version_minor": 0
      },
      "text/plain": [
       "  0%|          | 0/1 [00:00<?, ?it/s]"
      ]
     },
     "metadata": {},
     "output_type": "display_data"
    },
    {
     "name": "stdout",
     "output_type": "stream",
     "text": [
      "Epoch 196 loss: 0.39955\n"
     ]
    },
    {
     "data": {
      "application/vnd.jupyter.widget-view+json": {
       "model_id": "6243059423a6456f9a716b8cc53e5fb1",
       "version_major": 2,
       "version_minor": 0
      },
      "text/plain": [
       "  0%|          | 0/1 [00:00<?, ?it/s]"
      ]
     },
     "metadata": {},
     "output_type": "display_data"
    },
    {
     "name": "stdout",
     "output_type": "stream",
     "text": [
      "Epoch 197 loss: 0.39951\n"
     ]
    },
    {
     "data": {
      "application/vnd.jupyter.widget-view+json": {
       "model_id": "4cd78c54ae6444b9be4ca63a6e32a371",
       "version_major": 2,
       "version_minor": 0
      },
      "text/plain": [
       "  0%|          | 0/1 [00:00<?, ?it/s]"
      ]
     },
     "metadata": {},
     "output_type": "display_data"
    },
    {
     "name": "stdout",
     "output_type": "stream",
     "text": [
      "Epoch 198 loss: 0.39947\n"
     ]
    },
    {
     "data": {
      "application/vnd.jupyter.widget-view+json": {
       "model_id": "80b5f383ce8543559eb6f83edb23dcc4",
       "version_major": 2,
       "version_minor": 0
      },
      "text/plain": [
       "  0%|          | 0/1 [00:00<?, ?it/s]"
      ]
     },
     "metadata": {},
     "output_type": "display_data"
    },
    {
     "name": "stdout",
     "output_type": "stream",
     "text": [
      "Epoch 199 loss: 0.39943\n"
     ]
    },
    {
     "data": {
      "application/vnd.jupyter.widget-view+json": {
       "model_id": "56b468b4811544d2a7808bbb155118fa",
       "version_major": 2,
       "version_minor": 0
      },
      "text/plain": [
       "  0%|          | 0/1 [00:00<?, ?it/s]"
      ]
     },
     "metadata": {},
     "output_type": "display_data"
    },
    {
     "name": "stdout",
     "output_type": "stream",
     "text": [
      "Epoch 200 loss: 0.39939\n"
     ]
    },
    {
     "data": {
      "application/vnd.jupyter.widget-view+json": {
       "model_id": "28982d548a924562b94c836f2439b51c",
       "version_major": 2,
       "version_minor": 0
      },
      "text/plain": [
       "  0%|          | 0/1 [00:00<?, ?it/s]"
      ]
     },
     "metadata": {},
     "output_type": "display_data"
    },
    {
     "name": "stdout",
     "output_type": "stream",
     "text": [
      "Epoch 201 loss: 0.39936\n"
     ]
    },
    {
     "data": {
      "application/vnd.jupyter.widget-view+json": {
       "model_id": "b600871a75a54bcca2e3c05f8d0e5939",
       "version_major": 2,
       "version_minor": 0
      },
      "text/plain": [
       "  0%|          | 0/1 [00:00<?, ?it/s]"
      ]
     },
     "metadata": {},
     "output_type": "display_data"
    },
    {
     "name": "stdout",
     "output_type": "stream",
     "text": [
      "Epoch 202 loss: 0.39934\n"
     ]
    },
    {
     "data": {
      "application/vnd.jupyter.widget-view+json": {
       "model_id": "ea98f1fac8254e5580f831cd7b61093b",
       "version_major": 2,
       "version_minor": 0
      },
      "text/plain": [
       "  0%|          | 0/1 [00:00<?, ?it/s]"
      ]
     },
     "metadata": {},
     "output_type": "display_data"
    },
    {
     "name": "stdout",
     "output_type": "stream",
     "text": [
      "Epoch 203 loss: 0.39932\n"
     ]
    },
    {
     "data": {
      "application/vnd.jupyter.widget-view+json": {
       "model_id": "d74878f134c24770b0080eaa5ff9f725",
       "version_major": 2,
       "version_minor": 0
      },
      "text/plain": [
       "  0%|          | 0/1 [00:00<?, ?it/s]"
      ]
     },
     "metadata": {},
     "output_type": "display_data"
    },
    {
     "name": "stdout",
     "output_type": "stream",
     "text": [
      "Epoch 204 loss: 0.39932\n"
     ]
    },
    {
     "data": {
      "application/vnd.jupyter.widget-view+json": {
       "model_id": "82978af3891949849aeb7be3abf391f5",
       "version_major": 2,
       "version_minor": 0
      },
      "text/plain": [
       "  0%|          | 0/1 [00:00<?, ?it/s]"
      ]
     },
     "metadata": {},
     "output_type": "display_data"
    },
    {
     "name": "stdout",
     "output_type": "stream",
     "text": [
      "Epoch 205 loss: 0.39932\n"
     ]
    },
    {
     "data": {
      "application/vnd.jupyter.widget-view+json": {
       "model_id": "4e7a9b4a89ea498cb87e5302e27b0366",
       "version_major": 2,
       "version_minor": 0
      },
      "text/plain": [
       "  0%|          | 0/1 [00:00<?, ?it/s]"
      ]
     },
     "metadata": {},
     "output_type": "display_data"
    },
    {
     "name": "stdout",
     "output_type": "stream",
     "text": [
      "Epoch 206 loss: 0.39932\n"
     ]
    },
    {
     "data": {
      "application/vnd.jupyter.widget-view+json": {
       "model_id": "aa7624df1c98456f992d37f2c56603fb",
       "version_major": 2,
       "version_minor": 0
      },
      "text/plain": [
       "  0%|          | 0/1 [00:00<?, ?it/s]"
      ]
     },
     "metadata": {},
     "output_type": "display_data"
    },
    {
     "name": "stdout",
     "output_type": "stream",
     "text": [
      "Epoch 207 loss: 0.39933\n"
     ]
    },
    {
     "data": {
      "application/vnd.jupyter.widget-view+json": {
       "model_id": "550cc8aaef12443b861a6590bfdec954",
       "version_major": 2,
       "version_minor": 0
      },
      "text/plain": [
       "  0%|          | 0/1 [00:00<?, ?it/s]"
      ]
     },
     "metadata": {},
     "output_type": "display_data"
    },
    {
     "name": "stdout",
     "output_type": "stream",
     "text": [
      "Epoch 208 loss: 0.39934\n"
     ]
    },
    {
     "data": {
      "application/vnd.jupyter.widget-view+json": {
       "model_id": "bd739c71edd0460ea3697bd971d486f9",
       "version_major": 2,
       "version_minor": 0
      },
      "text/plain": [
       "  0%|          | 0/1 [00:00<?, ?it/s]"
      ]
     },
     "metadata": {},
     "output_type": "display_data"
    },
    {
     "name": "stdout",
     "output_type": "stream",
     "text": [
      "Epoch 209 loss: 0.39935\n"
     ]
    },
    {
     "data": {
      "application/vnd.jupyter.widget-view+json": {
       "model_id": "08959df7d32f4b36a46dad1acaa68fb2",
       "version_major": 2,
       "version_minor": 0
      },
      "text/plain": [
       "  0%|          | 0/1 [00:00<?, ?it/s]"
      ]
     },
     "metadata": {},
     "output_type": "display_data"
    },
    {
     "name": "stdout",
     "output_type": "stream",
     "text": [
      "Epoch 210 loss: 0.39935\n"
     ]
    },
    {
     "data": {
      "application/vnd.jupyter.widget-view+json": {
       "model_id": "b4249faad4ee431aadf62b994a62d017",
       "version_major": 2,
       "version_minor": 0
      },
      "text/plain": [
       "  0%|          | 0/1 [00:00<?, ?it/s]"
      ]
     },
     "metadata": {},
     "output_type": "display_data"
    },
    {
     "name": "stdout",
     "output_type": "stream",
     "text": [
      "Epoch 211 loss: 0.39936\n"
     ]
    },
    {
     "data": {
      "application/vnd.jupyter.widget-view+json": {
       "model_id": "92c5576ad42b4326bae6421d68105c64",
       "version_major": 2,
       "version_minor": 0
      },
      "text/plain": [
       "  0%|          | 0/1 [00:00<?, ?it/s]"
      ]
     },
     "metadata": {},
     "output_type": "display_data"
    },
    {
     "name": "stdout",
     "output_type": "stream",
     "text": [
      "Epoch 212 loss: 0.39936\n"
     ]
    },
    {
     "data": {
      "application/vnd.jupyter.widget-view+json": {
       "model_id": "ec1af26929cf47bf9f12794ce14e8187",
       "version_major": 2,
       "version_minor": 0
      },
      "text/plain": [
       "  0%|          | 0/1 [00:00<?, ?it/s]"
      ]
     },
     "metadata": {},
     "output_type": "display_data"
    },
    {
     "name": "stdout",
     "output_type": "stream",
     "text": [
      "Epoch 213 loss: 0.39935\n"
     ]
    },
    {
     "data": {
      "application/vnd.jupyter.widget-view+json": {
       "model_id": "d6029e0f526249e394610a946ba56b36",
       "version_major": 2,
       "version_minor": 0
      },
      "text/plain": [
       "  0%|          | 0/1 [00:00<?, ?it/s]"
      ]
     },
     "metadata": {},
     "output_type": "display_data"
    },
    {
     "name": "stdout",
     "output_type": "stream",
     "text": [
      "Epoch 214 loss: 0.39935\n"
     ]
    },
    {
     "data": {
      "application/vnd.jupyter.widget-view+json": {
       "model_id": "7804595edb784cdc8e1bc5d48a0b47ba",
       "version_major": 2,
       "version_minor": 0
      },
      "text/plain": [
       "  0%|          | 0/1 [00:00<?, ?it/s]"
      ]
     },
     "metadata": {},
     "output_type": "display_data"
    },
    {
     "name": "stdout",
     "output_type": "stream",
     "text": [
      "Epoch 215 loss: 0.39934\n"
     ]
    },
    {
     "data": {
      "application/vnd.jupyter.widget-view+json": {
       "model_id": "0ae34ff1e68b4d2f9833a9d1899969f3",
       "version_major": 2,
       "version_minor": 0
      },
      "text/plain": [
       "  0%|          | 0/1 [00:00<?, ?it/s]"
      ]
     },
     "metadata": {},
     "output_type": "display_data"
    },
    {
     "name": "stdout",
     "output_type": "stream",
     "text": [
      "Epoch 216 loss: 0.39934\n"
     ]
    },
    {
     "data": {
      "application/vnd.jupyter.widget-view+json": {
       "model_id": "fcb8a9dc3106408da5f45566e866b712",
       "version_major": 2,
       "version_minor": 0
      },
      "text/plain": [
       "  0%|          | 0/1 [00:00<?, ?it/s]"
      ]
     },
     "metadata": {},
     "output_type": "display_data"
    },
    {
     "name": "stdout",
     "output_type": "stream",
     "text": [
      "Epoch 217 loss: 0.39933\n"
     ]
    },
    {
     "data": {
      "application/vnd.jupyter.widget-view+json": {
       "model_id": "2495c9497faf4d14ab9abbd7802dc67c",
       "version_major": 2,
       "version_minor": 0
      },
      "text/plain": [
       "  0%|          | 0/1 [00:00<?, ?it/s]"
      ]
     },
     "metadata": {},
     "output_type": "display_data"
    },
    {
     "name": "stdout",
     "output_type": "stream",
     "text": [
      "Epoch 218 loss: 0.39932\n"
     ]
    },
    {
     "data": {
      "application/vnd.jupyter.widget-view+json": {
       "model_id": "58c751c2dcce49fa8d40b08db29e8380",
       "version_major": 2,
       "version_minor": 0
      },
      "text/plain": [
       "  0%|          | 0/1 [00:00<?, ?it/s]"
      ]
     },
     "metadata": {},
     "output_type": "display_data"
    },
    {
     "name": "stdout",
     "output_type": "stream",
     "text": [
      "Epoch 219 loss: 0.39932\n"
     ]
    },
    {
     "data": {
      "application/vnd.jupyter.widget-view+json": {
       "model_id": "e54d335978b248ed9053c02f7db9d027",
       "version_major": 2,
       "version_minor": 0
      },
      "text/plain": [
       "  0%|          | 0/1 [00:00<?, ?it/s]"
      ]
     },
     "metadata": {},
     "output_type": "display_data"
    },
    {
     "name": "stdout",
     "output_type": "stream",
     "text": [
      "Epoch 220 loss: 0.39932\n"
     ]
    },
    {
     "data": {
      "application/vnd.jupyter.widget-view+json": {
       "model_id": "7e1d905fc9d640af8bb8c4e112d3bd92",
       "version_major": 2,
       "version_minor": 0
      },
      "text/plain": [
       "  0%|          | 0/1 [00:00<?, ?it/s]"
      ]
     },
     "metadata": {},
     "output_type": "display_data"
    },
    {
     "name": "stdout",
     "output_type": "stream",
     "text": [
      "Epoch 221 loss: 0.39932\n"
     ]
    },
    {
     "data": {
      "application/vnd.jupyter.widget-view+json": {
       "model_id": "cc5d9c16f64848d99563cfc3228fe0b8",
       "version_major": 2,
       "version_minor": 0
      },
      "text/plain": [
       "  0%|          | 0/1 [00:00<?, ?it/s]"
      ]
     },
     "metadata": {},
     "output_type": "display_data"
    },
    {
     "name": "stdout",
     "output_type": "stream",
     "text": [
      "Epoch 222 loss: 0.39932\n"
     ]
    },
    {
     "data": {
      "application/vnd.jupyter.widget-view+json": {
       "model_id": "a8fbecbc80dc4011bd408f3c2823ab03",
       "version_major": 2,
       "version_minor": 0
      },
      "text/plain": [
       "  0%|          | 0/1 [00:00<?, ?it/s]"
      ]
     },
     "metadata": {},
     "output_type": "display_data"
    },
    {
     "name": "stdout",
     "output_type": "stream",
     "text": [
      "Epoch 223 loss: 0.39932\n"
     ]
    },
    {
     "data": {
      "application/vnd.jupyter.widget-view+json": {
       "model_id": "8930eafe86d94d18a98dbbdd38f1f734",
       "version_major": 2,
       "version_minor": 0
      },
      "text/plain": [
       "  0%|          | 0/1 [00:00<?, ?it/s]"
      ]
     },
     "metadata": {},
     "output_type": "display_data"
    },
    {
     "name": "stdout",
     "output_type": "stream",
     "text": [
      "Epoch 224 loss: 0.39932\n"
     ]
    },
    {
     "data": {
      "application/vnd.jupyter.widget-view+json": {
       "model_id": "c353309082d04785aed4da33fe3e1c30",
       "version_major": 2,
       "version_minor": 0
      },
      "text/plain": [
       "  0%|          | 0/1 [00:00<?, ?it/s]"
      ]
     },
     "metadata": {},
     "output_type": "display_data"
    },
    {
     "name": "stdout",
     "output_type": "stream",
     "text": [
      "Epoch 225 loss: 0.39932\n"
     ]
    },
    {
     "data": {
      "application/vnd.jupyter.widget-view+json": {
       "model_id": "62a3979a63fa48cab274271f070ebdeb",
       "version_major": 2,
       "version_minor": 0
      },
      "text/plain": [
       "  0%|          | 0/1 [00:00<?, ?it/s]"
      ]
     },
     "metadata": {},
     "output_type": "display_data"
    },
    {
     "name": "stdout",
     "output_type": "stream",
     "text": [
      "Epoch 226 loss: 0.39932\n"
     ]
    },
    {
     "data": {
      "application/vnd.jupyter.widget-view+json": {
       "model_id": "45a84dbf30a34ee0809e74e7932702a2",
       "version_major": 2,
       "version_minor": 0
      },
      "text/plain": [
       "  0%|          | 0/1 [00:00<?, ?it/s]"
      ]
     },
     "metadata": {},
     "output_type": "display_data"
    },
    {
     "name": "stdout",
     "output_type": "stream",
     "text": [
      "Epoch 227 loss: 0.39932\n"
     ]
    },
    {
     "data": {
      "application/vnd.jupyter.widget-view+json": {
       "model_id": "26c197a7901a47cf9f718beb7be9bdc5",
       "version_major": 2,
       "version_minor": 0
      },
      "text/plain": [
       "  0%|          | 0/1 [00:00<?, ?it/s]"
      ]
     },
     "metadata": {},
     "output_type": "display_data"
    },
    {
     "name": "stdout",
     "output_type": "stream",
     "text": [
      "Epoch 228 loss: 0.39932\n"
     ]
    },
    {
     "data": {
      "application/vnd.jupyter.widget-view+json": {
       "model_id": "c95769d763a24e04ab92472edb733f9d",
       "version_major": 2,
       "version_minor": 0
      },
      "text/plain": [
       "  0%|          | 0/1 [00:00<?, ?it/s]"
      ]
     },
     "metadata": {},
     "output_type": "display_data"
    },
    {
     "name": "stdout",
     "output_type": "stream",
     "text": [
      "Epoch 229 loss: 0.39932\n"
     ]
    },
    {
     "data": {
      "application/vnd.jupyter.widget-view+json": {
       "model_id": "a1cabc0f2bd447c78e13bbb291b62cb7",
       "version_major": 2,
       "version_minor": 0
      },
      "text/plain": [
       "  0%|          | 0/1 [00:00<?, ?it/s]"
      ]
     },
     "metadata": {},
     "output_type": "display_data"
    },
    {
     "name": "stdout",
     "output_type": "stream",
     "text": [
      "Epoch 230 loss: 0.39932\n"
     ]
    },
    {
     "data": {
      "application/vnd.jupyter.widget-view+json": {
       "model_id": "36a945778c0944cdaf0098856aa2a8b1",
       "version_major": 2,
       "version_minor": 0
      },
      "text/plain": [
       "  0%|          | 0/1 [00:00<?, ?it/s]"
      ]
     },
     "metadata": {},
     "output_type": "display_data"
    },
    {
     "name": "stdout",
     "output_type": "stream",
     "text": [
      "Epoch 231 loss: 0.39932\n"
     ]
    },
    {
     "data": {
      "application/vnd.jupyter.widget-view+json": {
       "model_id": "2b94f930864e4a88a46cd10ac11dbc62",
       "version_major": 2,
       "version_minor": 0
      },
      "text/plain": [
       "  0%|          | 0/1 [00:00<?, ?it/s]"
      ]
     },
     "metadata": {},
     "output_type": "display_data"
    },
    {
     "name": "stdout",
     "output_type": "stream",
     "text": [
      "Epoch 232 loss: 0.39932\n"
     ]
    },
    {
     "data": {
      "application/vnd.jupyter.widget-view+json": {
       "model_id": "4863974219e2461eb8c3d627e0a817fa",
       "version_major": 2,
       "version_minor": 0
      },
      "text/plain": [
       "  0%|          | 0/1 [00:00<?, ?it/s]"
      ]
     },
     "metadata": {},
     "output_type": "display_data"
    },
    {
     "name": "stdout",
     "output_type": "stream",
     "text": [
      "Epoch 233 loss: 0.39932\n"
     ]
    },
    {
     "data": {
      "application/vnd.jupyter.widget-view+json": {
       "model_id": "315cf7440dfd4c6aa5ac89015b76d5ba",
       "version_major": 2,
       "version_minor": 0
      },
      "text/plain": [
       "  0%|          | 0/1 [00:00<?, ?it/s]"
      ]
     },
     "metadata": {},
     "output_type": "display_data"
    },
    {
     "name": "stdout",
     "output_type": "stream",
     "text": [
      "Epoch 234 loss: 0.39932\n"
     ]
    },
    {
     "data": {
      "application/vnd.jupyter.widget-view+json": {
       "model_id": "a3ebb4f72fb849139edaf41015f8991e",
       "version_major": 2,
       "version_minor": 0
      },
      "text/plain": [
       "  0%|          | 0/1 [00:00<?, ?it/s]"
      ]
     },
     "metadata": {},
     "output_type": "display_data"
    },
    {
     "name": "stdout",
     "output_type": "stream",
     "text": [
      "Epoch 235 loss: 0.39932\n"
     ]
    },
    {
     "data": {
      "application/vnd.jupyter.widget-view+json": {
       "model_id": "fa47b477207943f6874a5afe32badef8",
       "version_major": 2,
       "version_minor": 0
      },
      "text/plain": [
       "  0%|          | 0/1 [00:00<?, ?it/s]"
      ]
     },
     "metadata": {},
     "output_type": "display_data"
    },
    {
     "name": "stdout",
     "output_type": "stream",
     "text": [
      "Epoch 236 loss: 0.39932\n"
     ]
    },
    {
     "data": {
      "application/vnd.jupyter.widget-view+json": {
       "model_id": "f7140af6bb454e528cfdc8f119393368",
       "version_major": 2,
       "version_minor": 0
      },
      "text/plain": [
       "  0%|          | 0/1 [00:00<?, ?it/s]"
      ]
     },
     "metadata": {},
     "output_type": "display_data"
    },
    {
     "name": "stdout",
     "output_type": "stream",
     "text": [
      "Epoch 237 loss: 0.39932\n"
     ]
    },
    {
     "data": {
      "application/vnd.jupyter.widget-view+json": {
       "model_id": "627333130dc24ef5be4de7d99d43acec",
       "version_major": 2,
       "version_minor": 0
      },
      "text/plain": [
       "  0%|          | 0/1 [00:00<?, ?it/s]"
      ]
     },
     "metadata": {},
     "output_type": "display_data"
    },
    {
     "name": "stdout",
     "output_type": "stream",
     "text": [
      "Epoch 238 loss: 0.39932\n"
     ]
    },
    {
     "data": {
      "application/vnd.jupyter.widget-view+json": {
       "model_id": "3d9f4b133f724ce8a82962a14973b3ec",
       "version_major": 2,
       "version_minor": 0
      },
      "text/plain": [
       "  0%|          | 0/1 [00:00<?, ?it/s]"
      ]
     },
     "metadata": {},
     "output_type": "display_data"
    },
    {
     "name": "stdout",
     "output_type": "stream",
     "text": [
      "Epoch 239 loss: 0.39932\n"
     ]
    },
    {
     "data": {
      "application/vnd.jupyter.widget-view+json": {
       "model_id": "74d86bd9d5d249b4abb727783cf08154",
       "version_major": 2,
       "version_minor": 0
      },
      "text/plain": [
       "  0%|          | 0/1 [00:00<?, ?it/s]"
      ]
     },
     "metadata": {},
     "output_type": "display_data"
    },
    {
     "name": "stdout",
     "output_type": "stream",
     "text": [
      "Epoch 240 loss: 0.39932\n"
     ]
    },
    {
     "data": {
      "application/vnd.jupyter.widget-view+json": {
       "model_id": "5f14b648d2bb4a9f9bc12fbbe8becbbb",
       "version_major": 2,
       "version_minor": 0
      },
      "text/plain": [
       "  0%|          | 0/1 [00:00<?, ?it/s]"
      ]
     },
     "metadata": {},
     "output_type": "display_data"
    },
    {
     "name": "stdout",
     "output_type": "stream",
     "text": [
      "Epoch 241 loss: 0.39932\n"
     ]
    },
    {
     "data": {
      "application/vnd.jupyter.widget-view+json": {
       "model_id": "5a102c9e7ea24a38ba26c14baf7d81cd",
       "version_major": 2,
       "version_minor": 0
      },
      "text/plain": [
       "  0%|          | 0/1 [00:00<?, ?it/s]"
      ]
     },
     "metadata": {},
     "output_type": "display_data"
    },
    {
     "name": "stdout",
     "output_type": "stream",
     "text": [
      "Epoch 242 loss: 0.39932\n"
     ]
    },
    {
     "data": {
      "application/vnd.jupyter.widget-view+json": {
       "model_id": "af91d10f02404b02bb30633900569520",
       "version_major": 2,
       "version_minor": 0
      },
      "text/plain": [
       "  0%|          | 0/1 [00:00<?, ?it/s]"
      ]
     },
     "metadata": {},
     "output_type": "display_data"
    },
    {
     "name": "stdout",
     "output_type": "stream",
     "text": [
      "Epoch 243 loss: 0.39932\n"
     ]
    },
    {
     "data": {
      "application/vnd.jupyter.widget-view+json": {
       "model_id": "17b2351145af4ba5b85731282e8178b2",
       "version_major": 2,
       "version_minor": 0
      },
      "text/plain": [
       "  0%|          | 0/1 [00:00<?, ?it/s]"
      ]
     },
     "metadata": {},
     "output_type": "display_data"
    },
    {
     "name": "stdout",
     "output_type": "stream",
     "text": [
      "Epoch 244 loss: 0.39932\n"
     ]
    },
    {
     "data": {
      "application/vnd.jupyter.widget-view+json": {
       "model_id": "1c45400de0b242cb84f0860db9dd749e",
       "version_major": 2,
       "version_minor": 0
      },
      "text/plain": [
       "  0%|          | 0/1 [00:00<?, ?it/s]"
      ]
     },
     "metadata": {},
     "output_type": "display_data"
    },
    {
     "name": "stdout",
     "output_type": "stream",
     "text": [
      "Epoch 245 loss: 0.39932\n"
     ]
    },
    {
     "data": {
      "application/vnd.jupyter.widget-view+json": {
       "model_id": "99045f445e5a4c01bca881d094160110",
       "version_major": 2,
       "version_minor": 0
      },
      "text/plain": [
       "  0%|          | 0/1 [00:00<?, ?it/s]"
      ]
     },
     "metadata": {},
     "output_type": "display_data"
    },
    {
     "name": "stdout",
     "output_type": "stream",
     "text": [
      "Epoch 246 loss: 0.39932\n"
     ]
    },
    {
     "data": {
      "application/vnd.jupyter.widget-view+json": {
       "model_id": "b8ba12fb8b6a4e8cb832b5c54ec42ff0",
       "version_major": 2,
       "version_minor": 0
      },
      "text/plain": [
       "  0%|          | 0/1 [00:00<?, ?it/s]"
      ]
     },
     "metadata": {},
     "output_type": "display_data"
    },
    {
     "name": "stdout",
     "output_type": "stream",
     "text": [
      "Epoch 247 loss: 0.39932\n"
     ]
    },
    {
     "data": {
      "application/vnd.jupyter.widget-view+json": {
       "model_id": "0b70e4d1c0d9429d99f3f0ab3b7088cf",
       "version_major": 2,
       "version_minor": 0
      },
      "text/plain": [
       "  0%|          | 0/1 [00:00<?, ?it/s]"
      ]
     },
     "metadata": {},
     "output_type": "display_data"
    },
    {
     "name": "stdout",
     "output_type": "stream",
     "text": [
      "Epoch 248 loss: 0.39932\n"
     ]
    },
    {
     "data": {
      "application/vnd.jupyter.widget-view+json": {
       "model_id": "618f20923dd94d66a5f9edb90da7c7a2",
       "version_major": 2,
       "version_minor": 0
      },
      "text/plain": [
       "  0%|          | 0/1 [00:00<?, ?it/s]"
      ]
     },
     "metadata": {},
     "output_type": "display_data"
    },
    {
     "name": "stdout",
     "output_type": "stream",
     "text": [
      "Epoch 249 loss: 0.39932\n"
     ]
    },
    {
     "data": {
      "application/vnd.jupyter.widget-view+json": {
       "model_id": "3a1d0e1c6d614c34b833b9052dc85c7e",
       "version_major": 2,
       "version_minor": 0
      },
      "text/plain": [
       "  0%|          | 0/1 [00:00<?, ?it/s]"
      ]
     },
     "metadata": {},
     "output_type": "display_data"
    },
    {
     "name": "stdout",
     "output_type": "stream",
     "text": [
      "Epoch 250 loss: 0.39932\n"
     ]
    },
    {
     "data": {
      "application/vnd.jupyter.widget-view+json": {
       "model_id": "929a6938d8bd457690817580d8faf55f",
       "version_major": 2,
       "version_minor": 0
      },
      "text/plain": [
       "  0%|          | 0/1 [00:00<?, ?it/s]"
      ]
     },
     "metadata": {},
     "output_type": "display_data"
    },
    {
     "name": "stdout",
     "output_type": "stream",
     "text": [
      "Epoch 251 loss: 0.39932\n"
     ]
    },
    {
     "data": {
      "application/vnd.jupyter.widget-view+json": {
       "model_id": "cbe5477e88c8466a83b783af98b79326",
       "version_major": 2,
       "version_minor": 0
      },
      "text/plain": [
       "  0%|          | 0/1 [00:00<?, ?it/s]"
      ]
     },
     "metadata": {},
     "output_type": "display_data"
    },
    {
     "name": "stdout",
     "output_type": "stream",
     "text": [
      "Epoch 252 loss: 0.39932\n"
     ]
    },
    {
     "data": {
      "application/vnd.jupyter.widget-view+json": {
       "model_id": "10d8defaf1a04ac796dd4cc4f842f294",
       "version_major": 2,
       "version_minor": 0
      },
      "text/plain": [
       "  0%|          | 0/1 [00:00<?, ?it/s]"
      ]
     },
     "metadata": {},
     "output_type": "display_data"
    },
    {
     "name": "stdout",
     "output_type": "stream",
     "text": [
      "Epoch 253 loss: 0.39932\n"
     ]
    },
    {
     "data": {
      "application/vnd.jupyter.widget-view+json": {
       "model_id": "81ae08f4b3da4c5f9c2cc5f4db7a115b",
       "version_major": 2,
       "version_minor": 0
      },
      "text/plain": [
       "  0%|          | 0/1 [00:00<?, ?it/s]"
      ]
     },
     "metadata": {},
     "output_type": "display_data"
    },
    {
     "name": "stdout",
     "output_type": "stream",
     "text": [
      "Epoch 254 loss: 0.39932\n"
     ]
    },
    {
     "data": {
      "application/vnd.jupyter.widget-view+json": {
       "model_id": "16c0674bf97f473185aae6e8b2b56098",
       "version_major": 2,
       "version_minor": 0
      },
      "text/plain": [
       "  0%|          | 0/1 [00:00<?, ?it/s]"
      ]
     },
     "metadata": {},
     "output_type": "display_data"
    },
    {
     "name": "stdout",
     "output_type": "stream",
     "text": [
      "Epoch 255 loss: 0.39932\n"
     ]
    },
    {
     "data": {
      "application/vnd.jupyter.widget-view+json": {
       "model_id": "9d2f5dffee9b41bbb2b59cdccb5799bb",
       "version_major": 2,
       "version_minor": 0
      },
      "text/plain": [
       "  0%|          | 0/1 [00:00<?, ?it/s]"
      ]
     },
     "metadata": {},
     "output_type": "display_data"
    },
    {
     "name": "stdout",
     "output_type": "stream",
     "text": [
      "Epoch 256 loss: 0.39932\n"
     ]
    },
    {
     "data": {
      "application/vnd.jupyter.widget-view+json": {
       "model_id": "4bf1f58bf0354b1c874035dc8fa6e650",
       "version_major": 2,
       "version_minor": 0
      },
      "text/plain": [
       "  0%|          | 0/1 [00:00<?, ?it/s]"
      ]
     },
     "metadata": {},
     "output_type": "display_data"
    },
    {
     "name": "stdout",
     "output_type": "stream",
     "text": [
      "Epoch 257 loss: 0.39932\n"
     ]
    },
    {
     "data": {
      "application/vnd.jupyter.widget-view+json": {
       "model_id": "ded4b02eb49d47dd86934488f1078f0c",
       "version_major": 2,
       "version_minor": 0
      },
      "text/plain": [
       "  0%|          | 0/1 [00:00<?, ?it/s]"
      ]
     },
     "metadata": {},
     "output_type": "display_data"
    },
    {
     "name": "stdout",
     "output_type": "stream",
     "text": [
      "Epoch 258 loss: 0.39932\n"
     ]
    },
    {
     "data": {
      "application/vnd.jupyter.widget-view+json": {
       "model_id": "7d895b5d2a474bcba069764c96ff052c",
       "version_major": 2,
       "version_minor": 0
      },
      "text/plain": [
       "  0%|          | 0/1 [00:00<?, ?it/s]"
      ]
     },
     "metadata": {},
     "output_type": "display_data"
    },
    {
     "name": "stdout",
     "output_type": "stream",
     "text": [
      "Epoch 259 loss: 0.39932\n"
     ]
    },
    {
     "data": {
      "application/vnd.jupyter.widget-view+json": {
       "model_id": "9474c95be58c44ff959d04dad144b49c",
       "version_major": 2,
       "version_minor": 0
      },
      "text/plain": [
       "  0%|          | 0/1 [00:00<?, ?it/s]"
      ]
     },
     "metadata": {},
     "output_type": "display_data"
    },
    {
     "name": "stdout",
     "output_type": "stream",
     "text": [
      "Epoch 260 loss: 0.39932\n"
     ]
    },
    {
     "data": {
      "application/vnd.jupyter.widget-view+json": {
       "model_id": "9c76c8f457e348f780b9468be3dc8fab",
       "version_major": 2,
       "version_minor": 0
      },
      "text/plain": [
       "  0%|          | 0/1 [00:00<?, ?it/s]"
      ]
     },
     "metadata": {},
     "output_type": "display_data"
    },
    {
     "name": "stdout",
     "output_type": "stream",
     "text": [
      "Epoch 261 loss: 0.39932\n"
     ]
    },
    {
     "data": {
      "application/vnd.jupyter.widget-view+json": {
       "model_id": "bbbd32def46c4b7da5ba496bf37177fd",
       "version_major": 2,
       "version_minor": 0
      },
      "text/plain": [
       "  0%|          | 0/1 [00:00<?, ?it/s]"
      ]
     },
     "metadata": {},
     "output_type": "display_data"
    },
    {
     "name": "stdout",
     "output_type": "stream",
     "text": [
      "Epoch 262 loss: 0.39932\n"
     ]
    },
    {
     "data": {
      "application/vnd.jupyter.widget-view+json": {
       "model_id": "e51f77586e5f4006a653c9a0e93a0fa6",
       "version_major": 2,
       "version_minor": 0
      },
      "text/plain": [
       "  0%|          | 0/1 [00:00<?, ?it/s]"
      ]
     },
     "metadata": {},
     "output_type": "display_data"
    },
    {
     "name": "stdout",
     "output_type": "stream",
     "text": [
      "Epoch 263 loss: 0.39932\n"
     ]
    },
    {
     "data": {
      "application/vnd.jupyter.widget-view+json": {
       "model_id": "656544a8339842b1a51a69e0983e8027",
       "version_major": 2,
       "version_minor": 0
      },
      "text/plain": [
       "  0%|          | 0/1 [00:00<?, ?it/s]"
      ]
     },
     "metadata": {},
     "output_type": "display_data"
    },
    {
     "name": "stdout",
     "output_type": "stream",
     "text": [
      "Epoch 264 loss: 0.39932\n"
     ]
    },
    {
     "data": {
      "application/vnd.jupyter.widget-view+json": {
       "model_id": "a478df75fdcd4dbda67ddcde37672ff7",
       "version_major": 2,
       "version_minor": 0
      },
      "text/plain": [
       "  0%|          | 0/1 [00:00<?, ?it/s]"
      ]
     },
     "metadata": {},
     "output_type": "display_data"
    },
    {
     "name": "stdout",
     "output_type": "stream",
     "text": [
      "Epoch 265 loss: 0.39932\n"
     ]
    },
    {
     "data": {
      "application/vnd.jupyter.widget-view+json": {
       "model_id": "41363d6fd4cd468ba61c85ea63fc2741",
       "version_major": 2,
       "version_minor": 0
      },
      "text/plain": [
       "  0%|          | 0/1 [00:00<?, ?it/s]"
      ]
     },
     "metadata": {},
     "output_type": "display_data"
    },
    {
     "name": "stdout",
     "output_type": "stream",
     "text": [
      "Epoch 266 loss: 0.39932\n"
     ]
    },
    {
     "data": {
      "application/vnd.jupyter.widget-view+json": {
       "model_id": "b548457d9fe14c64bb0e2da0c0ffe3c5",
       "version_major": 2,
       "version_minor": 0
      },
      "text/plain": [
       "  0%|          | 0/1 [00:00<?, ?it/s]"
      ]
     },
     "metadata": {},
     "output_type": "display_data"
    },
    {
     "name": "stdout",
     "output_type": "stream",
     "text": [
      "Epoch 267 loss: 0.39932\n"
     ]
    },
    {
     "data": {
      "application/vnd.jupyter.widget-view+json": {
       "model_id": "ab9da55b9cbc4789a9f3ca6c2e273b6e",
       "version_major": 2,
       "version_minor": 0
      },
      "text/plain": [
       "  0%|          | 0/1 [00:00<?, ?it/s]"
      ]
     },
     "metadata": {},
     "output_type": "display_data"
    },
    {
     "name": "stdout",
     "output_type": "stream",
     "text": [
      "Epoch 268 loss: 0.39932\n"
     ]
    },
    {
     "data": {
      "application/vnd.jupyter.widget-view+json": {
       "model_id": "77ded81403204f6c8e472f597f4be695",
       "version_major": 2,
       "version_minor": 0
      },
      "text/plain": [
       "  0%|          | 0/1 [00:00<?, ?it/s]"
      ]
     },
     "metadata": {},
     "output_type": "display_data"
    },
    {
     "name": "stdout",
     "output_type": "stream",
     "text": [
      "Epoch 269 loss: 0.39932\n"
     ]
    },
    {
     "data": {
      "application/vnd.jupyter.widget-view+json": {
       "model_id": "aaeb9ff8f2d24192854c157ae8939414",
       "version_major": 2,
       "version_minor": 0
      },
      "text/plain": [
       "  0%|          | 0/1 [00:00<?, ?it/s]"
      ]
     },
     "metadata": {},
     "output_type": "display_data"
    },
    {
     "name": "stdout",
     "output_type": "stream",
     "text": [
      "Epoch 270 loss: 0.39932\n"
     ]
    },
    {
     "data": {
      "application/vnd.jupyter.widget-view+json": {
       "model_id": "3905b2355afc49d9a445eca157d4105f",
       "version_major": 2,
       "version_minor": 0
      },
      "text/plain": [
       "  0%|          | 0/1 [00:00<?, ?it/s]"
      ]
     },
     "metadata": {},
     "output_type": "display_data"
    },
    {
     "name": "stdout",
     "output_type": "stream",
     "text": [
      "Epoch 271 loss: 0.39932\n"
     ]
    },
    {
     "data": {
      "application/vnd.jupyter.widget-view+json": {
       "model_id": "c4f77aad41a54c57a95706e02170a4ec",
       "version_major": 2,
       "version_minor": 0
      },
      "text/plain": [
       "  0%|          | 0/1 [00:00<?, ?it/s]"
      ]
     },
     "metadata": {},
     "output_type": "display_data"
    },
    {
     "name": "stdout",
     "output_type": "stream",
     "text": [
      "Epoch 272 loss: 0.39932\n"
     ]
    },
    {
     "data": {
      "application/vnd.jupyter.widget-view+json": {
       "model_id": "da703206c93c4b7a9059f9f009429294",
       "version_major": 2,
       "version_minor": 0
      },
      "text/plain": [
       "  0%|          | 0/1 [00:00<?, ?it/s]"
      ]
     },
     "metadata": {},
     "output_type": "display_data"
    },
    {
     "name": "stdout",
     "output_type": "stream",
     "text": [
      "Epoch 273 loss: 0.39932\n"
     ]
    },
    {
     "data": {
      "application/vnd.jupyter.widget-view+json": {
       "model_id": "9e6735aa669b4edd8b778628dacdef8f",
       "version_major": 2,
       "version_minor": 0
      },
      "text/plain": [
       "  0%|          | 0/1 [00:00<?, ?it/s]"
      ]
     },
     "metadata": {},
     "output_type": "display_data"
    },
    {
     "name": "stdout",
     "output_type": "stream",
     "text": [
      "Epoch 274 loss: 0.39932\n"
     ]
    },
    {
     "data": {
      "application/vnd.jupyter.widget-view+json": {
       "model_id": "c882ac3a1b5b4de591bf194388d93334",
       "version_major": 2,
       "version_minor": 0
      },
      "text/plain": [
       "  0%|          | 0/1 [00:00<?, ?it/s]"
      ]
     },
     "metadata": {},
     "output_type": "display_data"
    },
    {
     "name": "stdout",
     "output_type": "stream",
     "text": [
      "Epoch 275 loss: 0.39932\n"
     ]
    },
    {
     "data": {
      "application/vnd.jupyter.widget-view+json": {
       "model_id": "38fa52b824ff4585a7ee93617ed9a9e5",
       "version_major": 2,
       "version_minor": 0
      },
      "text/plain": [
       "  0%|          | 0/1 [00:00<?, ?it/s]"
      ]
     },
     "metadata": {},
     "output_type": "display_data"
    },
    {
     "name": "stdout",
     "output_type": "stream",
     "text": [
      "Epoch 276 loss: 0.39932\n"
     ]
    },
    {
     "data": {
      "application/vnd.jupyter.widget-view+json": {
       "model_id": "192f84891f6343da9c960e91b96062ce",
       "version_major": 2,
       "version_minor": 0
      },
      "text/plain": [
       "  0%|          | 0/1 [00:00<?, ?it/s]"
      ]
     },
     "metadata": {},
     "output_type": "display_data"
    },
    {
     "name": "stdout",
     "output_type": "stream",
     "text": [
      "Epoch 277 loss: 0.39932\n"
     ]
    },
    {
     "data": {
      "application/vnd.jupyter.widget-view+json": {
       "model_id": "eed06106836642cb84d5b744f4d1439c",
       "version_major": 2,
       "version_minor": 0
      },
      "text/plain": [
       "  0%|          | 0/1 [00:00<?, ?it/s]"
      ]
     },
     "metadata": {},
     "output_type": "display_data"
    },
    {
     "name": "stdout",
     "output_type": "stream",
     "text": [
      "Epoch 278 loss: 0.39932\n"
     ]
    },
    {
     "data": {
      "application/vnd.jupyter.widget-view+json": {
       "model_id": "37a475e059674ba4ac419585b8dbf038",
       "version_major": 2,
       "version_minor": 0
      },
      "text/plain": [
       "  0%|          | 0/1 [00:00<?, ?it/s]"
      ]
     },
     "metadata": {},
     "output_type": "display_data"
    },
    {
     "name": "stdout",
     "output_type": "stream",
     "text": [
      "Epoch 279 loss: 0.39932\n"
     ]
    },
    {
     "data": {
      "application/vnd.jupyter.widget-view+json": {
       "model_id": "b87e15593fab4dcb9b23a3f54fa3c5ea",
       "version_major": 2,
       "version_minor": 0
      },
      "text/plain": [
       "  0%|          | 0/1 [00:00<?, ?it/s]"
      ]
     },
     "metadata": {},
     "output_type": "display_data"
    },
    {
     "name": "stdout",
     "output_type": "stream",
     "text": [
      "Epoch 280 loss: 0.39932\n"
     ]
    },
    {
     "data": {
      "application/vnd.jupyter.widget-view+json": {
       "model_id": "a6847101690a4161b231b2bb7df1783a",
       "version_major": 2,
       "version_minor": 0
      },
      "text/plain": [
       "  0%|          | 0/1 [00:00<?, ?it/s]"
      ]
     },
     "metadata": {},
     "output_type": "display_data"
    },
    {
     "name": "stdout",
     "output_type": "stream",
     "text": [
      "Epoch 281 loss: 0.39932\n"
     ]
    },
    {
     "data": {
      "application/vnd.jupyter.widget-view+json": {
       "model_id": "17a84a36311149e4be975934f319785b",
       "version_major": 2,
       "version_minor": 0
      },
      "text/plain": [
       "  0%|          | 0/1 [00:00<?, ?it/s]"
      ]
     },
     "metadata": {},
     "output_type": "display_data"
    },
    {
     "name": "stdout",
     "output_type": "stream",
     "text": [
      "Epoch 282 loss: 0.39932\n"
     ]
    },
    {
     "data": {
      "application/vnd.jupyter.widget-view+json": {
       "model_id": "a6b4e2815e8542e0aa6532a1a5aac186",
       "version_major": 2,
       "version_minor": 0
      },
      "text/plain": [
       "  0%|          | 0/1 [00:00<?, ?it/s]"
      ]
     },
     "metadata": {},
     "output_type": "display_data"
    },
    {
     "name": "stdout",
     "output_type": "stream",
     "text": [
      "Epoch 283 loss: 0.39932\n"
     ]
    },
    {
     "data": {
      "application/vnd.jupyter.widget-view+json": {
       "model_id": "7b97980a22974f75ad7ce4587d7005b9",
       "version_major": 2,
       "version_minor": 0
      },
      "text/plain": [
       "  0%|          | 0/1 [00:00<?, ?it/s]"
      ]
     },
     "metadata": {},
     "output_type": "display_data"
    },
    {
     "name": "stdout",
     "output_type": "stream",
     "text": [
      "Epoch 284 loss: 0.39932\n"
     ]
    },
    {
     "data": {
      "application/vnd.jupyter.widget-view+json": {
       "model_id": "88bbfcaef5404197a973811de3093002",
       "version_major": 2,
       "version_minor": 0
      },
      "text/plain": [
       "  0%|          | 0/1 [00:00<?, ?it/s]"
      ]
     },
     "metadata": {},
     "output_type": "display_data"
    },
    {
     "name": "stdout",
     "output_type": "stream",
     "text": [
      "Epoch 285 loss: 0.39932\n"
     ]
    },
    {
     "data": {
      "application/vnd.jupyter.widget-view+json": {
       "model_id": "4403197aa01d4b56840a9ef24b597eb9",
       "version_major": 2,
       "version_minor": 0
      },
      "text/plain": [
       "  0%|          | 0/1 [00:00<?, ?it/s]"
      ]
     },
     "metadata": {},
     "output_type": "display_data"
    },
    {
     "name": "stdout",
     "output_type": "stream",
     "text": [
      "Epoch 286 loss: 0.39932\n"
     ]
    },
    {
     "data": {
      "application/vnd.jupyter.widget-view+json": {
       "model_id": "208a898e0fe64477b157c0ad39e1105b",
       "version_major": 2,
       "version_minor": 0
      },
      "text/plain": [
       "  0%|          | 0/1 [00:00<?, ?it/s]"
      ]
     },
     "metadata": {},
     "output_type": "display_data"
    },
    {
     "name": "stdout",
     "output_type": "stream",
     "text": [
      "Epoch 287 loss: 0.39932\n"
     ]
    },
    {
     "data": {
      "application/vnd.jupyter.widget-view+json": {
       "model_id": "50871a9e356345c98a206b6cad845f89",
       "version_major": 2,
       "version_minor": 0
      },
      "text/plain": [
       "  0%|          | 0/1 [00:00<?, ?it/s]"
      ]
     },
     "metadata": {},
     "output_type": "display_data"
    },
    {
     "name": "stdout",
     "output_type": "stream",
     "text": [
      "Epoch 288 loss: 0.39932\n"
     ]
    },
    {
     "data": {
      "application/vnd.jupyter.widget-view+json": {
       "model_id": "8a4b10dec3df4ef38b37bbb7cddbd06e",
       "version_major": 2,
       "version_minor": 0
      },
      "text/plain": [
       "  0%|          | 0/1 [00:00<?, ?it/s]"
      ]
     },
     "metadata": {},
     "output_type": "display_data"
    },
    {
     "name": "stdout",
     "output_type": "stream",
     "text": [
      "Epoch 289 loss: 0.39932\n"
     ]
    },
    {
     "data": {
      "application/vnd.jupyter.widget-view+json": {
       "model_id": "e70022bec46d4d8b8a4074be9c902555",
       "version_major": 2,
       "version_minor": 0
      },
      "text/plain": [
       "  0%|          | 0/1 [00:00<?, ?it/s]"
      ]
     },
     "metadata": {},
     "output_type": "display_data"
    },
    {
     "name": "stdout",
     "output_type": "stream",
     "text": [
      "Epoch 290 loss: 0.39932\n"
     ]
    },
    {
     "data": {
      "application/vnd.jupyter.widget-view+json": {
       "model_id": "73394729e498406fb83d676819f749aa",
       "version_major": 2,
       "version_minor": 0
      },
      "text/plain": [
       "  0%|          | 0/1 [00:00<?, ?it/s]"
      ]
     },
     "metadata": {},
     "output_type": "display_data"
    },
    {
     "name": "stdout",
     "output_type": "stream",
     "text": [
      "Epoch 291 loss: 0.39932\n"
     ]
    },
    {
     "data": {
      "application/vnd.jupyter.widget-view+json": {
       "model_id": "030333cefd714ccf951ab2894d33aa5a",
       "version_major": 2,
       "version_minor": 0
      },
      "text/plain": [
       "  0%|          | 0/1 [00:00<?, ?it/s]"
      ]
     },
     "metadata": {},
     "output_type": "display_data"
    },
    {
     "name": "stdout",
     "output_type": "stream",
     "text": [
      "Epoch 292 loss: 0.39932\n"
     ]
    },
    {
     "data": {
      "application/vnd.jupyter.widget-view+json": {
       "model_id": "b6a98dcc8892449f8532960566688bdc",
       "version_major": 2,
       "version_minor": 0
      },
      "text/plain": [
       "  0%|          | 0/1 [00:00<?, ?it/s]"
      ]
     },
     "metadata": {},
     "output_type": "display_data"
    },
    {
     "name": "stdout",
     "output_type": "stream",
     "text": [
      "Epoch 293 loss: 0.39932\n"
     ]
    },
    {
     "data": {
      "application/vnd.jupyter.widget-view+json": {
       "model_id": "cfb3d99c051b4ca884c8f90df45d01fa",
       "version_major": 2,
       "version_minor": 0
      },
      "text/plain": [
       "  0%|          | 0/1 [00:00<?, ?it/s]"
      ]
     },
     "metadata": {},
     "output_type": "display_data"
    },
    {
     "name": "stdout",
     "output_type": "stream",
     "text": [
      "Epoch 294 loss: 0.39932\n"
     ]
    },
    {
     "data": {
      "application/vnd.jupyter.widget-view+json": {
       "model_id": "d37ff1dce6c04556b74f38c9d569900f",
       "version_major": 2,
       "version_minor": 0
      },
      "text/plain": [
       "  0%|          | 0/1 [00:00<?, ?it/s]"
      ]
     },
     "metadata": {},
     "output_type": "display_data"
    },
    {
     "name": "stdout",
     "output_type": "stream",
     "text": [
      "Epoch 295 loss: 0.39932\n"
     ]
    },
    {
     "data": {
      "application/vnd.jupyter.widget-view+json": {
       "model_id": "4dd343d7fe3f4cc7867be3918b6dc798",
       "version_major": 2,
       "version_minor": 0
      },
      "text/plain": [
       "  0%|          | 0/1 [00:00<?, ?it/s]"
      ]
     },
     "metadata": {},
     "output_type": "display_data"
    },
    {
     "name": "stdout",
     "output_type": "stream",
     "text": [
      "Epoch 296 loss: 0.39932\n"
     ]
    },
    {
     "data": {
      "application/vnd.jupyter.widget-view+json": {
       "model_id": "bf1081c36b544fc4a85fb50ad3f2aa81",
       "version_major": 2,
       "version_minor": 0
      },
      "text/plain": [
       "  0%|          | 0/1 [00:00<?, ?it/s]"
      ]
     },
     "metadata": {},
     "output_type": "display_data"
    },
    {
     "name": "stdout",
     "output_type": "stream",
     "text": [
      "Epoch 297 loss: 0.39932\n"
     ]
    },
    {
     "data": {
      "application/vnd.jupyter.widget-view+json": {
       "model_id": "6c90484f8bf24ee59ce6a5170811131f",
       "version_major": 2,
       "version_minor": 0
      },
      "text/plain": [
       "  0%|          | 0/1 [00:00<?, ?it/s]"
      ]
     },
     "metadata": {},
     "output_type": "display_data"
    },
    {
     "name": "stdout",
     "output_type": "stream",
     "text": [
      "Epoch 298 loss: 0.39932\n"
     ]
    },
    {
     "data": {
      "application/vnd.jupyter.widget-view+json": {
       "model_id": "ccfff8c9aeed414398865de71d1c2889",
       "version_major": 2,
       "version_minor": 0
      },
      "text/plain": [
       "  0%|          | 0/1 [00:00<?, ?it/s]"
      ]
     },
     "metadata": {},
     "output_type": "display_data"
    },
    {
     "name": "stdout",
     "output_type": "stream",
     "text": [
      "Epoch 299 loss: 0.39932\n"
     ]
    },
    {
     "data": {
      "application/vnd.jupyter.widget-view+json": {
       "model_id": "8d9da7086bf14644a392826b4774286b",
       "version_major": 2,
       "version_minor": 0
      },
      "text/plain": [
       "  0%|          | 0/1 [00:00<?, ?it/s]"
      ]
     },
     "metadata": {},
     "output_type": "display_data"
    },
    {
     "name": "stdout",
     "output_type": "stream",
     "text": [
      "Epoch 300 loss: 0.39932\n"
     ]
    },
    {
     "data": {
      "application/vnd.jupyter.widget-view+json": {
       "model_id": "64b9ba5df83a495ea1601c2fafc6c810",
       "version_major": 2,
       "version_minor": 0
      },
      "text/plain": [
       "  0%|          | 0/1 [00:00<?, ?it/s]"
      ]
     },
     "metadata": {},
     "output_type": "display_data"
    },
    {
     "name": "stdout",
     "output_type": "stream",
     "text": [
      "Epoch 301 loss: 0.39932\n"
     ]
    },
    {
     "data": {
      "application/vnd.jupyter.widget-view+json": {
       "model_id": "c5797de9a5584fa981d1e427816273be",
       "version_major": 2,
       "version_minor": 0
      },
      "text/plain": [
       "  0%|          | 0/1 [00:00<?, ?it/s]"
      ]
     },
     "metadata": {},
     "output_type": "display_data"
    },
    {
     "name": "stdout",
     "output_type": "stream",
     "text": [
      "Epoch 302 loss: 0.39932\n"
     ]
    },
    {
     "data": {
      "application/vnd.jupyter.widget-view+json": {
       "model_id": "d123f0e33bbe4d1fa28ea967ebd850f9",
       "version_major": 2,
       "version_minor": 0
      },
      "text/plain": [
       "  0%|          | 0/1 [00:00<?, ?it/s]"
      ]
     },
     "metadata": {},
     "output_type": "display_data"
    },
    {
     "name": "stdout",
     "output_type": "stream",
     "text": [
      "Epoch 303 loss: 0.39932\n"
     ]
    },
    {
     "data": {
      "application/vnd.jupyter.widget-view+json": {
       "model_id": "ddbc76c220a8418b91ed8c1dae598fcd",
       "version_major": 2,
       "version_minor": 0
      },
      "text/plain": [
       "  0%|          | 0/1 [00:00<?, ?it/s]"
      ]
     },
     "metadata": {},
     "output_type": "display_data"
    },
    {
     "name": "stdout",
     "output_type": "stream",
     "text": [
      "Epoch 304 loss: 0.39932\n"
     ]
    },
    {
     "data": {
      "application/vnd.jupyter.widget-view+json": {
       "model_id": "75ff82bcff0d432da11785900c825869",
       "version_major": 2,
       "version_minor": 0
      },
      "text/plain": [
       "  0%|          | 0/1 [00:00<?, ?it/s]"
      ]
     },
     "metadata": {},
     "output_type": "display_data"
    },
    {
     "name": "stdout",
     "output_type": "stream",
     "text": [
      "Epoch 305 loss: 0.39932\n"
     ]
    },
    {
     "data": {
      "application/vnd.jupyter.widget-view+json": {
       "model_id": "384d392119d0488ba711d081934881c9",
       "version_major": 2,
       "version_minor": 0
      },
      "text/plain": [
       "  0%|          | 0/1 [00:00<?, ?it/s]"
      ]
     },
     "metadata": {},
     "output_type": "display_data"
    },
    {
     "name": "stdout",
     "output_type": "stream",
     "text": [
      "Epoch 306 loss: 0.39932\n"
     ]
    },
    {
     "data": {
      "application/vnd.jupyter.widget-view+json": {
       "model_id": "cd19b48c859c4a0aba9523fc12be8753",
       "version_major": 2,
       "version_minor": 0
      },
      "text/plain": [
       "  0%|          | 0/1 [00:00<?, ?it/s]"
      ]
     },
     "metadata": {},
     "output_type": "display_data"
    },
    {
     "name": "stdout",
     "output_type": "stream",
     "text": [
      "Epoch 307 loss: 0.39932\n"
     ]
    },
    {
     "data": {
      "application/vnd.jupyter.widget-view+json": {
       "model_id": "e140930667f34c8cb129d6ac5cf700e5",
       "version_major": 2,
       "version_minor": 0
      },
      "text/plain": [
       "  0%|          | 0/1 [00:00<?, ?it/s]"
      ]
     },
     "metadata": {},
     "output_type": "display_data"
    },
    {
     "name": "stdout",
     "output_type": "stream",
     "text": [
      "Epoch 308 loss: 0.39932\n"
     ]
    },
    {
     "data": {
      "application/vnd.jupyter.widget-view+json": {
       "model_id": "157bb5959fa04ae8aa584bb0f2ca40b8",
       "version_major": 2,
       "version_minor": 0
      },
      "text/plain": [
       "  0%|          | 0/1 [00:00<?, ?it/s]"
      ]
     },
     "metadata": {},
     "output_type": "display_data"
    },
    {
     "name": "stdout",
     "output_type": "stream",
     "text": [
      "Epoch 309 loss: 0.39932\n"
     ]
    },
    {
     "data": {
      "application/vnd.jupyter.widget-view+json": {
       "model_id": "31b9fdf446d34483a336b072b70e0392",
       "version_major": 2,
       "version_minor": 0
      },
      "text/plain": [
       "  0%|          | 0/1 [00:00<?, ?it/s]"
      ]
     },
     "metadata": {},
     "output_type": "display_data"
    },
    {
     "name": "stdout",
     "output_type": "stream",
     "text": [
      "Epoch 310 loss: 0.39932\n"
     ]
    },
    {
     "data": {
      "application/vnd.jupyter.widget-view+json": {
       "model_id": "13b3b605d58748958f3d8ff318543456",
       "version_major": 2,
       "version_minor": 0
      },
      "text/plain": [
       "  0%|          | 0/1 [00:00<?, ?it/s]"
      ]
     },
     "metadata": {},
     "output_type": "display_data"
    },
    {
     "name": "stdout",
     "output_type": "stream",
     "text": [
      "Epoch 311 loss: 0.39932\n"
     ]
    },
    {
     "data": {
      "application/vnd.jupyter.widget-view+json": {
       "model_id": "0bb13bbf56684c4e948d30898ed5c344",
       "version_major": 2,
       "version_minor": 0
      },
      "text/plain": [
       "  0%|          | 0/1 [00:00<?, ?it/s]"
      ]
     },
     "metadata": {},
     "output_type": "display_data"
    },
    {
     "name": "stdout",
     "output_type": "stream",
     "text": [
      "Epoch 312 loss: 0.39932\n"
     ]
    },
    {
     "data": {
      "application/vnd.jupyter.widget-view+json": {
       "model_id": "38edc32389c54335ab60ec77c9bd80cc",
       "version_major": 2,
       "version_minor": 0
      },
      "text/plain": [
       "  0%|          | 0/1 [00:00<?, ?it/s]"
      ]
     },
     "metadata": {},
     "output_type": "display_data"
    },
    {
     "name": "stdout",
     "output_type": "stream",
     "text": [
      "Epoch 313 loss: 0.39932\n"
     ]
    },
    {
     "data": {
      "application/vnd.jupyter.widget-view+json": {
       "model_id": "9ce562267e984d488de445c5b2024005",
       "version_major": 2,
       "version_minor": 0
      },
      "text/plain": [
       "  0%|          | 0/1 [00:00<?, ?it/s]"
      ]
     },
     "metadata": {},
     "output_type": "display_data"
    },
    {
     "name": "stdout",
     "output_type": "stream",
     "text": [
      "Epoch 314 loss: 0.39932\n"
     ]
    },
    {
     "data": {
      "application/vnd.jupyter.widget-view+json": {
       "model_id": "84f24117841e45b99438351590e3146a",
       "version_major": 2,
       "version_minor": 0
      },
      "text/plain": [
       "  0%|          | 0/1 [00:00<?, ?it/s]"
      ]
     },
     "metadata": {},
     "output_type": "display_data"
    },
    {
     "name": "stdout",
     "output_type": "stream",
     "text": [
      "Epoch 315 loss: 0.39932\n"
     ]
    },
    {
     "data": {
      "application/vnd.jupyter.widget-view+json": {
       "model_id": "e8fdc86a48fa4a76833fb5e734b89771",
       "version_major": 2,
       "version_minor": 0
      },
      "text/plain": [
       "  0%|          | 0/1 [00:00<?, ?it/s]"
      ]
     },
     "metadata": {},
     "output_type": "display_data"
    },
    {
     "name": "stdout",
     "output_type": "stream",
     "text": [
      "Epoch 316 loss: 0.39932\n"
     ]
    },
    {
     "data": {
      "application/vnd.jupyter.widget-view+json": {
       "model_id": "ada9f5da5a0943c6993b2226a580c0ab",
       "version_major": 2,
       "version_minor": 0
      },
      "text/plain": [
       "  0%|          | 0/1 [00:00<?, ?it/s]"
      ]
     },
     "metadata": {},
     "output_type": "display_data"
    },
    {
     "name": "stdout",
     "output_type": "stream",
     "text": [
      "Epoch 317 loss: 0.39932\n"
     ]
    },
    {
     "data": {
      "application/vnd.jupyter.widget-view+json": {
       "model_id": "d8a009fc02e74ac59c5d9f3452d23367",
       "version_major": 2,
       "version_minor": 0
      },
      "text/plain": [
       "  0%|          | 0/1 [00:00<?, ?it/s]"
      ]
     },
     "metadata": {},
     "output_type": "display_data"
    },
    {
     "name": "stdout",
     "output_type": "stream",
     "text": [
      "Epoch 318 loss: 0.39932\n"
     ]
    },
    {
     "data": {
      "application/vnd.jupyter.widget-view+json": {
       "model_id": "e3302eb2749c4a6081677eb929ce654e",
       "version_major": 2,
       "version_minor": 0
      },
      "text/plain": [
       "  0%|          | 0/1 [00:00<?, ?it/s]"
      ]
     },
     "metadata": {},
     "output_type": "display_data"
    },
    {
     "name": "stdout",
     "output_type": "stream",
     "text": [
      "Epoch 319 loss: 0.39932\n"
     ]
    },
    {
     "data": {
      "application/vnd.jupyter.widget-view+json": {
       "model_id": "d8b8f4aa849e47e4a4ce28bd4300ce91",
       "version_major": 2,
       "version_minor": 0
      },
      "text/plain": [
       "  0%|          | 0/1 [00:00<?, ?it/s]"
      ]
     },
     "metadata": {},
     "output_type": "display_data"
    },
    {
     "name": "stdout",
     "output_type": "stream",
     "text": [
      "Epoch 320 loss: 0.39932\n"
     ]
    },
    {
     "data": {
      "application/vnd.jupyter.widget-view+json": {
       "model_id": "ced6be1bd8fb4c5abbe688896ded6ae9",
       "version_major": 2,
       "version_minor": 0
      },
      "text/plain": [
       "  0%|          | 0/1 [00:00<?, ?it/s]"
      ]
     },
     "metadata": {},
     "output_type": "display_data"
    },
    {
     "name": "stdout",
     "output_type": "stream",
     "text": [
      "Epoch 321 loss: 0.39932\n"
     ]
    },
    {
     "data": {
      "application/vnd.jupyter.widget-view+json": {
       "model_id": "30cea99cd4e9466e902f21821e2af91b",
       "version_major": 2,
       "version_minor": 0
      },
      "text/plain": [
       "  0%|          | 0/1 [00:00<?, ?it/s]"
      ]
     },
     "metadata": {},
     "output_type": "display_data"
    },
    {
     "name": "stdout",
     "output_type": "stream",
     "text": [
      "Epoch 322 loss: 0.39932\n"
     ]
    },
    {
     "data": {
      "application/vnd.jupyter.widget-view+json": {
       "model_id": "b290e030eb744091b91442169a0197b6",
       "version_major": 2,
       "version_minor": 0
      },
      "text/plain": [
       "  0%|          | 0/1 [00:00<?, ?it/s]"
      ]
     },
     "metadata": {},
     "output_type": "display_data"
    },
    {
     "name": "stdout",
     "output_type": "stream",
     "text": [
      "Epoch 323 loss: 0.39932\n"
     ]
    },
    {
     "data": {
      "application/vnd.jupyter.widget-view+json": {
       "model_id": "c4a97b612ed245e284cf6acbd97e7f38",
       "version_major": 2,
       "version_minor": 0
      },
      "text/plain": [
       "  0%|          | 0/1 [00:00<?, ?it/s]"
      ]
     },
     "metadata": {},
     "output_type": "display_data"
    },
    {
     "name": "stdout",
     "output_type": "stream",
     "text": [
      "Epoch 324 loss: 0.39932\n"
     ]
    },
    {
     "data": {
      "application/vnd.jupyter.widget-view+json": {
       "model_id": "da89c23808d24ae89c5543813a52b1b2",
       "version_major": 2,
       "version_minor": 0
      },
      "text/plain": [
       "  0%|          | 0/1 [00:00<?, ?it/s]"
      ]
     },
     "metadata": {},
     "output_type": "display_data"
    },
    {
     "name": "stdout",
     "output_type": "stream",
     "text": [
      "Epoch 325 loss: 0.39932\n"
     ]
    },
    {
     "data": {
      "application/vnd.jupyter.widget-view+json": {
       "model_id": "329a6e8c4fbb4b8b8ea6277677c9e58b",
       "version_major": 2,
       "version_minor": 0
      },
      "text/plain": [
       "  0%|          | 0/1 [00:00<?, ?it/s]"
      ]
     },
     "metadata": {},
     "output_type": "display_data"
    },
    {
     "name": "stdout",
     "output_type": "stream",
     "text": [
      "Epoch 326 loss: 0.39932\n"
     ]
    },
    {
     "data": {
      "application/vnd.jupyter.widget-view+json": {
       "model_id": "04a538c3f21b4034b4cdb06fab6be75a",
       "version_major": 2,
       "version_minor": 0
      },
      "text/plain": [
       "  0%|          | 0/1 [00:00<?, ?it/s]"
      ]
     },
     "metadata": {},
     "output_type": "display_data"
    },
    {
     "name": "stdout",
     "output_type": "stream",
     "text": [
      "Epoch 327 loss: 0.39932\n"
     ]
    },
    {
     "data": {
      "application/vnd.jupyter.widget-view+json": {
       "model_id": "4b60fde9a1a84cab94603e7e91ff04fb",
       "version_major": 2,
       "version_minor": 0
      },
      "text/plain": [
       "  0%|          | 0/1 [00:00<?, ?it/s]"
      ]
     },
     "metadata": {},
     "output_type": "display_data"
    },
    {
     "name": "stdout",
     "output_type": "stream",
     "text": [
      "Epoch 328 loss: 0.39932\n"
     ]
    },
    {
     "data": {
      "application/vnd.jupyter.widget-view+json": {
       "model_id": "d0736fe33e6c4f989ddbebcac177b02f",
       "version_major": 2,
       "version_minor": 0
      },
      "text/plain": [
       "  0%|          | 0/1 [00:00<?, ?it/s]"
      ]
     },
     "metadata": {},
     "output_type": "display_data"
    },
    {
     "name": "stdout",
     "output_type": "stream",
     "text": [
      "Epoch 329 loss: 0.39932\n"
     ]
    },
    {
     "data": {
      "application/vnd.jupyter.widget-view+json": {
       "model_id": "8401f1192daf444f8e23c075b9ff1e93",
       "version_major": 2,
       "version_minor": 0
      },
      "text/plain": [
       "  0%|          | 0/1 [00:00<?, ?it/s]"
      ]
     },
     "metadata": {},
     "output_type": "display_data"
    },
    {
     "name": "stdout",
     "output_type": "stream",
     "text": [
      "Epoch 330 loss: 0.39932\n"
     ]
    },
    {
     "data": {
      "application/vnd.jupyter.widget-view+json": {
       "model_id": "1f443dc85c6f4708913c8ec75bd8a05a",
       "version_major": 2,
       "version_minor": 0
      },
      "text/plain": [
       "  0%|          | 0/1 [00:00<?, ?it/s]"
      ]
     },
     "metadata": {},
     "output_type": "display_data"
    },
    {
     "name": "stdout",
     "output_type": "stream",
     "text": [
      "Epoch 331 loss: 0.39932\n"
     ]
    },
    {
     "data": {
      "application/vnd.jupyter.widget-view+json": {
       "model_id": "dddbc91ea6ac47ffa333460c3e283e3d",
       "version_major": 2,
       "version_minor": 0
      },
      "text/plain": [
       "  0%|          | 0/1 [00:00<?, ?it/s]"
      ]
     },
     "metadata": {},
     "output_type": "display_data"
    },
    {
     "name": "stdout",
     "output_type": "stream",
     "text": [
      "Epoch 332 loss: 0.39932\n"
     ]
    },
    {
     "data": {
      "application/vnd.jupyter.widget-view+json": {
       "model_id": "e018619597d24ff9b889cabd0dbdd244",
       "version_major": 2,
       "version_minor": 0
      },
      "text/plain": [
       "  0%|          | 0/1 [00:00<?, ?it/s]"
      ]
     },
     "metadata": {},
     "output_type": "display_data"
    },
    {
     "name": "stdout",
     "output_type": "stream",
     "text": [
      "Epoch 333 loss: 0.39932\n"
     ]
    },
    {
     "data": {
      "application/vnd.jupyter.widget-view+json": {
       "model_id": "19c9b8be644b4cb78e3e1aef9667b3e6",
       "version_major": 2,
       "version_minor": 0
      },
      "text/plain": [
       "  0%|          | 0/1 [00:00<?, ?it/s]"
      ]
     },
     "metadata": {},
     "output_type": "display_data"
    },
    {
     "name": "stdout",
     "output_type": "stream",
     "text": [
      "Epoch 334 loss: 0.39932\n"
     ]
    },
    {
     "data": {
      "application/vnd.jupyter.widget-view+json": {
       "model_id": "307810fd32324f39aa91fb9a386b0db9",
       "version_major": 2,
       "version_minor": 0
      },
      "text/plain": [
       "  0%|          | 0/1 [00:00<?, ?it/s]"
      ]
     },
     "metadata": {},
     "output_type": "display_data"
    },
    {
     "name": "stdout",
     "output_type": "stream",
     "text": [
      "Epoch 335 loss: 0.39932\n"
     ]
    },
    {
     "data": {
      "application/vnd.jupyter.widget-view+json": {
       "model_id": "c5e8021e2f4b43b8b68e9684172f005d",
       "version_major": 2,
       "version_minor": 0
      },
      "text/plain": [
       "  0%|          | 0/1 [00:00<?, ?it/s]"
      ]
     },
     "metadata": {},
     "output_type": "display_data"
    },
    {
     "name": "stdout",
     "output_type": "stream",
     "text": [
      "Epoch 336 loss: 0.39932\n"
     ]
    },
    {
     "data": {
      "application/vnd.jupyter.widget-view+json": {
       "model_id": "a96c49e1fcdf4395ab1f24e22bfb1883",
       "version_major": 2,
       "version_minor": 0
      },
      "text/plain": [
       "  0%|          | 0/1 [00:00<?, ?it/s]"
      ]
     },
     "metadata": {},
     "output_type": "display_data"
    },
    {
     "name": "stdout",
     "output_type": "stream",
     "text": [
      "Epoch 337 loss: 0.39932\n"
     ]
    },
    {
     "data": {
      "application/vnd.jupyter.widget-view+json": {
       "model_id": "aa236babd99c481ea6f87911358d3e02",
       "version_major": 2,
       "version_minor": 0
      },
      "text/plain": [
       "  0%|          | 0/1 [00:00<?, ?it/s]"
      ]
     },
     "metadata": {},
     "output_type": "display_data"
    },
    {
     "name": "stdout",
     "output_type": "stream",
     "text": [
      "Epoch 338 loss: 0.39932\n"
     ]
    },
    {
     "data": {
      "application/vnd.jupyter.widget-view+json": {
       "model_id": "a72e1c5849944e7bb4625cd422e5ca8d",
       "version_major": 2,
       "version_minor": 0
      },
      "text/plain": [
       "  0%|          | 0/1 [00:00<?, ?it/s]"
      ]
     },
     "metadata": {},
     "output_type": "display_data"
    },
    {
     "name": "stdout",
     "output_type": "stream",
     "text": [
      "Epoch 339 loss: 0.39932\n"
     ]
    },
    {
     "data": {
      "application/vnd.jupyter.widget-view+json": {
       "model_id": "620634d8ffd64e888b22ea994f0c19ea",
       "version_major": 2,
       "version_minor": 0
      },
      "text/plain": [
       "  0%|          | 0/1 [00:00<?, ?it/s]"
      ]
     },
     "metadata": {},
     "output_type": "display_data"
    },
    {
     "name": "stdout",
     "output_type": "stream",
     "text": [
      "Epoch 340 loss: 0.39932\n"
     ]
    },
    {
     "data": {
      "application/vnd.jupyter.widget-view+json": {
       "model_id": "f5f9175cc1524ebab29fa739ce0b4ec0",
       "version_major": 2,
       "version_minor": 0
      },
      "text/plain": [
       "  0%|          | 0/1 [00:00<?, ?it/s]"
      ]
     },
     "metadata": {},
     "output_type": "display_data"
    },
    {
     "name": "stdout",
     "output_type": "stream",
     "text": [
      "Epoch 341 loss: 0.39932\n"
     ]
    },
    {
     "data": {
      "application/vnd.jupyter.widget-view+json": {
       "model_id": "71f51e666e91470eaf0a2c4811a73079",
       "version_major": 2,
       "version_minor": 0
      },
      "text/plain": [
       "  0%|          | 0/1 [00:00<?, ?it/s]"
      ]
     },
     "metadata": {},
     "output_type": "display_data"
    },
    {
     "name": "stdout",
     "output_type": "stream",
     "text": [
      "Epoch 342 loss: 0.39932\n"
     ]
    },
    {
     "data": {
      "application/vnd.jupyter.widget-view+json": {
       "model_id": "b24d2ed615254746b015e118ab1aceb4",
       "version_major": 2,
       "version_minor": 0
      },
      "text/plain": [
       "  0%|          | 0/1 [00:00<?, ?it/s]"
      ]
     },
     "metadata": {},
     "output_type": "display_data"
    },
    {
     "name": "stdout",
     "output_type": "stream",
     "text": [
      "Epoch 343 loss: 0.39932\n"
     ]
    },
    {
     "data": {
      "application/vnd.jupyter.widget-view+json": {
       "model_id": "89492c4664184b0890c159b511b36863",
       "version_major": 2,
       "version_minor": 0
      },
      "text/plain": [
       "  0%|          | 0/1 [00:00<?, ?it/s]"
      ]
     },
     "metadata": {},
     "output_type": "display_data"
    },
    {
     "name": "stdout",
     "output_type": "stream",
     "text": [
      "Epoch 344 loss: 0.39932\n"
     ]
    },
    {
     "data": {
      "application/vnd.jupyter.widget-view+json": {
       "model_id": "43d39332b6f84973bc94f852f5316b0a",
       "version_major": 2,
       "version_minor": 0
      },
      "text/plain": [
       "  0%|          | 0/1 [00:00<?, ?it/s]"
      ]
     },
     "metadata": {},
     "output_type": "display_data"
    },
    {
     "name": "stdout",
     "output_type": "stream",
     "text": [
      "Epoch 345 loss: 0.39932\n"
     ]
    },
    {
     "data": {
      "application/vnd.jupyter.widget-view+json": {
       "model_id": "0387bb6ee06f4764b730163e044d6013",
       "version_major": 2,
       "version_minor": 0
      },
      "text/plain": [
       "  0%|          | 0/1 [00:00<?, ?it/s]"
      ]
     },
     "metadata": {},
     "output_type": "display_data"
    },
    {
     "name": "stdout",
     "output_type": "stream",
     "text": [
      "Epoch 346 loss: 0.39932\n"
     ]
    },
    {
     "data": {
      "application/vnd.jupyter.widget-view+json": {
       "model_id": "092786d9f15344c182d8db3a8ccbc628",
       "version_major": 2,
       "version_minor": 0
      },
      "text/plain": [
       "  0%|          | 0/1 [00:00<?, ?it/s]"
      ]
     },
     "metadata": {},
     "output_type": "display_data"
    },
    {
     "name": "stdout",
     "output_type": "stream",
     "text": [
      "Epoch 347 loss: 0.39932\n"
     ]
    },
    {
     "data": {
      "application/vnd.jupyter.widget-view+json": {
       "model_id": "8bfeb8aa329f4f69b15440c4e2a35bf7",
       "version_major": 2,
       "version_minor": 0
      },
      "text/plain": [
       "  0%|          | 0/1 [00:00<?, ?it/s]"
      ]
     },
     "metadata": {},
     "output_type": "display_data"
    },
    {
     "name": "stdout",
     "output_type": "stream",
     "text": [
      "Epoch 348 loss: 0.39932\n"
     ]
    },
    {
     "data": {
      "application/vnd.jupyter.widget-view+json": {
       "model_id": "e40560f83a864a0992558f6bf2d237e4",
       "version_major": 2,
       "version_minor": 0
      },
      "text/plain": [
       "  0%|          | 0/1 [00:00<?, ?it/s]"
      ]
     },
     "metadata": {},
     "output_type": "display_data"
    },
    {
     "name": "stdout",
     "output_type": "stream",
     "text": [
      "Epoch 349 loss: 0.39932\n"
     ]
    },
    {
     "data": {
      "application/vnd.jupyter.widget-view+json": {
       "model_id": "294c4057053c4d73aeba2efaa097487e",
       "version_major": 2,
       "version_minor": 0
      },
      "text/plain": [
       "  0%|          | 0/1 [00:00<?, ?it/s]"
      ]
     },
     "metadata": {},
     "output_type": "display_data"
    },
    {
     "name": "stdout",
     "output_type": "stream",
     "text": [
      "Epoch 350 loss: 0.39932\n"
     ]
    },
    {
     "data": {
      "application/vnd.jupyter.widget-view+json": {
       "model_id": "b007cedcd4c04456bcc70a06d01664c8",
       "version_major": 2,
       "version_minor": 0
      },
      "text/plain": [
       "  0%|          | 0/1 [00:00<?, ?it/s]"
      ]
     },
     "metadata": {},
     "output_type": "display_data"
    },
    {
     "name": "stdout",
     "output_type": "stream",
     "text": [
      "Epoch 351 loss: 0.39932\n"
     ]
    },
    {
     "data": {
      "application/vnd.jupyter.widget-view+json": {
       "model_id": "c843331bb19e46028dedf3d732f03946",
       "version_major": 2,
       "version_minor": 0
      },
      "text/plain": [
       "  0%|          | 0/1 [00:00<?, ?it/s]"
      ]
     },
     "metadata": {},
     "output_type": "display_data"
    },
    {
     "name": "stdout",
     "output_type": "stream",
     "text": [
      "Epoch 352 loss: 0.39932\n"
     ]
    },
    {
     "data": {
      "application/vnd.jupyter.widget-view+json": {
       "model_id": "3dea90eef6a1432f92d0f5b5c0db336f",
       "version_major": 2,
       "version_minor": 0
      },
      "text/plain": [
       "  0%|          | 0/1 [00:00<?, ?it/s]"
      ]
     },
     "metadata": {},
     "output_type": "display_data"
    },
    {
     "name": "stdout",
     "output_type": "stream",
     "text": [
      "Epoch 353 loss: 0.39932\n"
     ]
    },
    {
     "data": {
      "application/vnd.jupyter.widget-view+json": {
       "model_id": "c12f52c542ec49bf831b39cec102739c",
       "version_major": 2,
       "version_minor": 0
      },
      "text/plain": [
       "  0%|          | 0/1 [00:00<?, ?it/s]"
      ]
     },
     "metadata": {},
     "output_type": "display_data"
    },
    {
     "name": "stdout",
     "output_type": "stream",
     "text": [
      "Epoch 354 loss: 0.39932\n"
     ]
    },
    {
     "data": {
      "application/vnd.jupyter.widget-view+json": {
       "model_id": "ebde3cd396034dabaaed44ad9fc6ca7d",
       "version_major": 2,
       "version_minor": 0
      },
      "text/plain": [
       "  0%|          | 0/1 [00:00<?, ?it/s]"
      ]
     },
     "metadata": {},
     "output_type": "display_data"
    },
    {
     "name": "stdout",
     "output_type": "stream",
     "text": [
      "Epoch 355 loss: 0.39932\n"
     ]
    },
    {
     "data": {
      "application/vnd.jupyter.widget-view+json": {
       "model_id": "7a056abdaaa149258f3bc305687f14d3",
       "version_major": 2,
       "version_minor": 0
      },
      "text/plain": [
       "  0%|          | 0/1 [00:00<?, ?it/s]"
      ]
     },
     "metadata": {},
     "output_type": "display_data"
    },
    {
     "name": "stdout",
     "output_type": "stream",
     "text": [
      "Epoch 356 loss: 0.39932\n"
     ]
    },
    {
     "data": {
      "application/vnd.jupyter.widget-view+json": {
       "model_id": "80f96b961c8f440fb6ee8af0318b36d0",
       "version_major": 2,
       "version_minor": 0
      },
      "text/plain": [
       "  0%|          | 0/1 [00:00<?, ?it/s]"
      ]
     },
     "metadata": {},
     "output_type": "display_data"
    },
    {
     "name": "stdout",
     "output_type": "stream",
     "text": [
      "Epoch 357 loss: 0.39932\n"
     ]
    },
    {
     "data": {
      "application/vnd.jupyter.widget-view+json": {
       "model_id": "427161291b72466c9855ba1455d21ce1",
       "version_major": 2,
       "version_minor": 0
      },
      "text/plain": [
       "  0%|          | 0/1 [00:00<?, ?it/s]"
      ]
     },
     "metadata": {},
     "output_type": "display_data"
    },
    {
     "name": "stdout",
     "output_type": "stream",
     "text": [
      "Epoch 358 loss: 0.39932\n"
     ]
    },
    {
     "data": {
      "application/vnd.jupyter.widget-view+json": {
       "model_id": "4673c648dc484f429886b89596073fb5",
       "version_major": 2,
       "version_minor": 0
      },
      "text/plain": [
       "  0%|          | 0/1 [00:00<?, ?it/s]"
      ]
     },
     "metadata": {},
     "output_type": "display_data"
    },
    {
     "name": "stdout",
     "output_type": "stream",
     "text": [
      "Epoch 359 loss: 0.39932\n"
     ]
    },
    {
     "data": {
      "application/vnd.jupyter.widget-view+json": {
       "model_id": "b493e50fd66c4ec2a02ed5eb43c0022c",
       "version_major": 2,
       "version_minor": 0
      },
      "text/plain": [
       "  0%|          | 0/1 [00:00<?, ?it/s]"
      ]
     },
     "metadata": {},
     "output_type": "display_data"
    },
    {
     "name": "stdout",
     "output_type": "stream",
     "text": [
      "Epoch 360 loss: 0.39932\n"
     ]
    },
    {
     "data": {
      "application/vnd.jupyter.widget-view+json": {
       "model_id": "ee1886854351464fa6791c987125317e",
       "version_major": 2,
       "version_minor": 0
      },
      "text/plain": [
       "  0%|          | 0/1 [00:00<?, ?it/s]"
      ]
     },
     "metadata": {},
     "output_type": "display_data"
    },
    {
     "name": "stdout",
     "output_type": "stream",
     "text": [
      "Epoch 361 loss: 0.39932\n"
     ]
    },
    {
     "data": {
      "application/vnd.jupyter.widget-view+json": {
       "model_id": "1137807d755e4f409802ed99ee8f30fa",
       "version_major": 2,
       "version_minor": 0
      },
      "text/plain": [
       "  0%|          | 0/1 [00:00<?, ?it/s]"
      ]
     },
     "metadata": {},
     "output_type": "display_data"
    },
    {
     "name": "stdout",
     "output_type": "stream",
     "text": [
      "Epoch 362 loss: 0.39932\n"
     ]
    },
    {
     "data": {
      "application/vnd.jupyter.widget-view+json": {
       "model_id": "215cc6e7ca734bc7b2ce2366a887044e",
       "version_major": 2,
       "version_minor": 0
      },
      "text/plain": [
       "  0%|          | 0/1 [00:00<?, ?it/s]"
      ]
     },
     "metadata": {},
     "output_type": "display_data"
    },
    {
     "name": "stdout",
     "output_type": "stream",
     "text": [
      "Epoch 363 loss: 0.39932\n"
     ]
    },
    {
     "data": {
      "application/vnd.jupyter.widget-view+json": {
       "model_id": "d92bac803ba44762a6db1bb8c94c91d4",
       "version_major": 2,
       "version_minor": 0
      },
      "text/plain": [
       "  0%|          | 0/1 [00:00<?, ?it/s]"
      ]
     },
     "metadata": {},
     "output_type": "display_data"
    },
    {
     "name": "stdout",
     "output_type": "stream",
     "text": [
      "Epoch 364 loss: 0.39932\n"
     ]
    },
    {
     "data": {
      "application/vnd.jupyter.widget-view+json": {
       "model_id": "38666bcfab984356b2dbc8441ce5ab18",
       "version_major": 2,
       "version_minor": 0
      },
      "text/plain": [
       "  0%|          | 0/1 [00:00<?, ?it/s]"
      ]
     },
     "metadata": {},
     "output_type": "display_data"
    },
    {
     "name": "stdout",
     "output_type": "stream",
     "text": [
      "Epoch 365 loss: 0.39932\n"
     ]
    },
    {
     "data": {
      "application/vnd.jupyter.widget-view+json": {
       "model_id": "a455f31178994e98a70393df280057b6",
       "version_major": 2,
       "version_minor": 0
      },
      "text/plain": [
       "  0%|          | 0/1 [00:00<?, ?it/s]"
      ]
     },
     "metadata": {},
     "output_type": "display_data"
    },
    {
     "name": "stdout",
     "output_type": "stream",
     "text": [
      "Epoch 366 loss: 0.39932\n"
     ]
    },
    {
     "data": {
      "application/vnd.jupyter.widget-view+json": {
       "model_id": "51f308fde2fd4a1b8b2c30bb0bcf5178",
       "version_major": 2,
       "version_minor": 0
      },
      "text/plain": [
       "  0%|          | 0/1 [00:00<?, ?it/s]"
      ]
     },
     "metadata": {},
     "output_type": "display_data"
    },
    {
     "name": "stdout",
     "output_type": "stream",
     "text": [
      "Epoch 367 loss: 0.39932\n"
     ]
    },
    {
     "data": {
      "application/vnd.jupyter.widget-view+json": {
       "model_id": "06baa16aa2be42c9a7b6137cb4cfbd36",
       "version_major": 2,
       "version_minor": 0
      },
      "text/plain": [
       "  0%|          | 0/1 [00:00<?, ?it/s]"
      ]
     },
     "metadata": {},
     "output_type": "display_data"
    },
    {
     "name": "stdout",
     "output_type": "stream",
     "text": [
      "Epoch 368 loss: 0.39932\n"
     ]
    },
    {
     "data": {
      "application/vnd.jupyter.widget-view+json": {
       "model_id": "959228a3055f4c3a83396db4cd46e000",
       "version_major": 2,
       "version_minor": 0
      },
      "text/plain": [
       "  0%|          | 0/1 [00:00<?, ?it/s]"
      ]
     },
     "metadata": {},
     "output_type": "display_data"
    },
    {
     "name": "stdout",
     "output_type": "stream",
     "text": [
      "Epoch 369 loss: 0.39932\n"
     ]
    },
    {
     "data": {
      "application/vnd.jupyter.widget-view+json": {
       "model_id": "c95e036d4a0c4e0190701652372c2f61",
       "version_major": 2,
       "version_minor": 0
      },
      "text/plain": [
       "  0%|          | 0/1 [00:00<?, ?it/s]"
      ]
     },
     "metadata": {},
     "output_type": "display_data"
    },
    {
     "name": "stdout",
     "output_type": "stream",
     "text": [
      "Epoch 370 loss: 0.39932\n"
     ]
    },
    {
     "data": {
      "application/vnd.jupyter.widget-view+json": {
       "model_id": "3aa3a0705e6649a7a5c38b6f1566e624",
       "version_major": 2,
       "version_minor": 0
      },
      "text/plain": [
       "  0%|          | 0/1 [00:00<?, ?it/s]"
      ]
     },
     "metadata": {},
     "output_type": "display_data"
    },
    {
     "name": "stdout",
     "output_type": "stream",
     "text": [
      "Epoch 371 loss: 0.39932\n"
     ]
    },
    {
     "data": {
      "application/vnd.jupyter.widget-view+json": {
       "model_id": "a08ced52368347a9924bf1523533181e",
       "version_major": 2,
       "version_minor": 0
      },
      "text/plain": [
       "  0%|          | 0/1 [00:00<?, ?it/s]"
      ]
     },
     "metadata": {},
     "output_type": "display_data"
    },
    {
     "name": "stdout",
     "output_type": "stream",
     "text": [
      "Epoch 372 loss: 0.39932\n"
     ]
    },
    {
     "data": {
      "application/vnd.jupyter.widget-view+json": {
       "model_id": "47ee777ec5614ddf8bd1c35811f61740",
       "version_major": 2,
       "version_minor": 0
      },
      "text/plain": [
       "  0%|          | 0/1 [00:00<?, ?it/s]"
      ]
     },
     "metadata": {},
     "output_type": "display_data"
    },
    {
     "name": "stdout",
     "output_type": "stream",
     "text": [
      "Epoch 373 loss: 0.39932\n"
     ]
    },
    {
     "data": {
      "application/vnd.jupyter.widget-view+json": {
       "model_id": "e577440b0e2042ebbdc66ac444e45c44",
       "version_major": 2,
       "version_minor": 0
      },
      "text/plain": [
       "  0%|          | 0/1 [00:00<?, ?it/s]"
      ]
     },
     "metadata": {},
     "output_type": "display_data"
    },
    {
     "name": "stdout",
     "output_type": "stream",
     "text": [
      "Epoch 374 loss: 0.39932\n"
     ]
    },
    {
     "data": {
      "application/vnd.jupyter.widget-view+json": {
       "model_id": "622d09a3bc1d4f958342c07e7dce6ef7",
       "version_major": 2,
       "version_minor": 0
      },
      "text/plain": [
       "  0%|          | 0/1 [00:00<?, ?it/s]"
      ]
     },
     "metadata": {},
     "output_type": "display_data"
    },
    {
     "name": "stdout",
     "output_type": "stream",
     "text": [
      "Epoch 375 loss: 0.39932\n"
     ]
    },
    {
     "data": {
      "application/vnd.jupyter.widget-view+json": {
       "model_id": "b8e1bdeb4ca441ba9457101ddd3de7a4",
       "version_major": 2,
       "version_minor": 0
      },
      "text/plain": [
       "  0%|          | 0/1 [00:00<?, ?it/s]"
      ]
     },
     "metadata": {},
     "output_type": "display_data"
    },
    {
     "name": "stdout",
     "output_type": "stream",
     "text": [
      "Epoch 376 loss: 0.39932\n"
     ]
    },
    {
     "data": {
      "application/vnd.jupyter.widget-view+json": {
       "model_id": "3776990ce08140179fad790b354b9a8a",
       "version_major": 2,
       "version_minor": 0
      },
      "text/plain": [
       "  0%|          | 0/1 [00:00<?, ?it/s]"
      ]
     },
     "metadata": {},
     "output_type": "display_data"
    },
    {
     "name": "stdout",
     "output_type": "stream",
     "text": [
      "Epoch 377 loss: 0.39932\n"
     ]
    },
    {
     "data": {
      "application/vnd.jupyter.widget-view+json": {
       "model_id": "2c4d6a2f8093483dae5284c14af825e3",
       "version_major": 2,
       "version_minor": 0
      },
      "text/plain": [
       "  0%|          | 0/1 [00:00<?, ?it/s]"
      ]
     },
     "metadata": {},
     "output_type": "display_data"
    },
    {
     "name": "stdout",
     "output_type": "stream",
     "text": [
      "Epoch 378 loss: 0.39932\n"
     ]
    },
    {
     "data": {
      "application/vnd.jupyter.widget-view+json": {
       "model_id": "150f12ac70de451e88149979d73f5546",
       "version_major": 2,
       "version_minor": 0
      },
      "text/plain": [
       "  0%|          | 0/1 [00:00<?, ?it/s]"
      ]
     },
     "metadata": {},
     "output_type": "display_data"
    },
    {
     "name": "stdout",
     "output_type": "stream",
     "text": [
      "Epoch 379 loss: 0.39932\n"
     ]
    },
    {
     "data": {
      "application/vnd.jupyter.widget-view+json": {
       "model_id": "50b7f6a9a4aa46698bf19aec9a771379",
       "version_major": 2,
       "version_minor": 0
      },
      "text/plain": [
       "  0%|          | 0/1 [00:00<?, ?it/s]"
      ]
     },
     "metadata": {},
     "output_type": "display_data"
    },
    {
     "name": "stdout",
     "output_type": "stream",
     "text": [
      "Epoch 380 loss: 0.39932\n"
     ]
    },
    {
     "data": {
      "application/vnd.jupyter.widget-view+json": {
       "model_id": "e28f7b13c24a4033a7bcc22d5a017e5f",
       "version_major": 2,
       "version_minor": 0
      },
      "text/plain": [
       "  0%|          | 0/1 [00:00<?, ?it/s]"
      ]
     },
     "metadata": {},
     "output_type": "display_data"
    },
    {
     "name": "stdout",
     "output_type": "stream",
     "text": [
      "Epoch 381 loss: 0.39932\n"
     ]
    },
    {
     "data": {
      "application/vnd.jupyter.widget-view+json": {
       "model_id": "f6ea0186dc114758aa3168b02607650d",
       "version_major": 2,
       "version_minor": 0
      },
      "text/plain": [
       "  0%|          | 0/1 [00:00<?, ?it/s]"
      ]
     },
     "metadata": {},
     "output_type": "display_data"
    },
    {
     "name": "stdout",
     "output_type": "stream",
     "text": [
      "Epoch 382 loss: 0.39932\n"
     ]
    },
    {
     "data": {
      "application/vnd.jupyter.widget-view+json": {
       "model_id": "f75a73274dfd438f905fd118fc6588cc",
       "version_major": 2,
       "version_minor": 0
      },
      "text/plain": [
       "  0%|          | 0/1 [00:00<?, ?it/s]"
      ]
     },
     "metadata": {},
     "output_type": "display_data"
    },
    {
     "name": "stdout",
     "output_type": "stream",
     "text": [
      "Epoch 383 loss: 0.39932\n"
     ]
    },
    {
     "data": {
      "application/vnd.jupyter.widget-view+json": {
       "model_id": "723a9c8e987e48f9941f4fb6642ae8e3",
       "version_major": 2,
       "version_minor": 0
      },
      "text/plain": [
       "  0%|          | 0/1 [00:00<?, ?it/s]"
      ]
     },
     "metadata": {},
     "output_type": "display_data"
    },
    {
     "name": "stdout",
     "output_type": "stream",
     "text": [
      "Epoch 384 loss: 0.39932\n"
     ]
    },
    {
     "data": {
      "application/vnd.jupyter.widget-view+json": {
       "model_id": "bc3d26f0fabb47ea9c829647f8f7f162",
       "version_major": 2,
       "version_minor": 0
      },
      "text/plain": [
       "  0%|          | 0/1 [00:00<?, ?it/s]"
      ]
     },
     "metadata": {},
     "output_type": "display_data"
    },
    {
     "name": "stdout",
     "output_type": "stream",
     "text": [
      "Epoch 385 loss: 0.39932\n"
     ]
    },
    {
     "data": {
      "application/vnd.jupyter.widget-view+json": {
       "model_id": "f8187339e3bf4082ba3558de5b67d0e7",
       "version_major": 2,
       "version_minor": 0
      },
      "text/plain": [
       "  0%|          | 0/1 [00:00<?, ?it/s]"
      ]
     },
     "metadata": {},
     "output_type": "display_data"
    },
    {
     "name": "stdout",
     "output_type": "stream",
     "text": [
      "Epoch 386 loss: 0.39932\n"
     ]
    },
    {
     "data": {
      "application/vnd.jupyter.widget-view+json": {
       "model_id": "82aafe823c5548c886ebf7717032befe",
       "version_major": 2,
       "version_minor": 0
      },
      "text/plain": [
       "  0%|          | 0/1 [00:00<?, ?it/s]"
      ]
     },
     "metadata": {},
     "output_type": "display_data"
    },
    {
     "name": "stdout",
     "output_type": "stream",
     "text": [
      "Epoch 387 loss: 0.39932\n"
     ]
    },
    {
     "data": {
      "application/vnd.jupyter.widget-view+json": {
       "model_id": "89e7c1f0d5dd4150b50d986441531a04",
       "version_major": 2,
       "version_minor": 0
      },
      "text/plain": [
       "  0%|          | 0/1 [00:00<?, ?it/s]"
      ]
     },
     "metadata": {},
     "output_type": "display_data"
    },
    {
     "name": "stdout",
     "output_type": "stream",
     "text": [
      "Epoch 388 loss: 0.39932\n"
     ]
    },
    {
     "data": {
      "application/vnd.jupyter.widget-view+json": {
       "model_id": "eddeb1542840473e8d87ae1c41c74fe4",
       "version_major": 2,
       "version_minor": 0
      },
      "text/plain": [
       "  0%|          | 0/1 [00:00<?, ?it/s]"
      ]
     },
     "metadata": {},
     "output_type": "display_data"
    },
    {
     "name": "stdout",
     "output_type": "stream",
     "text": [
      "Epoch 389 loss: 0.39932\n"
     ]
    },
    {
     "data": {
      "application/vnd.jupyter.widget-view+json": {
       "model_id": "731f1cc220d548ccbe56cda54492ce3d",
       "version_major": 2,
       "version_minor": 0
      },
      "text/plain": [
       "  0%|          | 0/1 [00:00<?, ?it/s]"
      ]
     },
     "metadata": {},
     "output_type": "display_data"
    },
    {
     "name": "stdout",
     "output_type": "stream",
     "text": [
      "Epoch 390 loss: 0.39932\n"
     ]
    },
    {
     "data": {
      "application/vnd.jupyter.widget-view+json": {
       "model_id": "0410a049055d4f75ba8225a2d5f53757",
       "version_major": 2,
       "version_minor": 0
      },
      "text/plain": [
       "  0%|          | 0/1 [00:00<?, ?it/s]"
      ]
     },
     "metadata": {},
     "output_type": "display_data"
    },
    {
     "name": "stdout",
     "output_type": "stream",
     "text": [
      "Epoch 391 loss: 0.39932\n"
     ]
    },
    {
     "data": {
      "application/vnd.jupyter.widget-view+json": {
       "model_id": "7298d4a0a3bc49e998c7268baf6c95db",
       "version_major": 2,
       "version_minor": 0
      },
      "text/plain": [
       "  0%|          | 0/1 [00:00<?, ?it/s]"
      ]
     },
     "metadata": {},
     "output_type": "display_data"
    },
    {
     "name": "stdout",
     "output_type": "stream",
     "text": [
      "Epoch 392 loss: 0.39932\n"
     ]
    },
    {
     "data": {
      "application/vnd.jupyter.widget-view+json": {
       "model_id": "d94d28fa45ed47e2abf416e3a6997115",
       "version_major": 2,
       "version_minor": 0
      },
      "text/plain": [
       "  0%|          | 0/1 [00:00<?, ?it/s]"
      ]
     },
     "metadata": {},
     "output_type": "display_data"
    },
    {
     "name": "stdout",
     "output_type": "stream",
     "text": [
      "Epoch 393 loss: 0.39932\n"
     ]
    },
    {
     "data": {
      "application/vnd.jupyter.widget-view+json": {
       "model_id": "54bf0fa01cd545ce9c451469ace80b48",
       "version_major": 2,
       "version_minor": 0
      },
      "text/plain": [
       "  0%|          | 0/1 [00:00<?, ?it/s]"
      ]
     },
     "metadata": {},
     "output_type": "display_data"
    },
    {
     "name": "stdout",
     "output_type": "stream",
     "text": [
      "Epoch 394 loss: 0.39932\n"
     ]
    },
    {
     "data": {
      "application/vnd.jupyter.widget-view+json": {
       "model_id": "d2e61855170b40d8a5e778990f907711",
       "version_major": 2,
       "version_minor": 0
      },
      "text/plain": [
       "  0%|          | 0/1 [00:00<?, ?it/s]"
      ]
     },
     "metadata": {},
     "output_type": "display_data"
    },
    {
     "name": "stdout",
     "output_type": "stream",
     "text": [
      "Epoch 395 loss: 0.39932\n"
     ]
    },
    {
     "data": {
      "application/vnd.jupyter.widget-view+json": {
       "model_id": "6ad942673f4c4392ab4267f9d3d0fd16",
       "version_major": 2,
       "version_minor": 0
      },
      "text/plain": [
       "  0%|          | 0/1 [00:00<?, ?it/s]"
      ]
     },
     "metadata": {},
     "output_type": "display_data"
    },
    {
     "name": "stdout",
     "output_type": "stream",
     "text": [
      "Epoch 396 loss: 0.39932\n"
     ]
    },
    {
     "data": {
      "application/vnd.jupyter.widget-view+json": {
       "model_id": "c36b0874a5254bcda9871ab76e31a5fe",
       "version_major": 2,
       "version_minor": 0
      },
      "text/plain": [
       "  0%|          | 0/1 [00:00<?, ?it/s]"
      ]
     },
     "metadata": {},
     "output_type": "display_data"
    },
    {
     "name": "stdout",
     "output_type": "stream",
     "text": [
      "Epoch 397 loss: 0.39932\n"
     ]
    },
    {
     "data": {
      "application/vnd.jupyter.widget-view+json": {
       "model_id": "999d988bb2ad402b9f9befcf0a527c47",
       "version_major": 2,
       "version_minor": 0
      },
      "text/plain": [
       "  0%|          | 0/1 [00:00<?, ?it/s]"
      ]
     },
     "metadata": {},
     "output_type": "display_data"
    },
    {
     "name": "stdout",
     "output_type": "stream",
     "text": [
      "Epoch 398 loss: 0.39932\n"
     ]
    },
    {
     "data": {
      "application/vnd.jupyter.widget-view+json": {
       "model_id": "a702165f423d439f92edcefc377cc74b",
       "version_major": 2,
       "version_minor": 0
      },
      "text/plain": [
       "  0%|          | 0/1 [00:00<?, ?it/s]"
      ]
     },
     "metadata": {},
     "output_type": "display_data"
    },
    {
     "name": "stdout",
     "output_type": "stream",
     "text": [
      "Epoch 399 loss: 0.39932\n"
     ]
    },
    {
     "data": {
      "application/vnd.jupyter.widget-view+json": {
       "model_id": "426bba9810454c83a411a192952ebb53",
       "version_major": 2,
       "version_minor": 0
      },
      "text/plain": [
       "  0%|          | 0/1 [00:00<?, ?it/s]"
      ]
     },
     "metadata": {},
     "output_type": "display_data"
    },
    {
     "name": "stdout",
     "output_type": "stream",
     "text": [
      "Epoch 400 loss: 0.39932\n"
     ]
    },
    {
     "data": {
      "application/vnd.jupyter.widget-view+json": {
       "model_id": "4042a78324b84242ab81b9f37a3dd358",
       "version_major": 2,
       "version_minor": 0
      },
      "text/plain": [
       "  0%|          | 0/1 [00:00<?, ?it/s]"
      ]
     },
     "metadata": {},
     "output_type": "display_data"
    },
    {
     "name": "stdout",
     "output_type": "stream",
     "text": [
      "Epoch 401 loss: 0.39932\n"
     ]
    },
    {
     "data": {
      "application/vnd.jupyter.widget-view+json": {
       "model_id": "ebe56e3e57e74a76bbd517f2abce63a3",
       "version_major": 2,
       "version_minor": 0
      },
      "text/plain": [
       "  0%|          | 0/1 [00:00<?, ?it/s]"
      ]
     },
     "metadata": {},
     "output_type": "display_data"
    },
    {
     "name": "stdout",
     "output_type": "stream",
     "text": [
      "Epoch 402 loss: 0.39932\n"
     ]
    },
    {
     "data": {
      "application/vnd.jupyter.widget-view+json": {
       "model_id": "1e87509407bf4fff9751183def44ec07",
       "version_major": 2,
       "version_minor": 0
      },
      "text/plain": [
       "  0%|          | 0/1 [00:00<?, ?it/s]"
      ]
     },
     "metadata": {},
     "output_type": "display_data"
    },
    {
     "name": "stdout",
     "output_type": "stream",
     "text": [
      "Epoch 403 loss: 0.39932\n"
     ]
    },
    {
     "data": {
      "application/vnd.jupyter.widget-view+json": {
       "model_id": "eebff8bf566c47b89e641f0431b7e1fa",
       "version_major": 2,
       "version_minor": 0
      },
      "text/plain": [
       "  0%|          | 0/1 [00:00<?, ?it/s]"
      ]
     },
     "metadata": {},
     "output_type": "display_data"
    },
    {
     "name": "stdout",
     "output_type": "stream",
     "text": [
      "Epoch 404 loss: 0.39932\n"
     ]
    },
    {
     "data": {
      "application/vnd.jupyter.widget-view+json": {
       "model_id": "b300d893b300426bb8eccf92ec019115",
       "version_major": 2,
       "version_minor": 0
      },
      "text/plain": [
       "  0%|          | 0/1 [00:00<?, ?it/s]"
      ]
     },
     "metadata": {},
     "output_type": "display_data"
    },
    {
     "name": "stdout",
     "output_type": "stream",
     "text": [
      "Epoch 405 loss: 0.39932\n"
     ]
    },
    {
     "data": {
      "application/vnd.jupyter.widget-view+json": {
       "model_id": "ce66e7ec48fe4a3284ee90c63b1d65ec",
       "version_major": 2,
       "version_minor": 0
      },
      "text/plain": [
       "  0%|          | 0/1 [00:00<?, ?it/s]"
      ]
     },
     "metadata": {},
     "output_type": "display_data"
    },
    {
     "name": "stdout",
     "output_type": "stream",
     "text": [
      "Epoch 406 loss: 0.39932\n"
     ]
    },
    {
     "data": {
      "application/vnd.jupyter.widget-view+json": {
       "model_id": "5929d0f5b7dd41e88081a38d768b7433",
       "version_major": 2,
       "version_minor": 0
      },
      "text/plain": [
       "  0%|          | 0/1 [00:00<?, ?it/s]"
      ]
     },
     "metadata": {},
     "output_type": "display_data"
    },
    {
     "name": "stdout",
     "output_type": "stream",
     "text": [
      "Epoch 407 loss: 0.39932\n"
     ]
    },
    {
     "data": {
      "application/vnd.jupyter.widget-view+json": {
       "model_id": "8eab9fb9ccf94c759ae58345d248f2d7",
       "version_major": 2,
       "version_minor": 0
      },
      "text/plain": [
       "  0%|          | 0/1 [00:00<?, ?it/s]"
      ]
     },
     "metadata": {},
     "output_type": "display_data"
    },
    {
     "name": "stdout",
     "output_type": "stream",
     "text": [
      "Epoch 408 loss: 0.39932\n"
     ]
    },
    {
     "data": {
      "application/vnd.jupyter.widget-view+json": {
       "model_id": "b80384ecd33a402c98af91cd157e4176",
       "version_major": 2,
       "version_minor": 0
      },
      "text/plain": [
       "  0%|          | 0/1 [00:00<?, ?it/s]"
      ]
     },
     "metadata": {},
     "output_type": "display_data"
    },
    {
     "name": "stdout",
     "output_type": "stream",
     "text": [
      "Epoch 409 loss: 0.39932\n"
     ]
    },
    {
     "data": {
      "application/vnd.jupyter.widget-view+json": {
       "model_id": "0440aa36197a49c58147628095646104",
       "version_major": 2,
       "version_minor": 0
      },
      "text/plain": [
       "  0%|          | 0/1 [00:00<?, ?it/s]"
      ]
     },
     "metadata": {},
     "output_type": "display_data"
    },
    {
     "name": "stdout",
     "output_type": "stream",
     "text": [
      "Epoch 410 loss: 0.39932\n"
     ]
    },
    {
     "data": {
      "application/vnd.jupyter.widget-view+json": {
       "model_id": "598a6fcf508c462893f2169a513adef8",
       "version_major": 2,
       "version_minor": 0
      },
      "text/plain": [
       "  0%|          | 0/1 [00:00<?, ?it/s]"
      ]
     },
     "metadata": {},
     "output_type": "display_data"
    },
    {
     "name": "stdout",
     "output_type": "stream",
     "text": [
      "Epoch 411 loss: 0.39932\n"
     ]
    },
    {
     "data": {
      "application/vnd.jupyter.widget-view+json": {
       "model_id": "f786c9c450ef438198daace942db821f",
       "version_major": 2,
       "version_minor": 0
      },
      "text/plain": [
       "  0%|          | 0/1 [00:00<?, ?it/s]"
      ]
     },
     "metadata": {},
     "output_type": "display_data"
    },
    {
     "name": "stdout",
     "output_type": "stream",
     "text": [
      "Epoch 412 loss: 0.39932\n"
     ]
    },
    {
     "data": {
      "application/vnd.jupyter.widget-view+json": {
       "model_id": "c2270a10e61847fcaea587ceb29991be",
       "version_major": 2,
       "version_minor": 0
      },
      "text/plain": [
       "  0%|          | 0/1 [00:00<?, ?it/s]"
      ]
     },
     "metadata": {},
     "output_type": "display_data"
    },
    {
     "name": "stdout",
     "output_type": "stream",
     "text": [
      "Epoch 413 loss: 0.39932\n"
     ]
    },
    {
     "data": {
      "application/vnd.jupyter.widget-view+json": {
       "model_id": "1353fb5f0d284f8997c17afe585e69ba",
       "version_major": 2,
       "version_minor": 0
      },
      "text/plain": [
       "  0%|          | 0/1 [00:00<?, ?it/s]"
      ]
     },
     "metadata": {},
     "output_type": "display_data"
    },
    {
     "name": "stdout",
     "output_type": "stream",
     "text": [
      "Epoch 414 loss: 0.39932\n"
     ]
    },
    {
     "data": {
      "application/vnd.jupyter.widget-view+json": {
       "model_id": "6d9853a79d814ae182751ce29dd253c1",
       "version_major": 2,
       "version_minor": 0
      },
      "text/plain": [
       "  0%|          | 0/1 [00:00<?, ?it/s]"
      ]
     },
     "metadata": {},
     "output_type": "display_data"
    },
    {
     "name": "stdout",
     "output_type": "stream",
     "text": [
      "Epoch 415 loss: 0.39932\n"
     ]
    },
    {
     "data": {
      "application/vnd.jupyter.widget-view+json": {
       "model_id": "3595147a23b74e59b860314ec9e14149",
       "version_major": 2,
       "version_minor": 0
      },
      "text/plain": [
       "  0%|          | 0/1 [00:00<?, ?it/s]"
      ]
     },
     "metadata": {},
     "output_type": "display_data"
    },
    {
     "name": "stdout",
     "output_type": "stream",
     "text": [
      "Epoch 416 loss: 0.39932\n"
     ]
    },
    {
     "data": {
      "application/vnd.jupyter.widget-view+json": {
       "model_id": "c6a5ac5c522a40e8a6957bb653e35dc2",
       "version_major": 2,
       "version_minor": 0
      },
      "text/plain": [
       "  0%|          | 0/1 [00:00<?, ?it/s]"
      ]
     },
     "metadata": {},
     "output_type": "display_data"
    },
    {
     "name": "stdout",
     "output_type": "stream",
     "text": [
      "Epoch 417 loss: 0.39932\n"
     ]
    },
    {
     "data": {
      "application/vnd.jupyter.widget-view+json": {
       "model_id": "7d5b1787dc2b41198b0a826d6f5299c2",
       "version_major": 2,
       "version_minor": 0
      },
      "text/plain": [
       "  0%|          | 0/1 [00:00<?, ?it/s]"
      ]
     },
     "metadata": {},
     "output_type": "display_data"
    },
    {
     "name": "stdout",
     "output_type": "stream",
     "text": [
      "Epoch 418 loss: 0.39932\n"
     ]
    },
    {
     "data": {
      "application/vnd.jupyter.widget-view+json": {
       "model_id": "bea83e394ca74bdf94b8ed82a9bb061e",
       "version_major": 2,
       "version_minor": 0
      },
      "text/plain": [
       "  0%|          | 0/1 [00:00<?, ?it/s]"
      ]
     },
     "metadata": {},
     "output_type": "display_data"
    },
    {
     "name": "stdout",
     "output_type": "stream",
     "text": [
      "Epoch 419 loss: 0.39932\n"
     ]
    },
    {
     "data": {
      "application/vnd.jupyter.widget-view+json": {
       "model_id": "bed085afdb57413dafd149fa551c8024",
       "version_major": 2,
       "version_minor": 0
      },
      "text/plain": [
       "  0%|          | 0/1 [00:00<?, ?it/s]"
      ]
     },
     "metadata": {},
     "output_type": "display_data"
    },
    {
     "name": "stdout",
     "output_type": "stream",
     "text": [
      "Epoch 420 loss: 0.39932\n"
     ]
    },
    {
     "data": {
      "application/vnd.jupyter.widget-view+json": {
       "model_id": "4ce9548379e24c8b8135860bbef4067d",
       "version_major": 2,
       "version_minor": 0
      },
      "text/plain": [
       "  0%|          | 0/1 [00:00<?, ?it/s]"
      ]
     },
     "metadata": {},
     "output_type": "display_data"
    },
    {
     "name": "stdout",
     "output_type": "stream",
     "text": [
      "Epoch 421 loss: 0.39932\n"
     ]
    },
    {
     "data": {
      "application/vnd.jupyter.widget-view+json": {
       "model_id": "6f5f01f607fb43db9fe84fb93ac315e9",
       "version_major": 2,
       "version_minor": 0
      },
      "text/plain": [
       "  0%|          | 0/1 [00:00<?, ?it/s]"
      ]
     },
     "metadata": {},
     "output_type": "display_data"
    },
    {
     "name": "stdout",
     "output_type": "stream",
     "text": [
      "Epoch 422 loss: 0.39932\n"
     ]
    },
    {
     "data": {
      "application/vnd.jupyter.widget-view+json": {
       "model_id": "0d0cf26b41f74bb7a1bce5f7ef217e89",
       "version_major": 2,
       "version_minor": 0
      },
      "text/plain": [
       "  0%|          | 0/1 [00:00<?, ?it/s]"
      ]
     },
     "metadata": {},
     "output_type": "display_data"
    },
    {
     "name": "stdout",
     "output_type": "stream",
     "text": [
      "Epoch 423 loss: 0.39932\n"
     ]
    },
    {
     "data": {
      "application/vnd.jupyter.widget-view+json": {
       "model_id": "7b45658c972d4364bf51db633db15564",
       "version_major": 2,
       "version_minor": 0
      },
      "text/plain": [
       "  0%|          | 0/1 [00:00<?, ?it/s]"
      ]
     },
     "metadata": {},
     "output_type": "display_data"
    },
    {
     "name": "stdout",
     "output_type": "stream",
     "text": [
      "Epoch 424 loss: 0.39932\n"
     ]
    },
    {
     "data": {
      "application/vnd.jupyter.widget-view+json": {
       "model_id": "df6cba2e9118406ebb72335071cf786b",
       "version_major": 2,
       "version_minor": 0
      },
      "text/plain": [
       "  0%|          | 0/1 [00:00<?, ?it/s]"
      ]
     },
     "metadata": {},
     "output_type": "display_data"
    },
    {
     "name": "stdout",
     "output_type": "stream",
     "text": [
      "Epoch 425 loss: 0.39932\n"
     ]
    },
    {
     "data": {
      "application/vnd.jupyter.widget-view+json": {
       "model_id": "8c5bb13f454645b6adb551834ef7cae3",
       "version_major": 2,
       "version_minor": 0
      },
      "text/plain": [
       "  0%|          | 0/1 [00:00<?, ?it/s]"
      ]
     },
     "metadata": {},
     "output_type": "display_data"
    },
    {
     "name": "stdout",
     "output_type": "stream",
     "text": [
      "Epoch 426 loss: 0.39932\n"
     ]
    },
    {
     "data": {
      "application/vnd.jupyter.widget-view+json": {
       "model_id": "53a508935e8d4e048fbd2f5e2b504980",
       "version_major": 2,
       "version_minor": 0
      },
      "text/plain": [
       "  0%|          | 0/1 [00:00<?, ?it/s]"
      ]
     },
     "metadata": {},
     "output_type": "display_data"
    },
    {
     "name": "stdout",
     "output_type": "stream",
     "text": [
      "Epoch 427 loss: 0.39932\n"
     ]
    },
    {
     "data": {
      "application/vnd.jupyter.widget-view+json": {
       "model_id": "fe071462707a4fc49e17943fb96922ab",
       "version_major": 2,
       "version_minor": 0
      },
      "text/plain": [
       "  0%|          | 0/1 [00:00<?, ?it/s]"
      ]
     },
     "metadata": {},
     "output_type": "display_data"
    },
    {
     "name": "stdout",
     "output_type": "stream",
     "text": [
      "Epoch 428 loss: 0.39932\n"
     ]
    },
    {
     "data": {
      "application/vnd.jupyter.widget-view+json": {
       "model_id": "c722898f610b4ee5b8d2ca202cd61df4",
       "version_major": 2,
       "version_minor": 0
      },
      "text/plain": [
       "  0%|          | 0/1 [00:00<?, ?it/s]"
      ]
     },
     "metadata": {},
     "output_type": "display_data"
    },
    {
     "name": "stdout",
     "output_type": "stream",
     "text": [
      "Epoch 429 loss: 0.39932\n"
     ]
    },
    {
     "data": {
      "application/vnd.jupyter.widget-view+json": {
       "model_id": "242828a9d6d248e3a677144ec397fb68",
       "version_major": 2,
       "version_minor": 0
      },
      "text/plain": [
       "  0%|          | 0/1 [00:00<?, ?it/s]"
      ]
     },
     "metadata": {},
     "output_type": "display_data"
    },
    {
     "name": "stdout",
     "output_type": "stream",
     "text": [
      "Epoch 430 loss: 0.39932\n"
     ]
    },
    {
     "data": {
      "application/vnd.jupyter.widget-view+json": {
       "model_id": "7fead5a7e7004e14a03b5c5847f1e791",
       "version_major": 2,
       "version_minor": 0
      },
      "text/plain": [
       "  0%|          | 0/1 [00:00<?, ?it/s]"
      ]
     },
     "metadata": {},
     "output_type": "display_data"
    },
    {
     "name": "stdout",
     "output_type": "stream",
     "text": [
      "Epoch 431 loss: 0.39932\n"
     ]
    },
    {
     "data": {
      "application/vnd.jupyter.widget-view+json": {
       "model_id": "662e4a2d34784d9b95de1a7db59a3c52",
       "version_major": 2,
       "version_minor": 0
      },
      "text/plain": [
       "  0%|          | 0/1 [00:00<?, ?it/s]"
      ]
     },
     "metadata": {},
     "output_type": "display_data"
    },
    {
     "name": "stdout",
     "output_type": "stream",
     "text": [
      "Epoch 432 loss: 0.39932\n"
     ]
    },
    {
     "data": {
      "application/vnd.jupyter.widget-view+json": {
       "model_id": "7dc50502005a474e8820aba292e7f6b8",
       "version_major": 2,
       "version_minor": 0
      },
      "text/plain": [
       "  0%|          | 0/1 [00:00<?, ?it/s]"
      ]
     },
     "metadata": {},
     "output_type": "display_data"
    },
    {
     "name": "stdout",
     "output_type": "stream",
     "text": [
      "Epoch 433 loss: 0.39932\n"
     ]
    },
    {
     "data": {
      "application/vnd.jupyter.widget-view+json": {
       "model_id": "d91460aa65ac4827b669afce1ffd19e0",
       "version_major": 2,
       "version_minor": 0
      },
      "text/plain": [
       "  0%|          | 0/1 [00:00<?, ?it/s]"
      ]
     },
     "metadata": {},
     "output_type": "display_data"
    },
    {
     "name": "stdout",
     "output_type": "stream",
     "text": [
      "Epoch 434 loss: 0.39932\n"
     ]
    },
    {
     "data": {
      "application/vnd.jupyter.widget-view+json": {
       "model_id": "1c260ee32c6d47d5912acff080ff1cbc",
       "version_major": 2,
       "version_minor": 0
      },
      "text/plain": [
       "  0%|          | 0/1 [00:00<?, ?it/s]"
      ]
     },
     "metadata": {},
     "output_type": "display_data"
    },
    {
     "name": "stdout",
     "output_type": "stream",
     "text": [
      "Epoch 435 loss: 0.39932\n"
     ]
    },
    {
     "data": {
      "application/vnd.jupyter.widget-view+json": {
       "model_id": "7dcd7abd84eb408383bec6ef8d347f50",
       "version_major": 2,
       "version_minor": 0
      },
      "text/plain": [
       "  0%|          | 0/1 [00:00<?, ?it/s]"
      ]
     },
     "metadata": {},
     "output_type": "display_data"
    },
    {
     "name": "stdout",
     "output_type": "stream",
     "text": [
      "Epoch 436 loss: 0.39932\n"
     ]
    },
    {
     "data": {
      "application/vnd.jupyter.widget-view+json": {
       "model_id": "34ebc6d0623044b3bcf9d2658d4c0436",
       "version_major": 2,
       "version_minor": 0
      },
      "text/plain": [
       "  0%|          | 0/1 [00:00<?, ?it/s]"
      ]
     },
     "metadata": {},
     "output_type": "display_data"
    },
    {
     "name": "stdout",
     "output_type": "stream",
     "text": [
      "Epoch 437 loss: 0.39932\n"
     ]
    },
    {
     "data": {
      "application/vnd.jupyter.widget-view+json": {
       "model_id": "01df6fa7f90240338e36ce0c237e165a",
       "version_major": 2,
       "version_minor": 0
      },
      "text/plain": [
       "  0%|          | 0/1 [00:00<?, ?it/s]"
      ]
     },
     "metadata": {},
     "output_type": "display_data"
    },
    {
     "name": "stdout",
     "output_type": "stream",
     "text": [
      "Epoch 438 loss: 0.39932\n"
     ]
    },
    {
     "data": {
      "application/vnd.jupyter.widget-view+json": {
       "model_id": "16bd6fbb7d484c58a1706bc71229d00e",
       "version_major": 2,
       "version_minor": 0
      },
      "text/plain": [
       "  0%|          | 0/1 [00:00<?, ?it/s]"
      ]
     },
     "metadata": {},
     "output_type": "display_data"
    },
    {
     "name": "stdout",
     "output_type": "stream",
     "text": [
      "Epoch 439 loss: 0.39932\n"
     ]
    },
    {
     "data": {
      "application/vnd.jupyter.widget-view+json": {
       "model_id": "e9f88d070785494d99dc2a6bcea339b0",
       "version_major": 2,
       "version_minor": 0
      },
      "text/plain": [
       "  0%|          | 0/1 [00:00<?, ?it/s]"
      ]
     },
     "metadata": {},
     "output_type": "display_data"
    },
    {
     "name": "stdout",
     "output_type": "stream",
     "text": [
      "Epoch 440 loss: 0.39932\n"
     ]
    },
    {
     "data": {
      "application/vnd.jupyter.widget-view+json": {
       "model_id": "62fbb2172d8f49f99f7250c96ffa45ee",
       "version_major": 2,
       "version_minor": 0
      },
      "text/plain": [
       "  0%|          | 0/1 [00:00<?, ?it/s]"
      ]
     },
     "metadata": {},
     "output_type": "display_data"
    },
    {
     "name": "stdout",
     "output_type": "stream",
     "text": [
      "Epoch 441 loss: 0.39932\n"
     ]
    },
    {
     "data": {
      "application/vnd.jupyter.widget-view+json": {
       "model_id": "9d693021880a4df3a625364af16f60bd",
       "version_major": 2,
       "version_minor": 0
      },
      "text/plain": [
       "  0%|          | 0/1 [00:00<?, ?it/s]"
      ]
     },
     "metadata": {},
     "output_type": "display_data"
    },
    {
     "name": "stdout",
     "output_type": "stream",
     "text": [
      "Epoch 442 loss: 0.39932\n"
     ]
    },
    {
     "data": {
      "application/vnd.jupyter.widget-view+json": {
       "model_id": "e63f50ce21774248aa5e114bbc7306e6",
       "version_major": 2,
       "version_minor": 0
      },
      "text/plain": [
       "  0%|          | 0/1 [00:00<?, ?it/s]"
      ]
     },
     "metadata": {},
     "output_type": "display_data"
    },
    {
     "name": "stdout",
     "output_type": "stream",
     "text": [
      "Epoch 443 loss: 0.39932\n"
     ]
    },
    {
     "data": {
      "application/vnd.jupyter.widget-view+json": {
       "model_id": "ea2bcfe10edd4aaa9902107db51aadfb",
       "version_major": 2,
       "version_minor": 0
      },
      "text/plain": [
       "  0%|          | 0/1 [00:00<?, ?it/s]"
      ]
     },
     "metadata": {},
     "output_type": "display_data"
    },
    {
     "name": "stdout",
     "output_type": "stream",
     "text": [
      "Epoch 444 loss: 0.39932\n"
     ]
    },
    {
     "data": {
      "application/vnd.jupyter.widget-view+json": {
       "model_id": "d235abef192f4e2bbfb745053fe94e59",
       "version_major": 2,
       "version_minor": 0
      },
      "text/plain": [
       "  0%|          | 0/1 [00:00<?, ?it/s]"
      ]
     },
     "metadata": {},
     "output_type": "display_data"
    },
    {
     "name": "stdout",
     "output_type": "stream",
     "text": [
      "Epoch 445 loss: 0.39932\n"
     ]
    },
    {
     "data": {
      "application/vnd.jupyter.widget-view+json": {
       "model_id": "794d303716114bc6b935648b24470c1d",
       "version_major": 2,
       "version_minor": 0
      },
      "text/plain": [
       "  0%|          | 0/1 [00:00<?, ?it/s]"
      ]
     },
     "metadata": {},
     "output_type": "display_data"
    },
    {
     "name": "stdout",
     "output_type": "stream",
     "text": [
      "Epoch 446 loss: 0.39932\n"
     ]
    },
    {
     "data": {
      "application/vnd.jupyter.widget-view+json": {
       "model_id": "a242bdf68b384e85815ee6b6f4d8dc80",
       "version_major": 2,
       "version_minor": 0
      },
      "text/plain": [
       "  0%|          | 0/1 [00:00<?, ?it/s]"
      ]
     },
     "metadata": {},
     "output_type": "display_data"
    },
    {
     "name": "stdout",
     "output_type": "stream",
     "text": [
      "Epoch 447 loss: 0.39932\n"
     ]
    },
    {
     "data": {
      "application/vnd.jupyter.widget-view+json": {
       "model_id": "e1160f3e106d4b56bebf2dc075becc02",
       "version_major": 2,
       "version_minor": 0
      },
      "text/plain": [
       "  0%|          | 0/1 [00:00<?, ?it/s]"
      ]
     },
     "metadata": {},
     "output_type": "display_data"
    },
    {
     "name": "stdout",
     "output_type": "stream",
     "text": [
      "Epoch 448 loss: 0.39932\n"
     ]
    },
    {
     "data": {
      "application/vnd.jupyter.widget-view+json": {
       "model_id": "8eb86fbae9a44052a7c2080e19723cfe",
       "version_major": 2,
       "version_minor": 0
      },
      "text/plain": [
       "  0%|          | 0/1 [00:00<?, ?it/s]"
      ]
     },
     "metadata": {},
     "output_type": "display_data"
    },
    {
     "name": "stdout",
     "output_type": "stream",
     "text": [
      "Epoch 449 loss: 0.39932\n"
     ]
    },
    {
     "data": {
      "application/vnd.jupyter.widget-view+json": {
       "model_id": "07f31c6014c34e2c9abafc6f2ab0f67d",
       "version_major": 2,
       "version_minor": 0
      },
      "text/plain": [
       "  0%|          | 0/1 [00:00<?, ?it/s]"
      ]
     },
     "metadata": {},
     "output_type": "display_data"
    },
    {
     "name": "stdout",
     "output_type": "stream",
     "text": [
      "Epoch 450 loss: 0.39932\n"
     ]
    },
    {
     "data": {
      "application/vnd.jupyter.widget-view+json": {
       "model_id": "5c9029858a894058972d7c19bd80dc78",
       "version_major": 2,
       "version_minor": 0
      },
      "text/plain": [
       "  0%|          | 0/1 [00:00<?, ?it/s]"
      ]
     },
     "metadata": {},
     "output_type": "display_data"
    },
    {
     "name": "stdout",
     "output_type": "stream",
     "text": [
      "Epoch 451 loss: 0.39932\n"
     ]
    },
    {
     "data": {
      "application/vnd.jupyter.widget-view+json": {
       "model_id": "1fb0840b74e94157bbfe9812519d8012",
       "version_major": 2,
       "version_minor": 0
      },
      "text/plain": [
       "  0%|          | 0/1 [00:00<?, ?it/s]"
      ]
     },
     "metadata": {},
     "output_type": "display_data"
    },
    {
     "name": "stdout",
     "output_type": "stream",
     "text": [
      "Epoch 452 loss: 0.39932\n"
     ]
    },
    {
     "data": {
      "application/vnd.jupyter.widget-view+json": {
       "model_id": "7c43528f6c3a496ab099c7829747889f",
       "version_major": 2,
       "version_minor": 0
      },
      "text/plain": [
       "  0%|          | 0/1 [00:00<?, ?it/s]"
      ]
     },
     "metadata": {},
     "output_type": "display_data"
    },
    {
     "name": "stdout",
     "output_type": "stream",
     "text": [
      "Epoch 453 loss: 0.39932\n"
     ]
    },
    {
     "data": {
      "application/vnd.jupyter.widget-view+json": {
       "model_id": "40b6416713844492b8c7e9cf9c827789",
       "version_major": 2,
       "version_minor": 0
      },
      "text/plain": [
       "  0%|          | 0/1 [00:00<?, ?it/s]"
      ]
     },
     "metadata": {},
     "output_type": "display_data"
    },
    {
     "name": "stdout",
     "output_type": "stream",
     "text": [
      "Epoch 454 loss: 0.39932\n"
     ]
    },
    {
     "data": {
      "application/vnd.jupyter.widget-view+json": {
       "model_id": "138988cb5f114cef9238d1811e142b94",
       "version_major": 2,
       "version_minor": 0
      },
      "text/plain": [
       "  0%|          | 0/1 [00:00<?, ?it/s]"
      ]
     },
     "metadata": {},
     "output_type": "display_data"
    },
    {
     "name": "stdout",
     "output_type": "stream",
     "text": [
      "Epoch 455 loss: 0.39932\n"
     ]
    },
    {
     "data": {
      "application/vnd.jupyter.widget-view+json": {
       "model_id": "7923ae4852d640ba9f368a9313068dd5",
       "version_major": 2,
       "version_minor": 0
      },
      "text/plain": [
       "  0%|          | 0/1 [00:00<?, ?it/s]"
      ]
     },
     "metadata": {},
     "output_type": "display_data"
    },
    {
     "name": "stdout",
     "output_type": "stream",
     "text": [
      "Epoch 456 loss: 0.39932\n"
     ]
    },
    {
     "data": {
      "application/vnd.jupyter.widget-view+json": {
       "model_id": "57317944e2334e4891b7cac9990cf20b",
       "version_major": 2,
       "version_minor": 0
      },
      "text/plain": [
       "  0%|          | 0/1 [00:00<?, ?it/s]"
      ]
     },
     "metadata": {},
     "output_type": "display_data"
    },
    {
     "name": "stdout",
     "output_type": "stream",
     "text": [
      "Epoch 457 loss: 0.39932\n"
     ]
    },
    {
     "data": {
      "application/vnd.jupyter.widget-view+json": {
       "model_id": "05f0d268fede46acb6f4b1925aa8dc40",
       "version_major": 2,
       "version_minor": 0
      },
      "text/plain": [
       "  0%|          | 0/1 [00:00<?, ?it/s]"
      ]
     },
     "metadata": {},
     "output_type": "display_data"
    },
    {
     "name": "stdout",
     "output_type": "stream",
     "text": [
      "Epoch 458 loss: 0.39932\n"
     ]
    },
    {
     "data": {
      "application/vnd.jupyter.widget-view+json": {
       "model_id": "72bedb93a4ca49bc984b812ef87e3bfe",
       "version_major": 2,
       "version_minor": 0
      },
      "text/plain": [
       "  0%|          | 0/1 [00:00<?, ?it/s]"
      ]
     },
     "metadata": {},
     "output_type": "display_data"
    },
    {
     "name": "stdout",
     "output_type": "stream",
     "text": [
      "Epoch 459 loss: 0.39932\n"
     ]
    },
    {
     "data": {
      "application/vnd.jupyter.widget-view+json": {
       "model_id": "d6fbb31faf734d1f9008979f8c857d43",
       "version_major": 2,
       "version_minor": 0
      },
      "text/plain": [
       "  0%|          | 0/1 [00:00<?, ?it/s]"
      ]
     },
     "metadata": {},
     "output_type": "display_data"
    },
    {
     "name": "stdout",
     "output_type": "stream",
     "text": [
      "Epoch 460 loss: 0.39932\n"
     ]
    },
    {
     "data": {
      "application/vnd.jupyter.widget-view+json": {
       "model_id": "0185296ef0494b2fa6fa85deafe4e2dc",
       "version_major": 2,
       "version_minor": 0
      },
      "text/plain": [
       "  0%|          | 0/1 [00:00<?, ?it/s]"
      ]
     },
     "metadata": {},
     "output_type": "display_data"
    },
    {
     "name": "stdout",
     "output_type": "stream",
     "text": [
      "Epoch 461 loss: 0.39932\n"
     ]
    },
    {
     "data": {
      "application/vnd.jupyter.widget-view+json": {
       "model_id": "47df0c2748eb4fb4980b2e6dd3f3eb26",
       "version_major": 2,
       "version_minor": 0
      },
      "text/plain": [
       "  0%|          | 0/1 [00:00<?, ?it/s]"
      ]
     },
     "metadata": {},
     "output_type": "display_data"
    },
    {
     "name": "stdout",
     "output_type": "stream",
     "text": [
      "Epoch 462 loss: 0.39932\n"
     ]
    },
    {
     "data": {
      "application/vnd.jupyter.widget-view+json": {
       "model_id": "8b313f8b7fd74b26b829e95a77f75ff9",
       "version_major": 2,
       "version_minor": 0
      },
      "text/plain": [
       "  0%|          | 0/1 [00:00<?, ?it/s]"
      ]
     },
     "metadata": {},
     "output_type": "display_data"
    },
    {
     "name": "stdout",
     "output_type": "stream",
     "text": [
      "Epoch 463 loss: 0.39932\n"
     ]
    },
    {
     "data": {
      "application/vnd.jupyter.widget-view+json": {
       "model_id": "2f449861f98a47cca13ba7aea24a51db",
       "version_major": 2,
       "version_minor": 0
      },
      "text/plain": [
       "  0%|          | 0/1 [00:00<?, ?it/s]"
      ]
     },
     "metadata": {},
     "output_type": "display_data"
    },
    {
     "name": "stdout",
     "output_type": "stream",
     "text": [
      "Epoch 464 loss: 0.39932\n"
     ]
    },
    {
     "data": {
      "application/vnd.jupyter.widget-view+json": {
       "model_id": "1a74814b55cf4b80bd1f305afc2d0f46",
       "version_major": 2,
       "version_minor": 0
      },
      "text/plain": [
       "  0%|          | 0/1 [00:00<?, ?it/s]"
      ]
     },
     "metadata": {},
     "output_type": "display_data"
    },
    {
     "name": "stdout",
     "output_type": "stream",
     "text": [
      "Epoch 465 loss: 0.39932\n"
     ]
    },
    {
     "data": {
      "application/vnd.jupyter.widget-view+json": {
       "model_id": "6fc1bfa3736649ad949dc0273a86e42a",
       "version_major": 2,
       "version_minor": 0
      },
      "text/plain": [
       "  0%|          | 0/1 [00:00<?, ?it/s]"
      ]
     },
     "metadata": {},
     "output_type": "display_data"
    },
    {
     "name": "stdout",
     "output_type": "stream",
     "text": [
      "Epoch 466 loss: 0.39932\n"
     ]
    },
    {
     "data": {
      "application/vnd.jupyter.widget-view+json": {
       "model_id": "93ee41b54caf463090c43e117481505e",
       "version_major": 2,
       "version_minor": 0
      },
      "text/plain": [
       "  0%|          | 0/1 [00:00<?, ?it/s]"
      ]
     },
     "metadata": {},
     "output_type": "display_data"
    },
    {
     "name": "stdout",
     "output_type": "stream",
     "text": [
      "Epoch 467 loss: 0.39932\n"
     ]
    },
    {
     "data": {
      "application/vnd.jupyter.widget-view+json": {
       "model_id": "416bc49485c847e8b3fc83e5b1250922",
       "version_major": 2,
       "version_minor": 0
      },
      "text/plain": [
       "  0%|          | 0/1 [00:00<?, ?it/s]"
      ]
     },
     "metadata": {},
     "output_type": "display_data"
    },
    {
     "name": "stdout",
     "output_type": "stream",
     "text": [
      "Epoch 468 loss: 0.39932\n"
     ]
    },
    {
     "data": {
      "application/vnd.jupyter.widget-view+json": {
       "model_id": "3be0d2230f264057a98d21e3c71ca36b",
       "version_major": 2,
       "version_minor": 0
      },
      "text/plain": [
       "  0%|          | 0/1 [00:00<?, ?it/s]"
      ]
     },
     "metadata": {},
     "output_type": "display_data"
    },
    {
     "name": "stdout",
     "output_type": "stream",
     "text": [
      "Epoch 469 loss: 0.39932\n"
     ]
    },
    {
     "data": {
      "application/vnd.jupyter.widget-view+json": {
       "model_id": "84f438351b8d481dbc1fc0b192351df4",
       "version_major": 2,
       "version_minor": 0
      },
      "text/plain": [
       "  0%|          | 0/1 [00:00<?, ?it/s]"
      ]
     },
     "metadata": {},
     "output_type": "display_data"
    },
    {
     "name": "stdout",
     "output_type": "stream",
     "text": [
      "Epoch 470 loss: 0.39932\n"
     ]
    },
    {
     "data": {
      "application/vnd.jupyter.widget-view+json": {
       "model_id": "dd970d7eafe84922acef39d5b326852e",
       "version_major": 2,
       "version_minor": 0
      },
      "text/plain": [
       "  0%|          | 0/1 [00:00<?, ?it/s]"
      ]
     },
     "metadata": {},
     "output_type": "display_data"
    },
    {
     "name": "stdout",
     "output_type": "stream",
     "text": [
      "Epoch 471 loss: 0.39932\n"
     ]
    },
    {
     "data": {
      "application/vnd.jupyter.widget-view+json": {
       "model_id": "e889546bcf934d2f90c9674395c6aa8b",
       "version_major": 2,
       "version_minor": 0
      },
      "text/plain": [
       "  0%|          | 0/1 [00:00<?, ?it/s]"
      ]
     },
     "metadata": {},
     "output_type": "display_data"
    },
    {
     "name": "stdout",
     "output_type": "stream",
     "text": [
      "Epoch 472 loss: 0.39932\n"
     ]
    },
    {
     "data": {
      "application/vnd.jupyter.widget-view+json": {
       "model_id": "5ee98bf468eb4afd9663908896589721",
       "version_major": 2,
       "version_minor": 0
      },
      "text/plain": [
       "  0%|          | 0/1 [00:00<?, ?it/s]"
      ]
     },
     "metadata": {},
     "output_type": "display_data"
    },
    {
     "name": "stdout",
     "output_type": "stream",
     "text": [
      "Epoch 473 loss: 0.39932\n"
     ]
    },
    {
     "data": {
      "application/vnd.jupyter.widget-view+json": {
       "model_id": "981fcc60eaa2403995d5bec27ace9d7d",
       "version_major": 2,
       "version_minor": 0
      },
      "text/plain": [
       "  0%|          | 0/1 [00:00<?, ?it/s]"
      ]
     },
     "metadata": {},
     "output_type": "display_data"
    },
    {
     "name": "stdout",
     "output_type": "stream",
     "text": [
      "Epoch 474 loss: 0.39932\n"
     ]
    },
    {
     "data": {
      "application/vnd.jupyter.widget-view+json": {
       "model_id": "0995646a1ff74487b4a0a2c564c16212",
       "version_major": 2,
       "version_minor": 0
      },
      "text/plain": [
       "  0%|          | 0/1 [00:00<?, ?it/s]"
      ]
     },
     "metadata": {},
     "output_type": "display_data"
    },
    {
     "name": "stdout",
     "output_type": "stream",
     "text": [
      "Epoch 475 loss: 0.39932\n"
     ]
    },
    {
     "data": {
      "application/vnd.jupyter.widget-view+json": {
       "model_id": "dbbed245fefa44e5a8cdd4abd55612a2",
       "version_major": 2,
       "version_minor": 0
      },
      "text/plain": [
       "  0%|          | 0/1 [00:00<?, ?it/s]"
      ]
     },
     "metadata": {},
     "output_type": "display_data"
    },
    {
     "name": "stdout",
     "output_type": "stream",
     "text": [
      "Epoch 476 loss: 0.39932\n"
     ]
    },
    {
     "data": {
      "application/vnd.jupyter.widget-view+json": {
       "model_id": "cf78e7df122349f19fd880acdbd3c77d",
       "version_major": 2,
       "version_minor": 0
      },
      "text/plain": [
       "  0%|          | 0/1 [00:00<?, ?it/s]"
      ]
     },
     "metadata": {},
     "output_type": "display_data"
    },
    {
     "name": "stdout",
     "output_type": "stream",
     "text": [
      "Epoch 477 loss: 0.39932\n"
     ]
    },
    {
     "data": {
      "application/vnd.jupyter.widget-view+json": {
       "model_id": "51a429af6088494fa252a7bbd5a5ea8e",
       "version_major": 2,
       "version_minor": 0
      },
      "text/plain": [
       "  0%|          | 0/1 [00:00<?, ?it/s]"
      ]
     },
     "metadata": {},
     "output_type": "display_data"
    },
    {
     "name": "stdout",
     "output_type": "stream",
     "text": [
      "Epoch 478 loss: 0.39932\n"
     ]
    },
    {
     "data": {
      "application/vnd.jupyter.widget-view+json": {
       "model_id": "358c82b160e44ffabcb26e83b01e040c",
       "version_major": 2,
       "version_minor": 0
      },
      "text/plain": [
       "  0%|          | 0/1 [00:00<?, ?it/s]"
      ]
     },
     "metadata": {},
     "output_type": "display_data"
    },
    {
     "name": "stdout",
     "output_type": "stream",
     "text": [
      "Epoch 479 loss: 0.39932\n"
     ]
    },
    {
     "data": {
      "application/vnd.jupyter.widget-view+json": {
       "model_id": "a7669ee7d64b4039b433ec85fe142ae0",
       "version_major": 2,
       "version_minor": 0
      },
      "text/plain": [
       "  0%|          | 0/1 [00:00<?, ?it/s]"
      ]
     },
     "metadata": {},
     "output_type": "display_data"
    },
    {
     "name": "stdout",
     "output_type": "stream",
     "text": [
      "Epoch 480 loss: 0.39932\n"
     ]
    },
    {
     "data": {
      "application/vnd.jupyter.widget-view+json": {
       "model_id": "1480e6914127452aa1a4b5ce8c30dd4b",
       "version_major": 2,
       "version_minor": 0
      },
      "text/plain": [
       "  0%|          | 0/1 [00:00<?, ?it/s]"
      ]
     },
     "metadata": {},
     "output_type": "display_data"
    },
    {
     "name": "stdout",
     "output_type": "stream",
     "text": [
      "Epoch 481 loss: 0.39932\n"
     ]
    },
    {
     "data": {
      "application/vnd.jupyter.widget-view+json": {
       "model_id": "364ef7fb50e64cc2856feb08d18323b9",
       "version_major": 2,
       "version_minor": 0
      },
      "text/plain": [
       "  0%|          | 0/1 [00:00<?, ?it/s]"
      ]
     },
     "metadata": {},
     "output_type": "display_data"
    },
    {
     "name": "stdout",
     "output_type": "stream",
     "text": [
      "Epoch 482 loss: 0.39932\n"
     ]
    },
    {
     "data": {
      "application/vnd.jupyter.widget-view+json": {
       "model_id": "69371fbad7b64a3db7cdcd9de262f146",
       "version_major": 2,
       "version_minor": 0
      },
      "text/plain": [
       "  0%|          | 0/1 [00:00<?, ?it/s]"
      ]
     },
     "metadata": {},
     "output_type": "display_data"
    },
    {
     "name": "stdout",
     "output_type": "stream",
     "text": [
      "Epoch 483 loss: 0.39932\n"
     ]
    },
    {
     "data": {
      "application/vnd.jupyter.widget-view+json": {
       "model_id": "649654bfe47f4c419367f709f6057f59",
       "version_major": 2,
       "version_minor": 0
      },
      "text/plain": [
       "  0%|          | 0/1 [00:00<?, ?it/s]"
      ]
     },
     "metadata": {},
     "output_type": "display_data"
    },
    {
     "name": "stdout",
     "output_type": "stream",
     "text": [
      "Epoch 484 loss: 0.39932\n"
     ]
    },
    {
     "data": {
      "application/vnd.jupyter.widget-view+json": {
       "model_id": "d4cdec7915594088a99b0a16c06be72f",
       "version_major": 2,
       "version_minor": 0
      },
      "text/plain": [
       "  0%|          | 0/1 [00:00<?, ?it/s]"
      ]
     },
     "metadata": {},
     "output_type": "display_data"
    },
    {
     "name": "stdout",
     "output_type": "stream",
     "text": [
      "Epoch 485 loss: 0.39932\n"
     ]
    },
    {
     "data": {
      "application/vnd.jupyter.widget-view+json": {
       "model_id": "5ff6daf300a649dbbbd882fa5fa0eaeb",
       "version_major": 2,
       "version_minor": 0
      },
      "text/plain": [
       "  0%|          | 0/1 [00:00<?, ?it/s]"
      ]
     },
     "metadata": {},
     "output_type": "display_data"
    },
    {
     "name": "stdout",
     "output_type": "stream",
     "text": [
      "Epoch 486 loss: 0.39932\n"
     ]
    },
    {
     "data": {
      "application/vnd.jupyter.widget-view+json": {
       "model_id": "a4291b99944f4d8aa553f1e10e06420c",
       "version_major": 2,
       "version_minor": 0
      },
      "text/plain": [
       "  0%|          | 0/1 [00:00<?, ?it/s]"
      ]
     },
     "metadata": {},
     "output_type": "display_data"
    },
    {
     "name": "stdout",
     "output_type": "stream",
     "text": [
      "Epoch 487 loss: 0.39932\n"
     ]
    },
    {
     "data": {
      "application/vnd.jupyter.widget-view+json": {
       "model_id": "ac9e6c2d63cd4684a29e8f4d5f0c2deb",
       "version_major": 2,
       "version_minor": 0
      },
      "text/plain": [
       "  0%|          | 0/1 [00:00<?, ?it/s]"
      ]
     },
     "metadata": {},
     "output_type": "display_data"
    },
    {
     "name": "stdout",
     "output_type": "stream",
     "text": [
      "Epoch 488 loss: 0.39932\n"
     ]
    },
    {
     "data": {
      "application/vnd.jupyter.widget-view+json": {
       "model_id": "6e9d0064fab347a892a231473fa45ce0",
       "version_major": 2,
       "version_minor": 0
      },
      "text/plain": [
       "  0%|          | 0/1 [00:00<?, ?it/s]"
      ]
     },
     "metadata": {},
     "output_type": "display_data"
    },
    {
     "name": "stdout",
     "output_type": "stream",
     "text": [
      "Epoch 489 loss: 0.39932\n"
     ]
    },
    {
     "data": {
      "application/vnd.jupyter.widget-view+json": {
       "model_id": "be49997d392c4f48b4d439e33065e891",
       "version_major": 2,
       "version_minor": 0
      },
      "text/plain": [
       "  0%|          | 0/1 [00:00<?, ?it/s]"
      ]
     },
     "metadata": {},
     "output_type": "display_data"
    },
    {
     "name": "stdout",
     "output_type": "stream",
     "text": [
      "Epoch 490 loss: 0.39932\n"
     ]
    },
    {
     "data": {
      "application/vnd.jupyter.widget-view+json": {
       "model_id": "2fa213d28f3d430ea6cb6c5795354e88",
       "version_major": 2,
       "version_minor": 0
      },
      "text/plain": [
       "  0%|          | 0/1 [00:00<?, ?it/s]"
      ]
     },
     "metadata": {},
     "output_type": "display_data"
    },
    {
     "name": "stdout",
     "output_type": "stream",
     "text": [
      "Epoch 491 loss: 0.39932\n"
     ]
    },
    {
     "data": {
      "application/vnd.jupyter.widget-view+json": {
       "model_id": "d0cfeb33ec734198b418a9a11e1309cb",
       "version_major": 2,
       "version_minor": 0
      },
      "text/plain": [
       "  0%|          | 0/1 [00:00<?, ?it/s]"
      ]
     },
     "metadata": {},
     "output_type": "display_data"
    },
    {
     "name": "stdout",
     "output_type": "stream",
     "text": [
      "Epoch 492 loss: 0.39932\n"
     ]
    },
    {
     "data": {
      "application/vnd.jupyter.widget-view+json": {
       "model_id": "7dbae68658a44a108db32729bca84b2c",
       "version_major": 2,
       "version_minor": 0
      },
      "text/plain": [
       "  0%|          | 0/1 [00:00<?, ?it/s]"
      ]
     },
     "metadata": {},
     "output_type": "display_data"
    },
    {
     "name": "stdout",
     "output_type": "stream",
     "text": [
      "Epoch 493 loss: 0.39932\n"
     ]
    },
    {
     "data": {
      "application/vnd.jupyter.widget-view+json": {
       "model_id": "05de0fe202524feca231d49219355826",
       "version_major": 2,
       "version_minor": 0
      },
      "text/plain": [
       "  0%|          | 0/1 [00:00<?, ?it/s]"
      ]
     },
     "metadata": {},
     "output_type": "display_data"
    },
    {
     "name": "stdout",
     "output_type": "stream",
     "text": [
      "Epoch 494 loss: 0.39932\n"
     ]
    },
    {
     "data": {
      "application/vnd.jupyter.widget-view+json": {
       "model_id": "8bb696c4c43e489a9c656b79d876d16f",
       "version_major": 2,
       "version_minor": 0
      },
      "text/plain": [
       "  0%|          | 0/1 [00:00<?, ?it/s]"
      ]
     },
     "metadata": {},
     "output_type": "display_data"
    },
    {
     "name": "stdout",
     "output_type": "stream",
     "text": [
      "Epoch 495 loss: 0.39932\n"
     ]
    },
    {
     "data": {
      "application/vnd.jupyter.widget-view+json": {
       "model_id": "893b8b1bb7624d299bc1c01c642b0e69",
       "version_major": 2,
       "version_minor": 0
      },
      "text/plain": [
       "  0%|          | 0/1 [00:00<?, ?it/s]"
      ]
     },
     "metadata": {},
     "output_type": "display_data"
    },
    {
     "name": "stdout",
     "output_type": "stream",
     "text": [
      "Epoch 496 loss: 0.39932\n"
     ]
    },
    {
     "data": {
      "application/vnd.jupyter.widget-view+json": {
       "model_id": "c174c1c70c554ab396c4a49973f03e87",
       "version_major": 2,
       "version_minor": 0
      },
      "text/plain": [
       "  0%|          | 0/1 [00:00<?, ?it/s]"
      ]
     },
     "metadata": {},
     "output_type": "display_data"
    },
    {
     "name": "stdout",
     "output_type": "stream",
     "text": [
      "Epoch 497 loss: 0.39932\n"
     ]
    },
    {
     "data": {
      "application/vnd.jupyter.widget-view+json": {
       "model_id": "6624c9d963e2415e91662ba07b29ff1d",
       "version_major": 2,
       "version_minor": 0
      },
      "text/plain": [
       "  0%|          | 0/1 [00:00<?, ?it/s]"
      ]
     },
     "metadata": {},
     "output_type": "display_data"
    },
    {
     "name": "stdout",
     "output_type": "stream",
     "text": [
      "Epoch 498 loss: 0.39932\n"
     ]
    },
    {
     "data": {
      "application/vnd.jupyter.widget-view+json": {
       "model_id": "88d4c7093d424c009a85ef044bdc4a8a",
       "version_major": 2,
       "version_minor": 0
      },
      "text/plain": [
       "  0%|          | 0/1 [00:00<?, ?it/s]"
      ]
     },
     "metadata": {},
     "output_type": "display_data"
    },
    {
     "name": "stdout",
     "output_type": "stream",
     "text": [
      "Epoch 499 loss: 0.39932\n"
     ]
    }
   ],
   "source": [
    "# Learning rate\n",
    "lr = 0.1\n",
    "\n",
    "# Initialize instance\n",
    "net = Net(n_input, n_output, n_hidden).to(device)\n",
    "\n",
    "# Set loss func\n",
    "criterion = nn.MSELoss()\n",
    "\n",
    "# Set optimizer\n",
    "optimizer = optim.Adam(net.parameters(),lr=lr)\n",
    "\n",
    "# Set epochs\n",
    "num_epochs = 500\n",
    "\n",
    "# Create array to save learning process\n",
    "learn_pro = np.zeros((0,2))\n",
    "\n",
    "## Iteration=================\n",
    "for epoch in range(num_epochs):\n",
    "    train_loss = 0\n",
    "    \n",
    "    ## Train=================\n",
    "    for x, y in tqdm(train_loader):\n",
    "        \n",
    "        # Transfer data to GPU\n",
    "        x = x.to(device)\n",
    "        y = y.to(device)\n",
    "        \n",
    "        # Initialize grad\n",
    "        optimizer.zero_grad()\n",
    "        \n",
    "        # Predict in train data\n",
    "        y_pred = net(x)\n",
    "        \n",
    "        # Calculating loss\n",
    "        loss = torch.sqrt(criterion(y_pred,y))# <- RMSE\n",
    "        \n",
    "        # Calculating grad\n",
    "        loss.backward()\n",
    "        \n",
    "        # Modify params\n",
    "        optimizer.step()\n",
    "    learn_pro = np.vstack((learn_pro,np.array([epoch,loss.item()])))\n",
    "    print(f'Epoch {epoch} loss: {loss.item():.5f}')"
   ]
  },
  {
   "cell_type": "code",
   "execution_count": null,
   "id": "85aeee9a",
   "metadata": {},
   "outputs": [],
   "source": []
  }
 ],
 "metadata": {
  "kernelspec": {
   "display_name": "DeepLearning2023",
   "language": "python",
   "name": "deeplearning2023"
  },
  "language_info": {
   "codemirror_mode": {
    "name": "ipython",
    "version": 3
   },
   "file_extension": ".py",
   "mimetype": "text/x-python",
   "name": "python",
   "nbconvert_exporter": "python",
   "pygments_lexer": "ipython3",
   "version": "3.9.16"
  }
 },
 "nbformat": 4,
 "nbformat_minor": 5
}
