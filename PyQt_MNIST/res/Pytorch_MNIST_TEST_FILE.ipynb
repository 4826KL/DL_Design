{
 "cells": [
  {
   "cell_type": "code",
   "execution_count": 1,
   "id": "ce13a4f9",
   "metadata": {},
   "outputs": [],
   "source": [
    "import torch\n",
    "from torch import nn\n",
    "import torchvision.datasets as dsets\n",
    "import torchvision.transforms as transforms\n",
    "import matplotlib.pyplot as plt\n",
    "import os"
   ]
  },
  {
   "cell_type": "code",
   "execution_count": 2,
   "id": "6ba03997",
   "metadata": {},
   "outputs": [],
   "source": [
    "# Hyper Parameters\n",
    "EPOCH = 10\n",
    "BATCH_SIZE = 64\n",
    "INPUT_SIZE = 28 \n",
    "LR = 0.01\n",
    "DOWNLOAD_MNIST = False"
   ]
  },
  {
   "cell_type": "code",
   "execution_count": 3,
   "id": "e2d803a5",
   "metadata": {},
   "outputs": [],
   "source": [
    "class RNNnet(nn.Module):\n",
    "    def __init__(self):\n",
    "        super(RNNnet, self).__init__()\n",
    "        self.rnn = nn.LSTM(\n",
    "            input_size=INPUT_SIZE,\n",
    "            hidden_size=64,  \n",
    "            num_layers=1,\n",
    "            batch_first=True\n",
    "        )\n",
    "        self.out = nn.Linear(64, 10)\n",
    "\n",
    "    def forward(self, x):\n",
    "        # x shape (batch, time_step, input_size)\n",
    "        # r_out shape (batch, time_step, output_size)\n",
    "        # h_n shape (n_layers, batch, hidden_size)\n",
    "        # h_c shape (n_layers, batch, hidden_size)\n",
    "        r_out, (h_n, h_c) = self.rnn(x, None)\n",
    "        # choose r_out at the last time step\n",
    "        out = self.out(r_out[:, -1, :])\n",
    "        return out"
   ]
  },
  {
   "cell_type": "code",
   "execution_count": 5,
   "id": "b624fc5e",
   "metadata": {},
   "outputs": [],
   "source": [
    "# Mnist digits dataset\n",
    "if not (os.path.exists('./mnist/')) or not os.listdir('./mnist/'):\n",
    "    DOWNLOAD_MNIST = True"
   ]
  },
  {
   "cell_type": "code",
   "execution_count": 7,
   "id": "5e54bf01",
   "metadata": {},
   "outputs": [
    {
     "name": "stdout",
     "output_type": "stream",
     "text": [
      "Downloading http://yann.lecun.com/exdb/mnist/train-images-idx3-ubyte.gz\n",
      "Downloading http://yann.lecun.com/exdb/mnist/train-images-idx3-ubyte.gz to ./mnist/MNIST\\raw\\train-images-idx3-ubyte.gz\n"
     ]
    },
    {
     "name": "stderr",
     "output_type": "stream",
     "text": [
      "100%|████████████████████████████████████████████████████████████████████| 9912422/9912422 [00:46<00:00, 211334.79it/s]\n"
     ]
    },
    {
     "name": "stdout",
     "output_type": "stream",
     "text": [
      "Extracting ./mnist/MNIST\\raw\\train-images-idx3-ubyte.gz to ./mnist/MNIST\\raw\n",
      "\n",
      "Downloading http://yann.lecun.com/exdb/mnist/train-labels-idx1-ubyte.gz\n",
      "Downloading http://yann.lecun.com/exdb/mnist/train-labels-idx1-ubyte.gz to ./mnist/MNIST\\raw\\train-labels-idx1-ubyte.gz\n"
     ]
    },
    {
     "name": "stderr",
     "output_type": "stream",
     "text": [
      "100%|████████████████████████████████████████████████████████████████████████| 28881/28881 [00:00<00:00, 733808.83it/s]\n"
     ]
    },
    {
     "name": "stdout",
     "output_type": "stream",
     "text": [
      "Extracting ./mnist/MNIST\\raw\\train-labels-idx1-ubyte.gz to ./mnist/MNIST\\raw\n",
      "\n",
      "Downloading http://yann.lecun.com/exdb/mnist/t10k-images-idx3-ubyte.gz\n",
      "Downloading http://yann.lecun.com/exdb/mnist/t10k-images-idx3-ubyte.gz to ./mnist/MNIST\\raw\\t10k-images-idx3-ubyte.gz\n"
     ]
    },
    {
     "name": "stderr",
     "output_type": "stream",
     "text": [
      "100%|████████████████████████████████████████████████████████████████████| 1648877/1648877 [00:05<00:00, 275799.31it/s]\n"
     ]
    },
    {
     "name": "stdout",
     "output_type": "stream",
     "text": [
      "Extracting ./mnist/MNIST\\raw\\t10k-images-idx3-ubyte.gz to ./mnist/MNIST\\raw\n",
      "\n",
      "Downloading http://yann.lecun.com/exdb/mnist/t10k-labels-idx1-ubyte.gz\n",
      "Downloading http://yann.lecun.com/exdb/mnist/t10k-labels-idx1-ubyte.gz to ./mnist/MNIST\\raw\\t10k-labels-idx1-ubyte.gz\n"
     ]
    },
    {
     "name": "stderr",
     "output_type": "stream",
     "text": [
      "100%|██████████████████████████████████████████████████████████████████████████████████████| 4542/4542 [00:00<?, ?it/s]"
     ]
    },
    {
     "name": "stdout",
     "output_type": "stream",
     "text": [
      "Extracting ./mnist/MNIST\\raw\\t10k-labels-idx1-ubyte.gz to ./mnist/MNIST\\raw\n",
      "\n"
     ]
    },
    {
     "name": "stderr",
     "output_type": "stream",
     "text": [
      "\n"
     ]
    }
   ],
   "source": [
    "# 加载训练数据\n",
    "train_data = dsets.MNIST(\n",
    "    root='./mnist/',\n",
    "    train=True,\n",
    "    transform=transforms.ToTensor(),\n",
    "    download=DOWNLOAD_MNIST\n",
    "    )"
   ]
  },
  {
   "cell_type": "code",
   "execution_count": 8,
   "id": "af5c8115",
   "metadata": {},
   "outputs": [
    {
     "name": "stdout",
     "output_type": "stream",
     "text": [
      "torch.Size([60000, 28, 28])\n",
      "torch.Size([60000])\n"
     ]
    },
    {
     "data": {
      "image/png": "[encoded data removed]",
      "text/plain": [
       "<Figure size 640x480 with 1 Axes>"
      ]
     },
     "metadata": {},
     "output_type": "display_data"
    }
   ],
   "source": [
    "# plot one example\n",
    "print(train_data.data.size())     # (60000, 28, 28)\n",
    "print(train_data.targets.size())   # (60000)\n",
    "plt.imshow(train_data.data[0].numpy(), cmap='gray')\n",
    "plt.title('%i' % train_data.targets[0])\n",
    "plt.show()"
   ]
  },
  {
   "cell_type": "code",
   "execution_count": 9,
   "id": "5afa4420",
   "metadata": {},
   "outputs": [],
   "source": [
    "train_loader = torch.utils.data.DataLoader(\n",
    "        dataset=train_data,\n",
    "        batch_size=BATCH_SIZE,\n",
    "        shuffle=True\n",
    "    )"
   ]
  },
  {
   "cell_type": "code",
   "execution_count": 10,
   "id": "c35a4a43",
   "metadata": {},
   "outputs": [
    {
     "name": "stdout",
     "output_type": "stream",
     "text": [
      "RNNnet(\n",
      "  (rnn): LSTM(28, 64, batch_first=True)\n",
      "  (out): Linear(in_features=64, out_features=10, bias=True)\n",
      ")\n"
     ]
    }
   ],
   "source": [
    "# 加载测试数据\n",
    "test_data = dsets.MNIST(root='./mnist/',\n",
    "                        train=False,\n",
    "                        transform=transforms.ToTensor()\n",
    "                        )\n",
    "test_x = test_data.data.type(torch.FloatTensor)[:2000]/255.\n",
    "test_y = test_data.targets.numpy()[:2000]\n",
    "\n",
    "rnn = RNNnet()\n",
    "print(rnn)"
   ]
  },
  {
   "cell_type": "code",
   "execution_count": 11,
   "id": "d0f360fe",
   "metadata": {},
   "outputs": [],
   "source": [
    "optimizer = torch.optim.Adam(rnn.parameters(), lr=LR)\n",
    "loss_func = nn.CrossEntropyLoss()"
   ]
  },
  {
   "cell_type": "code",
   "execution_count": 13,
   "id": "4d9aac48",
   "metadata": {},
   "outputs": [
    {
     "name": "stdout",
     "output_type": "stream",
     "text": [
      "Epoch:  0 | train loss: 2.3180 | test accuracy: 0.12\n",
      "Epoch:  0 | train loss: 0.9422 | test accuracy: 0.58\n",
      "Epoch:  0 | train loss: 0.9379 | test accuracy: 0.68\n",
      "Epoch:  0 | train loss: 0.7059 | test accuracy: 0.83\n",
      "Epoch:  0 | train loss: 0.3940 | test accuracy: 0.85\n",
      "Epoch:  0 | train loss: 0.4765 | test accuracy: 0.88\n",
      "Epoch:  0 | train loss: 0.3025 | test accuracy: 0.88\n",
      "Epoch:  0 | train loss: 0.3197 | test accuracy: 0.92\n",
      "Epoch:  0 | train loss: 0.1880 | test accuracy: 0.92\n",
      "Epoch:  0 | train loss: 0.2370 | test accuracy: 0.94\n",
      "Epoch:  0 | train loss: 0.3781 | test accuracy: 0.94\n",
      "Epoch:  0 | train loss: 0.4899 | test accuracy: 0.91\n",
      "Epoch:  0 | train loss: 0.2359 | test accuracy: 0.93\n",
      "Epoch:  0 | train loss: 0.0758 | test accuracy: 0.94\n",
      "Epoch:  0 | train loss: 0.1473 | test accuracy: 0.94\n",
      "Epoch:  0 | train loss: 0.1262 | test accuracy: 0.93\n",
      "Epoch:  0 | train loss: 0.0683 | test accuracy: 0.94\n",
      "Epoch:  0 | train loss: 0.1864 | test accuracy: 0.95\n",
      "Epoch:  0 | train loss: 0.1377 | test accuracy: 0.95\n",
      "Epoch:  1 | train loss: 0.1838 | test accuracy: 0.94\n",
      "Epoch:  1 | train loss: 0.1679 | test accuracy: 0.96\n",
      "Epoch:  1 | train loss: 0.1146 | test accuracy: 0.94\n",
      "Epoch:  1 | train loss: 0.1186 | test accuracy: 0.94\n",
      "Epoch:  1 | train loss: 0.2083 | test accuracy: 0.95\n",
      "Epoch:  1 | train loss: 0.0728 | test accuracy: 0.96\n",
      "Epoch:  1 | train loss: 0.0431 | test accuracy: 0.95\n",
      "Epoch:  1 | train loss: 0.2390 | test accuracy: 0.96\n",
      "Epoch:  1 | train loss: 0.1738 | test accuracy: 0.95\n",
      "Epoch:  1 | train loss: 0.2404 | test accuracy: 0.96\n",
      "Epoch:  1 | train loss: 0.0986 | test accuracy: 0.94\n",
      "Epoch:  1 | train loss: 0.0346 | test accuracy: 0.96\n",
      "Epoch:  1 | train loss: 0.0987 | test accuracy: 0.96\n",
      "Epoch:  1 | train loss: 0.0685 | test accuracy: 0.96\n",
      "Epoch:  1 | train loss: 0.2158 | test accuracy: 0.96\n",
      "Epoch:  1 | train loss: 0.0538 | test accuracy: 0.97\n",
      "Epoch:  1 | train loss: 0.0398 | test accuracy: 0.95\n",
      "Epoch:  1 | train loss: 0.1954 | test accuracy: 0.97\n",
      "Epoch:  1 | train loss: 0.2181 | test accuracy: 0.95\n",
      "Epoch:  2 | train loss: 0.1465 | test accuracy: 0.96\n",
      "Epoch:  2 | train loss: 0.0152 | test accuracy: 0.96\n",
      "Epoch:  2 | train loss: 0.0166 | test accuracy: 0.96\n",
      "Epoch:  2 | train loss: 0.0814 | test accuracy: 0.96\n",
      "Epoch:  2 | train loss: 0.3024 | test accuracy: 0.97\n",
      "Epoch:  2 | train loss: 0.1690 | test accuracy: 0.97\n",
      "Epoch:  2 | train loss: 0.0450 | test accuracy: 0.96\n",
      "Epoch:  2 | train loss: 0.2025 | test accuracy: 0.95\n",
      "Epoch:  2 | train loss: 0.1571 | test accuracy: 0.96\n",
      "Epoch:  2 | train loss: 0.0459 | test accuracy: 0.97\n",
      "Epoch:  2 | train loss: 0.0468 | test accuracy: 0.97\n",
      "Epoch:  2 | train loss: 0.1099 | test accuracy: 0.97\n",
      "Epoch:  2 | train loss: 0.1592 | test accuracy: 0.97\n",
      "Epoch:  2 | train loss: 0.0957 | test accuracy: 0.96\n",
      "Epoch:  2 | train loss: 0.0510 | test accuracy: 0.96\n",
      "Epoch:  2 | train loss: 0.0239 | test accuracy: 0.97\n",
      "Epoch:  2 | train loss: 0.0257 | test accuracy: 0.97\n",
      "Epoch:  2 | train loss: 0.1179 | test accuracy: 0.96\n",
      "Epoch:  2 | train loss: 0.2678 | test accuracy: 0.97\n",
      "Epoch:  3 | train loss: 0.1012 | test accuracy: 0.97\n",
      "Epoch:  3 | train loss: 0.0219 | test accuracy: 0.97\n",
      "Epoch:  3 | train loss: 0.0642 | test accuracy: 0.97\n",
      "Epoch:  3 | train loss: 0.1435 | test accuracy: 0.97\n",
      "Epoch:  3 | train loss: 0.0595 | test accuracy: 0.97\n",
      "Epoch:  3 | train loss: 0.0149 | test accuracy: 0.96\n",
      "Epoch:  3 | train loss: 0.1214 | test accuracy: 0.97\n",
      "Epoch:  3 | train loss: 0.0375 | test accuracy: 0.97\n",
      "Epoch:  3 | train loss: 0.1036 | test accuracy: 0.97\n",
      "Epoch:  3 | train loss: 0.0643 | test accuracy: 0.96\n",
      "Epoch:  3 | train loss: 0.0171 | test accuracy: 0.98\n",
      "Epoch:  3 | train loss: 0.0416 | test accuracy: 0.97\n",
      "Epoch:  3 | train loss: 0.1593 | test accuracy: 0.97\n",
      "Epoch:  3 | train loss: 0.1279 | test accuracy: 0.97\n",
      "Epoch:  3 | train loss: 0.1387 | test accuracy: 0.97\n",
      "Epoch:  3 | train loss: 0.0205 | test accuracy: 0.97\n",
      "Epoch:  3 | train loss: 0.0450 | test accuracy: 0.96\n",
      "Epoch:  3 | train loss: 0.1241 | test accuracy: 0.96\n",
      "Epoch:  3 | train loss: 0.0946 | test accuracy: 0.96\n",
      "Epoch:  4 | train loss: 0.0961 | test accuracy: 0.97\n",
      "Epoch:  4 | train loss: 0.0069 | test accuracy: 0.97\n",
      "Epoch:  4 | train loss: 0.0431 | test accuracy: 0.97\n",
      "Epoch:  4 | train loss: 0.1441 | test accuracy: 0.97\n",
      "Epoch:  4 | train loss: 0.0337 | test accuracy: 0.97\n",
      "Epoch:  4 | train loss: 0.1613 | test accuracy: 0.97\n",
      "Epoch:  4 | train loss: 0.0336 | test accuracy: 0.97\n",
      "Epoch:  4 | train loss: 0.0709 | test accuracy: 0.97\n",
      "Epoch:  4 | train loss: 0.0088 | test accuracy: 0.97\n",
      "Epoch:  4 | train loss: 0.0608 | test accuracy: 0.97\n",
      "Epoch:  4 | train loss: 0.2300 | test accuracy: 0.98\n",
      "Epoch:  4 | train loss: 0.0797 | test accuracy: 0.97\n",
      "Epoch:  4 | train loss: 0.0591 | test accuracy: 0.98\n",
      "Epoch:  4 | train loss: 0.0806 | test accuracy: 0.98\n",
      "Epoch:  4 | train loss: 0.0397 | test accuracy: 0.98\n",
      "Epoch:  4 | train loss: 0.0519 | test accuracy: 0.97\n",
      "Epoch:  4 | train loss: 0.0769 | test accuracy: 0.96\n",
      "Epoch:  4 | train loss: 0.1353 | test accuracy: 0.97\n",
      "Epoch:  4 | train loss: 0.0434 | test accuracy: 0.97\n",
      "Epoch:  5 | train loss: 0.0155 | test accuracy: 0.97\n",
      "Epoch:  5 | train loss: 0.1389 | test accuracy: 0.97\n",
      "Epoch:  5 | train loss: 0.1135 | test accuracy: 0.97\n",
      "Epoch:  5 | train loss: 0.0442 | test accuracy: 0.98\n",
      "Epoch:  5 | train loss: 0.0180 | test accuracy: 0.98\n",
      "Epoch:  5 | train loss: 0.0097 | test accuracy: 0.98\n",
      "Epoch:  5 | train loss: 0.0653 | test accuracy: 0.97\n",
      "Epoch:  5 | train loss: 0.0871 | test accuracy: 0.97\n",
      "Epoch:  5 | train loss: 0.1192 | test accuracy: 0.97\n",
      "Epoch:  5 | train loss: 0.0101 | test accuracy: 0.98\n",
      "Epoch:  5 | train loss: 0.0228 | test accuracy: 0.98\n",
      "Epoch:  5 | train loss: 0.0587 | test accuracy: 0.97\n",
      "Epoch:  5 | train loss: 0.0143 | test accuracy: 0.98\n",
      "Epoch:  5 | train loss: 0.0212 | test accuracy: 0.98\n",
      "Epoch:  5 | train loss: 0.0368 | test accuracy: 0.98\n",
      "Epoch:  5 | train loss: 0.1160 | test accuracy: 0.97\n",
      "Epoch:  5 | train loss: 0.0565 | test accuracy: 0.98\n",
      "Epoch:  5 | train loss: 0.0324 | test accuracy: 0.97\n",
      "Epoch:  5 | train loss: 0.0457 | test accuracy: 0.97\n",
      "Epoch:  6 | train loss: 0.0108 | test accuracy: 0.97\n",
      "Epoch:  6 | train loss: 0.0172 | test accuracy: 0.98\n",
      "Epoch:  6 | train loss: 0.0106 | test accuracy: 0.98\n",
      "Epoch:  6 | train loss: 0.0140 | test accuracy: 0.97\n",
      "Epoch:  6 | train loss: 0.0934 | test accuracy: 0.98\n",
      "Epoch:  6 | train loss: 0.0157 | test accuracy: 0.97\n",
      "Epoch:  6 | train loss: 0.0485 | test accuracy: 0.97\n",
      "Epoch:  6 | train loss: 0.0034 | test accuracy: 0.98\n",
      "Epoch:  6 | train loss: 0.0367 | test accuracy: 0.98\n",
      "Epoch:  6 | train loss: 0.0121 | test accuracy: 0.98\n",
      "Epoch:  6 | train loss: 0.0472 | test accuracy: 0.98\n",
      "Epoch:  6 | train loss: 0.0674 | test accuracy: 0.98\n",
      "Epoch:  6 | train loss: 0.0676 | test accuracy: 0.97\n",
      "Epoch:  6 | train loss: 0.0241 | test accuracy: 0.97\n",
      "Epoch:  6 | train loss: 0.0532 | test accuracy: 0.97\n",
      "Epoch:  6 | train loss: 0.1399 | test accuracy: 0.98\n",
      "Epoch:  6 | train loss: 0.0154 | test accuracy: 0.98\n",
      "Epoch:  6 | train loss: 0.0415 | test accuracy: 0.98\n",
      "Epoch:  6 | train loss: 0.0730 | test accuracy: 0.97\n",
      "Epoch:  7 | train loss: 0.1462 | test accuracy: 0.97\n",
      "Epoch:  7 | train loss: 0.1040 | test accuracy: 0.97\n",
      "Epoch:  7 | train loss: 0.0139 | test accuracy: 0.97\n",
      "Epoch:  7 | train loss: 0.0066 | test accuracy: 0.97\n",
      "Epoch:  7 | train loss: 0.0344 | test accuracy: 0.96\n",
      "Epoch:  7 | train loss: 0.0274 | test accuracy: 0.97\n",
      "Epoch:  7 | train loss: 0.2542 | test accuracy: 0.97\n",
      "Epoch:  7 | train loss: 0.0106 | test accuracy: 0.97\n",
      "Epoch:  7 | train loss: 0.0046 | test accuracy: 0.97\n",
      "Epoch:  7 | train loss: 0.0533 | test accuracy: 0.96\n",
      "Epoch:  7 | train loss: 0.1148 | test accuracy: 0.95\n",
      "Epoch:  7 | train loss: 0.0974 | test accuracy: 0.97\n",
      "Epoch:  7 | train loss: 0.0766 | test accuracy: 0.97\n",
      "Epoch:  7 | train loss: 0.0651 | test accuracy: 0.97\n",
      "Epoch:  7 | train loss: 0.0440 | test accuracy: 0.97\n",
      "Epoch:  7 | train loss: 0.2009 | test accuracy: 0.97\n",
      "Epoch:  7 | train loss: 0.0495 | test accuracy: 0.96\n",
      "Epoch:  7 | train loss: 0.0889 | test accuracy: 0.97\n",
      "Epoch:  7 | train loss: 0.1138 | test accuracy: 0.97\n",
      "Epoch:  8 | train loss: 0.0352 | test accuracy: 0.96\n",
      "Epoch:  8 | train loss: 0.0320 | test accuracy: 0.97\n",
      "Epoch:  8 | train loss: 0.0216 | test accuracy: 0.97\n"
     ]
    },
    {
     "name": "stdout",
     "output_type": "stream",
     "text": [
      "Epoch:  8 | train loss: 0.0344 | test accuracy: 0.97\n",
      "Epoch:  8 | train loss: 0.0835 | test accuracy: 0.98\n",
      "Epoch:  8 | train loss: 0.0644 | test accuracy: 0.97\n",
      "Epoch:  8 | train loss: 0.0267 | test accuracy: 0.97\n",
      "Epoch:  8 | train loss: 0.0650 | test accuracy: 0.98\n",
      "Epoch:  8 | train loss: 0.0508 | test accuracy: 0.98\n",
      "Epoch:  8 | train loss: 0.0318 | test accuracy: 0.97\n",
      "Epoch:  8 | train loss: 0.0054 | test accuracy: 0.97\n",
      "Epoch:  8 | train loss: 0.0419 | test accuracy: 0.97\n",
      "Epoch:  8 | train loss: 0.2232 | test accuracy: 0.97\n",
      "Epoch:  8 | train loss: 0.0123 | test accuracy: 0.98\n",
      "Epoch:  8 | train loss: 0.0572 | test accuracy: 0.97\n",
      "Epoch:  8 | train loss: 0.0307 | test accuracy: 0.98\n",
      "Epoch:  8 | train loss: 0.0509 | test accuracy: 0.97\n",
      "Epoch:  8 | train loss: 0.0901 | test accuracy: 0.97\n",
      "Epoch:  8 | train loss: 0.0228 | test accuracy: 0.98\n",
      "Epoch:  9 | train loss: 0.1165 | test accuracy: 0.97\n",
      "Epoch:  9 | train loss: 0.1855 | test accuracy: 0.97\n",
      "Epoch:  9 | train loss: 0.0138 | test accuracy: 0.98\n",
      "Epoch:  9 | train loss: 0.1821 | test accuracy: 0.98\n",
      "Epoch:  9 | train loss: 0.0474 | test accuracy: 0.97\n",
      "Epoch:  9 | train loss: 0.0182 | test accuracy: 0.97\n",
      "Epoch:  9 | train loss: 0.2247 | test accuracy: 0.98\n",
      "Epoch:  9 | train loss: 0.1049 | test accuracy: 0.98\n",
      "Epoch:  9 | train loss: 0.1305 | test accuracy: 0.98\n",
      "Epoch:  9 | train loss: 0.0048 | test accuracy: 0.98\n",
      "Epoch:  9 | train loss: 0.1109 | test accuracy: 0.98\n",
      "Epoch:  9 | train loss: 0.0146 | test accuracy: 0.97\n",
      "Epoch:  9 | train loss: 0.0461 | test accuracy: 0.96\n",
      "Epoch:  9 | train loss: 0.0623 | test accuracy: 0.97\n",
      "Epoch:  9 | train loss: 0.1199 | test accuracy: 0.97\n",
      "Epoch:  9 | train loss: 0.0734 | test accuracy: 0.97\n",
      "Epoch:  9 | train loss: 0.0938 | test accuracy: 0.97\n",
      "Epoch:  9 | train loss: 0.1420 | test accuracy: 0.98\n",
      "Epoch:  9 | train loss: 0.0040 | test accuracy: 0.97\n"
     ]
    }
   ],
   "source": [
    "# training and testing\n",
    "for epoch in range(EPOCH):\n",
    "    for step, (b_x, b_y) in enumerate(train_loader):\n",
    "        b_x = b_x.view(-1, 28, 28) \n",
    "        output = rnn(b_x)\n",
    "        loss = loss_func(output, b_y)\n",
    "        optimizer.zero_grad()\n",
    "        loss.backward()\n",
    "        optimizer.step() \n",
    "\n",
    "        if step % 50 == 0:\n",
    "            test_output = rnn(test_x)\n",
    "            pred_y = torch.max(test_output, 1)[1].data.numpy()\n",
    "            accuracy = float((pred_y == test_y).astype(int).sum()) / float(test_y.size)\n",
    "            print('Epoch: ', epoch, '| train loss: %.4f' % loss.data.numpy(), '| test accuracy: %.2f' % accuracy)"
   ]
  },
  {
   "cell_type": "code",
   "execution_count": 14,
   "id": "dad57ebf",
   "metadata": {},
   "outputs": [
    {
     "name": "stdout",
     "output_type": "stream",
     "text": [
      "[7 2 1 0 4 1 4 9 5 9] prediction number\n",
      "[7 2 1 0 4 1 4 9 5 9] real number\n"
     ]
    }
   ],
   "source": [
    "# print 10 predictions from test data\n",
    "test_output = rnn(test_x[:10].view(-1, 28, 28))\n",
    "pred_y = torch.max(test_output, 1)[1].data.numpy()\n",
    "print(pred_y, 'prediction number')\n",
    "print(test_y[:10], 'real number')"
   ]
  },
  {
   "cell_type": "code",
   "execution_count": null,
   "id": "d52cb23e",
   "metadata": {},
   "outputs": [],
   "source": []
  }
 ],
 "metadata": {
  "kernelspec": {
   "display_name": "DeepLearning2023",
   "language": "python",
   "name": "deeplearning2023"
  },
  "language_info": {
   "codemirror_mode": {
    "name": "ipython",
    "version": 3
   },
   "file_extension": ".py",
   "mimetype": "text/x-python",
   "name": "python",
   "nbconvert_exporter": "python",
   "pygments_lexer": "ipython3",
   "version": "3.9.16"
  }
 },
 "nbformat": 4,
 "nbformat_minor": 5
}
