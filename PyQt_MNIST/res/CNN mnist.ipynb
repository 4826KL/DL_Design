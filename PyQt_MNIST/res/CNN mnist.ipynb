{
 "cells": [
  {
   "cell_type": "code",
   "execution_count": 1,
   "id": "16242077-8664-4a7d-af7d-526ce03462ed",
   "metadata": {},
   "outputs": [],
   "source": [
    "#导入包\n",
    "import torch\n",
    "import torch.nn as nn\n",
    "import torch.nn.functional as F\n",
    "import torch.optim as optim\n",
    "from torchvision import datasets,transforms\n",
    "from torch.utils.data import DataLoader"
   ]
  },
  {
   "cell_type": "code",
   "execution_count": 2,
   "id": "b7f4c4df-805a-4743-87fd-203afae955e4",
   "metadata": {},
   "outputs": [],
   "source": [
    "#构建transforms\n",
    "\n",
    "transform = transforms.Compose([\n",
    "    transforms.ToTensor(),\n",
    "    transforms.Normalize((0.1307,),(0.3081,))\n",
    "])"
   ]
  },
  {
   "cell_type": "code",
   "execution_count": 3,
   "id": "bde89e00-0063-4352-a65f-439d892e0562",
   "metadata": {},
   "outputs": [],
   "source": [
    "#下载，加载数据集\n",
    "\n",
    "trainset = datasets.MNIST('data',train = True, download = True, transform = transform)\n",
    "testset = datasets.MNIST('data',train = False, download = True, transform = transform)\n",
    "\n",
    "device = 'cuda'\n",
    "BATCH_SIZE = 64\n",
    "\n",
    "train_loader = DataLoader(trainset, batch_size = BATCH_SIZE, shuffle = True, num_workers = 0, pin_memory = True)\n",
    "test_loader = DataLoader(testset, batch_size = BATCH_SIZE, shuffle = True, num_workers = 0, pin_memory = True)"
   ]
  },
  {
   "cell_type": "code",
   "execution_count": 4,
   "id": "59f06ef1-c6c2-4936-9396-e4e673410cb7",
   "metadata": {},
   "outputs": [],
   "source": [
    "#构建网络模型\n",
    "class CNN_Net(nn.Module):\n",
    "    def __init__(self):\n",
    "        super(CNN_Net,self).__init__()\n",
    "        #图片 1*28*28\n",
    "        self.conv1 = nn.Conv2d(1,6,5) #24*24*20\n",
    "        self.pool = nn.MaxPool2d(2,2) # 12*12*20\n",
    "        self.conv2 = nn.Conv2d(6,16,3)# 10*10*40\n",
    "        #5*5*40\n",
    "        self.fc1 = nn.Linear(5*5*16,120)\n",
    "        self.fc2 = nn.Linear(120,84)\n",
    "        self.fc3 = nn.Linear(84,10)\n",
    "    def forward(self,x):\n",
    "        x = self.pool(F.relu(self.conv1(x)))\n",
    "        x = self.pool(F.relu(self.conv2(x)))\n",
    "        \n",
    "        x = x.view(-1,5*5*16)\n",
    "        x = F.relu(self.fc1(x))\n",
    "        x = F.relu(self.fc2(x))\n",
    "        x = self.fc3(x)\n",
    "        return x\n",
    "#创建模型\n",
    "net = CNN_Net().to(device)"
   ]
  },
  {
   "cell_type": "code",
   "execution_count": 5,
   "id": "061ae73f",
   "metadata": {},
   "outputs": [
    {
     "data": {
      "text/plain": [
       "CNN_Net(\n",
       "  (conv1): Conv2d(1, 6, kernel_size=(5, 5), stride=(1, 1))\n",
       "  (pool): MaxPool2d(kernel_size=2, stride=2, padding=0, dilation=1, ceil_mode=False)\n",
       "  (conv2): Conv2d(6, 16, kernel_size=(3, 3), stride=(1, 1))\n",
       "  (fc1): Linear(in_features=400, out_features=120, bias=True)\n",
       "  (fc2): Linear(in_features=120, out_features=84, bias=True)\n",
       "  (fc3): Linear(in_features=84, out_features=10, bias=True)\n",
       ")"
      ]
     },
     "execution_count": 5,
     "metadata": {},
     "output_type": "execute_result"
    }
   ],
   "source": [
    "net"
   ]
  },
  {
   "cell_type": "code",
   "execution_count": 5,
   "id": "02b50ed7-1f29-48c4-99f3-fd487e9b56a7",
   "metadata": {},
   "outputs": [],
   "source": [
    "#定义优化器和损失函数\n",
    "\n",
    "criterion = nn.CrossEntropyLoss() # 交叉式损失函数\n",
    "optimizer = optim.SGD(net.parameters(), lr=0.01, momentum=0.9) # 优化器"
   ]
  },
  {
   "cell_type": "code",
   "execution_count": 6,
   "id": "22cf85e0-870e-4bb7-a4e8-a6b8367877b8",
   "metadata": {},
   "outputs": [
    {
     "name": "stdout",
     "output_type": "stream",
     "text": [
      "Epoch :1 , Loss : 0.00489\n",
      "Epoch :2 , Loss : 0.00100\n",
      "Epoch :3 , Loss : 0.00070\n",
      "Epoch :4 , Loss : 0.00054\n",
      "Epoch :5 , Loss : 0.00044\n",
      "Epoch :6 , Loss : 0.00037\n",
      "Epoch :7 , Loss : 0.00030\n",
      "Epoch :8 , Loss : 0.00026\n",
      "Epoch :9 , Loss : 0.00023\n",
      "Epoch :10 , Loss : 0.00018\n"
     ]
    }
   ],
   "source": [
    "#训练模型\n",
    "EPOCH = 10\n",
    "\n",
    "for epoch in range(EPOCH):\n",
    "    train_loss = 0.0\n",
    "    for i,(datas,labels) in enumerate(train_loader):\n",
    "        #数据处理\n",
    "        datas = datas.to(device)\n",
    "        labels = labels.to(device)\n",
    "        #梯度置零\n",
    "        optimizer.zero_grad()\n",
    "        #训练\n",
    "        outputs = net(datas)\n",
    "        #计算损失\n",
    "        loss = criterion(outputs,labels)\n",
    "        #反向传播\n",
    "        loss.backward()\n",
    "        #参数更新\n",
    "        optimizer.step()\n",
    "        \n",
    "        train_loss += loss.item()\n",
    "    \n",
    "    print(\"Epoch :%d , Loss : %.5f\" %(epoch+1, train_loss/len(train_loader.dataset)))"
   ]
  },
  {
   "cell_type": "code",
   "execution_count": 24,
   "id": "9c5501ac-ce13-434f-a813-0068f981b0a1",
   "metadata": {},
   "outputs": [],
   "source": [
    "# 保存模型\n",
    "PATH = './mnist_cnn_net.pth'\n",
    "\n",
    "torch.save(net.state_dict(), PATH)"
   ]
  },
  {
   "cell_type": "code",
   "execution_count": 25,
   "id": "ef154697-07df-4856-b041-c7e4f390b6fb",
   "metadata": {},
   "outputs": [
    {
     "data": {
      "text/plain": [
       "<All keys matched successfully>"
      ]
     },
     "execution_count": 25,
     "metadata": {},
     "output_type": "execute_result"
    }
   ],
   "source": [
    "# 加载模型\n",
    "\n",
    "model = CNN_Net()\n",
    "\n",
    "model.load_state_dict(torch.load(PATH)) "
   ]
  },
  {
   "cell_type": "code",
   "execution_count": 26,
   "id": "a3cb4680-cc79-4b29-bb63-5bad61ac3ae1",
   "metadata": {},
   "outputs": [
    {
     "name": "stdout",
     "output_type": "stream",
     "text": [
      "Accuracy：99.040%\n"
     ]
    }
   ],
   "source": [
    "# 测试\n",
    "\n",
    "correct = 0\n",
    "total = 0\n",
    "with torch.no_grad():\n",
    "    for i , (datas, labels) in enumerate(test_loader):\n",
    "        \n",
    "        outputs = model(datas)\n",
    "        _, predicted = torch.max(outputs.data, dim=1) # 第一个是值的张量，第二个是序号的张量\n",
    "        total += labels.size(0)  \n",
    "        correct += (predicted == labels).sum()\n",
    "    print(\"Accuracy：{:.3f}%\".format(correct / total * 100))"
   ]
  },
  {
   "cell_type": "code",
   "execution_count": null,
   "id": "af9df08e-a3d8-49f0-ad40-edf1d6260fd1",
   "metadata": {},
   "outputs": [],
   "source": []
  }
 ],
 "metadata": {
  "kernelspec": {
   "display_name": "DeepLearning2023",
   "language": "python",
   "name": "deeplearning2023"
  },
  "language_info": {
   "codemirror_mode": {
    "name": "ipython",
    "version": 3
   },
   "file_extension": ".py",
   "mimetype": "text/x-python",
   "name": "python",
   "nbconvert_exporter": "python",
   "pygments_lexer": "ipython3",
   "version": "3.9.16"
  },
  "vscode": {
   "interpreter": {
    "hash": "fd16a1c2e981052eaae61151b9525ae9913f1f0d16bca6b7e7be9e0f29d739d2"
   }
  }
 },
 "nbformat": 4,
 "nbformat_minor": 5
}
