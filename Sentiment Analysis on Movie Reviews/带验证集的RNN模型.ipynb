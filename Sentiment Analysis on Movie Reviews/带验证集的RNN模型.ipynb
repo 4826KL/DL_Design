{
 "cells": [
  {
   "cell_type": "code",
   "execution_count": 1,
   "id": "dc5390be",
   "metadata": {},
   "outputs": [],
   "source": [
    "'''Sentiment Analysis on Movie Reviews'''\n",
    "import math\n",
    "import torch\n",
    "from itertools import chain\n",
    "import pandas as pd\n",
    "from torch.nn.utils.rnn import pack_padded_sequence\n",
    "from torch.utils.data import Dataset, DataLoader\n",
    "import time\n",
    "import matplotlib.pyplot as plt"
   ]
  },
  {
   "cell_type": "code",
   "execution_count": 4,
   "id": "241c8678",
   "metadata": {},
   "outputs": [],
   "source": [
    "class SAData(Dataset):\n",
    "    def __init__(self, train):\n",
    "        # 构建数据样本\n",
    "        self.train = train\n",
    "        self.data = pd.read_csv('./data/train.tsv', sep='\\t')\n",
    "\n",
    "        if self.train:\n",
    "            # 随机选取80%作为训练集，不可按索引顺序取，数据会不全面\n",
    "            self.data = self.data.sample(frac=0.8, replace=False, random_state=1, axis=0)\n",
    "            # self.data = self.data[:int(self.data.shape[0] * 0.8)]\n",
    "            self.data = self.data.reset_index(drop=True)  # 重新生成索引\n",
    "            ### 正式训练要训练所有数据 ###\n",
    "            # self.data = self.data\n",
    "            self.len = self.data.shape[0]\n",
    "        else:\n",
    "            # 20%作为验证集\n",
    "            self.data = self.data.sample(frac=0.2, replace=False, random_state=1, axis=0)\n",
    "            # self.data = self.data[int(self.data.shape[0] * 0.8):]\n",
    "            self.data = self.data.reset_index(drop=True)  # 重新生成索引\n",
    "            self.len = self.data.shape[0]\n",
    "        self.x_data, self.y_data = self.data['Phrase'], self.data['Sentiment']\n",
    "\n",
    "    def __getitem__(self, index):\n",
    "        # 根据数据索引获取样本\n",
    "        return self.x_data[index], self.y_data[index]\n",
    "\n",
    "    def __len__(self):\n",
    "        # 返回数据长度\n",
    "        return self.len\n"
   ]
  },
  {
   "cell_type": "code",
   "execution_count": 5,
   "id": "7f7bc921",
   "metadata": {},
   "outputs": [],
   "source": [
    "# 训练集验证集数据对象\n",
    "train_set = SAData(train=True)\n",
    "validation_set = SAData(train=False)"
   ]
  },
  {
   "cell_type": "code",
   "execution_count": 6,
   "id": "740272b8",
   "metadata": {},
   "outputs": [],
   "source": [
    "# Hyper Parameters\n",
    "N_CHARS = 128  # ASCII码个数\n",
    "HIDDEN_SIZE = 128\n",
    "N_LAYER = 2\n",
    "BATCH_SIZE = 128\n",
    "N_EPOCHS = 100\n",
    "USE_GPU = True\n",
    "N_CLASS = len(set(train_set.y_data))"
   ]
  },
  {
   "cell_type": "code",
   "execution_count": 8,
   "id": "13ca783a",
   "metadata": {},
   "outputs": [],
   "source": [
    "# 训练集验证集数据加载对象\n",
    "train_loader = DataLoader(\n",
    "    dataset=train_set,\n",
    "    batch_size=BATCH_SIZE,\n",
    "    shuffle=True,\n",
    "    # num_workers=2\n",
    ")\n",
    "validation_loader = DataLoader(\n",
    "    dataset=validation_set,\n",
    "    batch_size=BATCH_SIZE,\n",
    "    shuffle=False,  # 测试集不打乱有利于观察结果\n",
    "    # num_workers=2\n",
    ")"
   ]
  },
  {
   "cell_type": "code",
   "execution_count": null,
   "id": "fbf38ddb",
   "metadata": {},
   "outputs": [],
   "source": []
  }
 ],
 "metadata": {
  "kernelspec": {
   "display_name": "DeepLearning2023",
   "language": "python",
   "name": "deeplearning2023"
  },
  "language_info": {
   "codemirror_mode": {
    "name": "ipython",
    "version": 3
   },
   "file_extension": ".py",
   "mimetype": "text/x-python",
   "name": "python",
   "nbconvert_exporter": "python",
   "pygments_lexer": "ipython3",
   "version": "3.9.16"
  }
 },
 "nbformat": 4,
 "nbformat_minor": 5
}
