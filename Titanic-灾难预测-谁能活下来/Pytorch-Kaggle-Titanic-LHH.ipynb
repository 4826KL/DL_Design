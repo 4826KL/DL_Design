{
 "cells": [
  {
   "cell_type": "markdown",
   "id": "37e7067f",
   "metadata": {},
   "source": [
    "## 逻辑回归-Titanic"
   ]
  },
  {
   "cell_type": "code",
   "execution_count": 4,
   "id": "6951cb3a",
   "metadata": {},
   "outputs": [],
   "source": [
    "import numpy as np\n",
    "import pandas as pd\n",
    "import matplotlib.pyplot as plt\n",
    "import os"
   ]
  },
  {
   "cell_type": "code",
   "execution_count": 3,
   "id": "e0245c3c",
   "metadata": {},
   "outputs": [
    {
     "name": "stdout",
     "output_type": "stream",
     "text": [
      "./data/gender_submission.csv\n",
      "./data/test.csv\n",
      "./data/train.csv\n"
     ]
    }
   ],
   "source": [
    "#查看数据集目录结构\n",
    "for dirname, _, filenames in os.walk('./data/'):\n",
    "    for filename in filenames:\n",
    "        print(os.path.join(dirname, filename))"
   ]
  },
  {
   "cell_type": "code",
   "execution_count": 16,
   "id": "290d0c8b",
   "metadata": {},
   "outputs": [],
   "source": [
    "data = pd.read_csv('./data/train.csv')"
   ]
  },
  {
   "cell_type": "code",
   "execution_count": 17,
   "id": "f2f68069",
   "metadata": {},
   "outputs": [
    {
     "name": "stdout",
     "output_type": "stream",
     "text": [
      "<class 'pandas.core.frame.DataFrame'>\n",
      "RangeIndex: 891 entries, 0 to 890\n",
      "Data columns (total 12 columns):\n",
      " #   Column       Non-Null Count  Dtype  \n",
      "---  ------       --------------  -----  \n",
      " 0   PassengerId  891 non-null    int64  \n",
      " 1   Survived     891 non-null    int64  \n",
      " 2   Pclass       891 non-null    int64  \n",
      " 3   Name         891 non-null    object \n",
      " 4   Sex          891 non-null    object \n",
      " 5   Age          714 non-null    float64\n",
      " 6   SibSp        891 non-null    int64  \n",
      " 7   Parch        891 non-null    int64  \n",
      " 8   Ticket       891 non-null    object \n",
      " 9   Fare         891 non-null    float64\n",
      " 10  Cabin        204 non-null    object \n",
      " 11  Embarked     889 non-null    object \n",
      "dtypes: float64(2), int64(5), object(5)\n",
      "memory usage: 83.7+ KB\n"
     ]
    }
   ],
   "source": [
    "data.info()"
   ]
  },
  {
   "cell_type": "markdown",
   "id": "654e8b5d",
   "metadata": {},
   "source": [
    "## 数据集介绍"
   ]
  },
  {
   "cell_type": "markdown",
   "id": "673dcbe1",
   "metadata": {},
   "source": [
    "Titanic - Machine Learning from Disaster竞赛的训练集由891条数据组成，每条数据包含以下12个特征：\n",
    "\n",
    "PassengerId：乘客ID\n",
    "\n",
    "Survived：是否生还（0：遇难，1：生还）\n",
    "\n",
    "Pclass：船票等级（1：一等舱，2：二等舱，3：三等舱）\n",
    "\n",
    "Name：乘客姓名\n",
    "\n",
    "Sex：乘客性别\n",
    "\n",
    "Age：乘客年龄\n",
    "\n",
    "SibSp：配偶或兄弟姐妹的数量\n",
    "\n",
    "Parch：父母或子女的数量\n",
    "\n",
    "Ticket：船票号码\n",
    "\n",
    "Fare：票价\n",
    "\n",
    "Cabin：船舱号码\n",
    "\n",
    "Embarked：登船港口（C：Cherbourg，Q：Queenstown，S：Southampton）\n",
    "\n",
    "其中，Survived是要被预测的目标变量，其余11个特征均为作为模型训练的输入变量。"
   ]
  },
  {
   "cell_type": "code",
   "execution_count": 19,
   "id": "ddcd3252",
   "metadata": {},
   "outputs": [
    {
     "data": {
      "text/html": [
       "<div>\n",
       "<style scoped>\n",
       "    .dataframe tbody tr th:only-of-type {\n",
       "        vertical-align: middle;\n",
       "    }\n",
       "\n",
       "    .dataframe tbody tr th {\n",
       "        vertical-align: top;\n",
       "    }\n",
       "\n",
       "    .dataframe thead th {\n",
       "        text-align: right;\n",
       "    }\n",
       "</style>\n",
       "<table border=\"1\" class=\"dataframe\">\n",
       "  <thead>\n",
       "    <tr style=\"text-align: right;\">\n",
       "      <th></th>\n",
       "      <th>PassengerId</th>\n",
       "      <th>Survived</th>\n",
       "      <th>Pclass</th>\n",
       "      <th>Name</th>\n",
       "      <th>Sex</th>\n",
       "      <th>Age</th>\n",
       "      <th>SibSp</th>\n",
       "      <th>Parch</th>\n",
       "      <th>Ticket</th>\n",
       "      <th>Fare</th>\n",
       "      <th>Cabin</th>\n",
       "      <th>Embarked</th>\n",
       "    </tr>\n",
       "  </thead>\n",
       "  <tbody>\n",
       "    <tr>\n",
       "      <th>759</th>\n",
       "      <td>760</td>\n",
       "      <td>1</td>\n",
       "      <td>1</td>\n",
       "      <td>Rothes, the Countess. of (Lucy Noel Martha Dye...</td>\n",
       "      <td>female</td>\n",
       "      <td>33.0</td>\n",
       "      <td>0</td>\n",
       "      <td>0</td>\n",
       "      <td>110152</td>\n",
       "      <td>86.5000</td>\n",
       "      <td>B77</td>\n",
       "      <td>S</td>\n",
       "    </tr>\n",
       "    <tr>\n",
       "      <th>57</th>\n",
       "      <td>58</td>\n",
       "      <td>0</td>\n",
       "      <td>3</td>\n",
       "      <td>Novel, Mr. Mansouer</td>\n",
       "      <td>male</td>\n",
       "      <td>28.5</td>\n",
       "      <td>0</td>\n",
       "      <td>0</td>\n",
       "      <td>2697</td>\n",
       "      <td>7.2292</td>\n",
       "      <td>NaN</td>\n",
       "      <td>C</td>\n",
       "    </tr>\n",
       "    <tr>\n",
       "      <th>258</th>\n",
       "      <td>259</td>\n",
       "      <td>1</td>\n",
       "      <td>1</td>\n",
       "      <td>Ward, Miss. Anna</td>\n",
       "      <td>female</td>\n",
       "      <td>35.0</td>\n",
       "      <td>0</td>\n",
       "      <td>0</td>\n",
       "      <td>PC 17755</td>\n",
       "      <td>512.3292</td>\n",
       "      <td>NaN</td>\n",
       "      <td>C</td>\n",
       "    </tr>\n",
       "  </tbody>\n",
       "</table>\n",
       "</div>"
      ],
      "text/plain": [
       "     PassengerId  Survived  Pclass  \\\n",
       "759          760         1       1   \n",
       "57            58         0       3   \n",
       "258          259         1       1   \n",
       "\n",
       "                                                  Name     Sex   Age  SibSp  \\\n",
       "759  Rothes, the Countess. of (Lucy Noel Martha Dye...  female  33.0      0   \n",
       "57                                 Novel, Mr. Mansouer    male  28.5      0   \n",
       "258                                   Ward, Miss. Anna  female  35.0      0   \n",
       "\n",
       "     Parch    Ticket      Fare Cabin Embarked  \n",
       "759      0    110152   86.5000   B77        S  \n",
       "57       0      2697    7.2292   NaN        C  \n",
       "258      0  PC 17755  512.3292   NaN        C  "
      ]
     },
     "execution_count": 19,
     "metadata": {},
     "output_type": "execute_result"
    }
   ],
   "source": [
    "data.sample(3)  #随机抽取3条数据查看"
   ]
  },
  {
   "cell_type": "code",
   "execution_count": 20,
   "id": "215a6361",
   "metadata": {},
   "outputs": [],
   "source": [
    "#拆分训练数据和目标\n",
    "X, y = data.drop(['Survived'], axis = 1),data['Survived']"
   ]
  },
  {
   "cell_type": "code",
   "execution_count": 22,
   "id": "2f6e70e3",
   "metadata": {},
   "outputs": [],
   "source": [
    "#特征拆分，拆分为数值型特征和分类特征\n",
    "num_cols = [x for x in X.columns if data[x].dtype in ['int64', 'float64']]\n",
    "cat_cols = [x for x in X.columns if data[x].dtype == 'object']"
   ]
  },
  {
   "cell_type": "code",
   "execution_count": 23,
   "id": "9ec2e570",
   "metadata": {},
   "outputs": [],
   "source": [
    "#机器学习问题，使用sklearn作数据预处理\n",
    "from sklearn.preprocessing import MaxAbsScaler\n",
    "from sklearn.impute import SimpleImputer\n",
    "from sklearn.preprocessing import OneHotEncoder\n",
    "from sklearn.pipeline import Pipeline\n",
    "from sklearn.compose import ColumnTransformer"
   ]
  },
  {
   "cell_type": "markdown",
   "id": "e413a9b6",
   "metadata": {},
   "source": [
    "## 数据预处理"
   ]
  },
  {
   "cell_type": "markdown",
   "id": "a5b8e3f1",
   "metadata": {},
   "source": [
    "对于数值型特征，在num_transform中，Pipeline中的每个步骤都是一个特征预处理方法，按照顺序依次执行。具体来说，第一个步骤使用SimpleImputer方法，将缺失值填充为常数值。这里指定的是strategy='constant'，表示填充一个常量值（默认为0）。第二个步骤使用MaxAbsScaler方法，对所有特征进行最大值绝对值缩放，将特征值统一缩放到[-1,1]的区间内。\n",
    "\n",
    "对于分类特征，在cat_transform中，也是依次执行一系列预处理步骤。第一个步骤同样使用SimpleImputer方法，但这里的strategy='most_frequent'，表示填充出现频率最高的值。第二个步骤使用OneHotEncoder方法，将分类变量进行独热编码，使其可以被机器学习模型所接受。最后，同样使用MaxAbsScaler方法进行最大值绝对值缩放。\n",
    "\n",
    "这样，对于每个数据样本，数值型特征和分类特征就可以分别经过num_transform和cat_transform进行预处理，最后合并起来作为特征矩阵的一部分，供后续的机器学习模型使用。"
   ]
  },
  {
   "cell_type": "code",
   "execution_count": 24,
   "id": "6e195198",
   "metadata": {},
   "outputs": [],
   "source": [
    "#定义两个Pipeline对象，分别用于对数值型特征和分类特征进行预处理\n",
    "num_transform = Pipeline(steps=[\n",
    "                ('impute', SimpleImputer(strategy='constant')),\n",
    "                ('scale', MaxAbsScaler())\n",
    "])\n",
    "\n",
    "cat_transform = Pipeline(steps=[\n",
    "                ('impute', SimpleImputer(strategy='most_frequent')),\n",
    "                ('onehot', OneHotEncoder(handle_unknown='ignore')),\n",
    "                ('scale', MaxAbsScaler())\n",
    "])"
   ]
  },
  {
   "cell_type": "code",
   "execution_count": 25,
   "id": "95ea4f00",
   "metadata": {},
   "outputs": [],
   "source": [
    "preprocess = ColumnTransformer(transformers=[\n",
    "                               ('cat', cat_transform, cat_cols),\n",
    "                               ('num', num_transform, num_cols)\n",
    "])  # 用于对整个数据进行列变换，即将不同类型的特征按照预定义的转换方式进行变换"
   ]
  },
  {
   "cell_type": "code",
   "execution_count": 26,
   "id": "8a5f7a55",
   "metadata": {},
   "outputs": [],
   "source": [
    "X = preprocess.fit_transform(X)  #获得特征矩阵"
   ]
  },
  {
   "cell_type": "code",
   "execution_count": 27,
   "id": "eac38e98",
   "metadata": {},
   "outputs": [],
   "source": [
    "#使用了train_test_split函数将处理后的特征矩阵X和标签向量y划分为训练集和测试集。\n",
    "from sklearn.model_selection import train_test_split\n",
    "X_train, X_test, y_train, y_test = train_test_split(X, y, test_size = 0.1)"
   ]
  },
  {
   "cell_type": "code",
   "execution_count": 28,
   "id": "a902595d",
   "metadata": {},
   "outputs": [
    {
     "data": {
      "text/plain": [
       "(801, 1730)"
      ]
     },
     "execution_count": 28,
     "metadata": {},
     "output_type": "execute_result"
    }
   ],
   "source": [
    "X_train.shape"
   ]
  },
  {
   "cell_type": "code",
   "execution_count": 29,
   "id": "1375ecb7",
   "metadata": {},
   "outputs": [
    {
     "data": {
      "text/plain": [
       "(801,)"
      ]
     },
     "execution_count": 29,
     "metadata": {},
     "output_type": "execute_result"
    }
   ],
   "source": [
    "y_train.shape"
   ]
  },
  {
   "cell_type": "code",
   "execution_count": 30,
   "id": "4bf1bc79",
   "metadata": {},
   "outputs": [],
   "source": [
    "X_train = X_train.toarray()\n",
    "X_test = X_test.toarray()\n",
    "y_train = y_train.values\n",
    "y_test = y_test.values"
   ]
  },
  {
   "cell_type": "markdown",
   "id": "4918bfff",
   "metadata": {},
   "source": [
    "## 构建线性回归模型"
   ]
  },
  {
   "cell_type": "code",
   "execution_count": 31,
   "id": "2cf18200",
   "metadata": {},
   "outputs": [],
   "source": [
    "import torch\n",
    "import torch.nn as nn\n",
    "import torch.nn.functional as F\n",
    "from sklearn.utils import shuffle\n",
    "from torch.autograd import Variable"
   ]
  },
  {
   "cell_type": "code",
   "execution_count": 32,
   "id": "e5a99331",
   "metadata": {},
   "outputs": [],
   "source": [
    "class LinearRegression(nn.Module):\n",
    "    def __init__(self,input_size,output_size):\n",
    "        super(LinearRegression,self).__init__()\n",
    "        self.f1 = nn.Linear(input_dim, 2000)\n",
    "        self.f2 = nn.Linear(2000, output_dim)\n",
    "\n",
    "\n",
    "    def forward(self,x):\n",
    "        x = self.f1(x)\n",
    "        x = F.leaky_relu(x)\n",
    "        x = F.dropout(x, p = 0.3)\n",
    "        x = self.f2(x)\n",
    "        return  F.sigmoid(x)"
   ]
  },
  {
   "cell_type": "code",
   "execution_count": 33,
   "id": "4bfa91b3",
   "metadata": {},
   "outputs": [],
   "source": [
    "batch_size = 100\n",
    "batch_no = len(X_train) // batch_size"
   ]
  },
  {
   "cell_type": "code",
   "execution_count": 34,
   "id": "22c14995",
   "metadata": {},
   "outputs": [],
   "source": [
    "#定义生成器函数generate_batches()，用于在训练模型时按批次生成数据。\n",
    "def generate_batches(X, y, batch_size):\n",
    "    assert len(X) == len(y)\n",
    "    np.random.seed(42)\n",
    "    X = np.array(X)\n",
    "    y = np.array(y)\n",
    "    perm = np.random.permutation(len(X))\n",
    "\n",
    "    for i in range(len(X)//batch_size):\n",
    "        if i + batch_size >= len(X):\n",
    "            continue\n",
    "        ind = perm[i*batch_size : (i+1)*batch_size]\n",
    "        yield (X[ind], y[ind])"
   ]
  },
  {
   "cell_type": "code",
   "execution_count": 35,
   "id": "9c2eda7c",
   "metadata": {},
   "outputs": [],
   "source": [
    "input_dim = 1730\n",
    "output_dim = 2\n",
    "learning_rate = 1\n",
    "model = LinearRegression(input_dim,output_dim)\n",
    "error = nn.CrossEntropyLoss()  #交叉熵损失\n",
    "optimizer = torch.optim.SGD(model.parameters(), lr=learning_rate, momentum = 0.5)"
   ]
  },
  {
   "cell_type": "code",
   "execution_count": 36,
   "id": "b0dc066b",
   "metadata": {},
   "outputs": [
    {
     "data": {
      "text/plain": [
       "LinearRegression(\n",
       "  (f1): Linear(in_features=1730, out_features=2000, bias=True)\n",
       "  (f2): Linear(in_features=2000, out_features=2, bias=True)\n",
       ")"
      ]
     },
     "execution_count": 36,
     "metadata": {},
     "output_type": "execute_result"
    }
   ],
   "source": [
    "model"
   ]
  },
  {
   "cell_type": "code",
   "execution_count": 37,
   "id": "8b22b32c",
   "metadata": {},
   "outputs": [],
   "source": [
    "loss_list = []\n",
    "acc_list = []\n",
    "iteration_number = 300"
   ]
  },
  {
   "cell_type": "markdown",
   "id": "b8f97550",
   "metadata": {},
   "source": [
    "## 训练"
   ]
  },
  {
   "cell_type": "code",
   "execution_count": 38,
   "id": "1b8e4bed",
   "metadata": {},
   "outputs": [
    {
     "name": "stdout",
     "output_type": "stream",
     "text": [
      "epoch 0: loss 0.6666297316551208, accuracy 0.6087499856948853\n",
      "epoch 50: loss 0.3973204791545868, accuracy 0.9212499856948853\n",
      "epoch 100: loss 0.375295490026474, accuracy 0.9424999952316284\n",
      "epoch 150: loss 0.3446394205093384, accuracy 0.9712499976158142\n",
      "epoch 200: loss 0.3179880976676941, accuracy 0.9975000023841858\n",
      "epoch 250: loss 0.31551629304885864, accuracy 0.9987499713897705\n"
     ]
    }
   ],
   "source": [
    "for iteration in range(iteration_number):\n",
    "    batch_loss = 0\n",
    "    batch_accur = 0\n",
    "    temp = 0\n",
    "\n",
    "    for (x, y) in generate_batches(X_train, y_train, batch_size):\n",
    "        inputs = Variable(torch.from_numpy(x)).float()\n",
    "        labels = Variable(torch.from_numpy(y))\n",
    "            \n",
    "        optimizer.zero_grad() \n",
    "\n",
    "        results = model(inputs)\n",
    "        \n",
    "        loss = error(results, labels)\n",
    "\n",
    "        batch_loss += loss.data\n",
    "        \n",
    "        loss.backward()\n",
    "        \n",
    "        optimizer.step()\n",
    "\n",
    "        with torch.no_grad():\n",
    "            _, pred = torch.max(results, 1)\n",
    "            batch_accur += torch.sum(pred == labels)\n",
    "            temp += len(pred)\n",
    "    \n",
    "    loss_list.append(batch_loss/batch_no)\n",
    "    acc_list.append(batch_accur/temp)\n",
    "    \n",
    "    if(iteration % 50 == 0):\n",
    "        print('epoch {}: loss {}, accuracy {}'.format(iteration, batch_loss/batch_no, batch_accur/temp))"
   ]
  },
  {
   "cell_type": "code",
   "execution_count": 39,
   "id": "07e51c24",
   "metadata": {},
   "outputs": [
    {
     "data": {
      "image/png": "[encoded data removed]",
      "text/plain": [
       "<Figure size 640x480 with 1 Axes>"
      ]
     },
     "metadata": {},
     "output_type": "display_data"
    },
    {
     "data": {
      "image/png": "[encoded data removed]",
      "text/plain": [
       "<Figure size 640x480 with 1 Axes>"
      ]
     },
     "metadata": {},
     "output_type": "display_data"
    }
   ],
   "source": [
    "plt.plot(range(iteration_number),loss_list)\n",
    "plt.xlabel(\"Number of Iterations\")\n",
    "plt.ylabel(\"Loss\")\n",
    "plt.show()\n",
    "plt.plot(range(iteration_number),acc_list)\n",
    "plt.xlabel(\"Number of Iterations\")\n",
    "plt.ylabel(\"Accuracy\")\n",
    "plt.show()"
   ]
  },
  {
   "cell_type": "code",
   "execution_count": 40,
   "id": "9715524a",
   "metadata": {},
   "outputs": [
    {
     "name": "stdout",
     "output_type": "stream",
     "text": [
      "0.8777777777777778\n"
     ]
    }
   ],
   "source": [
    "#测试测试集的准确率精度\n",
    "X_test_var = Variable(torch.FloatTensor(X_test), requires_grad=True) \n",
    "with torch.no_grad():\n",
    "    test_result = model(X_test_var)\n",
    "values, labels = torch.max(test_result, 1)\n",
    "survived = labels.data.numpy()\n",
    "print((survived == y_test).sum()/len(survived))"
   ]
  },
  {
   "cell_type": "markdown",
   "id": "61df2ea2",
   "metadata": {},
   "source": [
    "## 预测"
   ]
  },
  {
   "cell_type": "code",
   "execution_count": 41,
   "id": "8087d7b2",
   "metadata": {},
   "outputs": [],
   "source": [
    "X_test_origin = pd.read_csv(\"./data/test.csv\")\n",
    "submission = pd.read_csv(\"./data/gender_submission.csv\")"
   ]
  },
  {
   "cell_type": "code",
   "execution_count": 42,
   "id": "4be33383",
   "metadata": {},
   "outputs": [],
   "source": [
    "X_test_origin = preprocess.transform(X_test_origin)\n",
    "X_test_origin = X_test_origin.toarray()\n",
    "X_test_var = Variable(torch.FloatTensor(X_test_origin), requires_grad=True) \n",
    "with torch.no_grad():\n",
    "    test_result = model(X_test_var)\n",
    "values, labels = torch.max(test_result, 1)\n",
    "survived = labels.data.numpy()"
   ]
  },
  {
   "cell_type": "code",
   "execution_count": 43,
   "id": "78d2bd54",
   "metadata": {},
   "outputs": [],
   "source": [
    "X_test_1 = pd.read_csv(\"./data/test.csv\")"
   ]
  },
  {
   "cell_type": "code",
   "execution_count": 44,
   "id": "59818ca3",
   "metadata": {},
   "outputs": [],
   "source": [
    "import csv\n",
    "\n",
    "submission = [['PassengerId', 'Survived']]\n",
    "for i in range(len(survived)):\n",
    "    submission.append([X_test_1.PassengerId.loc[i], survived[i]])"
   ]
  },
  {
   "cell_type": "code",
   "execution_count": 45,
   "id": "8c61ad20",
   "metadata": {},
   "outputs": [
    {
     "name": "stdout",
     "output_type": "stream",
     "text": [
      "Writing Complete!\n"
     ]
    }
   ],
   "source": [
    "with open('submission.csv', 'w') as submissionFile:\n",
    "    writer = csv.writer(submissionFile)\n",
    "    writer.writerows(submission)\n",
    "    \n",
    "print('Writing Complete!')"
   ]
  },
  {
   "cell_type": "code",
   "execution_count": null,
   "id": "6cf48e96",
   "metadata": {},
   "outputs": [],
   "source": []
  }
 ],
 "metadata": {
  "kernelspec": {
   "display_name": "DeepLearning2023",
   "language": "python",
   "name": "deeplearning2023"
  },
  "language_info": {
   "codemirror_mode": {
    "name": "ipython",
    "version": 3
   },
   "file_extension": ".py",
   "mimetype": "text/x-python",
   "name": "python",
   "nbconvert_exporter": "python",
   "pygments_lexer": "ipython3",
   "version": "3.9.16"
  }
 },
 "nbformat": 4,
 "nbformat_minor": 5
}
