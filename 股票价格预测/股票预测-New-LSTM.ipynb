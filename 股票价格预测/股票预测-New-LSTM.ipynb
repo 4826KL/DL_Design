{
 "cells": [
  {
   "cell_type": "markdown",
   "id": "1d44924c",
   "metadata": {},
   "source": [
    "## 对上证指数数据集进行预测"
   ]
  },
  {
   "cell_type": "code",
   "execution_count": 35,
   "id": "ad8343bd",
   "metadata": {},
   "outputs": [],
   "source": [
    "from pandas import read_csv\n",
    "import numpy as np\n",
    "from torch.utils.data import DataLoader,Dataset\n",
    "import torch\n",
    "from torchvision import transforms\n",
    "import argparse\n",
    "import torch\n",
    "import pandas as pd"
   ]
  },
  {
   "cell_type": "code",
   "execution_count": 36,
   "id": "c7cbb1d5",
   "metadata": {},
   "outputs": [],
   "source": [
    "from torch.autograd import Variable\n",
    "import torch.nn as nn\n",
    "import torch"
   ]
  },
  {
   "cell_type": "markdown",
   "id": "787c00f1",
   "metadata": {},
   "source": [
    "## 数据集说明"
   ]
  },
  {
   "cell_type": "markdown",
   "id": "cfa13749",
   "metadata": {},
   "source": [
    "id：每条数据的唯一标识符，一般用于数据库中。\n",
    "\n",
    "ts_code：股票代码，例如：600000.SH。\n",
    "\n",
    "trade_date：交易日期，格式为年月日，例如：20210101。\n",
    "\n",
    "close：收盘价，在当天交易结束后的最后一笔成交价为收盘价。\n",
    "\n",
    "open：开盘价，在当天交易开始前的第一笔成交价为开盘价。\n",
    "\n",
    "high：最高价，在当天交易过程中的最高成交价为最高价。\n",
    "\n",
    "low：最低价，在当天交易过程中的最低成交价为最低价。\n",
    "\n",
    "pre_close：昨收价，即上一个交易日的收盘价。\n",
    "\n",
    "change：涨跌额，即当天收盘价与昨收价的差值。\n",
    "\n",
    "pct_chg：涨跌幅，即涨跌额与昨收价的比值。\n",
    "\n",
    "vol：成交量，即当天股票的成交量。\n",
    "\n",
    "amount：成交金额，即当天股票的成交金额。"
   ]
  },
  {
   "cell_type": "code",
   "execution_count": 37,
   "id": "b3204872",
   "metadata": {},
   "outputs": [],
   "source": [
    "data = pd.read_csv('./data/000001SH_index.csv')"
   ]
  },
  {
   "cell_type": "code",
   "execution_count": 39,
   "id": "ab2373ef",
   "metadata": {},
   "outputs": [
    {
     "data": {
      "text/plain": [
       "<bound method NDFrame.describe of         id    ts_code  trade_date      close       open       high        low  \\\n",
       "0        0  000001.SH    19980105  1220.4730  1200.9480  1220.4950  1200.2220   \n",
       "1        1  000001.SH    19980106  1233.6200  1223.7300  1233.6350  1215.4090   \n",
       "2        2  000001.SH    19980107  1244.0700  1233.9560  1244.0980  1231.1460   \n",
       "3        3  000001.SH    19980108  1237.1640  1243.1210  1250.0050  1235.8850   \n",
       "4        4  000001.SH    19980109  1239.9010  1233.7010  1244.9990  1221.2970   \n",
       "...    ...        ...         ...        ...        ...        ...        ...   \n",
       "5425  5425  000001.SH    20200527  2836.8036  2847.3198  2848.9965  2831.9281   \n",
       "5426  5426  000001.SH    20200528  2846.2217  2838.2072  2861.9241  2820.1455   \n",
       "5427  5427  000001.SH    20200529  2852.3512  2835.5840  2855.3756  2829.6271   \n",
       "5428  5428  000001.SH    20200601  2915.4311  2871.9641  2917.1508  2871.9641   \n",
       "5429  5429  000001.SH    20200602  2921.3980  2916.3168  2926.3588  2909.1277   \n",
       "\n",
       "      pre_close   change  pct_chg          vol        amount  \n",
       "0     1194.1020  26.3710   2.2084    4371532.0  5.363528e+06  \n",
       "1     1220.4730  13.1470   1.0772    5148664.0  6.196189e+06  \n",
       "2     1233.6200  10.4500   0.8471    5756557.0  6.276869e+06  \n",
       "3     1244.0700  -6.9060  -0.5551    4069472.0  4.535351e+06  \n",
       "4     1237.1640   2.7370   0.2212    5357096.0  6.395907e+06  \n",
       "...         ...      ...      ...          ...           ...  \n",
       "5425  2846.5473  -9.7437  -0.3423  198149343.0  2.279344e+08  \n",
       "5426  2836.8036   9.4181   0.3320  207546019.0  2.392343e+08  \n",
       "5427  2846.2217   6.1295   0.2154  206792804.0  2.337990e+08  \n",
       "5428  2852.3512  63.0799   2.2115  260196050.0  3.074162e+08  \n",
       "5429  2915.4311   5.9669   0.2047  256108049.0  2.944027e+08  \n",
       "\n",
       "[5430 rows x 12 columns]>"
      ]
     },
     "execution_count": 39,
     "metadata": {},
     "output_type": "execute_result"
    }
   ],
   "source": [
    "data.describe"
   ]
  },
  {
   "cell_type": "code",
   "execution_count": 16,
   "id": "85b6f74b",
   "metadata": {},
   "outputs": [
    {
     "data": {
      "text/html": [
       "<div>\n",
       "<style scoped>\n",
       "    .dataframe tbody tr th:only-of-type {\n",
       "        vertical-align: middle;\n",
       "    }\n",
       "\n",
       "    .dataframe tbody tr th {\n",
       "        vertical-align: top;\n",
       "    }\n",
       "\n",
       "    .dataframe thead th {\n",
       "        text-align: right;\n",
       "    }\n",
       "</style>\n",
       "<table border=\"1\" class=\"dataframe\">\n",
       "  <thead>\n",
       "    <tr style=\"text-align: right;\">\n",
       "      <th></th>\n",
       "      <th>id</th>\n",
       "      <th>ts_code</th>\n",
       "      <th>trade_date</th>\n",
       "      <th>close</th>\n",
       "      <th>open</th>\n",
       "      <th>high</th>\n",
       "      <th>low</th>\n",
       "      <th>pre_close</th>\n",
       "      <th>change</th>\n",
       "      <th>pct_chg</th>\n",
       "      <th>vol</th>\n",
       "      <th>amount</th>\n",
       "    </tr>\n",
       "  </thead>\n",
       "  <tbody>\n",
       "    <tr>\n",
       "      <th>0</th>\n",
       "      <td>0</td>\n",
       "      <td>000001.SH</td>\n",
       "      <td>19980105</td>\n",
       "      <td>1220.473</td>\n",
       "      <td>1200.948</td>\n",
       "      <td>1220.495</td>\n",
       "      <td>1200.222</td>\n",
       "      <td>1194.102</td>\n",
       "      <td>26.371</td>\n",
       "      <td>2.2084</td>\n",
       "      <td>4371532.0</td>\n",
       "      <td>5363527.591</td>\n",
       "    </tr>\n",
       "    <tr>\n",
       "      <th>1</th>\n",
       "      <td>1</td>\n",
       "      <td>000001.SH</td>\n",
       "      <td>19980106</td>\n",
       "      <td>1233.620</td>\n",
       "      <td>1223.730</td>\n",
       "      <td>1233.635</td>\n",
       "      <td>1215.409</td>\n",
       "      <td>1220.473</td>\n",
       "      <td>13.147</td>\n",
       "      <td>1.0772</td>\n",
       "      <td>5148664.0</td>\n",
       "      <td>6196189.071</td>\n",
       "    </tr>\n",
       "    <tr>\n",
       "      <th>2</th>\n",
       "      <td>2</td>\n",
       "      <td>000001.SH</td>\n",
       "      <td>19980107</td>\n",
       "      <td>1244.070</td>\n",
       "      <td>1233.956</td>\n",
       "      <td>1244.098</td>\n",
       "      <td>1231.146</td>\n",
       "      <td>1233.620</td>\n",
       "      <td>10.450</td>\n",
       "      <td>0.8471</td>\n",
       "      <td>5756557.0</td>\n",
       "      <td>6276869.435</td>\n",
       "    </tr>\n",
       "  </tbody>\n",
       "</table>\n",
       "</div>"
      ],
      "text/plain": [
       "   id    ts_code  trade_date     close      open      high       low  \\\n",
       "0   0  000001.SH    19980105  1220.473  1200.948  1220.495  1200.222   \n",
       "1   1  000001.SH    19980106  1233.620  1223.730  1233.635  1215.409   \n",
       "2   2  000001.SH    19980107  1244.070  1233.956  1244.098  1231.146   \n",
       "\n",
       "   pre_close  change  pct_chg        vol       amount  \n",
       "0   1194.102  26.371   2.2084  4371532.0  5363527.591  \n",
       "1   1220.473  13.147   1.0772  5148664.0  6196189.071  \n",
       "2   1233.620  10.450   0.8471  5756557.0  6276869.435  "
      ]
     },
     "execution_count": 16,
     "metadata": {},
     "output_type": "execute_result"
    }
   ],
   "source": [
    "data.head(3)"
   ]
  },
  {
   "cell_type": "markdown",
   "id": "1576ab7c",
   "metadata": {},
   "source": [
    "## 数据清洗与处理"
   ]
  },
  {
   "cell_type": "code",
   "execution_count": 17,
   "id": "6c11077a",
   "metadata": {},
   "outputs": [],
   "source": [
    "def getData(corpusFile,sequence_length,batchSize):\n",
    "    # 数据预处理 ，去除id、股票代码、前一天的收盘价、交易日期等对训练无用的无效数据\n",
    "    stock_data = read_csv(corpusFile)\n",
    "    stock_data.drop('ts_code', axis=1, inplace=True)  # 删除第二列’股票代码‘\n",
    "    stock_data.drop('id', axis=1, inplace=True)  # 删除第一列’id‘\n",
    "    stock_data.drop('pre_close', axis=1, inplace=True)  # 删除列’pre_close‘\n",
    "    stock_data.drop('trade_date', axis=1, inplace=True)  # 删除列’trade_date‘\n",
    "\n",
    "    close_max = stock_data['close'].max() #收盘价的最大值\n",
    "    close_min = stock_data['close'].min() #收盘价的最小值\n",
    "    df = stock_data.apply(lambda x: (x - min(x)) / (max(x) - min(x)))  # min-max标准化\n",
    "\n",
    "    # 构造X和Y\n",
    "    #根据前n天的数据，预测未来一天的收盘价(close)， 例如：根据1月1日、1月2日、1月3日、1月4日、1月5日的数据（每一天的数据包含8个特征），预测1月6日的收盘价。\n",
    "    sequence = sequence_length\n",
    "    X = []\n",
    "    Y = []\n",
    "    for i in range(df.shape[0] - sequence):\n",
    "        X.append(np.array(df.iloc[i:(i + sequence), ].values, dtype=np.float32))\n",
    "        Y.append(np.array(df.iloc[(i + sequence), 0], dtype=np.float32))\n",
    "\n",
    "    # 构建batch\n",
    "    total_len = len(Y)\n",
    "    # print(total_len)\n",
    "\n",
    "    trainx, trainy = X[:int(0.99 * total_len)], Y[:int(0.99 * total_len)]\n",
    "    testx, testy = X[int(0.99 * total_len):], Y[int(0.99 * total_len):]\n",
    "    train_loader = DataLoader(dataset=Mydataset(trainx, trainy, transform=transforms.ToTensor()), batch_size=batchSize,\n",
    "                              shuffle=True)\n",
    "    test_loader = DataLoader(dataset=Mydataset(testx, testy), batch_size=batchSize, shuffle=True)\n",
    "    return close_max,close_min,train_loader,test_loader"
   ]
  },
  {
   "cell_type": "code",
   "execution_count": 18,
   "id": "e62ccf7c",
   "metadata": {},
   "outputs": [],
   "source": [
    "class Mydataset(Dataset):\n",
    "    def __init__(self, xx, yy, transform=None):\n",
    "        self.x = xx\n",
    "        self.y = yy\n",
    "        self.tranform = transform\n",
    "\n",
    "    def __getitem__(self, index):\n",
    "        x1 = self.x[index]\n",
    "        y1 = self.y[index]\n",
    "        if self.tranform != None:\n",
    "            return self.tranform(x1), y1\n",
    "        return x1, y1\n",
    "\n",
    "    def __len__(self):\n",
    "        return len(self.x)"
   ]
  },
  {
   "cell_type": "markdown",
   "id": "098caebf",
   "metadata": {},
   "source": [
    "## 获取数据集"
   ]
  },
  {
   "cell_type": "code",
   "execution_count": 19,
   "id": "0d7f1939",
   "metadata": {},
   "outputs": [],
   "source": [
    "\"\"\"\n",
    "close_max：是对数据进行预处理时计算出的数据集中的最大收盘价，用于归一化处理。\n",
    "close_min：是对数据进行预处理时计算出的数据集中的最小收盘价，用于归一化处理。\n",
    "train_loader：训练数据集的数据加载器。在这个变量中保存了预处理后的数据以及对应的标签，用于模型的训练。\n",
    "test_loader：测试数据集的数据加载器。在这个变量中保存了预处理后的数据以及对应的标签，用于模型的测试。\n",
    "\"\"\"\n",
    "close_max, close_min, train_loader, test_loader = getData('./data/000001SH_index.csv',5,64)"
   ]
  },
  {
   "cell_type": "code",
   "execution_count": 20,
   "id": "ead60505",
   "metadata": {},
   "outputs": [
    {
     "data": {
      "text/plain": [
       "6092.057"
      ]
     },
     "execution_count": 20,
     "metadata": {},
     "output_type": "execute_result"
    }
   ],
   "source": [
    "close_max"
   ]
  },
  {
   "cell_type": "markdown",
   "id": "b1ac0f51",
   "metadata": {},
   "source": [
    "## 模型定义"
   ]
  },
  {
   "cell_type": "code",
   "execution_count": 21,
   "id": "6c3c62e6",
   "metadata": {},
   "outputs": [],
   "source": [
    "import torch.nn as nn"
   ]
  },
  {
   "cell_type": "code",
   "execution_count": 22,
   "id": "6173710b",
   "metadata": {},
   "outputs": [],
   "source": [
    "class LSTM(nn.Module):\n",
    "    def __init__(self, input_size=8, hidden_size=32, num_layers=1 , output_size=1 , dropout=0, batch_first=True):\n",
    "        super(LSTM, self).__init__()\n",
    "        # lstm的输入 #batch,seq_len, input_size\n",
    "        self.hidden_size = hidden_size\n",
    "        self.input_size = input_size\n",
    "        self.num_layers = num_layers\n",
    "        self.output_size = output_size\n",
    "        self.dropout = dropout\n",
    "        self.batch_first = batch_first\n",
    "        self.rnn = nn.LSTM(input_size=self.input_size, hidden_size=self.hidden_size, num_layers=self.num_layers, batch_first=self.batch_first, dropout=self.dropout )\n",
    "        self.linear = nn.Linear(self.hidden_size, self.output_size)\n",
    "\n",
    "    def forward(self, x):\n",
    "        out, (hidden, cell) = self.rnn(x)  # x.shape : batch, seq_len, hidden_size , hn.shape and cn.shape : num_layes * direction_numbers, batch, hidden_size\n",
    "        # a, b, c = hidden.shape\n",
    "        # out = self.linear(hidden.reshape(a * b, c))\n",
    "        out = self.linear(hidden)\n",
    "        return out"
   ]
  },
  {
   "cell_type": "code",
   "execution_count": 23,
   "id": "704129ca",
   "metadata": {},
   "outputs": [],
   "source": [
    "model = LSTM(input_size=8, hidden_size=32, num_layers=2, output_size=1, dropout=0.1, batch_first=True)"
   ]
  },
  {
   "cell_type": "code",
   "execution_count": 24,
   "id": "a227b647",
   "metadata": {},
   "outputs": [
    {
     "data": {
      "text/plain": [
       "LSTM(\n",
       "  (rnn): LSTM(8, 32, num_layers=2, batch_first=True, dropout=0.1)\n",
       "  (linear): Linear(in_features=32, out_features=1, bias=True)\n",
       ")"
      ]
     },
     "execution_count": 24,
     "metadata": {},
     "output_type": "execute_result"
    }
   ],
   "source": [
    "model"
   ]
  },
  {
   "cell_type": "code",
   "execution_count": 25,
   "id": "69ac22b4",
   "metadata": {},
   "outputs": [],
   "source": [
    "device = torch.device(\"cuda\" if torch.cuda.is_available() else \"cpu\")"
   ]
  },
  {
   "cell_type": "code",
   "execution_count": 26,
   "id": "d88f636d",
   "metadata": {},
   "outputs": [],
   "source": [
    "model.to(device)\n",
    "criterion = nn.MSELoss()  # 定义损失函数\n",
    "optimizer = torch.optim.Adam(model.parameters(), lr=0.0001)  # Adam梯度下降  学习率=0.001"
   ]
  },
  {
   "cell_type": "code",
   "execution_count": 27,
   "id": "08a62669",
   "metadata": {},
   "outputs": [],
   "source": [
    "useGPU=True\n",
    "epochs=100"
   ]
  },
  {
   "cell_type": "code",
   "execution_count": 28,
   "id": "2344afbe",
   "metadata": {},
   "outputs": [],
   "source": [
    "from tensorboardX import SummaryWriter"
   ]
  },
  {
   "cell_type": "code",
   "execution_count": 29,
   "id": "7052d6cb",
   "metadata": {},
   "outputs": [],
   "source": [
    "# 指定保存日志的路径和名称\n",
    "writer = SummaryWriter(log_dir='./logs')"
   ]
  },
  {
   "cell_type": "code",
   "execution_count": 30,
   "id": "d95c8e3a",
   "metadata": {},
   "outputs": [
    {
     "name": "stdout",
     "output_type": "stream",
     "text": [
      "4.264938348904252\n",
      "第0 epoch，保存模型\n",
      "2.5260090436786413\n",
      "1.9406768893823028\n",
      "1.2259481749497354\n",
      "0.4079762580804527\n",
      "0.12787235097493976\n",
      "0.09399733936879784\n",
      "0.07398802228271961\n",
      "0.06078803483978845\n",
      "0.05111176654463634\n",
      "0.04554363453644328\n",
      "第10 epoch，保存模型\n",
      "0.040365979861235246\n",
      "0.03607269312487915\n",
      "0.03409249914693646\n",
      "0.03293465409660712\n",
      "0.0326774290879257\n",
      "0.031771152338478714\n",
      "0.03065685798355844\n",
      "0.03057541770976968\n",
      "0.02923247797298245\n",
      "0.02694336105196271\n",
      "第20 epoch，保存模型\n",
      "0.028182258232845925\n",
      "0.027154730807524174\n",
      "0.025503689015749842\n",
      "0.024764513364061713\n",
      "0.0263291912706336\n",
      "0.02442920067551313\n",
      "0.023875472179497592\n",
      "0.023608551899087615\n",
      "0.02317729702917859\n",
      "0.022919043025467545\n",
      "第30 epoch，保存模型\n",
      "0.02285823901911499\n",
      "0.02316198026528582\n",
      "0.02215529268141836\n",
      "0.022279893724771682\n",
      "0.021756058406026568\n",
      "0.02023555423511425\n",
      "0.02039768738177372\n",
      "0.02075960646470776\n",
      "0.02007019642769592\n",
      "0.018892707958002575\n",
      "第40 epoch，保存模型\n",
      "0.019287997492938302\n",
      "0.019113545313302893\n",
      "0.019009035677299835\n",
      "0.01890098301373655\n",
      "0.018556891816842835\n",
      "0.018630685284733772\n",
      "0.017620336533582304\n",
      "0.017545102833537385\n",
      "0.0161130503329332\n",
      "0.017741511968779378\n",
      "第50 epoch，保存模型\n",
      "0.017659377699601464\n",
      "0.016974528538412414\n",
      "0.01762842137395637\n",
      "0.016746680208598264\n",
      "0.015967456456564832\n",
      "0.016164173764991574\n",
      "0.015058155120641459\n",
      "0.015716944508312736\n",
      "0.015370787390565965\n",
      "0.015222164154693019\n",
      "第60 epoch，保存模型\n",
      "0.015475404055905528\n",
      "0.014834174093266483\n",
      "0.01464680003846297\n",
      "0.01478242046869127\n",
      "0.014103981622611172\n",
      "0.014694140838400926\n",
      "0.0142825381772127\n",
      "0.012863281117461156\n",
      "0.013622696547827218\n",
      "0.013487888623785693\n",
      "第70 epoch，保存模型\n",
      "0.014009590988280252\n",
      "0.013362610581680201\n",
      "0.01342903588374611\n",
      "0.013223099616880063\n",
      "0.013657783332746476\n",
      "0.013289437265484594\n",
      "0.01294087957649026\n",
      "0.013427924641291611\n",
      "0.012880171663709916\n",
      "0.013208183794631623\n",
      "第80 epoch，保存模型\n",
      "0.01258551879436709\n",
      "0.012238947976584313\n",
      "0.013476922540576197\n",
      "0.01273995210431167\n",
      "0.012257889095053542\n",
      "0.012485097729950212\n",
      "0.012416827106790151\n",
      "0.012802858676877804\n",
      "0.01274296898918692\n",
      "0.01241210871739895\n",
      "第90 epoch，保存模型\n",
      "0.012197201591334306\n",
      "0.012252457265276462\n",
      "0.011854782398586394\n",
      "0.012420107319485396\n",
      "0.012053037135046907\n",
      "0.011840862433018629\n",
      "0.011317396507365629\n",
      "0.011527704653417459\n",
      "0.011471483408968197\n"
     ]
    }
   ],
   "source": [
    "# 指定保存日志的路径和名称\n",
    "writer = SummaryWriter(log_dir='./logs')\n",
    "for i in range(epochs):\n",
    "    total_loss = 0\n",
    "    for idx, (data, label) in enumerate(train_loader):\n",
    "        if useGPU:\n",
    "            data1 = data.squeeze(1).cuda()\n",
    "            pred = model(Variable(data1).cuda())\n",
    "            # print(pred.shape)\n",
    "            pred = pred[1,:,:]\n",
    "            label = label.unsqueeze(1).cuda()\n",
    "            # print(label.shape)\n",
    "        else:\n",
    "            data1 = data.squeeze(1)\n",
    "            pred = model(Variable(data1))\n",
    "            pred = pred[1, :, :]\n",
    "            label = label.unsqueeze(1)\n",
    "        loss = criterion(pred, label)\n",
    "        optimizer.zero_grad()\n",
    "        loss.backward()\n",
    "        optimizer.step()\n",
    "        total_loss += loss.item()\n",
    "        \n",
    "    mean_loss = total_loss / len(train_loader.dataset)\n",
    "    writer.add_scalar('Train/Loss', mean_loss, i)\n",
    "    print(total_loss)\n",
    "    if i % 10 == 0:\n",
    "        # torch.save(model, args.save_file)\n",
    "        torch.save({'state_dict': model.state_dict()}, './weights/stock.pkl')\n",
    "        print('第%d epoch，保存模型' % i)\n",
    "writer.close()\n",
    "# torch.save(model, args.save_file)\n",
    "torch.save({'state_dict': model.state_dict()}, './weights/stock.pkl')"
   ]
  },
  {
   "cell_type": "markdown",
   "id": "10cdbed9",
   "metadata": {},
   "source": [
    "## 预测"
   ]
  },
  {
   "cell_type": "code",
   "execution_count": 19,
   "id": "c8231240",
   "metadata": {},
   "outputs": [
    {
     "data": {
      "text/plain": [
       "<All keys matched successfully>"
      ]
     },
     "execution_count": 19,
     "metadata": {},
     "output_type": "execute_result"
    }
   ],
   "source": [
    "checkpoint = torch.load('./weights/stock.pkl')\n",
    "model.load_state_dict(checkpoint['state_dict'])"
   ]
  },
  {
   "cell_type": "code",
   "execution_count": 21,
   "id": "c2d40646",
   "metadata": {},
   "outputs": [],
   "source": [
    "preds = []\n",
    "labels = []\n",
    "\n",
    "for idx, (x, label) in enumerate(test_loader):\n",
    "    if useGPU:\n",
    "        x = x.squeeze(1).cuda()  # batch_size,seq_len,input_size\n",
    "    else:\n",
    "        x = x.squeeze(1)\n",
    "    pred = model(x)\n",
    "    list = pred.data.squeeze(1).tolist()\n",
    "    preds.extend(list[-1])\n",
    "    labels.extend(label.tolist())\n",
    "    \n",
    "for i in range(len(preds)):\n",
    "    print('预测值是%.2f,真实值是%.2f' % (\n",
    "    preds[i][0] * (close_max - close_min) + close_min, labels[i] * (close_max - close_min) + close_min))"
   ]
  },
  {
   "cell_type": "code",
   "execution_count": 22,
   "id": "6e318faa",
   "metadata": {},
   "outputs": [
    {
     "name": "stdout",
     "output_type": "stream",
     "text": [
      "预测值是2814.84,真实值是2783.05\n",
      "预测值是2830.82,真实值是2843.98\n",
      "预测值是2891.89,真实值是2789.25\n",
      "预测值是2828.39,真实值是2815.49\n",
      "预测值是2888.65,真实值是2867.92\n",
      "预测值是2823.69,真实值是2915.43\n",
      "预测值是2790.15,真实值是2819.93\n",
      "预测值是2969.56,真实值是2921.40\n",
      "预测值是2805.61,真实值是2836.80\n",
      "预测值是2881.07,真实值是2895.34\n",
      "预测值是2846.72,真实值是2898.58\n",
      "预测值是2812.73,真实值是2852.35\n",
      "预测值是2779.93,真实值是2747.21\n",
      "预测值是2877.08,真实值是2883.74\n",
      "预测值是2847.56,真实值是2813.77\n",
      "预测值是2889.60,真实值是2875.42\n",
      "预测值是2829.56,真实值是2702.13\n",
      "预测值是2770.23,真实值是2780.64\n",
      "预测值是2812.18,真实值是2838.49\n",
      "预测值是2807.12,真实值是2763.99\n",
      "预测值是2735.05,真实值是2781.59\n",
      "预测值是2794.92,真实值是2750.30\n",
      "预测值是2817.47,真实值是2817.97\n",
      "预测值是2903.45,真实值是2891.56\n",
      "预测值是2855.76,真实值是2860.08\n",
      "预测值是2804.07,真实值是2820.76\n",
      "预测值是2830.68,真实值是2868.46\n",
      "预测值是2822.67,真实值是2870.34\n",
      "预测值是2779.22,真实值是2808.53\n",
      "预测值是2837.60,真实值是2827.28\n",
      "预测值是2949.92,真实值是2898.05\n",
      "预测值是2846.81,真实值是2772.20\n",
      "预测值是2845.77,真实值是2846.22\n",
      "预测值是2957.04,真实值是2894.80\n",
      "预测值是2863.34,真实值是2871.52\n",
      "预测值是2808.17,真实值是2728.76\n",
      "预测值是2785.33,真实值是2764.91\n",
      "预测值是2812.87,真实值是2846.55\n",
      "预测值是2879.06,真实值是2779.64\n",
      "预测值是2823.33,真实值是2815.37\n",
      "预测值是3066.72,真实值是2923.49\n",
      "预测值是2798.99,真实值是2810.02\n",
      "预测值是2760.82,真实值是2660.17\n",
      "预测值是2862.32,真实值是2838.50\n",
      "预测值是2719.98,真实值是2722.44\n",
      "预测值是2715.13,真实值是2745.62\n",
      "预测值是2854.85,真实值是2852.55\n",
      "预测值是2874.86,真实值是2887.43\n",
      "预测值是2828.45,真实值是2878.14\n",
      "预测值是2809.54,真实值是2811.17\n",
      "预测值是2801.62,真实值是2822.44\n",
      "预测值是2829.96,真实值是2825.90\n",
      "预测值是2944.42,真实值是2796.63\n",
      "预测值是2890.85,真实值是2827.01\n",
      "预测值是2790.81,真实值是2734.52\n"
     ]
    }
   ],
   "source": [
    "for i in range(len(preds)):\n",
    "    print('预测值是%.2f,真实值是%.2f' % (\n",
    "    preds[i][0] * (close_max - close_min) + close_min, labels[i] * (close_max - close_min) + close_min))"
   ]
  },
  {
   "cell_type": "code",
   "execution_count": 34,
   "id": "1b98bce5",
   "metadata": {},
   "outputs": [
    {
     "data": {
      "image/png": "[encoded data removed]",
      "text/plain": [
       "<Figure size 640x480 with 1 Axes>"
      ]
     },
     "metadata": {},
     "output_type": "display_data"
    }
   ],
   "source": [
    "import matplotlib.pyplot as plt\n",
    "\n",
    "predicted_values = [pred[0] * (close_max - close_min) + close_min for pred in preds]\n",
    "true_values = [label * (close_max - close_min) + close_min for label in labels]\n",
    "\n",
    "# 绘制折线图\n",
    "plt.plot(range(len(predicted_values)), predicted_values, label='Predicted')\n",
    "plt.plot(range(len(true_values)), true_values, label='True')\n",
    "plt.legend()\n",
    "plt.show()"
   ]
  },
  {
   "cell_type": "code",
   "execution_count": null,
   "id": "632be85c",
   "metadata": {},
   "outputs": [],
   "source": []
  }
 ],
 "metadata": {
  "kernelspec": {
   "display_name": "DeepLearning2023",
   "language": "python",
   "name": "deeplearning2023"
  },
  "language_info": {
   "codemirror_mode": {
    "name": "ipython",
    "version": 3
   },
   "file_extension": ".py",
   "mimetype": "text/x-python",
   "name": "python",
   "nbconvert_exporter": "python",
   "pygments_lexer": "ipython3",
   "version": "3.9.16"
  }
 },
 "nbformat": 4,
 "nbformat_minor": 5
}
