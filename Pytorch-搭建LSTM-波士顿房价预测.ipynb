{
 "cells": [
  {
   "cell_type": "code",
   "execution_count": 1,
   "id": "77dfe7c9",
   "metadata": {},
   "outputs": [],
   "source": [
    "# 导入必要的库\n",
    "import numpy as np\n",
    "import pandas as pd\n",
    "import torch\n",
    "import torch.nn as nn\n",
    "from sklearn.model_selection import train_test_split"
   ]
  },
  {
   "cell_type": "code",
   "execution_count": 2,
   "id": "ae7bc359",
   "metadata": {},
   "outputs": [],
   "source": [
    "# 读取数据集\n",
    "train = pd.read_csv('./data/train.csv')\n",
    "test = pd.read_csv('./data/test.csv')"
   ]
  },
  {
   "cell_type": "code",
   "execution_count": 3,
   "id": "3bd6aaec",
   "metadata": {},
   "outputs": [],
   "source": [
    "# 去掉Id特征\n",
    "train = train.drop(['Id'], axis=1)\n",
    "test = test.drop(['Id'], axis=1)"
   ]
  },
  {
   "cell_type": "code",
   "execution_count": 4,
   "id": "4092852e",
   "metadata": {},
   "outputs": [],
   "source": [
    "# 对于缺失值很多的特征进行处理\n",
    "train = train.drop(['PoolQC', 'MiscFeature', 'Alley', 'Fence', 'FireplaceQu'], axis=1)\n",
    "test = test.drop(['PoolQC', 'MiscFeature', 'Alley', 'Fence', 'FireplaceQu'], axis=1)\n",
    "\n",
    "# 处理数值特征的缺失值\n",
    "numerical_features = train.select_dtypes(include=[np.number])\n",
    "numerical_test_features = test.select_dtypes(include=[np.number])\n",
    "\n",
    "train = train.fillna(numerical_features.mean())\n",
    "test = test.fillna(numerical_test_features.mean())"
   ]
  },
  {
   "cell_type": "code",
   "execution_count": 5,
   "id": "965fb27d",
   "metadata": {},
   "outputs": [],
   "source": [
    "# 对分类特征进行编码\n",
    "train = pd.get_dummies(train)\n",
    "test = pd.get_dummies(test)\n",
    "\n",
    "# 对训练数据集进行准备\n",
    "X_train = train.drop(['SalePrice'], axis=1).values\n",
    "y_train = train['SalePrice'].values.reshape(-1, 1)\n",
    "\n",
    "# 训练集和验证集的划分\n",
    "X_train, X_val, y_train, y_val = train_test_split(X_train, y_train, test_size=0.2, random_state=0)"
   ]
  },
  {
   "cell_type": "code",
   "execution_count": 6,
   "id": "b2d770ae",
   "metadata": {},
   "outputs": [],
   "source": [
    "# 将数据集转换为序列\n",
    "def create_sequences(data, seq_length):\n",
    "    X = []\n",
    "    y = []\n",
    "    for i in range(len(data) - seq_length):\n",
    "        X.append(data[i:i+seq_length])\n",
    "        y.append(data[i+seq_length])\n",
    "    return np.array(X), np.array(y)"
   ]
  },
  {
   "cell_type": "code",
   "execution_count": 7,
   "id": "bc75a992",
   "metadata": {},
   "outputs": [],
   "source": [
    "seq_length = 50\n",
    "\n",
    "X_train_seq, y_train_seq = create_sequences(X_train, seq_length)\n",
    "X_val_seq, y_val_seq = create_sequences(X_val, seq_length)\n",
    "\n",
    "# 将数据转化为 PyTorch 张量\n",
    "X_train_seq_tensor = torch.from_numpy(X_train_seq).type(torch.Tensor)\n",
    "X_val_seq_tensor = torch.from_numpy(X_val_seq).type(torch.Tensor)\n",
    "y_train_seq_tensor = torch.from_numpy(y_train_seq).type(torch.Tensor)\n",
    "y_val_seq_tensor = torch.from_numpy(y_val_seq).type(torch.Tensor)"
   ]
  },
  {
   "cell_type": "code",
   "execution_count": 8,
   "id": "97b13d88",
   "metadata": {},
   "outputs": [],
   "source": [
    "# 构建 LSTM 模型\n",
    "class LSTMModel(nn.Module):\n",
    "    \n",
    "    def __init__(self, input_dim, hidden_dim, num_layers, output_dim):\n",
    "        super(LSTMModel, self).__init__()\n",
    "        self.hidden_dim = hidden_dim\n",
    "        self.num_layers = num_layers\n",
    "        self.lstm = nn.LSTM(input_dim, hidden_dim, num_layers, batch_first=True)\n",
    "        self.fc = nn.Linear(hidden_dim, output_dim)\n",
    "        \n",
    "    def forward(self, x):\n",
    "        h0 = torch.zeros(self.num_layers, x.size(0), self.hidden_dim).requires_grad_().to(device)\n",
    "        c0 = torch.zeros(self.num_layers, x.size(0), self.hidden_dim).requires_grad_().to(device)\n",
    "        out, (hn, cn) = self.lstm(x, (h0.detach(), c0.detach()))\n",
    "        out = self.fc(out[:, -1, :]) \n",
    "        return out\n"
   ]
  },
  {
   "cell_type": "code",
   "execution_count": 9,
   "id": "15311d53",
   "metadata": {},
   "outputs": [],
   "source": [
    "# 设置超参数\n",
    "input_dim = X_train_seq_tensor.shape[-1]\n",
    "hidden_dim = 256\n",
    "num_layers = 2\n",
    "output_dim = 1\n",
    "learning_rate = 0.001\n",
    "num_epochs = 100"
   ]
  },
  {
   "cell_type": "code",
   "execution_count": 10,
   "id": "d5dc9474",
   "metadata": {},
   "outputs": [],
   "source": [
    "# 初始化 LSTM 模型并设置 CPU or GPU\n",
    "device = torch.device(\"cuda:0\" if torch.cuda.is_available() else \"cpu\")\n",
    "model = LSTMModel(input_dim=input_dim, hidden_dim=hidden_dim, num_layers=num_layers, output_dim=output_dim).to(device)\n",
    "\n",
    "# 定义损失函数和优化器\n",
    "criterion = torch.nn.MSELoss(reduction='mean')\n",
    "optimizer = torch.optim.Adam(model.parameters(), lr=learning_rate)"
   ]
  },
  {
   "cell_type": "code",
   "execution_count": 11,
   "id": "96db2386",
   "metadata": {},
   "outputs": [],
   "source": [
    "# 训练 LSTM 模型\n",
    "train_loss_seq = []\n",
    "val_loss_seq = []"
   ]
  },
  {
   "cell_type": "code",
   "execution_count": 12,
   "id": "495d9788",
   "metadata": {},
   "outputs": [
    {
     "name": "stderr",
     "output_type": "stream",
     "text": [
      "C:\\Users\\fuqilingbuxiu\\AppData\\Roaming\\Python\\Python39\\site-packages\\torch\\nn\\modules\\loss.py:536: UserWarning: Using a target size (torch.Size([1118, 270])) that is different to the input size (torch.Size([1118, 1])). This will likely lead to incorrect results due to broadcasting. Please ensure they have the same size.\n",
      "  return F.mse_loss(input, target, reduction=self.reduction)\n",
      "C:\\Users\\fuqilingbuxiu\\AppData\\Roaming\\Python\\Python39\\site-packages\\torch\\nn\\modules\\loss.py:536: UserWarning: Using a target size (torch.Size([242, 270])) that is different to the input size (torch.Size([242, 1])). This will likely lead to incorrect results due to broadcasting. Please ensure they have the same size.\n",
      "  return F.mse_loss(input, target, reduction=self.reduction)\n"
     ]
    },
    {
     "name": "stdout",
     "output_type": "stream",
     "text": [
      "Epoch: 0, Train loss: 947345.37500, Validation loss: 634614.06250\n",
      "Epoch: 10, Train loss: 946070.43750, Validation loss: 633345.62500\n",
      "Epoch: 20, Train loss: 945334.43750, Validation loss: 632679.50000\n",
      "Epoch: 30, Train loss: 944855.62500, Validation loss: 632217.62500\n",
      "Epoch: 40, Train loss: 944423.75000, Validation loss: 631799.06250\n",
      "Epoch: 50, Train loss: 944022.31250, Validation loss: 631410.00000\n",
      "Epoch: 60, Train loss: 943648.68750, Validation loss: 631048.31250\n",
      "Epoch: 70, Train loss: 943300.68750, Validation loss: 630711.81250\n",
      "Epoch: 80, Train loss: 942976.00000, Validation loss: 630397.68750\n",
      "Epoch: 90, Train loss: 942672.68750, Validation loss: 630104.93750\n"
     ]
    }
   ],
   "source": [
    "for epoch in range(num_epochs):\n",
    "    inputs = X_train_seq_tensor.to(device)\n",
    "    labels = y_train_seq_tensor.to(device)\n",
    "    optimizer.zero_grad()\n",
    "    outputs = model(inputs)\n",
    "    loss = criterion(outputs, labels)\n",
    "    loss.backward()\n",
    "    optimizer.step()\n",
    "    train_loss_seq.append(loss.item())\n",
    "    \n",
    "    val_inputs = X_val_seq_tensor.to(device)\n",
    "    val_labels = y_val_seq_tensor.to(device)\n",
    "    val_outputs = model(val_inputs)\n",
    "    val_loss = criterion(val_outputs, val_labels)\n",
    "    val_loss_seq.append(val_loss.item())\n",
    "\n",
    "    if epoch % 10 == 0:\n",
    "        print(\"Epoch: %d, Train loss: %1.5f, Validation loss: %1.5f\" % (epoch, loss.item(), val_loss.item()))\n"
   ]
  },
  {
   "cell_type": "code",
   "execution_count": 13,
   "id": "e9dcd9e2",
   "metadata": {},
   "outputs": [],
   "source": [
    "# 使用训练好的模型进行预测\n",
    "test_features = test.values"
   ]
  },
  {
   "cell_type": "code",
   "execution_count": 14,
   "id": "e1eb6df2",
   "metadata": {},
   "outputs": [
    {
     "name": "stderr",
     "output_type": "stream",
     "text": [
      "C:\\Users\\fuqilingbuxiu\\AppData\\Local\\Temp\\ipykernel_22772\\880692330.py:4: FutureWarning: In the future `np.object` will be defined as the corresponding NumPy scalar.\n",
      "  test_categorical_features = test.select_dtypes(include=[np.object])\n"
     ]
    },
    {
     "ename": "AttributeError",
     "evalue": "module 'numpy' has no attribute 'object'.\n`np.object` was a deprecated alias for the builtin `object`. To avoid this error in existing code, use `object` by itself. Doing this will not modify any behavior and is safe. \nThe aliases was originally deprecated in NumPy 1.20; for more details and guidance see the original release note at:\n    https://numpy.org/devdocs/release/1.20.0-notes.html#deprecations",
     "output_type": "error",
     "traceback": [
      "\u001b[1;31m---------------------------------------------------------------------------\u001b[0m",
      "\u001b[1;31mAttributeError\u001b[0m                            Traceback (most recent call last)",
      "Cell \u001b[1;32mIn[14], line 4\u001b[0m\n\u001b[0;32m      2\u001b[0m test_numerical_features \u001b[38;5;241m=\u001b[39m test\u001b[38;5;241m.\u001b[39mselect_dtypes(include\u001b[38;5;241m=\u001b[39m[np\u001b[38;5;241m.\u001b[39mnumber])\n\u001b[0;32m      3\u001b[0m test \u001b[38;5;241m=\u001b[39m test\u001b[38;5;241m.\u001b[39mfillna(test_numerical_features\u001b[38;5;241m.\u001b[39mmean())\n\u001b[1;32m----> 4\u001b[0m test_categorical_features \u001b[38;5;241m=\u001b[39m test\u001b[38;5;241m.\u001b[39mselect_dtypes(include\u001b[38;5;241m=\u001b[39m[\u001b[43mnp\u001b[49m\u001b[38;5;241;43m.\u001b[39;49m\u001b[43mobject\u001b[49m])\n\u001b[0;32m      5\u001b[0m test \u001b[38;5;241m=\u001b[39m test\u001b[38;5;241m.\u001b[39mfillna(test_categorical_features\u001b[38;5;241m.\u001b[39mmode()\u001b[38;5;241m.\u001b[39miloc[\u001b[38;5;241m0\u001b[39m])\n\u001b[0;32m      7\u001b[0m \u001b[38;5;66;03m# 对测试集进行转换\u001b[39;00m\n",
      "File \u001b[1;32mD:\\Anaconda\\envs\\kylinDL2023\\lib\\site-packages\\numpy\\__init__.py:305\u001b[0m, in \u001b[0;36m__getattr__\u001b[1;34m(attr)\u001b[0m\n\u001b[0;32m    300\u001b[0m     warnings\u001b[38;5;241m.\u001b[39mwarn(\n\u001b[0;32m    301\u001b[0m         \u001b[38;5;124mf\u001b[39m\u001b[38;5;124m\"\u001b[39m\u001b[38;5;124mIn the future `np.\u001b[39m\u001b[38;5;132;01m{\u001b[39;00mattr\u001b[38;5;132;01m}\u001b[39;00m\u001b[38;5;124m` will be defined as the \u001b[39m\u001b[38;5;124m\"\u001b[39m\n\u001b[0;32m    302\u001b[0m         \u001b[38;5;124m\"\u001b[39m\u001b[38;5;124mcorresponding NumPy scalar.\u001b[39m\u001b[38;5;124m\"\u001b[39m, \u001b[38;5;167;01mFutureWarning\u001b[39;00m, stacklevel\u001b[38;5;241m=\u001b[39m\u001b[38;5;241m2\u001b[39m)\n\u001b[0;32m    304\u001b[0m \u001b[38;5;28;01mif\u001b[39;00m attr \u001b[38;5;129;01min\u001b[39;00m __former_attrs__:\n\u001b[1;32m--> 305\u001b[0m     \u001b[38;5;28;01mraise\u001b[39;00m \u001b[38;5;167;01mAttributeError\u001b[39;00m(__former_attrs__[attr])\n\u001b[0;32m    307\u001b[0m \u001b[38;5;66;03m# Importing Tester requires importing all of UnitTest which is not a\u001b[39;00m\n\u001b[0;32m    308\u001b[0m \u001b[38;5;66;03m# cheap import Since it is mainly used in test suits, we lazy import it\u001b[39;00m\n\u001b[0;32m    309\u001b[0m \u001b[38;5;66;03m# here to save on the order of 10 ms of import time for most users\u001b[39;00m\n\u001b[0;32m    310\u001b[0m \u001b[38;5;66;03m#\u001b[39;00m\n\u001b[0;32m    311\u001b[0m \u001b[38;5;66;03m# The previous way Tester was imported also had a side effect of adding\u001b[39;00m\n\u001b[0;32m    312\u001b[0m \u001b[38;5;66;03m# the full `numpy.testing` namespace\u001b[39;00m\n\u001b[0;32m    313\u001b[0m \u001b[38;5;28;01mif\u001b[39;00m attr \u001b[38;5;241m==\u001b[39m \u001b[38;5;124m'\u001b[39m\u001b[38;5;124mtesting\u001b[39m\u001b[38;5;124m'\u001b[39m:\n",
      "\u001b[1;31mAttributeError\u001b[0m: module 'numpy' has no attribute 'object'.\n`np.object` was a deprecated alias for the builtin `object`. To avoid this error in existing code, use `object` by itself. Doing this will not modify any behavior and is safe. \nThe aliases was originally deprecated in NumPy 1.20; for more details and guidance see the original release note at:\n    https://numpy.org/devdocs/release/1.20.0-notes.html#deprecations"
     ]
    }
   ],
   "source": [
    "# 处理测试集的缺失值\n",
    "test_numerical_features = test.select_dtypes(include=[np.number])\n",
    "test = test.fillna(test_numerical_features.mean())\n",
    "test_categorical_features = test.select_dtypes(include=[np.object])\n",
    "test = test.fillna(test_categorical_features.mode().iloc[0])\n",
    "\n",
    "# 对测试集进行转换\n",
    "test_seq_features, test_seq_labels = create_sequences(test, np.zeros((len(test), 1)))\n",
    "test_seq_features_tensor = torch.from_numpy(test_seq_features).type(torch.Tensor).to(device)\n"
   ]
  },
  {
   "cell_type": "code",
   "execution_count": null,
   "id": "27e1e61a",
   "metadata": {},
   "outputs": [],
   "source": []
  }
 ],
 "metadata": {
  "kernelspec": {
   "display_name": "DeepLearning2023",
   "language": "python",
   "name": "deeplearning2023"
  },
  "language_info": {
   "codemirror_mode": {
    "name": "ipython",
    "version": 3
   },
   "file_extension": ".py",
   "mimetype": "text/x-python",
   "name": "python",
   "nbconvert_exporter": "python",
   "pygments_lexer": "ipython3",
   "version": "3.9.16"
  }
 },
 "nbformat": 4,
 "nbformat_minor": 5
}
